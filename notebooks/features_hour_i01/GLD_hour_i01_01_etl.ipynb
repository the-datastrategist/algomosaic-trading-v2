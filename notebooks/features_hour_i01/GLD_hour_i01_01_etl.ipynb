{
 "cells": [
  {
   "cell_type": "markdown",
   "metadata": {
    "colab_type": "text",
    "id": "GqbBUEdcpIri"
   },
   "source": [
    "##### algom/playbooks\n",
    "\n",
    "# GLD features\n",
    "\n",
    "ETL pipeline for asset prices (OHLCV), standard indicators and engineered features. Loads output data to [BigQuery](https://console.cloud.google.com/bigquery?project=algomosaic-nyc&p=algomosaic-nyc&page=project).\n"
   ]
  },
  {
   "cell_type": "code",
   "execution_count": 1,
   "metadata": {},
   "outputs": [],
   "source": [
    "import sys\n",
    "sys.path.append('/home/jovyan/algom-trading/src')"
   ]
  },
  {
   "cell_type": "markdown",
   "metadata": {},
   "source": [
    "<br>\n",
    "\n",
    "### GLD -- hour -- i01 -- by year"
   ]
  },
  {
   "cell_type": "code",
   "execution_count": 7,
   "metadata": {},
   "outputs": [],
   "source": [
    "\n",
    "years = [\n",
    "    #2007,\n",
    "    2008,\n",
    "    2009,\n",
    "    2010,\n",
    "    2011,\n",
    "    2012,\n",
    "    2013,\n",
    "    2014,\n",
    "    2015,\n",
    "    2016,\n",
    "    2017,\n",
    "    2018,\n",
    "    2019,\n",
    "    2020,\n",
    "]\n"
   ]
  },
  {
   "cell_type": "code",
   "execution_count": 8,
   "metadata": {},
   "outputs": [
    {
     "name": "stdout",
     "output_type": "stream",
     "text": [
      "RUNNING: algomosaic-nyc:algom_dev_features.features_{ticker}_{interval}_{iteration}_{year}0101 is being extracted and transformed.\n",
      "RUNNING: Extracting data using features.finnhub_data.\n",
      "Extracting 1 of 6 for GLD: from 2008-10-09 16:00:00 to 2009-01-01 00:00:00\n",
      "https://finnhub.io/api/v1/stock/candle?symbol=GLD&resolution=60&from=1223568000&to=1230768000&token=bq8ete7rh5rc96c0i040\n",
      "Extracting 2 of 6 for GLD: from 2008-07-18 08:00:00 to 2008-10-09 16:00:00\n",
      "https://finnhub.io/api/v1/stock/candle?symbol=GLD&resolution=60&from=1216368000&to=1223568000&token=bq8ete7rh5rc96c0i040\n",
      "Extracting 3 of 6 for GLD: from 2008-04-26 00:00:00 to 2008-07-18 08:00:00\n",
      "https://finnhub.io/api/v1/stock/candle?symbol=GLD&resolution=60&from=1209168000&to=1216368000&token=bq8ete7rh5rc96c0i040\n",
      "Extracting 4 of 6 for GLD: from 2008-02-02 16:00:00 to 2008-04-26 00:00:00\n",
      "https://finnhub.io/api/v1/stock/candle?symbol=GLD&resolution=60&from=1201968000&to=1209168000&token=bq8ete7rh5rc96c0i040\n",
      "Extracting 5 of 6 for GLD: from 2007-11-11 08:00:00 to 2008-02-02 16:00:00\n",
      "https://finnhub.io/api/v1/stock/candle?symbol=GLD&resolution=60&from=1194768000&to=1201968000&token=bq8ete7rh5rc96c0i040\n",
      "RUNNING: Applying feature engineering using features.algom_trading_v001.get_features_hour_i01.\n",
      "RUNNING: loading features into BigQuery.\n",
      "RUNNING: loading algomosaic-nyc:algom_dev_features.features_GLD_H_i01_20080101 into BigQuery.\n"
     ]
    },
    {
     "name": "stderr",
     "output_type": "stream",
     "text": [
      "1it [00:09,  9.31s/it]\n"
     ]
    },
    {
     "name": "stdout",
     "output_type": "stream",
     "text": [
      "SUCCESS: algomosaic-nyc:algom_dev_features.features_GLD_H_i01_20080101 has been loaded to BigQuery. Runtime: 0:00:17.256473.\n",
      "RUNNING: algomosaic-nyc:algom_dev_features.features_{ticker}_{interval}_{iteration}_{year}0101 is being extracted and transformed.\n",
      "RUNNING: Extracting data using features.finnhub_data.\n",
      "Extracting 1 of 6 for GLD: from 2009-10-09 16:00:00 to 2010-01-01 00:00:00\n",
      "https://finnhub.io/api/v1/stock/candle?symbol=GLD&resolution=60&from=1255104000&to=1262304000&token=bq8ete7rh5rc96c0i040\n",
      "Extracting 2 of 6 for GLD: from 2009-07-18 08:00:00 to 2009-10-09 16:00:00\n",
      "https://finnhub.io/api/v1/stock/candle?symbol=GLD&resolution=60&from=1247904000&to=1255104000&token=bq8ete7rh5rc96c0i040\n",
      "Extracting 3 of 6 for GLD: from 2009-04-26 00:00:00 to 2009-07-18 08:00:00\n",
      "https://finnhub.io/api/v1/stock/candle?symbol=GLD&resolution=60&from=1240704000&to=1247904000&token=bq8ete7rh5rc96c0i040\n",
      "Extracting 4 of 6 for GLD: from 2009-02-01 16:00:00 to 2009-04-26 00:00:00\n",
      "https://finnhub.io/api/v1/stock/candle?symbol=GLD&resolution=60&from=1233504000&to=1240704000&token=bq8ete7rh5rc96c0i040\n",
      "Extracting 5 of 6 for GLD: from 2008-11-10 08:00:00 to 2009-02-01 16:00:00\n",
      "https://finnhub.io/api/v1/stock/candle?symbol=GLD&resolution=60&from=1226304000&to=1233504000&token=bq8ete7rh5rc96c0i040\n",
      "RUNNING: Applying feature engineering using features.algom_trading_v001.get_features_hour_i01.\n",
      "RUNNING: loading features into BigQuery.\n",
      "RUNNING: loading algomosaic-nyc:algom_dev_features.features_GLD_H_i01_20090101 into BigQuery.\n"
     ]
    },
    {
     "name": "stderr",
     "output_type": "stream",
     "text": [
      "1it [00:08,  8.16s/it]\n"
     ]
    },
    {
     "name": "stdout",
     "output_type": "stream",
     "text": [
      "SUCCESS: algomosaic-nyc:algom_dev_features.features_GLD_H_i01_20090101 has been loaded to BigQuery. Runtime: 0:00:18.132124.\n",
      "RUNNING: algomosaic-nyc:algom_dev_features.features_{ticker}_{interval}_{iteration}_{year}0101 is being extracted and transformed.\n",
      "RUNNING: Extracting data using features.finnhub_data.\n",
      "Extracting 1 of 6 for GLD: from 2010-10-09 16:00:00 to 2011-01-01 00:00:00\n",
      "https://finnhub.io/api/v1/stock/candle?symbol=GLD&resolution=60&from=1286640000&to=1293840000&token=bq8ete7rh5rc96c0i040\n",
      "Extracting 2 of 6 for GLD: from 2010-07-18 08:00:00 to 2010-10-09 16:00:00\n",
      "https://finnhub.io/api/v1/stock/candle?symbol=GLD&resolution=60&from=1279440000&to=1286640000&token=bq8ete7rh5rc96c0i040\n",
      "Extracting 3 of 6 for GLD: from 2010-04-26 00:00:00 to 2010-07-18 08:00:00\n",
      "https://finnhub.io/api/v1/stock/candle?symbol=GLD&resolution=60&from=1272240000&to=1279440000&token=bq8ete7rh5rc96c0i040\n",
      "Extracting 4 of 6 for GLD: from 2010-02-01 16:00:00 to 2010-04-26 00:00:00\n",
      "https://finnhub.io/api/v1/stock/candle?symbol=GLD&resolution=60&from=1265040000&to=1272240000&token=bq8ete7rh5rc96c0i040\n",
      "Extracting 5 of 6 for GLD: from 2009-11-10 08:00:00 to 2010-02-01 16:00:00\n",
      "https://finnhub.io/api/v1/stock/candle?symbol=GLD&resolution=60&from=1257840000&to=1265040000&token=bq8ete7rh5rc96c0i040\n",
      "RUNNING: Applying feature engineering using features.algom_trading_v001.get_features_hour_i01.\n",
      "RUNNING: loading features into BigQuery.\n",
      "RUNNING: loading algomosaic-nyc:algom_dev_features.features_GLD_H_i01_20100101 into BigQuery.\n"
     ]
    },
    {
     "name": "stderr",
     "output_type": "stream",
     "text": [
      "1it [00:11, 11.37s/it]\n"
     ]
    },
    {
     "name": "stdout",
     "output_type": "stream",
     "text": [
      "SUCCESS: algomosaic-nyc:algom_dev_features.features_GLD_H_i01_20100101 has been loaded to BigQuery. Runtime: 0:00:21.839707.\n",
      "RUNNING: algomosaic-nyc:algom_dev_features.features_{ticker}_{interval}_{iteration}_{year}0101 is being extracted and transformed.\n",
      "RUNNING: Extracting data using features.finnhub_data.\n",
      "Extracting 1 of 6 for GLD: from 2011-10-09 16:00:00 to 2012-01-01 00:00:00\n",
      "https://finnhub.io/api/v1/stock/candle?symbol=GLD&resolution=60&from=1318176000&to=1325376000&token=bq8ete7rh5rc96c0i040\n",
      "Extracting 2 of 6 for GLD: from 2011-07-18 08:00:00 to 2011-10-09 16:00:00\n",
      "https://finnhub.io/api/v1/stock/candle?symbol=GLD&resolution=60&from=1310976000&to=1318176000&token=bq8ete7rh5rc96c0i040\n",
      "Extracting 3 of 6 for GLD: from 2011-04-26 00:00:00 to 2011-07-18 08:00:00\n",
      "https://finnhub.io/api/v1/stock/candle?symbol=GLD&resolution=60&from=1303776000&to=1310976000&token=bq8ete7rh5rc96c0i040\n",
      "Extracting 4 of 6 for GLD: from 2011-02-01 16:00:00 to 2011-04-26 00:00:00\n",
      "https://finnhub.io/api/v1/stock/candle?symbol=GLD&resolution=60&from=1296576000&to=1303776000&token=bq8ete7rh5rc96c0i040\n",
      "Extracting 5 of 6 for GLD: from 2010-11-10 08:00:00 to 2011-02-01 16:00:00\n",
      "https://finnhub.io/api/v1/stock/candle?symbol=GLD&resolution=60&from=1289376000&to=1296576000&token=bq8ete7rh5rc96c0i040\n",
      "RUNNING: Applying feature engineering using features.algom_trading_v001.get_features_hour_i01.\n",
      "RUNNING: loading features into BigQuery.\n",
      "RUNNING: loading algomosaic-nyc:algom_dev_features.features_GLD_H_i01_20110101 into BigQuery.\n"
     ]
    },
    {
     "name": "stderr",
     "output_type": "stream",
     "text": [
      "1it [00:08,  8.35s/it]\n"
     ]
    },
    {
     "name": "stdout",
     "output_type": "stream",
     "text": [
      "SUCCESS: algomosaic-nyc:algom_dev_features.features_GLD_H_i01_20110101 has been loaded to BigQuery. Runtime: 0:00:16.581369.\n",
      "RUNNING: algomosaic-nyc:algom_dev_features.features_{ticker}_{interval}_{iteration}_{year}0101 is being extracted and transformed.\n",
      "RUNNING: Extracting data using features.finnhub_data.\n",
      "Extracting 1 of 6 for GLD: from 2012-10-09 16:00:00 to 2013-01-01 00:00:00\n",
      "https://finnhub.io/api/v1/stock/candle?symbol=GLD&resolution=60&from=1349798400&to=1356998400&token=bq8ete7rh5rc96c0i040\n",
      "Extracting 2 of 6 for GLD: from 2012-07-18 08:00:00 to 2012-10-09 16:00:00\n",
      "https://finnhub.io/api/v1/stock/candle?symbol=GLD&resolution=60&from=1342598400&to=1349798400&token=bq8ete7rh5rc96c0i040\n",
      "Extracting 3 of 6 for GLD: from 2012-04-26 00:00:00 to 2012-07-18 08:00:00\n",
      "https://finnhub.io/api/v1/stock/candle?symbol=GLD&resolution=60&from=1335398400&to=1342598400&token=bq8ete7rh5rc96c0i040\n",
      "Extracting 4 of 6 for GLD: from 2012-02-02 16:00:00 to 2012-04-26 00:00:00\n",
      "https://finnhub.io/api/v1/stock/candle?symbol=GLD&resolution=60&from=1328198400&to=1335398400&token=bq8ete7rh5rc96c0i040\n",
      "Extracting 5 of 6 for GLD: from 2011-11-11 08:00:00 to 2012-02-02 16:00:00\n",
      "https://finnhub.io/api/v1/stock/candle?symbol=GLD&resolution=60&from=1320998400&to=1328198400&token=bq8ete7rh5rc96c0i040\n",
      "RUNNING: Applying feature engineering using features.algom_trading_v001.get_features_hour_i01.\n",
      "RUNNING: loading features into BigQuery.\n",
      "RUNNING: loading algomosaic-nyc:algom_dev_features.features_GLD_H_i01_20120101 into BigQuery.\n"
     ]
    },
    {
     "name": "stderr",
     "output_type": "stream",
     "text": [
      "1it [00:10, 10.07s/it]\n"
     ]
    },
    {
     "name": "stdout",
     "output_type": "stream",
     "text": [
      "SUCCESS: algomosaic-nyc:algom_dev_features.features_GLD_H_i01_20120101 has been loaded to BigQuery. Runtime: 0:00:18.117341.\n",
      "RUNNING: algomosaic-nyc:algom_dev_features.features_{ticker}_{interval}_{iteration}_{year}0101 is being extracted and transformed.\n",
      "RUNNING: Extracting data using features.finnhub_data.\n",
      "Extracting 1 of 6 for GLD: from 2013-10-09 16:00:00 to 2014-01-01 00:00:00\n",
      "https://finnhub.io/api/v1/stock/candle?symbol=GLD&resolution=60&from=1381334400&to=1388534400&token=bq8ete7rh5rc96c0i040\n",
      "Extracting 2 of 6 for GLD: from 2013-07-18 08:00:00 to 2013-10-09 16:00:00\n",
      "https://finnhub.io/api/v1/stock/candle?symbol=GLD&resolution=60&from=1374134400&to=1381334400&token=bq8ete7rh5rc96c0i040\n",
      "Extracting 3 of 6 for GLD: from 2013-04-26 00:00:00 to 2013-07-18 08:00:00\n",
      "https://finnhub.io/api/v1/stock/candle?symbol=GLD&resolution=60&from=1366934400&to=1374134400&token=bq8ete7rh5rc96c0i040\n",
      "Extracting 4 of 6 for GLD: from 2013-02-01 16:00:00 to 2013-04-26 00:00:00\n",
      "https://finnhub.io/api/v1/stock/candle?symbol=GLD&resolution=60&from=1359734400&to=1366934400&token=bq8ete7rh5rc96c0i040\n",
      "Extracting 5 of 6 for GLD: from 2012-11-10 08:00:00 to 2013-02-01 16:00:00\n",
      "https://finnhub.io/api/v1/stock/candle?symbol=GLD&resolution=60&from=1352534400&to=1359734400&token=bq8ete7rh5rc96c0i040\n",
      "RUNNING: Applying feature engineering using features.algom_trading_v001.get_features_hour_i01.\n",
      "RUNNING: loading features into BigQuery.\n",
      "RUNNING: loading algomosaic-nyc:algom_dev_features.features_GLD_H_i01_20130101 into BigQuery.\n"
     ]
    },
    {
     "name": "stderr",
     "output_type": "stream",
     "text": [
      "1it [00:07,  7.82s/it]\n"
     ]
    },
    {
     "name": "stdout",
     "output_type": "stream",
     "text": [
      "SUCCESS: algomosaic-nyc:algom_dev_features.features_GLD_H_i01_20130101 has been loaded to BigQuery. Runtime: 0:00:16.370215.\n",
      "RUNNING: algomosaic-nyc:algom_dev_features.features_{ticker}_{interval}_{iteration}_{year}0101 is being extracted and transformed.\n",
      "RUNNING: Extracting data using features.finnhub_data.\n",
      "Extracting 1 of 6 for GLD: from 2014-10-09 16:00:00 to 2015-01-01 00:00:00\n",
      "https://finnhub.io/api/v1/stock/candle?symbol=GLD&resolution=60&from=1412870400&to=1420070400&token=bq8ete7rh5rc96c0i040\n",
      "Extracting 2 of 6 for GLD: from 2014-07-18 08:00:00 to 2014-10-09 16:00:00\n",
      "https://finnhub.io/api/v1/stock/candle?symbol=GLD&resolution=60&from=1405670400&to=1412870400&token=bq8ete7rh5rc96c0i040\n",
      "Extracting 3 of 6 for GLD: from 2014-04-26 00:00:00 to 2014-07-18 08:00:00\n",
      "https://finnhub.io/api/v1/stock/candle?symbol=GLD&resolution=60&from=1398470400&to=1405670400&token=bq8ete7rh5rc96c0i040\n",
      "Extracting 4 of 6 for GLD: from 2014-02-01 16:00:00 to 2014-04-26 00:00:00\n",
      "https://finnhub.io/api/v1/stock/candle?symbol=GLD&resolution=60&from=1391270400&to=1398470400&token=bq8ete7rh5rc96c0i040\n",
      "Extracting 5 of 6 for GLD: from 2013-11-10 08:00:00 to 2014-02-01 16:00:00\n",
      "https://finnhub.io/api/v1/stock/candle?symbol=GLD&resolution=60&from=1384070400&to=1391270400&token=bq8ete7rh5rc96c0i040\n",
      "RUNNING: Applying feature engineering using features.algom_trading_v001.get_features_hour_i01.\n",
      "RUNNING: loading features into BigQuery.\n",
      "RUNNING: loading algomosaic-nyc:algom_dev_features.features_GLD_H_i01_20140101 into BigQuery.\n"
     ]
    },
    {
     "name": "stderr",
     "output_type": "stream",
     "text": [
      "1it [00:10, 10.17s/it]\n"
     ]
    },
    {
     "name": "stdout",
     "output_type": "stream",
     "text": [
      "SUCCESS: algomosaic-nyc:algom_dev_features.features_GLD_H_i01_20140101 has been loaded to BigQuery. Runtime: 0:00:19.265764.\n",
      "RUNNING: algomosaic-nyc:algom_dev_features.features_{ticker}_{interval}_{iteration}_{year}0101 is being extracted and transformed.\n",
      "RUNNING: Extracting data using features.finnhub_data.\n",
      "Extracting 1 of 6 for GLD: from 2015-10-09 16:00:00 to 2016-01-01 00:00:00\n",
      "https://finnhub.io/api/v1/stock/candle?symbol=GLD&resolution=60&from=1444406400&to=1451606400&token=bq8ete7rh5rc96c0i040\n",
      "Extracting 2 of 6 for GLD: from 2015-07-18 08:00:00 to 2015-10-09 16:00:00\n",
      "https://finnhub.io/api/v1/stock/candle?symbol=GLD&resolution=60&from=1437206400&to=1444406400&token=bq8ete7rh5rc96c0i040\n",
      "Extracting 3 of 6 for GLD: from 2015-04-26 00:00:00 to 2015-07-18 08:00:00\n",
      "https://finnhub.io/api/v1/stock/candle?symbol=GLD&resolution=60&from=1430006400&to=1437206400&token=bq8ete7rh5rc96c0i040\n",
      "Extracting 4 of 6 for GLD: from 2015-02-01 16:00:00 to 2015-04-26 00:00:00\n",
      "https://finnhub.io/api/v1/stock/candle?symbol=GLD&resolution=60&from=1422806400&to=1430006400&token=bq8ete7rh5rc96c0i040\n",
      "Extracting 5 of 6 for GLD: from 2014-11-10 08:00:00 to 2015-02-01 16:00:00\n",
      "https://finnhub.io/api/v1/stock/candle?symbol=GLD&resolution=60&from=1415606400&to=1422806400&token=bq8ete7rh5rc96c0i040\n",
      "RUNNING: Applying feature engineering using features.algom_trading_v001.get_features_hour_i01.\n",
      "RUNNING: loading features into BigQuery.\n",
      "RUNNING: loading algomosaic-nyc:algom_dev_features.features_GLD_H_i01_20150101 into BigQuery.\n"
     ]
    },
    {
     "name": "stderr",
     "output_type": "stream",
     "text": [
      "1it [00:11, 11.59s/it]\n"
     ]
    },
    {
     "name": "stdout",
     "output_type": "stream",
     "text": [
      "SUCCESS: algomosaic-nyc:algom_dev_features.features_GLD_H_i01_20150101 has been loaded to BigQuery. Runtime: 0:00:20.374214.\n",
      "RUNNING: algomosaic-nyc:algom_dev_features.features_{ticker}_{interval}_{iteration}_{year}0101 is being extracted and transformed.\n",
      "RUNNING: Extracting data using features.finnhub_data.\n",
      "Extracting 1 of 6 for GLD: from 2016-10-09 16:00:00 to 2017-01-01 00:00:00\n",
      "https://finnhub.io/api/v1/stock/candle?symbol=GLD&resolution=60&from=1476028800&to=1483228800&token=bq8ete7rh5rc96c0i040\n",
      "Extracting 2 of 6 for GLD: from 2016-07-18 08:00:00 to 2016-10-09 16:00:00\n",
      "https://finnhub.io/api/v1/stock/candle?symbol=GLD&resolution=60&from=1468828800&to=1476028800&token=bq8ete7rh5rc96c0i040\n",
      "Extracting 3 of 6 for GLD: from 2016-04-26 00:00:00 to 2016-07-18 08:00:00\n",
      "https://finnhub.io/api/v1/stock/candle?symbol=GLD&resolution=60&from=1461628800&to=1468828800&token=bq8ete7rh5rc96c0i040\n",
      "Extracting 4 of 6 for GLD: from 2016-02-02 16:00:00 to 2016-04-26 00:00:00\n",
      "https://finnhub.io/api/v1/stock/candle?symbol=GLD&resolution=60&from=1454428800&to=1461628800&token=bq8ete7rh5rc96c0i040\n",
      "Extracting 5 of 6 for GLD: from 2015-11-11 08:00:00 to 2016-02-02 16:00:00\n",
      "https://finnhub.io/api/v1/stock/candle?symbol=GLD&resolution=60&from=1447228800&to=1454428800&token=bq8ete7rh5rc96c0i040\n",
      "RUNNING: Applying feature engineering using features.algom_trading_v001.get_features_hour_i01.\n",
      "RUNNING: loading features into BigQuery.\n",
      "RUNNING: loading algomosaic-nyc:algom_dev_features.features_GLD_H_i01_20160101 into BigQuery.\n"
     ]
    },
    {
     "name": "stderr",
     "output_type": "stream",
     "text": [
      "1it [00:11, 11.74s/it]\n"
     ]
    },
    {
     "name": "stdout",
     "output_type": "stream",
     "text": [
      "SUCCESS: algomosaic-nyc:algom_dev_features.features_GLD_H_i01_20160101 has been loaded to BigQuery. Runtime: 0:00:20.869937.\n",
      "RUNNING: algomosaic-nyc:algom_dev_features.features_{ticker}_{interval}_{iteration}_{year}0101 is being extracted and transformed.\n",
      "RUNNING: Extracting data using features.finnhub_data.\n",
      "Extracting 1 of 6 for GLD: from 2017-10-09 16:00:00 to 2018-01-01 00:00:00\n",
      "https://finnhub.io/api/v1/stock/candle?symbol=GLD&resolution=60&from=1507564800&to=1514764800&token=bq8ete7rh5rc96c0i040\n",
      "Extracting 2 of 6 for GLD: from 2017-07-18 08:00:00 to 2017-10-09 16:00:00\n",
      "https://finnhub.io/api/v1/stock/candle?symbol=GLD&resolution=60&from=1500364800&to=1507564800&token=bq8ete7rh5rc96c0i040\n",
      "Extracting 3 of 6 for GLD: from 2017-04-26 00:00:00 to 2017-07-18 08:00:00\n",
      "https://finnhub.io/api/v1/stock/candle?symbol=GLD&resolution=60&from=1493164800&to=1500364800&token=bq8ete7rh5rc96c0i040\n",
      "Extracting 4 of 6 for GLD: from 2017-02-01 16:00:00 to 2017-04-26 00:00:00\n",
      "https://finnhub.io/api/v1/stock/candle?symbol=GLD&resolution=60&from=1485964800&to=1493164800&token=bq8ete7rh5rc96c0i040\n",
      "Extracting 5 of 6 for GLD: from 2016-11-10 08:00:00 to 2017-02-01 16:00:00\n",
      "https://finnhub.io/api/v1/stock/candle?symbol=GLD&resolution=60&from=1478764800&to=1485964800&token=bq8ete7rh5rc96c0i040\n",
      "RUNNING: Applying feature engineering using features.algom_trading_v001.get_features_hour_i01.\n",
      "RUNNING: loading features into BigQuery.\n",
      "RUNNING: loading algomosaic-nyc:algom_dev_features.features_GLD_H_i01_20170101 into BigQuery.\n"
     ]
    },
    {
     "name": "stderr",
     "output_type": "stream",
     "text": [
      "1it [00:11, 11.18s/it]\n"
     ]
    },
    {
     "name": "stdout",
     "output_type": "stream",
     "text": [
      "SUCCESS: algomosaic-nyc:algom_dev_features.features_GLD_H_i01_20170101 has been loaded to BigQuery. Runtime: 0:00:19.964509.\n",
      "RUNNING: algomosaic-nyc:algom_dev_features.features_{ticker}_{interval}_{iteration}_{year}0101 is being extracted and transformed.\n",
      "RUNNING: Extracting data using features.finnhub_data.\n",
      "Extracting 1 of 6 for GLD: from 2018-10-09 16:00:00 to 2019-01-01 00:00:00\n",
      "https://finnhub.io/api/v1/stock/candle?symbol=GLD&resolution=60&from=1539100800&to=1546300800&token=bq8ete7rh5rc96c0i040\n",
      "Extracting 2 of 6 for GLD: from 2018-07-18 08:00:00 to 2018-10-09 16:00:00\n",
      "https://finnhub.io/api/v1/stock/candle?symbol=GLD&resolution=60&from=1531900800&to=1539100800&token=bq8ete7rh5rc96c0i040\n",
      "Extracting 3 of 6 for GLD: from 2018-04-26 00:00:00 to 2018-07-18 08:00:00\n",
      "https://finnhub.io/api/v1/stock/candle?symbol=GLD&resolution=60&from=1524700800&to=1531900800&token=bq8ete7rh5rc96c0i040\n",
      "Extracting 4 of 6 for GLD: from 2018-02-01 16:00:00 to 2018-04-26 00:00:00\n",
      "https://finnhub.io/api/v1/stock/candle?symbol=GLD&resolution=60&from=1517500800&to=1524700800&token=bq8ete7rh5rc96c0i040\n",
      "Extracting 5 of 6 for GLD: from 2017-11-10 08:00:00 to 2018-02-01 16:00:00\n",
      "https://finnhub.io/api/v1/stock/candle?symbol=GLD&resolution=60&from=1510300800&to=1517500800&token=bq8ete7rh5rc96c0i040\n",
      "RUNNING: Applying feature engineering using features.algom_trading_v001.get_features_hour_i01.\n"
     ]
    },
    {
     "name": "stderr",
     "output_type": "stream",
     "text": [
      "/opt/conda/lib/python3.7/site-packages/pandas/core/series.py:679: RuntimeWarning: divide by zero encountered in log\n",
      "  result = getattr(ufunc, method)(*inputs, **kwargs)\n"
     ]
    },
    {
     "name": "stdout",
     "output_type": "stream",
     "text": [
      "RUNNING: loading features into BigQuery.\n",
      "RUNNING: loading algomosaic-nyc:algom_dev_features.features_GLD_H_i01_20180101 into BigQuery.\n"
     ]
    },
    {
     "name": "stderr",
     "output_type": "stream",
     "text": [
      "1it [00:08,  8.28s/it]\n"
     ]
    },
    {
     "name": "stdout",
     "output_type": "stream",
     "text": [
      "SUCCESS: algomosaic-nyc:algom_dev_features.features_GLD_H_i01_20180101 has been loaded to BigQuery. Runtime: 0:00:17.598030.\n",
      "RUNNING: algomosaic-nyc:algom_dev_features.features_{ticker}_{interval}_{iteration}_{year}0101 is being extracted and transformed.\n",
      "RUNNING: Extracting data using features.finnhub_data.\n",
      "Extracting 1 of 6 for GLD: from 2019-10-09 16:00:00 to 2020-01-01 00:00:00\n",
      "https://finnhub.io/api/v1/stock/candle?symbol=GLD&resolution=60&from=1570636800&to=1577836800&token=bq8ete7rh5rc96c0i040\n",
      "Extracting 2 of 6 for GLD: from 2019-07-18 08:00:00 to 2019-10-09 16:00:00\n",
      "https://finnhub.io/api/v1/stock/candle?symbol=GLD&resolution=60&from=1563436800&to=1570636800&token=bq8ete7rh5rc96c0i040\n",
      "Extracting 3 of 6 for GLD: from 2019-04-26 00:00:00 to 2019-07-18 08:00:00\n",
      "https://finnhub.io/api/v1/stock/candle?symbol=GLD&resolution=60&from=1556236800&to=1563436800&token=bq8ete7rh5rc96c0i040\n",
      "Extracting 4 of 6 for GLD: from 2019-02-01 16:00:00 to 2019-04-26 00:00:00\n",
      "https://finnhub.io/api/v1/stock/candle?symbol=GLD&resolution=60&from=1549036800&to=1556236800&token=bq8ete7rh5rc96c0i040\n",
      "Extracting 5 of 6 for GLD: from 2018-11-10 08:00:00 to 2019-02-01 16:00:00\n",
      "https://finnhub.io/api/v1/stock/candle?symbol=GLD&resolution=60&from=1541836800&to=1549036800&token=bq8ete7rh5rc96c0i040\n",
      "RUNNING: Applying feature engineering using features.algom_trading_v001.get_features_hour_i01.\n",
      "RUNNING: loading features into BigQuery.\n",
      "RUNNING: loading algomosaic-nyc:algom_dev_features.features_GLD_H_i01_20190101 into BigQuery.\n"
     ]
    },
    {
     "name": "stderr",
     "output_type": "stream",
     "text": [
      "1it [00:11, 11.14s/it]\n"
     ]
    },
    {
     "name": "stdout",
     "output_type": "stream",
     "text": [
      "SUCCESS: algomosaic-nyc:algom_dev_features.features_GLD_H_i01_20190101 has been loaded to BigQuery. Runtime: 0:00:23.452684.\n",
      "RUNNING: algomosaic-nyc:algom_dev_features.features_{ticker}_{interval}_{iteration}_{year}0101 is being extracted and transformed.\n",
      "RUNNING: Extracting data using features.finnhub_data.\n",
      "Extracting 1 of 6 for GLD: from 2020-10-09 16:00:00 to 2021-01-01 00:00:00\n",
      "https://finnhub.io/api/v1/stock/candle?symbol=GLD&resolution=60&from=1602259200&to=1609459200&token=bq8ete7rh5rc96c0i040\n"
     ]
    },
    {
     "ename": "ValueError",
     "evalue": "If using all scalar values, you must pass an index",
     "output_type": "error",
     "traceback": [
      "\u001b[0;31m---------------------------------------------------------------------------\u001b[0m",
      "\u001b[0;31mValueError\u001b[0m                                Traceback (most recent call last)",
      "\u001b[0;32m<ipython-input-8-0096eba058b6>\u001b[0m in \u001b[0;36m<module>\u001b[0;34m\u001b[0m\n\u001b[1;32m     24\u001b[0m         \u001b[0mdata_library\u001b[0m\u001b[0;34m=\u001b[0m\u001b[0mdata_library\u001b[0m\u001b[0;34m,\u001b[0m\u001b[0;34m\u001b[0m\u001b[0;34m\u001b[0m\u001b[0m\n\u001b[1;32m     25\u001b[0m         \u001b[0mfeatures_library\u001b[0m\u001b[0;34m=\u001b[0m\u001b[0mfeatures_library\u001b[0m\u001b[0;34m,\u001b[0m\u001b[0;34m\u001b[0m\u001b[0;34m\u001b[0m\u001b[0m\n\u001b[0;32m---> 26\u001b[0;31m         \u001b[0mto_bq\u001b[0m\u001b[0;34m=\u001b[0m\u001b[0;32mTrue\u001b[0m\u001b[0;34m\u001b[0m\u001b[0;34m\u001b[0m\u001b[0m\n\u001b[0m\u001b[1;32m     27\u001b[0m     )\n\u001b[1;32m     28\u001b[0m \u001b[0;34m\u001b[0m\u001b[0m\n",
      "\u001b[0;32m~/algom-trading/src/features/ticker_etl.py\u001b[0m in \u001b[0;36mrun_etl_process\u001b[0;34m(ticker, start_date, end_date, project_id, destination_table, table_params, date_range, look_back, look_forward, data_library, features_library, to_bq, **kwargs)\u001b[0m\n\u001b[1;32m     79\u001b[0m         \u001b[0;34m**\u001b[0m\u001b[0mkwargs\u001b[0m\u001b[0;34m\u001b[0m\u001b[0;34m\u001b[0m\u001b[0m\n\u001b[1;32m     80\u001b[0m     )\n\u001b[0;32m---> 81\u001b[0;31m     \u001b[0metl_process\u001b[0m\u001b[0;34m.\u001b[0m\u001b[0m_run_etl_process\u001b[0m\u001b[0;34m(\u001b[0m\u001b[0mto_bq\u001b[0m\u001b[0;34m)\u001b[0m\u001b[0;34m\u001b[0m\u001b[0;34m\u001b[0m\u001b[0m\n\u001b[0m\u001b[1;32m     82\u001b[0m     \u001b[0;32mreturn\u001b[0m \u001b[0metl_process\u001b[0m\u001b[0;34m\u001b[0m\u001b[0;34m\u001b[0m\u001b[0m\n\u001b[1;32m     83\u001b[0m \u001b[0;34m\u001b[0m\u001b[0m\n",
      "\u001b[0;32m~/algom-trading/src/features/ticker_etl.py\u001b[0m in \u001b[0;36m_run_etl_process\u001b[0;34m(self, to_bq)\u001b[0m\n\u001b[1;32m    151\u001b[0m         \u001b[0mprint\u001b[0m\u001b[0;34m(\u001b[0m\u001b[0;34m'RUNNING: Extracting data using {}.'\u001b[0m\u001b[0;34m.\u001b[0m\u001b[0mformat\u001b[0m\u001b[0;34m(\u001b[0m\u001b[0mself\u001b[0m\u001b[0;34m.\u001b[0m\u001b[0mdata_library\u001b[0m\u001b[0;34m)\u001b[0m\u001b[0;34m)\u001b[0m\u001b[0;34m\u001b[0m\u001b[0;34m\u001b[0m\u001b[0m\n\u001b[1;32m    152\u001b[0m         df = get_data.get_ticker_data(\n\u001b[0;32m--> 153\u001b[0;31m             self.ticker, self.start_date, self.end_date, self.kwargs)\n\u001b[0m\u001b[1;32m    154\u001b[0m         \u001b[0mprint\u001b[0m\u001b[0;34m(\u001b[0m\u001b[0;34m'RUNNING: Applying feature engineering using {}.'\u001b[0m\u001b[0;34m.\u001b[0m\u001b[0mformat\u001b[0m\u001b[0;34m(\u001b[0m\u001b[0mself\u001b[0m\u001b[0;34m.\u001b[0m\u001b[0mfeatures_library\u001b[0m\u001b[0;34m)\u001b[0m\u001b[0;34m)\u001b[0m\u001b[0;34m\u001b[0m\u001b[0;34m\u001b[0m\u001b[0m\n\u001b[1;32m    155\u001b[0m         \u001b[0mdf\u001b[0m \u001b[0;34m=\u001b[0m \u001b[0mget_features\u001b[0m\u001b[0;34m.\u001b[0m\u001b[0mget_features\u001b[0m\u001b[0;34m(\u001b[0m\u001b[0mdf\u001b[0m\u001b[0;34m)\u001b[0m\u001b[0;34m\u001b[0m\u001b[0;34m\u001b[0m\u001b[0m\n",
      "\u001b[0;32m~/algom-trading/src/features/finnhub_data.py\u001b[0m in \u001b[0;36mget_ticker_data\u001b[0;34m(ticker, start_date, end_date, date_range, interval)\u001b[0m\n\u001b[1;32m     73\u001b[0m     \u001b[0mstart_date\u001b[0m \u001b[0;34m=\u001b[0m \u001b[0mstart_date\u001b[0m \u001b[0;32mor\u001b[0m \u001b[0;34m(\u001b[0m\u001b[0mdt\u001b[0m\u001b[0;34m.\u001b[0m\u001b[0mdate\u001b[0m\u001b[0;34m.\u001b[0m\u001b[0mtoday\u001b[0m\u001b[0;34m(\u001b[0m\u001b[0;34m)\u001b[0m \u001b[0;34m-\u001b[0m \u001b[0mtimedelta\u001b[0m\u001b[0;34m(\u001b[0m\u001b[0mdays\u001b[0m\u001b[0;34m=\u001b[0m\u001b[0mdate_range\u001b[0m\u001b[0;34m)\u001b[0m\u001b[0;34m)\u001b[0m\u001b[0;34m.\u001b[0m\u001b[0mstrftime\u001b[0m\u001b[0;34m(\u001b[0m\u001b[0;34m\"%Y-%m-%d\"\u001b[0m\u001b[0;34m)\u001b[0m\u001b[0;34m\u001b[0m\u001b[0;34m\u001b[0m\u001b[0m\n\u001b[1;32m     74\u001b[0m     \u001b[0mend_date\u001b[0m \u001b[0;34m=\u001b[0m \u001b[0mend_date\u001b[0m \u001b[0;32mor\u001b[0m \u001b[0mdt\u001b[0m\u001b[0;34m.\u001b[0m\u001b[0mdate\u001b[0m\u001b[0;34m.\u001b[0m\u001b[0mtoday\u001b[0m\u001b[0;34m(\u001b[0m\u001b[0;34m)\u001b[0m\u001b[0;34m.\u001b[0m\u001b[0mstrftime\u001b[0m\u001b[0;34m(\u001b[0m\u001b[0;34m\"%Y-%m-%d\"\u001b[0m\u001b[0;34m)\u001b[0m\u001b[0;34m\u001b[0m\u001b[0;34m\u001b[0m\u001b[0m\n\u001b[0;32m---> 75\u001b[0;31m     \u001b[0mdf\u001b[0m \u001b[0;34m=\u001b[0m \u001b[0m_get_data\u001b[0m\u001b[0;34m(\u001b[0m\u001b[0mticker\u001b[0m\u001b[0;34m,\u001b[0m \u001b[0mstart_date\u001b[0m\u001b[0;34m,\u001b[0m \u001b[0mend_date\u001b[0m\u001b[0;34m,\u001b[0m \u001b[0minterval\u001b[0m\u001b[0;34m)\u001b[0m\u001b[0;34m\u001b[0m\u001b[0;34m\u001b[0m\u001b[0m\n\u001b[0m\u001b[1;32m     76\u001b[0m     \u001b[0mdf\u001b[0m \u001b[0;34m=\u001b[0m \u001b[0m_adjust_ticker_data\u001b[0m\u001b[0;34m(\u001b[0m\u001b[0mdf\u001b[0m\u001b[0;34m,\u001b[0m \u001b[0mticker\u001b[0m\u001b[0;34m,\u001b[0m \u001b[0minterval\u001b[0m\u001b[0;34m)\u001b[0m\u001b[0;34m\u001b[0m\u001b[0;34m\u001b[0m\u001b[0m\n\u001b[1;32m     77\u001b[0m     \u001b[0;32mreturn\u001b[0m \u001b[0mdf\u001b[0m\u001b[0;34m\u001b[0m\u001b[0;34m\u001b[0m\u001b[0m\n",
      "\u001b[0;32m~/algom-trading/src/features/finnhub_data.py\u001b[0m in \u001b[0;36m_get_data\u001b[0;34m(ticker, start_date, end_date, interval, interval_data)\u001b[0m\n\u001b[1;32m    120\u001b[0m         \u001b[0mresponse\u001b[0m \u001b[0;34m=\u001b[0m \u001b[0mrequests\u001b[0m\u001b[0;34m.\u001b[0m\u001b[0mget\u001b[0m\u001b[0;34m(\u001b[0m\u001b[0murl\u001b[0m\u001b[0;34m)\u001b[0m\u001b[0;34m\u001b[0m\u001b[0;34m\u001b[0m\u001b[0m\n\u001b[1;32m    121\u001b[0m         \u001b[0mdata\u001b[0m \u001b[0;34m=\u001b[0m \u001b[0mresponse\u001b[0m\u001b[0;34m.\u001b[0m\u001b[0mjson\u001b[0m\u001b[0;34m(\u001b[0m\u001b[0;34m)\u001b[0m\u001b[0;34m\u001b[0m\u001b[0;34m\u001b[0m\u001b[0m\n\u001b[0;32m--> 122\u001b[0;31m         \u001b[0mdf_tmp\u001b[0m \u001b[0;34m=\u001b[0m \u001b[0mpd\u001b[0m\u001b[0;34m.\u001b[0m\u001b[0mDataFrame\u001b[0m\u001b[0;34m(\u001b[0m\u001b[0mdata\u001b[0m\u001b[0;34m)\u001b[0m\u001b[0;34m\u001b[0m\u001b[0;34m\u001b[0m\u001b[0m\n\u001b[0m\u001b[1;32m    123\u001b[0m         \u001b[0mdf\u001b[0m \u001b[0;34m=\u001b[0m \u001b[0mdf_tmp\u001b[0m\u001b[0;34m.\u001b[0m\u001b[0mappend\u001b[0m\u001b[0;34m(\u001b[0m\u001b[0mdf_tmp\u001b[0m\u001b[0;34m)\u001b[0m\u001b[0;34m\u001b[0m\u001b[0;34m\u001b[0m\u001b[0m\n\u001b[1;32m    124\u001b[0m     \u001b[0mdf\u001b[0m\u001b[0;34m[\u001b[0m\u001b[0;34m'interval'\u001b[0m\u001b[0;34m]\u001b[0m \u001b[0;34m=\u001b[0m \u001b[0minterval\u001b[0m\u001b[0;34m\u001b[0m\u001b[0;34m\u001b[0m\u001b[0m\n",
      "\u001b[0;32m/opt/conda/lib/python3.7/site-packages/pandas/core/frame.py\u001b[0m in \u001b[0;36m__init__\u001b[0;34m(self, data, index, columns, dtype, copy)\u001b[0m\n\u001b[1;32m    433\u001b[0m             )\n\u001b[1;32m    434\u001b[0m         \u001b[0;32melif\u001b[0m \u001b[0misinstance\u001b[0m\u001b[0;34m(\u001b[0m\u001b[0mdata\u001b[0m\u001b[0;34m,\u001b[0m \u001b[0mdict\u001b[0m\u001b[0;34m)\u001b[0m\u001b[0;34m:\u001b[0m\u001b[0;34m\u001b[0m\u001b[0;34m\u001b[0m\u001b[0m\n\u001b[0;32m--> 435\u001b[0;31m             \u001b[0mmgr\u001b[0m \u001b[0;34m=\u001b[0m \u001b[0minit_dict\u001b[0m\u001b[0;34m(\u001b[0m\u001b[0mdata\u001b[0m\u001b[0;34m,\u001b[0m \u001b[0mindex\u001b[0m\u001b[0;34m,\u001b[0m \u001b[0mcolumns\u001b[0m\u001b[0;34m,\u001b[0m \u001b[0mdtype\u001b[0m\u001b[0;34m=\u001b[0m\u001b[0mdtype\u001b[0m\u001b[0;34m)\u001b[0m\u001b[0;34m\u001b[0m\u001b[0;34m\u001b[0m\u001b[0m\n\u001b[0m\u001b[1;32m    436\u001b[0m         \u001b[0;32melif\u001b[0m \u001b[0misinstance\u001b[0m\u001b[0;34m(\u001b[0m\u001b[0mdata\u001b[0m\u001b[0;34m,\u001b[0m \u001b[0mma\u001b[0m\u001b[0;34m.\u001b[0m\u001b[0mMaskedArray\u001b[0m\u001b[0;34m)\u001b[0m\u001b[0;34m:\u001b[0m\u001b[0;34m\u001b[0m\u001b[0;34m\u001b[0m\u001b[0m\n\u001b[1;32m    437\u001b[0m             \u001b[0;32mimport\u001b[0m \u001b[0mnumpy\u001b[0m\u001b[0;34m.\u001b[0m\u001b[0mma\u001b[0m\u001b[0;34m.\u001b[0m\u001b[0mmrecords\u001b[0m \u001b[0;32mas\u001b[0m \u001b[0mmrecords\u001b[0m\u001b[0;34m\u001b[0m\u001b[0;34m\u001b[0m\u001b[0m\n",
      "\u001b[0;32m/opt/conda/lib/python3.7/site-packages/pandas/core/internals/construction.py\u001b[0m in \u001b[0;36minit_dict\u001b[0;34m(data, index, columns, dtype)\u001b[0m\n\u001b[1;32m    252\u001b[0m             \u001b[0marr\u001b[0m \u001b[0;32mif\u001b[0m \u001b[0;32mnot\u001b[0m \u001b[0mis_datetime64tz_dtype\u001b[0m\u001b[0;34m(\u001b[0m\u001b[0marr\u001b[0m\u001b[0;34m)\u001b[0m \u001b[0;32melse\u001b[0m \u001b[0marr\u001b[0m\u001b[0;34m.\u001b[0m\u001b[0mcopy\u001b[0m\u001b[0;34m(\u001b[0m\u001b[0;34m)\u001b[0m \u001b[0;32mfor\u001b[0m \u001b[0marr\u001b[0m \u001b[0;32min\u001b[0m \u001b[0marrays\u001b[0m\u001b[0;34m\u001b[0m\u001b[0;34m\u001b[0m\u001b[0m\n\u001b[1;32m    253\u001b[0m         ]\n\u001b[0;32m--> 254\u001b[0;31m     \u001b[0;32mreturn\u001b[0m \u001b[0marrays_to_mgr\u001b[0m\u001b[0;34m(\u001b[0m\u001b[0marrays\u001b[0m\u001b[0;34m,\u001b[0m \u001b[0mdata_names\u001b[0m\u001b[0;34m,\u001b[0m \u001b[0mindex\u001b[0m\u001b[0;34m,\u001b[0m \u001b[0mcolumns\u001b[0m\u001b[0;34m,\u001b[0m \u001b[0mdtype\u001b[0m\u001b[0;34m=\u001b[0m\u001b[0mdtype\u001b[0m\u001b[0;34m)\u001b[0m\u001b[0;34m\u001b[0m\u001b[0;34m\u001b[0m\u001b[0m\n\u001b[0m\u001b[1;32m    255\u001b[0m \u001b[0;34m\u001b[0m\u001b[0m\n\u001b[1;32m    256\u001b[0m \u001b[0;34m\u001b[0m\u001b[0m\n",
      "\u001b[0;32m/opt/conda/lib/python3.7/site-packages/pandas/core/internals/construction.py\u001b[0m in \u001b[0;36marrays_to_mgr\u001b[0;34m(arrays, arr_names, index, columns, dtype)\u001b[0m\n\u001b[1;32m     62\u001b[0m     \u001b[0;31m# figure out the index, if necessary\u001b[0m\u001b[0;34m\u001b[0m\u001b[0;34m\u001b[0m\u001b[0;34m\u001b[0m\u001b[0m\n\u001b[1;32m     63\u001b[0m     \u001b[0;32mif\u001b[0m \u001b[0mindex\u001b[0m \u001b[0;32mis\u001b[0m \u001b[0;32mNone\u001b[0m\u001b[0;34m:\u001b[0m\u001b[0;34m\u001b[0m\u001b[0;34m\u001b[0m\u001b[0m\n\u001b[0;32m---> 64\u001b[0;31m         \u001b[0mindex\u001b[0m \u001b[0;34m=\u001b[0m \u001b[0mextract_index\u001b[0m\u001b[0;34m(\u001b[0m\u001b[0marrays\u001b[0m\u001b[0;34m)\u001b[0m\u001b[0;34m\u001b[0m\u001b[0;34m\u001b[0m\u001b[0m\n\u001b[0m\u001b[1;32m     65\u001b[0m     \u001b[0;32melse\u001b[0m\u001b[0;34m:\u001b[0m\u001b[0;34m\u001b[0m\u001b[0;34m\u001b[0m\u001b[0m\n\u001b[1;32m     66\u001b[0m         \u001b[0mindex\u001b[0m \u001b[0;34m=\u001b[0m \u001b[0mensure_index\u001b[0m\u001b[0;34m(\u001b[0m\u001b[0mindex\u001b[0m\u001b[0;34m)\u001b[0m\u001b[0;34m\u001b[0m\u001b[0;34m\u001b[0m\u001b[0m\n",
      "\u001b[0;32m/opt/conda/lib/python3.7/site-packages/pandas/core/internals/construction.py\u001b[0m in \u001b[0;36mextract_index\u001b[0;34m(data)\u001b[0m\n\u001b[1;32m    353\u001b[0m \u001b[0;34m\u001b[0m\u001b[0m\n\u001b[1;32m    354\u001b[0m         \u001b[0;32mif\u001b[0m \u001b[0;32mnot\u001b[0m \u001b[0mindexes\u001b[0m \u001b[0;32mand\u001b[0m \u001b[0;32mnot\u001b[0m \u001b[0mraw_lengths\u001b[0m\u001b[0;34m:\u001b[0m\u001b[0;34m\u001b[0m\u001b[0;34m\u001b[0m\u001b[0m\n\u001b[0;32m--> 355\u001b[0;31m             \u001b[0;32mraise\u001b[0m \u001b[0mValueError\u001b[0m\u001b[0;34m(\u001b[0m\u001b[0;34m\"If using all scalar values, you must pass an index\"\u001b[0m\u001b[0;34m)\u001b[0m\u001b[0;34m\u001b[0m\u001b[0;34m\u001b[0m\u001b[0m\n\u001b[0m\u001b[1;32m    356\u001b[0m \u001b[0;34m\u001b[0m\u001b[0m\n\u001b[1;32m    357\u001b[0m         \u001b[0;32mif\u001b[0m \u001b[0mhave_series\u001b[0m\u001b[0;34m:\u001b[0m\u001b[0;34m\u001b[0m\u001b[0;34m\u001b[0m\u001b[0m\n",
      "\u001b[0;31mValueError\u001b[0m: If using all scalar values, you must pass an index"
     ]
    }
   ],
   "source": [
    "from features import ticker_etl\n",
    "\n",
    "ticker = 'GLD'\n",
    "interval = 'H'\n",
    "iteration = 'i01'\n",
    "data_library='features.finnhub_data'\n",
    "features_library='features.algom_trading_v001.get_features_hour_i01'\n",
    "\n",
    "\n",
    "for year in years:\n",
    "    model = ticker_etl.run_etl_process(\n",
    "        ticker=ticker,\n",
    "        start_date='{}-01-01'.format(year),\n",
    "        end_date='{}-01-01'.format(year+1),\n",
    "        project='algomosaic-nyc',\n",
    "        destination_table='algom_dev_features.features_{ticker}_{interval}_{iteration}_{year}0101',\n",
    "        table_params={\n",
    "            'ticker': ticker,\n",
    "            'interval': interval,\n",
    "            'iteration': iteration,\n",
    "            'year': str(year),\n",
    "        },\n",
    "        interval=interval,\n",
    "        data_library=data_library,\n",
    "        features_library=features_library,\n",
    "        to_bq=True\n",
    "    )\n",
    "\n",
    "model.data.df.tail()"
   ]
  },
  {
   "cell_type": "code",
   "execution_count": 18,
   "metadata": {},
   "outputs": [],
   "source": [
    "# list(model.data.df)\n",
    "# df = model.data.df\n"
   ]
  },
  {
   "cell_type": "code",
   "execution_count": null,
   "metadata": {},
   "outputs": [],
   "source": []
  },
  {
   "cell_type": "code",
   "execution_count": null,
   "metadata": {},
   "outputs": [],
   "source": []
  },
  {
   "cell_type": "code",
   "execution_count": null,
   "metadata": {},
   "outputs": [],
   "source": []
  }
 ],
 "metadata": {
  "colab": {
   "collapsed_sections": [],
   "name": "Indicator Pipeline",
   "provenance": [],
   "version": "0.3.2"
  },
  "kernelspec": {
   "display_name": "Python 3",
   "language": "python",
   "name": "python3"
  },
  "language_info": {
   "codemirror_mode": {
    "name": "ipython",
    "version": 3
   },
   "file_extension": ".py",
   "mimetype": "text/x-python",
   "name": "python",
   "nbconvert_exporter": "python",
   "pygments_lexer": "ipython3",
   "version": "3.7.6"
  }
 },
 "nbformat": 4,
 "nbformat_minor": 4
}
