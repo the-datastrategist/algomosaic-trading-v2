{
 "cells": [
  {
   "cell_type": "markdown",
   "metadata": {
    "colab_type": "text",
    "id": "GqbBUEdcpIri"
   },
   "source": [
    "##### algom/playbooks\n",
    "\n",
    "# etl\n",
    "\n",
    "ETL pipeline for asset prices (OHLCV), standard indicators and engineered features. Loads output data to [BigQuery](https://console.cloud.google.com/bigquery?project=algomosaic-nyc&p=algomosaic-nyc&page=project).\n"
   ]
  },
  {
   "cell_type": "markdown",
   "metadata": {
    "colab_type": "text",
    "id": "V_UTl3r1mCqM"
   },
   "source": [
    "#### Steps\n",
    "\n",
    "1. Initialize ETL process\n",
    "2. Specify data and feature libraries (optional)\n",
    "3. Run ETL process and without loading to BigQuery\n",
    "4. Run ETL process and load to BigQuery\n",
    "\n",
    "<br>"
   ]
  },
  {
   "cell_type": "code",
   "execution_count": 1,
   "metadata": {},
   "outputs": [],
   "source": [
    "from src.ta.ticker_extract import run_etl_process\n"
   ]
  },
  {
   "cell_type": "markdown",
   "metadata": {
    "colab_type": "text",
    "id": "8JnQDdSVVbN-"
   },
   "source": [
    "<br>\n",
    "\n",
    "### Yahoo: Run an ETL process\n",
    "\n",
    "This module uses several default parameters, which are declared in `src/setup.py`. However, these parameters can be overwritten within the function below.\n"
   ]
  },
  {
   "cell_type": "code",
   "execution_count": 2,
   "metadata": {},
   "outputs": [
    {
     "name": "stdout",
     "output_type": "stream",
     "text": [
      "RUNNING: algom-trading:yahoo_features.yahoo_features_{ticker}_YYYYMMDD is being extracted and transformed.\n",
      "RUNNING: Extracting data using src.ta.get_ticker_data.\n",
      "RUNNING: Applying feature engineering using src.ta.get_features.\n",
      "RUNNING: loading technical_analysis into BigQuery.\n"
     ]
    },
    {
     "name": "stderr",
     "output_type": "stream",
     "text": [
      "1it [00:20, 20.01s/it]"
     ]
    },
    {
     "name": "stdout",
     "output_type": "stream",
     "text": [
      "SUCCESS: algom-trading:yahoo_features.yahoo_features_BTC_USD_20201031 has been loaded to BigQuery. Runtime: 0:00:27.902160.\n"
     ]
    },
    {
     "name": "stderr",
     "output_type": "stream",
     "text": [
      "\n"
     ]
    }
   ],
   "source": [
    "# Run an ETL process \n",
    "model = run_etl_process(\n",
    "    ticker='BTC-USD',\n",
    "    start_date='2010-01-01',\n",
    "    end_date=None,\n",
    "    project_id=None,\n",
    "    destination_table='yahoo_features.yahoo_features_{ticker}_YYYYMMDD',\n",
    "    table_params={'ticker': 'BTC-USD'},\n",
    "    data_library=None,\n",
    "    features_library=None,\n",
    "    date_range=None,\n",
    "    look_back=None,\n",
    "    look_forward=None,\n",
    "    to_bq=True\n",
    ")\n"
   ]
  },
  {
   "cell_type": "markdown",
   "metadata": {},
   "source": [
    "<br>\n",
    "\n",
    "### CryptoCompare: run an ETL process\n",
    "\n",
    "Extract OHLVC data from the [CrytoCompare API](https://min-api.cryptocompare.com/documentation?key=Historical&cat=dataHistoday).\n"
   ]
  },
  {
   "cell_type": "code",
   "execution_count": 1,
   "metadata": {},
   "outputs": [],
   "source": [
    "from src.ta.ticker_extract import run_etl_process\n"
   ]
  },
  {
   "cell_type": "code",
   "execution_count": 3,
   "metadata": {},
   "outputs": [
    {
     "name": "stdout",
     "output_type": "stream",
     "text": [
      "RUNNING: algom-trading:cryptocompare.features_{ticker}_{interval}_2016 is being extracted and transformed.\n",
      "RUNNING: Extracting data using src.ta.cryptocompare_data.\n",
      "Extracting 1 of 5: BTC-USD up to 2017-01-01 00:00:00\n",
      "Extracting 2 of 5: BTC-USD up to 2016-10-09 16:00:00\n",
      "Extracting 3 of 5: BTC-USD up to 2016-07-18 08:00:00\n",
      "Extracting 4 of 5: BTC-USD up to 2016-04-26 00:00:00\n",
      "Extracting 5 of 5: BTC-USD up to 2016-02-02 16:00:00\n",
      "RUNNING: Applying feature engineering using src.ta.get_features.\n",
      "RUNNING: loading technical_analysis into BigQuery.\n"
     ]
    },
    {
     "name": "stderr",
     "output_type": "stream",
     "text": [
      "1it [01:30, 90.85s/it]"
     ]
    },
    {
     "name": "stdout",
     "output_type": "stream",
     "text": [
      "SUCCESS: algom-trading:cryptocompare.features_BTC_USD_hour_2016 has been loaded to BigQuery. Runtime: 0:01:51.712278.\n"
     ]
    },
    {
     "name": "stderr",
     "output_type": "stream",
     "text": [
      "\n"
     ]
    }
   ],
   "source": [
    "# Run an ETL process \n",
    "model = run_etl_process(\n",
    "    ticker='BTC-USD',\n",
    "    start_date='2016-01-01',\n",
    "    end_date='2017-01-01',\n",
    "    project=None,\n",
    "    destination_table='cryptocompare.features_{ticker}_{interval}_2016',\n",
    "    table_params={\n",
    "        'ticker': 'BTC-USD',\n",
    "        'interval': 'hour'\n",
    "    },\n",
    "    interval='hour',\n",
    "    exchange='CCCAGG',\n",
    "    data_library='src.ta.cryptocompare_data',\n",
    "    features_library='src.ta.get_features',\n",
    "    to_bq=True,\n",
    "    if_exists='append'\n",
    ")\n"
   ]
  },
  {
   "cell_type": "code",
   "execution_count": null,
   "metadata": {},
   "outputs": [],
   "source": [
    "model.df.tail()"
   ]
  },
  {
   "cell_type": "code",
   "execution_count": null,
   "metadata": {},
   "outputs": [],
   "source": []
  },
  {
   "cell_type": "code",
   "execution_count": null,
   "metadata": {},
   "outputs": [],
   "source": []
  },
  {
   "cell_type": "code",
   "execution_count": null,
   "metadata": {},
   "outputs": [],
   "source": []
  },
  {
   "cell_type": "code",
   "execution_count": null,
   "metadata": {},
   "outputs": [],
   "source": []
  },
  {
   "cell_type": "code",
   "execution_count": null,
   "metadata": {},
   "outputs": [],
   "source": []
  },
  {
   "cell_type": "markdown",
   "metadata": {
    "colab": {},
    "colab_type": "code",
    "id": "eLLmMlj6c8HC"
   },
   "source": [
    "<br><br>\n",
    "\n",
    "## References\n",
    "\n",
    "#### Documentation: Finance\n",
    "+ [Best Packages for Financial Analysis](https://financetrain.com/best-python-librariespackages-finance-financial-data-scientists/)\n",
    "+ [UltraFinance: TA-Lib calculations](https://github.com/panpanpandas/ultrafinance/blob/master/ultrafinance/pyTaLib/pandasImpl.py)\n",
    "+ [Quantopian: talib](https://www.quantopian.com/posts/technical-analysis-indicators-without-talib-code)\n",
    "+ [ta: Github](https://github.com/bukosabino/ta): Note that installing this didn't work.\n",
    "+ [Ultra Finance: pyTalib](https://github.com/panpanpandas/ultrafinance/blob/master/ultrafinance/pyTaLib/pandasImpl.py)\n",
    "\n",
    "#### Documentation: Python \n",
    "+ [Python Tips](http://book.pythontips.com/en/latest/args_and_kwargs.html)\n",
    "+ [Python Rolling Functions](https://pandas.pydata.org/pandas-docs/version/0.17.0/api.html#standard-moving-window-functions)\n",
    "+ [Learn Data Sci: EMA](https://www.learndatasci.com/tutorials/python-finance-part-3-moving-average-trading-strategy/)\n"
   ]
  },
  {
   "cell_type": "code",
   "execution_count": null,
   "metadata": {},
   "outputs": [],
   "source": []
  }
 ],
 "metadata": {
  "colab": {
   "collapsed_sections": [],
   "name": "Indicator Pipeline",
   "provenance": [],
   "version": "0.3.2"
  },
  "kernelspec": {
   "display_name": "Python 3",
   "language": "python",
   "name": "python3"
  },
  "language_info": {
   "codemirror_mode": {
    "name": "ipython",
    "version": 3
   },
   "file_extension": ".py",
   "mimetype": "text/x-python",
   "name": "python",
   "nbconvert_exporter": "python",
   "pygments_lexer": "ipython3",
   "version": "3.7.6"
  }
 },
 "nbformat": 4,
 "nbformat_minor": 4
}
