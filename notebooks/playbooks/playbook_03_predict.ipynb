{
 "cells": [
  {
   "cell_type": "markdown",
   "metadata": {
    "colab_type": "text",
    "id": "PUsG-grKmsJj"
   },
   "source": [
    "##### algom/playbooks\n",
    "# predict\n",
    "\n",
    "#### Pull a pickle from GCS and use it to predict a set of data.\n",
    "\n",
    "\n",
    "\n",
    "<br>\n",
    "\n",
    "#### Steps\n",
    "+ ...\n",
    "\n"
   ]
  },
  {
   "cell_type": "code",
   "execution_count": 1,
   "metadata": {},
   "outputs": [],
   "source": [
    "import sys\n",
    "sys.path.append('/home/jovyan/algom-trading/src')\n",
    "from model import model_mgmt as mm\n",
    "from model import model_regression as reg\n"
   ]
  },
  {
   "cell_type": "markdown",
   "metadata": {},
   "source": [
    "<br>\n",
    "\n",
    "## Run a prediction process\n",
    "\n",
    "Supply the following parameters to run a prediction process. These processes can also be added to a workflow. \n",
    "+ `model_execution_id`: ID for a saved model\n",
    "+ `outcome`: the outcome variable\n",
    "+ `file`: filepath for the SQL file that produces the input data\n",
    "+ `attributes`: dictionary of parameters found in the SQL file\n",
    "+ `df`: alternatively, a dataframe can be passed; however,the fields must match the training data\n",
    "+ `to_bq`: whether to load results to BigQuery; defaults to false\n"
   ]
  },
  {
   "cell_type": "code",
   "execution_count": 4,
   "metadata": {},
   "outputs": [
    {
     "name": "stdout",
     "output_type": "stream",
     "text": [
      "Writing query to a dataframe.\n",
      "Loaded query to dataframe in 0:00:16.642988.\n",
      "The following paths have been added to self.storage:\n",
      "            - model_storage_filepath: models/20191111_GradientBoostingRegressor_BTC-USD_ca23d81e8faa15509a64742a6b7477bc3deffa34.pickle\n",
      "            - model_filename:\t20191111_GradientBoostingRegressor_BTC-USD_ca23d81e8faa15509a64742a6b7477bc3deffa34.pickle\n",
      "            - model_storage_id:\t20191111_GradientBoostingRegressor_BTC-USD_ca23d81e8faa15509a64742a6b7477bc3deffa34\n",
      "            - model_execution_id:\tca23d81e8faa15509a64742a6b7477bc3deffa34\n",
      "            \n",
      "Downloaded file from GCS to:  /home/jovyan/algom-trading/models/20191111_GradientBoostingRegressor_BTC-USD_ca23d81e8faa15509a64742a6b7477bc3deffa34.pickle\n",
      "Model metadata added to `self.metadata.metadata`\n",
      "Model metadata added to `self.metadata.parameters`\n",
      "Set predictions to self.predict in 0:00:00.024483.\n",
      "Set R^2 to `self.rsquared`\n",
      "The following performance measures have been added:\n",
      "                - self.mean_abs_error\n",
      "                - self.mean_abs_outcome\n",
      "                - self.mean_abs_pct_error\n",
      "                - self.error_var\n",
      "            \n",
      "Performance metrics added to `self.performance`\n",
      "\n",
      "MODEL PERFORMANCE SUMMARY\n",
      "        - Mean Absolute Error:\t 0.00937\n",
      "        - Mean Absolute Outcome:\t 0.09443\n",
      "        - Mean Absolute Percent Error:\t 0.09919\n",
      "        - Error Variance:\t 0.00049\n",
      "        - R-Squared:\t\t 0.97044\n",
      "        \n",
      "PLOT PREDICTIONS: Use the following commands to view model performance.\n",
      "        `self.plot_predictions_by_date(start_date, end_date)`\n",
      "        `self.plot_predictions_histogram(start_date, end_date)`\n",
      "        `self.plot_errors_by_date(start_date, end_date)`\n",
      "        `self.plot_errors_histogram(start_date, end_date)`\n",
      "        `self.plot_predictions_scatterplot(start_date, end_date)`\n",
      "        \n",
      "Loaded dataframe to BigQuery in 0:00:08.545632:\talgomosaic-nyc:yahoo_model_metadata.model_queries_20191204\n",
      "Loaded query to BigQuery in algomosaic-nyc.yahoo_model_metadata.model_queries_20191204.\n",
      "Dataset has been deduplicated: \talgomosaic-nyc.yahoo_model_metadata.model_queries_20191204\n",
      "Loaded dataframe to BigQuery in 0:00:06.530405:\talgomosaic-nyc:yahoo_model_predictions.model_prediction_20191204\n",
      "Loaded query to BigQuery in algomosaic-nyc.yahoo_model_predictions.model_prediction_20191204.\n",
      "Dataset has been deduplicated: \talgomosaic-nyc.yahoo_model_predictions.model_prediction_20191204\n",
      "yahoo_model_predictions.model_evaluation_YYYYMMDD does not exist. Skipping.\n",
      "Loaded dataframe to BigQuery in 0:00:05.893316:\talgomosaic-nyc:yahoo_model_performance.model_performance_20191204\n",
      "Loaded query to BigQuery in algomosaic-nyc.yahoo_model_performance.model_performance_20191204.\n",
      "Dataset has been deduplicated: \talgomosaic-nyc.yahoo_model_performance.model_performance_20191204\n",
      "Loaded dataframe to BigQuery in 0:00:05.315013:\talgomosaic-nyc:yahoo_model_metadata.model_metadata_20191204\n",
      "Loaded query to BigQuery in algomosaic-nyc.yahoo_model_metadata.model_metadata_20191204.\n",
      "Dataset has been deduplicated: \talgomosaic-nyc.yahoo_model_metadata.model_metadata_20191204\n",
      "Loaded dataframe to BigQuery in 0:00:05.868330:\talgomosaic-nyc:yahoo_model_metadata.model_parameters_20191204\n",
      "Loaded query to BigQuery in algomosaic-nyc.yahoo_model_metadata.model_parameters_20191204.\n",
      "Dataset has been deduplicated: \talgomosaic-nyc.yahoo_model_metadata.model_parameters_20191204\n",
      "yahoo_model_feature_importance.model_features_importance_YYYYMMDD does not exist. Skipping.\n",
      "COMPLETE: all model outputs have been loaded to BigQuery!\n"
     ]
    }
   ],
   "source": [
    "model = reg.run_predict_process(\n",
    "    model_execution_id='ca23d81e8faa15509a64742a6b7477bc3deffa34',\n",
    "    outcome='ROR_n10',\n",
    "    file = \"../../data/queries/BTC/BTC_features_n10.sql\",\n",
    "    attributes={'partition': \"20191111\"},\n",
    "    to_bq=True\n",
    ")\n"
   ]
  },
  {
   "cell_type": "code",
   "execution_count": 5,
   "metadata": {},
   "outputs": [
    {
     "data": {
      "text/plain": [
       "'ca23d81e8faa15509a64742a6b7477bc3deffa34'"
      ]
     },
     "execution_count": 5,
     "metadata": {},
     "output_type": "execute_result"
    }
   ],
   "source": [
    "model.metadata.model_execution_id\n"
   ]
  },
  {
   "cell_type": "code",
   "execution_count": 6,
   "metadata": {},
   "outputs": [
    {
     "data": {
      "text/html": [
       "<div>\n",
       "<style scoped>\n",
       "    .dataframe tbody tr th:only-of-type {\n",
       "        vertical-align: middle;\n",
       "    }\n",
       "\n",
       "    .dataframe tbody tr th {\n",
       "        vertical-align: top;\n",
       "    }\n",
       "\n",
       "    .dataframe thead th {\n",
       "        text-align: right;\n",
       "    }\n",
       "</style>\n",
       "<table border=\"1\" class=\"dataframe\">\n",
       "  <thead>\n",
       "    <tr style=\"text-align: right;\">\n",
       "      <th></th>\n",
       "      <th>model_execution_id</th>\n",
       "      <th>model_data_id</th>\n",
       "      <th>model_execution_datetime</th>\n",
       "      <th>model_outcome</th>\n",
       "      <th>model_execution_type</th>\n",
       "      <th>as_of_date</th>\n",
       "      <th>date</th>\n",
       "      <th>ticker</th>\n",
       "      <th>week</th>\n",
       "      <th>month</th>\n",
       "      <th>quarter</th>\n",
       "      <th>year</th>\n",
       "      <th>day_of_week</th>\n",
       "      <th>day_of_year</th>\n",
       "      <th>predictions</th>\n",
       "      <th>outcomes</th>\n",
       "      <th>errors</th>\n",
       "    </tr>\n",
       "  </thead>\n",
       "  <tbody>\n",
       "    <tr>\n",
       "      <th>1545</th>\n",
       "      <td>ca23d81e8faa15509a64742a6b7477bc3deffa34</td>\n",
       "      <td>364afdbad5a5c8f9940f606a53ec1d97a94b0c30</td>\n",
       "      <td>2019-12-04 22:44:04.592414</td>\n",
       "      <td>ROR_n10</td>\n",
       "      <td>predict</td>\n",
       "      <td>2019-11-11</td>\n",
       "      <td>2019-10-05 00:00:00+00:00</td>\n",
       "      <td>BTC-USD</td>\n",
       "      <td>40</td>\n",
       "      <td>10</td>\n",
       "      <td>4</td>\n",
       "      <td>2019</td>\n",
       "      <td>5</td>\n",
       "      <td>278</td>\n",
       "      <td>0.009163</td>\n",
       "      <td>-0.007405</td>\n",
       "      <td>-0.016568</td>\n",
       "    </tr>\n",
       "    <tr>\n",
       "      <th>1546</th>\n",
       "      <td>ca23d81e8faa15509a64742a6b7477bc3deffa34</td>\n",
       "      <td>364afdbad5a5c8f9940f606a53ec1d97a94b0c30</td>\n",
       "      <td>2019-12-04 22:44:04.592414</td>\n",
       "      <td>ROR_n10</td>\n",
       "      <td>predict</td>\n",
       "      <td>2019-11-11</td>\n",
       "      <td>2019-10-06 00:00:00+00:00</td>\n",
       "      <td>BTC-USD</td>\n",
       "      <td>40</td>\n",
       "      <td>10</td>\n",
       "      <td>4</td>\n",
       "      <td>2019</td>\n",
       "      <td>6</td>\n",
       "      <td>279</td>\n",
       "      <td>0.019755</td>\n",
       "      <td>0.017336</td>\n",
       "      <td>-0.002420</td>\n",
       "    </tr>\n",
       "    <tr>\n",
       "      <th>1547</th>\n",
       "      <td>ca23d81e8faa15509a64742a6b7477bc3deffa34</td>\n",
       "      <td>364afdbad5a5c8f9940f606a53ec1d97a94b0c30</td>\n",
       "      <td>2019-12-04 22:44:04.592414</td>\n",
       "      <td>ROR_n10</td>\n",
       "      <td>predict</td>\n",
       "      <td>2019-11-11</td>\n",
       "      <td>2019-10-07 00:00:00+00:00</td>\n",
       "      <td>BTC-USD</td>\n",
       "      <td>41</td>\n",
       "      <td>10</td>\n",
       "      <td>4</td>\n",
       "      <td>2019</td>\n",
       "      <td>0</td>\n",
       "      <td>280</td>\n",
       "      <td>0.028194</td>\n",
       "      <td>0.031551</td>\n",
       "      <td>0.003357</td>\n",
       "    </tr>\n",
       "    <tr>\n",
       "      <th>1548</th>\n",
       "      <td>ca23d81e8faa15509a64742a6b7477bc3deffa34</td>\n",
       "      <td>364afdbad5a5c8f9940f606a53ec1d97a94b0c30</td>\n",
       "      <td>2019-12-04 22:44:04.592414</td>\n",
       "      <td>ROR_n10</td>\n",
       "      <td>predict</td>\n",
       "      <td>2019-11-11</td>\n",
       "      <td>2019-10-08 00:00:00+00:00</td>\n",
       "      <td>BTC-USD</td>\n",
       "      <td>41</td>\n",
       "      <td>10</td>\n",
       "      <td>4</td>\n",
       "      <td>2019</td>\n",
       "      <td>1</td>\n",
       "      <td>281</td>\n",
       "      <td>0.066853</td>\n",
       "      <td>0.073256</td>\n",
       "      <td>0.006403</td>\n",
       "    </tr>\n",
       "    <tr>\n",
       "      <th>1549</th>\n",
       "      <td>ca23d81e8faa15509a64742a6b7477bc3deffa34</td>\n",
       "      <td>364afdbad5a5c8f9940f606a53ec1d97a94b0c30</td>\n",
       "      <td>2019-12-04 22:44:04.592414</td>\n",
       "      <td>ROR_n10</td>\n",
       "      <td>predict</td>\n",
       "      <td>2019-11-11</td>\n",
       "      <td>2019-10-09 00:00:00+00:00</td>\n",
       "      <td>BTC-USD</td>\n",
       "      <td>41</td>\n",
       "      <td>10</td>\n",
       "      <td>4</td>\n",
       "      <td>2019</td>\n",
       "      <td>2</td>\n",
       "      <td>282</td>\n",
       "      <td>0.051153</td>\n",
       "      <td>0.043365</td>\n",
       "      <td>-0.007788</td>\n",
       "    </tr>\n",
       "  </tbody>\n",
       "</table>\n",
       "</div>"
      ],
      "text/plain": [
       "                            model_execution_id  \\\n",
       "1545  ca23d81e8faa15509a64742a6b7477bc3deffa34   \n",
       "1546  ca23d81e8faa15509a64742a6b7477bc3deffa34   \n",
       "1547  ca23d81e8faa15509a64742a6b7477bc3deffa34   \n",
       "1548  ca23d81e8faa15509a64742a6b7477bc3deffa34   \n",
       "1549  ca23d81e8faa15509a64742a6b7477bc3deffa34   \n",
       "\n",
       "                                 model_data_id    model_execution_datetime  \\\n",
       "1545  364afdbad5a5c8f9940f606a53ec1d97a94b0c30  2019-12-04 22:44:04.592414   \n",
       "1546  364afdbad5a5c8f9940f606a53ec1d97a94b0c30  2019-12-04 22:44:04.592414   \n",
       "1547  364afdbad5a5c8f9940f606a53ec1d97a94b0c30  2019-12-04 22:44:04.592414   \n",
       "1548  364afdbad5a5c8f9940f606a53ec1d97a94b0c30  2019-12-04 22:44:04.592414   \n",
       "1549  364afdbad5a5c8f9940f606a53ec1d97a94b0c30  2019-12-04 22:44:04.592414   \n",
       "\n",
       "     model_outcome model_execution_type  as_of_date                      date  \\\n",
       "1545       ROR_n10              predict  2019-11-11 2019-10-05 00:00:00+00:00   \n",
       "1546       ROR_n10              predict  2019-11-11 2019-10-06 00:00:00+00:00   \n",
       "1547       ROR_n10              predict  2019-11-11 2019-10-07 00:00:00+00:00   \n",
       "1548       ROR_n10              predict  2019-11-11 2019-10-08 00:00:00+00:00   \n",
       "1549       ROR_n10              predict  2019-11-11 2019-10-09 00:00:00+00:00   \n",
       "\n",
       "       ticker  week  month  quarter  year  day_of_week  day_of_year  \\\n",
       "1545  BTC-USD    40     10        4  2019            5          278   \n",
       "1546  BTC-USD    40     10        4  2019            6          279   \n",
       "1547  BTC-USD    41     10        4  2019            0          280   \n",
       "1548  BTC-USD    41     10        4  2019            1          281   \n",
       "1549  BTC-USD    41     10        4  2019            2          282   \n",
       "\n",
       "      predictions  outcomes    errors  \n",
       "1545     0.009163 -0.007405 -0.016568  \n",
       "1546     0.019755  0.017336 -0.002420  \n",
       "1547     0.028194  0.031551  0.003357  \n",
       "1548     0.066853  0.073256  0.006403  \n",
       "1549     0.051153  0.043365 -0.007788  "
      ]
     },
     "execution_count": 6,
     "metadata": {},
     "output_type": "execute_result"
    }
   ],
   "source": [
    "model.predictions.tail()"
   ]
  },
  {
   "cell_type": "markdown",
   "metadata": {},
   "source": [
    "<br>\n",
    "\n",
    "### View model performance"
   ]
  },
  {
   "cell_type": "code",
   "execution_count": 9,
   "metadata": {},
   "outputs": [
    {
     "name": "stdout",
     "output_type": "stream",
     "text": [
      "PLOT: Predictions by Date\n",
      "        `self.plot_predictions_by_date(start_date, end_date)`\n",
      "        \n"
     ]
    },
    {
     "data": {
      "text/plain": [
       "<matplotlib.axes._subplots.AxesSubplot at 0x7f70634e73c8>"
      ]
     },
     "execution_count": 9,
     "metadata": {},
     "output_type": "execute_result"
    },
    {
     "data": {
      "image/png": "[encoded data removed]",
      "text/plain": [
       "<Figure size 1440x360 with 1 Axes>"
      ]
     },
     "metadata": {
      "needs_background": "light"
     },
     "output_type": "display_data"
    }
   ],
   "source": [
    "%matplotlib inline\n",
    "model.plot_predictions_by_date(start_date='2015-01-01', end_date='2016-01-01')\n"
   ]
  },
  {
   "cell_type": "code",
   "execution_count": null,
   "metadata": {},
   "outputs": [],
   "source": []
  },
  {
   "cell_type": "markdown",
   "metadata": {},
   "source": [
    "<br>\n",
    "\n",
    "### Load model data to BigQuery"
   ]
  },
  {
   "cell_type": "code",
   "execution_count": 10,
   "metadata": {},
   "outputs": [
    {
     "name": "stdout",
     "output_type": "stream",
     "text": [
      "Loaded dataframe to BigQuery in 0:00:11.586612:\talgomosaic-nyc:yahoo_model_metadata.model_queries_20191111\n",
      "Loaded query to BigQuery in algomosaic-nyc.yahoo_model_metadata.model_queries_20191111.\n",
      "Dataset has been deduplicated: \talgomosaic-nyc.yahoo_model_metadata.model_queries_20191111\n",
      "Loaded dataframe to BigQuery in 0:00:07.937654:\talgomosaic-nyc:yahoo_model_predictions.model_prediction_20191111\n",
      "Loaded query to BigQuery in algomosaic-nyc.yahoo_model_predictions.model_prediction_20191111.\n",
      "Dataset has been deduplicated: \talgomosaic-nyc.yahoo_model_predictions.model_prediction_20191111\n",
      "yahoo_model_predictions.model_evaluation_YYYYMMDD does not exist. Skipping.\n",
      "Loaded dataframe to BigQuery in 0:00:07.983641:\talgomosaic-nyc:yahoo_model_performance.model_performance_20191111\n",
      "Loaded query to BigQuery in algomosaic-nyc.yahoo_model_performance.model_performance_20191111.\n",
      "Dataset has been deduplicated: \talgomosaic-nyc.yahoo_model_performance.model_performance_20191111\n",
      "Loaded dataframe to BigQuery in 0:00:04.587101:\talgomosaic-nyc:yahoo_model_metadata.model_metadata_20191111\n",
      "Loaded query to BigQuery in algomosaic-nyc.yahoo_model_metadata.model_metadata_20191111.\n",
      "Dataset has been deduplicated: \talgomosaic-nyc.yahoo_model_metadata.model_metadata_20191111\n",
      "Loaded dataframe to BigQuery in 0:00:04.264383:\talgomosaic-nyc:yahoo_model_metadata.model_parameters_20191111\n",
      "Loaded query to BigQuery in algomosaic-nyc.yahoo_model_metadata.model_parameters_20191111.\n",
      "Dataset has been deduplicated: \talgomosaic-nyc.yahoo_model_metadata.model_parameters_20191111\n",
      "yahoo_model_feature_importance.model_features_importance_YYYYMMDD does not exist. Skipping.\n",
      "COMPLETE: all model outputs have been loaded to BigQuery!\n"
     ]
    }
   ],
   "source": [
    "model.load_to_bq()"
   ]
  },
  {
   "cell_type": "code",
   "execution_count": null,
   "metadata": {},
   "outputs": [],
   "source": []
  },
  {
   "cell_type": "markdown",
   "metadata": {},
   "source": [
    "<br>\n",
    "\n",
    "## Resources\n",
    "+ [Google BigQuery](https://console.cloud.google.com/bigquery?project=algomosaic-nyc&p=algomosaic-nyc&page=project)\n",
    "+ [Google Storage](https://console.cloud.google.com/storage/browser/algom-trading?project=algomosaic-nyc)\n",
    "+ [Google Drive](https://drive.google.com/drive/folders/1ou6vEWHHeVI0IIjdvj-zGYrCQ7KHRYRm)\n",
    "+ [Trade Journal: Watchlist](https://docs.google.com/spreadsheets/d/1KXl8GxHlveYT5d3UifVwz-5-oxMyikgSfoZ1evIobmc/edit#gid=1679258225)\n"
   ]
  },
  {
   "cell_type": "code",
   "execution_count": null,
   "metadata": {},
   "outputs": [],
   "source": []
  }
 ],
 "metadata": {
  "accelerator": "TPU",
  "colab": {
   "collapsed_sections": [
    "o8UChE6mjUOP",
    "fRG-fEws1PQW",
    "4GJa607W6ljl"
   ],
   "name": "stocks_random_forest.ipynb",
   "provenance": [],
   "version": "0.3.2"
  },
  "kernelspec": {
   "display_name": "Python 3",
   "language": "python",
   "name": "python3"
  },
  "language_info": {
   "codemirror_mode": {
    "name": "ipython",
    "version": 3
   },
   "file_extension": ".py",
   "mimetype": "text/x-python",
   "name": "python",
   "nbconvert_exporter": "python",
   "pygments_lexer": "ipython3",
   "version": "3.7.6"
  }
 },
 "nbformat": 4,
 "nbformat_minor": 4
}
