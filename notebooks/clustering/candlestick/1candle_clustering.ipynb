{
 "cells": [
  {
   "cell_type": "markdown",
   "metadata": {},
   "source": [
    "### Clustering analysis: 1 hour, single period\n",
    "\n",
    "##### Hourly BTC chart"
   ]
  },
  {
   "cell_type": "code",
   "execution_count": 1,
   "metadata": {},
   "outputs": [],
   "source": [
    "from algom.utils.data_object import dataObject\n",
    "from sklearn.cluster import KMeans\n",
    "from sklearn.metrics import silhouette_score\n",
    "\n",
    "import pandas as pd\n",
    "import numpy as np\n"
   ]
  },
  {
   "cell_type": "code",
   "execution_count": null,
   "metadata": {},
   "outputs": [],
   "source": []
  },
  {
   "cell_type": "code",
   "execution_count": 2,
   "metadata": {},
   "outputs": [
    {
     "name": "stderr",
     "output_type": "stream",
     "text": [
      "Downloading: 100%|██████████| 26037/26037 [00:06<00:00, 4074.68rows/s]\n"
     ]
    }
   ],
   "source": [
    "data = dataObject(\"\"\"\n",
    "select distinct\n",
    "ticker_time,\n",
    "ticker_time_sec,\n",
    "ticker,\n",
    "`interval` as ticker_interval,\n",
    "volume_base,\n",
    "volume,\n",
    "open,\n",
    "high,\n",
    "low,\n",
    "close,\n",
    "round(log(safe_divide(high, open)), 5)  as open_high,\n",
    "round(log(safe_divide(low, open)), 5)   as open_low,\n",
    "round(log(safe_divide(close, open)), 5) as open_close,\n",
    "ROR_n5,\n",
    "ROR_n10,\n",
    "ROR_n15,\n",
    "ROR_n20,\n",
    "from `algom-trading.cryptocompare.features_BTC_USD_hour_*`\n",
    "where \n",
    "  _table_suffix in ('2018', '2019', '2020')\n",
    "  and ROR_n20 is not null\n",
    "order by ticker_time\n",
    "\"\"\")"
   ]
  },
  {
   "cell_type": "code",
   "execution_count": null,
   "metadata": {},
   "outputs": [],
   "source": [
    "data.df.tail()"
   ]
  },
  {
   "cell_type": "code",
   "execution_count": null,
   "metadata": {},
   "outputs": [],
   "source": []
  },
  {
   "cell_type": "markdown",
   "metadata": {},
   "source": [
    "<br><br>\n",
    "\n",
    "### Calculate Elbow (ie inertia plot)"
   ]
  },
  {
   "cell_type": "code",
   "execution_count": 5,
   "metadata": {},
   "outputs": [
    {
     "name": "stdout",
     "output_type": "stream",
     "text": [
      "RUNNING: Running cluster summary for k=2.\n",
      "RUNNING: Running cluster summary for k=3.\n",
      "RUNNING: Running cluster summary for k=4.\n",
      "RUNNING: Running cluster summary for k=5.\n",
      "RUNNING: Running cluster summary for k=6.\n",
      "RUNNING: Running cluster summary for k=7.\n",
      "RUNNING: Running cluster summary for k=8.\n",
      "RUNNING: Running cluster summary for k=9.\n",
      "RUNNING: Running cluster summary for k=10.\n",
      "RUNNING: Running cluster summary for k=11.\n"
     ]
    }
   ],
   "source": [
    "# Get features\n",
    "feature_list = ['open_high', 'open_low', 'open_close']\n",
    "X = data.df[feature_list]\n",
    "cluster_summary = []\n",
    "\n",
    "# Run kmeans\n",
    "for n in range(2, 12, 1):\n",
    "    print(\"RUNNING: Running cluster summary for k={}.\".format(n))\n",
    "    kmeans = KMeans(\n",
    "        n_clusters=n,\n",
    "        random_state=0,\n",
    "    )\n",
    "    kmeans = kmeans.fit(X)\n",
    "    labels = kmeans.labels_\n",
    "    silhouette = silhouette_score(X, labels)    \n",
    "    cluster_summary.append({\n",
    "        'n_clusters': kmeans.n_clusters,\n",
    "        'inertia': kmeans.inertia_,\n",
    "        'silhouette': silhouette,\n",
    "    })\n"
   ]
  },
  {
   "cell_type": "code",
   "execution_count": 6,
   "metadata": {},
   "outputs": [],
   "source": [
    "pd.DataFrame(cluster_summary).to_csv('n_cluster_selection.csv')"
   ]
  },
  {
   "cell_type": "code",
   "execution_count": 7,
   "metadata": {},
   "outputs": [
    {
     "data": {
      "image/png": "[encoded data removed]",
      "text/plain": [
       "<Figure size 432x288 with 1 Axes>"
      ]
     },
     "metadata": {
      "needs_background": "light"
     },
     "output_type": "display_data"
    }
   ],
   "source": [
    "# Oputput inertia plot\n",
    "plot = pd.DataFrame(cluster_summary).plot(\n",
    "    x='n_clusters', y=['inertia', 'silhouette'])\n",
    "\n"
   ]
  },
  {
   "cell_type": "code",
   "execution_count": null,
   "metadata": {},
   "outputs": [],
   "source": []
  },
  {
   "cell_type": "code",
   "execution_count": null,
   "metadata": {},
   "outputs": [],
   "source": []
  },
  {
   "cell_type": "code",
   "execution_count": null,
   "metadata": {},
   "outputs": [],
   "source": []
  },
  {
   "cell_type": "markdown",
   "metadata": {},
   "source": [
    "<br><br>\n",
    "\n",
    "## Produce clusters\n",
    "\n",
    "\n",
    "_N_ based on interia plot above"
   ]
  },
  {
   "cell_type": "code",
   "execution_count": 25,
   "metadata": {},
   "outputs": [
    {
     "data": {
      "text/html": [
       "<div>\n",
       "<style scoped>\n",
       "    .dataframe tbody tr th:only-of-type {\n",
       "        vertical-align: middle;\n",
       "    }\n",
       "\n",
       "    .dataframe tbody tr th {\n",
       "        vertical-align: top;\n",
       "    }\n",
       "\n",
       "    .dataframe thead th {\n",
       "        text-align: right;\n",
       "    }\n",
       "</style>\n",
       "<table border=\"1\" class=\"dataframe\">\n",
       "  <thead>\n",
       "    <tr style=\"text-align: right;\">\n",
       "      <th></th>\n",
       "      <th>ticker_time</th>\n",
       "      <th>ticker_time_sec</th>\n",
       "      <th>ticker</th>\n",
       "      <th>ticker_interval</th>\n",
       "      <th>volume_base</th>\n",
       "      <th>volume</th>\n",
       "      <th>open</th>\n",
       "      <th>high</th>\n",
       "      <th>low</th>\n",
       "      <th>close</th>\n",
       "      <th>open_high</th>\n",
       "      <th>open_low</th>\n",
       "      <th>open_close</th>\n",
       "      <th>ROR_n5</th>\n",
       "      <th>ROR_n10</th>\n",
       "      <th>ROR_n15</th>\n",
       "      <th>ROR_n20</th>\n",
       "      <th>labels</th>\n",
       "    </tr>\n",
       "  </thead>\n",
       "  <tbody>\n",
       "    <tr>\n",
       "      <th>25291</th>\n",
       "      <td>2020-09-29 23:00:00+00:00</td>\n",
       "      <td>1601420400</td>\n",
       "      <td>BTC-USD</td>\n",
       "      <td>hour</td>\n",
       "      <td>1833.30</td>\n",
       "      <td>19855930.80</td>\n",
       "      <td>10769.17</td>\n",
       "      <td>10863.02</td>\n",
       "      <td>10768.82</td>\n",
       "      <td>10841.29</td>\n",
       "      <td>0.00868</td>\n",
       "      <td>-0.00003</td>\n",
       "      <td>0.00667</td>\n",
       "      <td>0.010210</td>\n",
       "      <td>0.007622</td>\n",
       "      <td>0.009823</td>\n",
       "      <td>0.013876</td>\n",
       "      <td>13</td>\n",
       "    </tr>\n",
       "    <tr>\n",
       "      <th>11953</th>\n",
       "      <td>2019-03-24 05:00:00+00:00</td>\n",
       "      <td>1553403600</td>\n",
       "      <td>BTC-USD</td>\n",
       "      <td>hour</td>\n",
       "      <td>372.92</td>\n",
       "      <td>1490613.10</td>\n",
       "      <td>3997.94</td>\n",
       "      <td>3998.60</td>\n",
       "      <td>3991.75</td>\n",
       "      <td>3991.94</td>\n",
       "      <td>0.00017</td>\n",
       "      <td>-0.00155</td>\n",
       "      <td>-0.00150</td>\n",
       "      <td>-0.002609</td>\n",
       "      <td>-0.001097</td>\n",
       "      <td>-0.000994</td>\n",
       "      <td>-0.005394</td>\n",
       "      <td>7</td>\n",
       "    </tr>\n",
       "    <tr>\n",
       "      <th>3311</th>\n",
       "      <td>2018-03-29 03:00:00+00:00</td>\n",
       "      <td>1522292400</td>\n",
       "      <td>BTC-USD</td>\n",
       "      <td>hour</td>\n",
       "      <td>2885.99</td>\n",
       "      <td>22796076.03</td>\n",
       "      <td>7921.31</td>\n",
       "      <td>7921.83</td>\n",
       "      <td>7859.56</td>\n",
       "      <td>7890.71</td>\n",
       "      <td>0.00007</td>\n",
       "      <td>-0.00783</td>\n",
       "      <td>-0.00387</td>\n",
       "      <td>-0.008798</td>\n",
       "      <td>-0.007068</td>\n",
       "      <td>-0.018931</td>\n",
       "      <td>-0.000300</td>\n",
       "      <td>6</td>\n",
       "    </tr>\n",
       "    <tr>\n",
       "      <th>22819</th>\n",
       "      <td>2020-06-18 23:00:00+00:00</td>\n",
       "      <td>1592521200</td>\n",
       "      <td>BTC-USD</td>\n",
       "      <td>hour</td>\n",
       "      <td>688.21</td>\n",
       "      <td>6461832.48</td>\n",
       "      <td>9370.35</td>\n",
       "      <td>9406.71</td>\n",
       "      <td>9363.52</td>\n",
       "      <td>9380.67</td>\n",
       "      <td>0.00387</td>\n",
       "      <td>-0.00073</td>\n",
       "      <td>0.00110</td>\n",
       "      <td>-0.001029</td>\n",
       "      <td>-0.002230</td>\n",
       "      <td>-0.005236</td>\n",
       "      <td>-0.004383</td>\n",
       "      <td>4</td>\n",
       "    </tr>\n",
       "    <tr>\n",
       "      <th>22667</th>\n",
       "      <td>2020-06-12 15:00:00+00:00</td>\n",
       "      <td>1591974000</td>\n",
       "      <td>BTC-USD</td>\n",
       "      <td>hour</td>\n",
       "      <td>5528.56</td>\n",
       "      <td>51998763.38</td>\n",
       "      <td>9417.63</td>\n",
       "      <td>9443.30</td>\n",
       "      <td>9379.26</td>\n",
       "      <td>9416.38</td>\n",
       "      <td>0.00272</td>\n",
       "      <td>-0.00408</td>\n",
       "      <td>-0.00013</td>\n",
       "      <td>-0.004901</td>\n",
       "      <td>0.004286</td>\n",
       "      <td>0.011826</td>\n",
       "      <td>0.014747</td>\n",
       "      <td>7</td>\n",
       "    </tr>\n",
       "  </tbody>\n",
       "</table>\n",
       "</div>"
      ],
      "text/plain": [
       "                    ticker_time  ticker_time_sec   ticker ticker_interval  \\\n",
       "25291 2020-09-29 23:00:00+00:00       1601420400  BTC-USD            hour   \n",
       "11953 2019-03-24 05:00:00+00:00       1553403600  BTC-USD            hour   \n",
       "3311  2018-03-29 03:00:00+00:00       1522292400  BTC-USD            hour   \n",
       "22819 2020-06-18 23:00:00+00:00       1592521200  BTC-USD            hour   \n",
       "22667 2020-06-12 15:00:00+00:00       1591974000  BTC-USD            hour   \n",
       "\n",
       "       volume_base       volume      open      high       low     close  \\\n",
       "25291      1833.30  19855930.80  10769.17  10863.02  10768.82  10841.29   \n",
       "11953       372.92   1490613.10   3997.94   3998.60   3991.75   3991.94   \n",
       "3311       2885.99  22796076.03   7921.31   7921.83   7859.56   7890.71   \n",
       "22819       688.21   6461832.48   9370.35   9406.71   9363.52   9380.67   \n",
       "22667      5528.56  51998763.38   9417.63   9443.30   9379.26   9416.38   \n",
       "\n",
       "       open_high  open_low  open_close    ROR_n5   ROR_n10   ROR_n15  \\\n",
       "25291    0.00868  -0.00003     0.00667  0.010210  0.007622  0.009823   \n",
       "11953    0.00017  -0.00155    -0.00150 -0.002609 -0.001097 -0.000994   \n",
       "3311     0.00007  -0.00783    -0.00387 -0.008798 -0.007068 -0.018931   \n",
       "22819    0.00387  -0.00073     0.00110 -0.001029 -0.002230 -0.005236   \n",
       "22667    0.00272  -0.00408    -0.00013 -0.004901  0.004286  0.011826   \n",
       "\n",
       "        ROR_n20  labels  \n",
       "25291  0.013876      13  \n",
       "11953 -0.005394       7  \n",
       "3311  -0.000300       6  \n",
       "22819 -0.004383       4  \n",
       "22667  0.014747       7  "
      ]
     },
     "execution_count": 25,
     "metadata": {},
     "output_type": "execute_result"
    }
   ],
   "source": [
    "n = 20\n",
    "kmeans = KMeans(\n",
    "    n_clusters=n,\n",
    "    random_state=0,\n",
    ")\n",
    "kmeans = kmeans.fit(X)\n",
    "# labels = pd.DataFrame(kmeans.labels_, columns='labels')\n",
    "labels = pd.DataFrame(kmeans.labels_, columns=['labels'])\n",
    "data.df = data.df.join(labels, lsuffix='drop')\n",
    "data.df = data.df[[h for h in list(data.df) if 'drop' not in h]]\n",
    "data.df.sample(5)\n"
   ]
  },
  {
   "cell_type": "code",
   "execution_count": 26,
   "metadata": {},
   "outputs": [
    {
     "name": "stderr",
     "output_type": "stream",
     "text": [
      "1it [00:12, 12.24s/it]\n"
     ]
    }
   ],
   "source": [
    "# Output features and labels\n",
    "data.to_db(\n",
    "    project_id='algom-trading',\n",
    "    destination_table='clustering.1candle_cluster_n{}'.format(n),\n",
    "    if_exists='replace'\n",
    ")"
   ]
  },
  {
   "cell_type": "code",
   "execution_count": null,
   "metadata": {},
   "outputs": [],
   "source": []
  },
  {
   "cell_type": "code",
   "execution_count": null,
   "metadata": {},
   "outputs": [],
   "source": []
  },
  {
   "cell_type": "code",
   "execution_count": null,
   "metadata": {},
   "outputs": [],
   "source": []
  }
 ],
 "metadata": {
  "kernelspec": {
   "display_name": "Python 3",
   "language": "python",
   "name": "python3"
  },
  "language_info": {
   "codemirror_mode": {
    "name": "ipython",
    "version": 3
   },
   "file_extension": ".py",
   "mimetype": "text/x-python",
   "name": "python",
   "nbconvert_exporter": "python",
   "pygments_lexer": "ipython3",
   "version": "3.7.6"
  }
 },
 "nbformat": 4,
 "nbformat_minor": 4
}
