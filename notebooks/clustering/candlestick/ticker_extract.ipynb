{
 "cells": [
  {
   "cell_type": "markdown",
   "metadata": {
    "colab_type": "text",
    "id": "GqbBUEdcpIri"
   },
   "source": [
    "##### algom/playbooks\n",
    "\n",
    "# etl\n",
    "\n",
    "ETL pipeline for asset prices (OHLCV), standard indicators and engineered features. Loads output data to [BigQuery](https://console.cloud.google.com/bigquery?project=algomosaic-nyc&p=algomosaic-nyc&page=project).\n"
   ]
  },
  {
   "cell_type": "markdown",
   "metadata": {
    "colab_type": "text",
    "id": "V_UTl3r1mCqM"
   },
   "source": [
    "#### Steps\n",
    "\n",
    "1. Initialize ETL process\n",
    "2. Specify data and feature libraries (optional)\n",
    "3. Run ETL process and without loading to BigQuery\n",
    "4. Run ETL process and load to BigQuery\n",
    "\n",
    "<br>"
   ]
  },
  {
   "cell_type": "markdown",
   "metadata": {},
   "source": [
    "<br>\n",
    "\n",
    "### CryptoCompare: run an ETL process\n",
    "\n",
    "Extract OHLVC data from the [CrytoCompare API](https://min-api.cryptocompare.com/documentation?key=Historical&cat=dataHistoday).\n"
   ]
  },
  {
   "cell_type": "code",
   "execution_count": 1,
   "metadata": {},
   "outputs": [],
   "source": [
    "from src.ta.ticker_extract import run_etl_process\n"
   ]
  },
  {
   "cell_type": "code",
   "execution_count": 2,
   "metadata": {},
   "outputs": [
    {
     "name": "stdout",
     "output_type": "stream",
     "text": [
      "RUNNING: algom-trading:cryptocompare.features_{ticker}_{interval}_2017 is being extracted and transformed.\n",
      "RUNNING: Extracting data using src.ta.cryptocompare_data.\n",
      "Extracting 1 of 5: BTC-USD up to 2018-01-01 00:00:00\n",
      "Extracting 2 of 5: BTC-USD up to 2017-10-09 16:00:00\n",
      "Extracting 3 of 5: BTC-USD up to 2017-07-18 08:00:00\n",
      "Extracting 4 of 5: BTC-USD up to 2017-04-26 00:00:00\n",
      "Extracting 5 of 5: BTC-USD up to 2017-02-01 16:00:00\n",
      "RUNNING: Applying feature engineering using src.ta.get_features_1h.\n",
      "RUNNING: loading technical_analysis into BigQuery.\n"
     ]
    },
    {
     "name": "stderr",
     "output_type": "stream",
     "text": [
      "1it [01:07, 67.88s/it]"
     ]
    },
    {
     "name": "stdout",
     "output_type": "stream",
     "text": [
      "SUCCESS: algom-trading:cryptocompare.features_BTC_USD_hour_2017 has been loaded to BigQuery. Runtime: 0:01:28.373937.\n"
     ]
    },
    {
     "name": "stderr",
     "output_type": "stream",
     "text": [
      "\n"
     ]
    }
   ],
   "source": [
    "# Run an ETL process\n",
    "data = run_etl_process(\n",
    "    ticker='BTC-USD',\n",
    "    start_date='2017-01-01',\n",
    "    end_date='2018-01-01',\n",
    "    project=None,\n",
    "    destination_table='cryptocompare.features_{ticker}_{interval}_2017',\n",
    "    table_params={\n",
    "        'ticker': 'BTC-USD',\n",
    "        'interval': 'hour'\n",
    "    },\n",
    "    interval='hour',\n",
    "    exchange='CCCAGG',\n",
    "    data_library='src.ta.cryptocompare_data',\n",
    "    features_library='src.ta.get_features_1h',\n",
    "    to_bq=True,\n",
    "    if_exists='replace'\n",
    ")\n"
   ]
  },
  {
   "cell_type": "code",
   "execution_count": 3,
   "metadata": {},
   "outputs": [
    {
     "name": "stdout",
     "output_type": "stream",
     "text": [
      "RUNNING: algom-trading:cryptocompare.features_{ticker}_{interval}_2018 is being extracted and transformed.\n",
      "RUNNING: Extracting data using src.ta.cryptocompare_data.\n",
      "Extracting 1 of 5: BTC-USD up to 2019-01-01 00:00:00\n",
      "Extracting 2 of 5: BTC-USD up to 2018-10-09 16:00:00\n",
      "Extracting 3 of 5: BTC-USD up to 2018-07-18 08:00:00\n",
      "Extracting 4 of 5: BTC-USD up to 2018-04-26 00:00:00\n",
      "Extracting 5 of 5: BTC-USD up to 2018-02-01 16:00:00\n",
      "RUNNING: Applying feature engineering using src.ta.get_features_1h.\n",
      "RUNNING: loading technical_analysis into BigQuery.\n"
     ]
    },
    {
     "name": "stderr",
     "output_type": "stream",
     "text": [
      "1it [01:04, 64.26s/it]"
     ]
    },
    {
     "name": "stdout",
     "output_type": "stream",
     "text": [
      "SUCCESS: algom-trading:cryptocompare.features_BTC_USD_hour_2018 has been loaded to BigQuery. Runtime: 0:01:33.590202.\n"
     ]
    },
    {
     "name": "stderr",
     "output_type": "stream",
     "text": [
      "\n"
     ]
    }
   ],
   "source": [
    "data = run_etl_process(\n",
    "    ticker='BTC-USD',\n",
    "    start_date='2018-01-01',\n",
    "    end_date='2019-01-01',\n",
    "    project=None,\n",
    "    destination_table='cryptocompare.features_{ticker}_{interval}_2018',\n",
    "    table_params={\n",
    "        'ticker': 'BTC-USD',\n",
    "        'interval': 'hour'\n",
    "    },\n",
    "    interval='hour',\n",
    "    exchange='CCCAGG',\n",
    "    data_library='src.ta.cryptocompare_data',\n",
    "    features_library='src.ta.get_features_1h',\n",
    "    to_bq=True,\n",
    "    if_exists='replace'\n",
    ")"
   ]
  },
  {
   "cell_type": "code",
   "execution_count": 4,
   "metadata": {},
   "outputs": [
    {
     "name": "stdout",
     "output_type": "stream",
     "text": [
      "RUNNING: algom-trading:cryptocompare.features_{ticker}_{interval}_2019 is being extracted and transformed.\n",
      "RUNNING: Extracting data using src.ta.cryptocompare_data.\n",
      "Extracting 1 of 5: BTC-USD up to 2020-01-01 00:00:00\n",
      "Extracting 2 of 5: BTC-USD up to 2019-10-09 16:00:00\n",
      "Extracting 3 of 5: BTC-USD up to 2019-07-18 08:00:00\n",
      "Extracting 4 of 5: BTC-USD up to 2019-04-26 00:00:00\n",
      "Extracting 5 of 5: BTC-USD up to 2019-02-01 16:00:00\n",
      "RUNNING: Applying feature engineering using src.ta.get_features_1h.\n",
      "RUNNING: loading technical_analysis into BigQuery.\n"
     ]
    },
    {
     "name": "stderr",
     "output_type": "stream",
     "text": [
      "1it [01:00, 60.43s/it]"
     ]
    },
    {
     "name": "stdout",
     "output_type": "stream",
     "text": [
      "SUCCESS: algom-trading:cryptocompare.features_BTC_USD_hour_2019 has been loaded to BigQuery. Runtime: 0:01:22.749948.\n"
     ]
    },
    {
     "name": "stderr",
     "output_type": "stream",
     "text": [
      "\n"
     ]
    }
   ],
   "source": [
    "data = run_etl_process(\n",
    "    ticker='BTC-USD',\n",
    "    start_date='2019-01-01',\n",
    "    end_date='2020-01-01',\n",
    "    project=None,\n",
    "    destination_table='cryptocompare.features_{ticker}_{interval}_2019',\n",
    "    table_params={\n",
    "        'ticker': 'BTC-USD',\n",
    "        'interval': 'hour'\n",
    "    },\n",
    "    interval='hour',\n",
    "    exchange='CCCAGG',\n",
    "    data_library='src.ta.cryptocompare_data',\n",
    "    features_library='src.ta.get_features_1h',\n",
    "    to_bq=True,\n",
    "    if_exists='replace'\n",
    ")"
   ]
  },
  {
   "cell_type": "code",
   "execution_count": 5,
   "metadata": {},
   "outputs": [
    {
     "name": "stdout",
     "output_type": "stream",
     "text": [
      "RUNNING: algom-trading:cryptocompare.features_{ticker}_{interval}_2020 is being extracted and transformed.\n",
      "RUNNING: Extracting data using src.ta.cryptocompare_data.\n",
      "Extracting 1 of 5: BTC-USD up to 2021-01-01 00:00:00\n",
      "Extracting 2 of 5: BTC-USD up to 2020-10-09 16:00:00\n",
      "Extracting 3 of 5: BTC-USD up to 2020-07-18 08:00:00\n",
      "Extracting 4 of 5: BTC-USD up to 2020-04-26 00:00:00\n",
      "Extracting 5 of 5: BTC-USD up to 2020-02-02 16:00:00\n",
      "RUNNING: Applying feature engineering using src.ta.get_features_1h.\n",
      "RUNNING: loading technical_analysis into BigQuery.\n"
     ]
    },
    {
     "name": "stderr",
     "output_type": "stream",
     "text": [
      "1it [00:47, 47.97s/it]"
     ]
    },
    {
     "name": "stdout",
     "output_type": "stream",
     "text": [
      "SUCCESS: algom-trading:cryptocompare.features_BTC_USD_hour_2020 has been loaded to BigQuery. Runtime: 0:01:06.990266.\n"
     ]
    },
    {
     "name": "stderr",
     "output_type": "stream",
     "text": [
      "\n"
     ]
    }
   ],
   "source": [
    "data = run_etl_process(\n",
    "    ticker='BTC-USD',\n",
    "    start_date='2020-01-01',\n",
    "    end_date='2021-01-01',\n",
    "    project=None,\n",
    "    destination_table='cryptocompare.features_{ticker}_{interval}_2020',\n",
    "    table_params={\n",
    "        'ticker': 'BTC-USD',\n",
    "        'interval': 'hour'\n",
    "    },\n",
    "    interval='hour',\n",
    "    exchange='CCCAGG',\n",
    "    data_library='src.ta.cryptocompare_data',\n",
    "    features_library='src.ta.get_features_1h',\n",
    "    to_bq=True,\n",
    "    if_exists='replace'\n",
    ")"
   ]
  },
  {
   "cell_type": "code",
   "execution_count": null,
   "metadata": {},
   "outputs": [],
   "source": []
  },
  {
   "cell_type": "code",
   "execution_count": null,
   "metadata": {},
   "outputs": [],
   "source": []
  },
  {
   "cell_type": "code",
   "execution_count": null,
   "metadata": {},
   "outputs": [],
   "source": []
  }
 ],
 "metadata": {
  "colab": {
   "collapsed_sections": [],
   "name": "Indicator Pipeline",
   "provenance": [],
   "version": "0.3.2"
  },
  "kernelspec": {
   "display_name": "Python 3",
   "language": "python",
   "name": "python3"
  },
  "language_info": {
   "codemirror_mode": {
    "name": "ipython",
    "version": 3
   },
   "file_extension": ".py",
   "mimetype": "text/x-python",
   "name": "python",
   "nbconvert_exporter": "python",
   "pygments_lexer": "ipython3",
   "version": "3.7.6"
  }
 },
 "nbformat": 4,
 "nbformat_minor": 4
}
