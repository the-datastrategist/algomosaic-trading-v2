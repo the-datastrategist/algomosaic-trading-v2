{
 "cells": [
  {
   "cell_type": "markdown",
   "metadata": {},
   "source": [
    "# process\n",
    "\n",
    "##### Apply ETL, modeling or prediction on data based on a set of YAML inputs. This module powers process scheduling and automation. \n",
    "\n",
    "#### Steps \n",
    "\n",
    "1. Specify YAML containing processes, which can be:\n",
    "     + etl\n",
    "     + predict\n",
    "\n",
    "2. Execute process, which can be:\n",
    "     + self.run_etl\n",
    "     + self.run_predict\n",
    "\n",
    "\n",
    "\n",
    "#### Backlog\n",
    "+ add if_exists logic to etl output dataset\n",
    "\n",
    "\n",
    "\n",
    "#### Resources\n",
    "+ [Google BigQuery](https://console.cloud.google.com/bigquery?project=algomosaic-nyc&p=algomosaic-nyc&page=project)\n",
    "+ [Google Storage](https://console.cloud.google.com/storage/browser/algom-trading?project=algomosaic-nyc)\n",
    "+ [Google Drive](https://drive.google.com/drive/folders/1ou6vEWHHeVI0IIjdvj-zGYrCQ7KHRYRm)\n",
    "+ [Trade Journal: Watchlist](https://docs.google.com/spreadsheets/d/1KXl8GxHlveYT5d3UifVwz-5-oxMyikgSfoZ1evIobmc/edit#gid=1679258225)\n",
    "\n",
    "<br>\n",
    "\n"
   ]
  },
  {
   "cell_type": "code",
   "execution_count": 1,
   "metadata": {},
   "outputs": [],
   "source": [
    "import sys\n",
    "sys.path.append('/home/jovyan/algom-trading/src')\n",
    "\n",
    "from operate import process\n"
   ]
  },
  {
   "cell_type": "code",
   "execution_count": 2,
   "metadata": {},
   "outputs": [
    {
     "name": "stdout",
     "output_type": "stream",
     "text": [
      "Loaded ../data/operate/SPY_etl_to_predict_last30.yaml to dictionary\n"
     ]
    }
   ],
   "source": [
    "# process_configs = yaml_data.get_yaml_data('../data/processes_SPY.yaml')\n",
    "\n",
    "filepath = '../data/operate/SPY_etl_to_predict_last30.yaml'\n",
    "model_process = process.runProcess(filepath)\n",
    "\n",
    "# model_process.process_config\n",
    "# model_process.run_etl()\n",
    "# model_process.run_predict()\n"
   ]
  },
  {
   "cell_type": "markdown",
   "metadata": {},
   "source": [
    "<br>\n",
    "\n",
    "#### Run ETL process"
   ]
  },
  {
   "cell_type": "code",
   "execution_count": 3,
   "metadata": {},
   "outputs": [
    {
     "name": "stdout",
     "output_type": "stream",
     "text": [
      "ETL PROCESS: Running proccess SPY_etl_last30\n",
      "RUNNING: algomosaic-nyc:yahoo_features.features_SPY_20190910 is being extracted and transformed.\n",
      "Loaded dataframe to BigQuery in 0:00:10.368436:\talgomosaic-nyc:yahoo_features.features_SPY_20190910\n",
      "SUCCESS: algomosaic-nyc:yahoo_features.features_SPY_20190910 has been loaded to BigQuery. Runtime: 0:00:12.030833.\n"
     ]
    }
   ],
   "source": [
    "model_process.run_etl()"
   ]
  },
  {
   "cell_type": "code",
   "execution_count": null,
   "metadata": {},
   "outputs": [],
   "source": []
  },
  {
   "cell_type": "markdown",
   "metadata": {},
   "source": [
    "<br>\n",
    "\n",
    "#### Run prediction process"
   ]
  },
  {
   "cell_type": "code",
   "execution_count": 3,
   "metadata": {},
   "outputs": [
    {
     "name": "stdout",
     "output_type": "stream",
     "text": [
      "PREDICT PROCESS: Running proccess SPY_etl_last30\n",
      "Writing query to a dataframe.\n",
      "Loaded query to dataframe in 0:00:02.832291.\n",
      "Writing query to a dataframe.\n",
      "Loaded query to dataframe in 0:00:58.142078.\n",
      "PREDICT: Getting model from Google Storage.\n",
      "The following paths have been added to self.storage:\n",
      "        - model_storage_filepath: models/20190903_GradientBoostingRegressor_SPY_3b7595970b1981644beaa174a1d0bbc87cbfe9b8.pickle\n",
      "        - model_filename:\t20190903_GradientBoostingRegressor_SPY_3b7595970b1981644beaa174a1d0bbc87cbfe9b8.pickle\n",
      "        - model_storage_id:\t20190903_GradientBoostingRegressor_SPY_3b7595970b1981644beaa174a1d0bbc87cbfe9b8\n",
      "        - model_execution_id:\t3b7595970b1981644beaa174a1d0bbc87cbfe9b8\n",
      "        \n",
      "Downloaded file from GCS to:  ../models/20190903_GradientBoostingRegressor_SPY_3b7595970b1981644beaa174a1d0bbc87cbfe9b8.pickle\n",
      "PREDICT: Predicting model.\n",
      "Model metadata added to `self.metadata.metadata`\n",
      "Model metadata added to `self.metadata.parameters`\n",
      "Set predictions to self.predict in 0:00:00.168516.\n",
      "Set R^2 to `self.rsquared`\n",
      "Mean Absolute Error 0.00565.\n",
      "Mean Absolute Error added to `self.mae`\n",
      "Error Variance 8e-05 .\n",
      "Mean Error Variance added to `self.error_var`\n",
      "Performance metrics added to `self.performance`\n",
      "\n",
      "MODEL PERFORMANCE SUMMARY\n",
      "        + Mean Absolute Error:\t 0.00565\n",
      "        + Error Variance:\t 8e-05\n",
      "        + R-Squared:\t\t 0.96145\n",
      "        \n",
      "PLOT PREDICTIONS: Use the following commands to view model performance.\n",
      "        `self.plot_predictions_by_date(start_date, end_date)`\n",
      "        `self.plot_predictions_histogram(start_date, end_date)`\n",
      "        `self.plot_errors_by_date(start_date, end_date)`\n",
      "        `self.plot_errors_histogram(start_date, end_date)`\n",
      "        `self.plot_predictions_scatterplot(start_date, end_date)`\n",
      "        \n",
      "Loaded dataframe to BigQuery in 0:00:07.077906:\talgomosaic-nyc:yahoo_model_metadata.model_queries_20190910\n",
      "Loaded query to BigQuery in algomosaic-nyc.yahoo_model_metadata.model_queries_20190910.\n",
      "Dataset has been deduplicated: \talgomosaic-nyc.yahoo_model_metadata.model_queries_20190910\n",
      "Loaded dataframe to BigQuery in 0:00:26.649819:\talgomosaic-nyc:yahoo_model_predictions.model_prediction_20190910\n",
      "Loaded query to BigQuery in algomosaic-nyc.yahoo_model_predictions.model_prediction_20190910.\n",
      "Dataset has been deduplicated: \talgomosaic-nyc.yahoo_model_predictions.model_prediction_20190910\n",
      "yahoo_model_predictions.model_evaluation_YYYYMMDD does not exist. Skipping.\n",
      "Loaded dataframe to BigQuery in 0:00:06.167058:\talgomosaic-nyc:yahoo_model_performance.model_performance_20190910\n",
      "Loaded query to BigQuery in algomosaic-nyc.yahoo_model_performance.model_performance_20190910.\n",
      "Dataset has been deduplicated: \talgomosaic-nyc.yahoo_model_performance.model_performance_20190910\n",
      "Loaded dataframe to BigQuery in 0:00:05.305264:\talgomosaic-nyc:yahoo_model_metadata.model_metadata_20190910\n",
      "Loaded query to BigQuery in algomosaic-nyc.yahoo_model_metadata.model_metadata_20190910.\n",
      "Dataset has been deduplicated: \talgomosaic-nyc.yahoo_model_metadata.model_metadata_20190910\n",
      "Loaded dataframe to BigQuery in 0:00:09.977241:\talgomosaic-nyc:yahoo_model_metadata.model_parameters_20190910\n",
      "Loaded query to BigQuery in algomosaic-nyc.yahoo_model_metadata.model_parameters_20190910.\n",
      "Dataset has been deduplicated: \talgomosaic-nyc.yahoo_model_metadata.model_parameters_20190910\n",
      "yahoo_model_feature_importance.model_features_importance_YYYYMMDD does not exist. Skipping.\n",
      "COMPLETE: all model outputs have been loaded to BigQuery!\n"
     ]
    }
   ],
   "source": [
    "model_process.run_predict()"
   ]
  },
  {
   "cell_type": "code",
   "execution_count": null,
   "metadata": {},
   "outputs": [],
   "source": []
  },
  {
   "cell_type": "code",
   "execution_count": null,
   "metadata": {},
   "outputs": [],
   "source": []
  },
  {
   "cell_type": "code",
   "execution_count": null,
   "metadata": {},
   "outputs": [],
   "source": []
  }
 ],
 "metadata": {
  "kernelspec": {
   "display_name": "Python 3",
   "language": "python",
   "name": "python3"
  },
  "language_info": {
   "codemirror_mode": {
    "name": "ipython",
    "version": 3
   },
   "file_extension": ".py",
   "mimetype": "text/x-python",
   "name": "python",
   "nbconvert_exporter": "python",
   "pygments_lexer": "ipython3",
   "version": "3.7.6"
  }
 },
 "nbformat": 4,
 "nbformat_minor": 4
}
