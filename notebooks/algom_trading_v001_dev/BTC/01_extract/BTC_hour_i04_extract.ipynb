{
 "cells": [
  {
   "cell_type": "markdown",
   "metadata": {
    "colab_type": "text",
    "id": "GqbBUEdcpIri"
   },
   "source": [
    "##### algom/playbooks\n",
    "\n",
    "# etl\n",
    "\n",
    "ETL pipeline for asset prices (OHLCV), standard indicators and engineered features. Loads output data to [BigQuery](https://console.cloud.google.com/bigquery?project=algomosaic-nyc&p=algomosaic-nyc&page=project).\n",
    "\n",
    "#### VERSION i04\n",
    "\n",
    "Includes\n",
    "1. Price action data, calculated as log % difference since most recent Open\n",
    "2. Volume change, calculated as log % change since most recent period\n"
   ]
  },
  {
   "cell_type": "markdown",
   "metadata": {
    "colab_type": "text",
    "id": "V_UTl3r1mCqM"
   },
   "source": [
    "#### Steps\n",
    "\n",
    "1. Initialize ETL process\n",
    "2. Specify data and feature libraries (optional)\n",
    "3. Run ETL process and without loading to BigQuery\n",
    "4. Run ETL process and load to BigQuery\n",
    "\n",
    "<br>"
   ]
  },
  {
   "cell_type": "code",
   "execution_count": 1,
   "metadata": {},
   "outputs": [],
   "source": [
    "from src.extract import ticker_extract"
   ]
  },
  {
   "cell_type": "markdown",
   "metadata": {},
   "source": [
    "<br><br>\n",
    "\n",
    "### BTC-USD -- hour -- i01 -- 2016"
   ]
  },
  {
   "cell_type": "code",
   "execution_count": 2,
   "metadata": {},
   "outputs": [],
   "source": [
    "years = [\n",
    "    2017,\n",
    "    2018,\n",
    "    2019,\n",
    "    2020,\n",
    "]"
   ]
  },
  {
   "cell_type": "code",
   "execution_count": 4,
   "metadata": {},
   "outputs": [
    {
     "name": "stdout",
     "output_type": "stream",
     "text": [
      "RUNNING: 2017.\n",
      "RUNNING: algom-trading:train_features.features_{ticker}_{interval}_{iteration}_{year}0101 is being extracted and transformed.\n",
      "RUNNING: Extracting data using src.extract.cryptocompare_ticker_data.\n",
      "Extracting 1 of 5: BTC-USDT up to 2018-01-01 00:00:00\n",
      "Extracting 2 of 5: BTC-USDT up to 2017-10-09 16:00:00\n",
      "Extracting 3 of 5: BTC-USDT up to 2017-07-18 08:00:00\n",
      "Extracting 4 of 5: BTC-USDT up to 2017-04-26 00:00:00\n",
      "Extracting 5 of 5: BTC-USDT up to 2017-02-01 16:00:00\n",
      "RUNNING: Applying feature engineering using src.features.algom_trading_v001.get_features_hour_i04.\n"
     ]
    },
    {
     "name": "stderr",
     "output_type": "stream",
     "text": [
      "/opt/conda/lib/python3.7/site-packages/pandas/core/series.py:679: RuntimeWarning: divide by zero encountered in log\n",
      "  result = getattr(ufunc, method)(*inputs, **kwargs)\n"
     ]
    },
    {
     "name": "stdout",
     "output_type": "stream",
     "text": [
      "RUNNING: Cleaning final dataset.\n",
      "SUCCESS: Loaded DataFrame.\n",
      "RUNNING: loading features into BigQuery.\n"
     ]
    },
    {
     "name": "stderr",
     "output_type": "stream",
     "text": [
      "1it [00:15, 15.24s/it]\n"
     ]
    },
    {
     "name": "stdout",
     "output_type": "stream",
     "text": [
      "SUCCESS: algom-trading:train_features.features_BTC_USDT_hour_i04_20170101 has been loaded to BigQuery. Runtime: 0:00:21.430378.\n",
      "RUNNING: 2018.\n",
      "RUNNING: algom-trading:train_features.features_{ticker}_{interval}_{iteration}_{year}0101 is being extracted and transformed.\n",
      "RUNNING: Extracting data using src.extract.cryptocompare_ticker_data.\n",
      "Extracting 1 of 5: BTC-USDT up to 2019-01-01 00:00:00\n",
      "Extracting 2 of 5: BTC-USDT up to 2018-10-09 16:00:00\n",
      "Extracting 3 of 5: BTC-USDT up to 2018-07-18 08:00:00\n",
      "Extracting 4 of 5: BTC-USDT up to 2018-04-26 00:00:00\n",
      "Extracting 5 of 5: BTC-USDT up to 2018-02-01 16:00:00\n",
      "RUNNING: Applying feature engineering using src.features.algom_trading_v001.get_features_hour_i04.\n",
      "RUNNING: Cleaning final dataset.\n",
      "SUCCESS: Loaded DataFrame.\n",
      "RUNNING: loading features into BigQuery.\n"
     ]
    },
    {
     "name": "stderr",
     "output_type": "stream",
     "text": [
      "1it [01:01, 61.56s/it]\n"
     ]
    },
    {
     "name": "stdout",
     "output_type": "stream",
     "text": [
      "SUCCESS: algom-trading:train_features.features_BTC_USDT_hour_i04_20180101 has been loaded to BigQuery. Runtime: 0:01:05.869798.\n",
      "RUNNING: 2019.\n",
      "RUNNING: algom-trading:train_features.features_{ticker}_{interval}_{iteration}_{year}0101 is being extracted and transformed.\n",
      "RUNNING: Extracting data using src.extract.cryptocompare_ticker_data.\n",
      "Extracting 1 of 5: BTC-USDT up to 2020-01-01 00:00:00\n",
      "Extracting 2 of 5: BTC-USDT up to 2019-10-09 16:00:00\n",
      "Extracting 3 of 5: BTC-USDT up to 2019-07-18 08:00:00\n",
      "Extracting 4 of 5: BTC-USDT up to 2019-04-26 00:00:00\n",
      "Extracting 5 of 5: BTC-USDT up to 2019-02-01 16:00:00\n",
      "RUNNING: Applying feature engineering using src.features.algom_trading_v001.get_features_hour_i04.\n",
      "RUNNING: Cleaning final dataset.\n",
      "SUCCESS: Loaded DataFrame.\n",
      "RUNNING: loading features into BigQuery.\n"
     ]
    },
    {
     "name": "stderr",
     "output_type": "stream",
     "text": [
      "1it [00:33, 33.88s/it]\n"
     ]
    },
    {
     "name": "stdout",
     "output_type": "stream",
     "text": [
      "SUCCESS: algom-trading:train_features.features_BTC_USDT_hour_i04_20190101 has been loaded to BigQuery. Runtime: 0:00:38.412738.\n",
      "RUNNING: 2020.\n",
      "RUNNING: algom-trading:train_features.features_{ticker}_{interval}_{iteration}_{year}0101 is being extracted and transformed.\n",
      "RUNNING: Extracting data using src.extract.cryptocompare_ticker_data.\n",
      "Extracting 1 of 5: BTC-USDT up to 2021-01-01 00:00:00\n",
      "Extracting 2 of 5: BTC-USDT up to 2020-10-09 16:00:00\n",
      "Extracting 3 of 5: BTC-USDT up to 2020-07-18 08:00:00\n",
      "Extracting 4 of 5: BTC-USDT up to 2020-04-26 00:00:00\n",
      "Extracting 5 of 5: BTC-USDT up to 2020-02-02 16:00:00\n",
      "RUNNING: Applying feature engineering using src.features.algom_trading_v001.get_features_hour_i04.\n",
      "RUNNING: Cleaning final dataset.\n",
      "SUCCESS: Loaded DataFrame.\n",
      "RUNNING: loading features into BigQuery.\n"
     ]
    },
    {
     "name": "stderr",
     "output_type": "stream",
     "text": [
      "1it [00:37, 37.59s/it]"
     ]
    },
    {
     "name": "stdout",
     "output_type": "stream",
     "text": [
      "SUCCESS: algom-trading:train_features.features_BTC_USDT_hour_i04_20200101 has been loaded to BigQuery. Runtime: 0:00:52.103591.\n"
     ]
    },
    {
     "name": "stderr",
     "output_type": "stream",
     "text": [
      "\n"
     ]
    },
    {
     "data": {
      "text/html": [
       "<div>\n",
       "<style scoped>\n",
       "    .dataframe tbody tr th:only-of-type {\n",
       "        vertical-align: middle;\n",
       "    }\n",
       "\n",
       "    .dataframe tbody tr th {\n",
       "        vertical-align: top;\n",
       "    }\n",
       "\n",
       "    .dataframe thead th {\n",
       "        text-align: right;\n",
       "    }\n",
       "</style>\n",
       "<table border=\"1\" class=\"dataframe\">\n",
       "  <thead>\n",
       "    <tr style=\"text-align: right;\">\n",
       "      <th></th>\n",
       "      <th>ticker_time_sec</th>\n",
       "      <th>close</th>\n",
       "      <th>high</th>\n",
       "      <th>low</th>\n",
       "      <th>open</th>\n",
       "      <th>volume_base</th>\n",
       "      <th>volume</th>\n",
       "      <th>conversionType</th>\n",
       "      <th>conversionSymbol</th>\n",
       "      <th>partition_date</th>\n",
       "      <th>...</th>\n",
       "      <th>volume_lag15</th>\n",
       "      <th>volume_lag16</th>\n",
       "      <th>volume_lag17</th>\n",
       "      <th>volume_lag18</th>\n",
       "      <th>volume_lag19</th>\n",
       "      <th>volume_lag20</th>\n",
       "      <th>volume_lag21</th>\n",
       "      <th>volume_lag22</th>\n",
       "      <th>volume_lag23</th>\n",
       "      <th>volume_lag24</th>\n",
       "    </tr>\n",
       "  </thead>\n",
       "  <tbody>\n",
       "    <tr>\n",
       "      <th>4</th>\n",
       "      <td>1609444800</td>\n",
       "      <td>29126.70</td>\n",
       "      <td>29139.65</td>\n",
       "      <td>28862.00</td>\n",
       "      <td>28897.83</td>\n",
       "      <td>1936.48</td>\n",
       "      <td>56103301.54</td>\n",
       "      <td>force_direct</td>\n",
       "      <td></td>\n",
       "      <td>2021-01-04</td>\n",
       "      <td>...</td>\n",
       "      <td>-0.107137</td>\n",
       "      <td>-0.357195</td>\n",
       "      <td>-0.288114</td>\n",
       "      <td>0.015676</td>\n",
       "      <td>-1.283829</td>\n",
       "      <td>-1.048373</td>\n",
       "      <td>-0.119924</td>\n",
       "      <td>0.010799</td>\n",
       "      <td>-0.606369</td>\n",
       "      <td>-0.791053</td>\n",
       "    </tr>\n",
       "    <tr>\n",
       "      <th>3</th>\n",
       "      <td>1609448400</td>\n",
       "      <td>28966.36</td>\n",
       "      <td>29169.55</td>\n",
       "      <td>28900.79</td>\n",
       "      <td>29126.70</td>\n",
       "      <td>2524.47</td>\n",
       "      <td>73351462.94</td>\n",
       "      <td>force_direct</td>\n",
       "      <td></td>\n",
       "      <td>2021-01-04</td>\n",
       "      <td>...</td>\n",
       "      <td>0.171483</td>\n",
       "      <td>0.158022</td>\n",
       "      <td>-0.092036</td>\n",
       "      <td>-0.022955</td>\n",
       "      <td>0.280835</td>\n",
       "      <td>-1.018670</td>\n",
       "      <td>-0.783214</td>\n",
       "      <td>0.145235</td>\n",
       "      <td>0.275958</td>\n",
       "      <td>-0.341209</td>\n",
       "    </tr>\n",
       "    <tr>\n",
       "      <th>2</th>\n",
       "      <td>1609452000</td>\n",
       "      <td>29100.84</td>\n",
       "      <td>29143.73</td>\n",
       "      <td>28910.19</td>\n",
       "      <td>28966.36</td>\n",
       "      <td>1438.51</td>\n",
       "      <td>41807122.89</td>\n",
       "      <td>force_direct</td>\n",
       "      <td></td>\n",
       "      <td>2021-01-04</td>\n",
       "      <td>...</td>\n",
       "      <td>-0.797065</td>\n",
       "      <td>-0.390940</td>\n",
       "      <td>-0.404401</td>\n",
       "      <td>-0.654459</td>\n",
       "      <td>-0.585379</td>\n",
       "      <td>-0.281588</td>\n",
       "      <td>-1.581093</td>\n",
       "      <td>-1.345637</td>\n",
       "      <td>-0.417188</td>\n",
       "      <td>-0.286465</td>\n",
       "    </tr>\n",
       "    <tr>\n",
       "      <th>1</th>\n",
       "      <td>1609455600</td>\n",
       "      <td>28923.63</td>\n",
       "      <td>29110.35</td>\n",
       "      <td>28780.00</td>\n",
       "      <td>29100.84</td>\n",
       "      <td>1976.42</td>\n",
       "      <td>57243040.07</td>\n",
       "      <td>force_direct</td>\n",
       "      <td></td>\n",
       "      <td>2021-01-04</td>\n",
       "      <td>...</td>\n",
       "      <td>-0.534471</td>\n",
       "      <td>-0.479386</td>\n",
       "      <td>-0.073261</td>\n",
       "      <td>-0.086722</td>\n",
       "      <td>-0.336780</td>\n",
       "      <td>-0.267699</td>\n",
       "      <td>0.036091</td>\n",
       "      <td>-1.263414</td>\n",
       "      <td>-1.027958</td>\n",
       "      <td>-0.099509</td>\n",
       "    </tr>\n",
       "    <tr>\n",
       "      <th>0</th>\n",
       "      <td>1609459200</td>\n",
       "      <td>28995.13</td>\n",
       "      <td>29031.34</td>\n",
       "      <td>28690.17</td>\n",
       "      <td>28923.63</td>\n",
       "      <td>2311.81</td>\n",
       "      <td>66768830.34</td>\n",
       "      <td>force_direct</td>\n",
       "      <td></td>\n",
       "      <td>2021-01-04</td>\n",
       "      <td>...</td>\n",
       "      <td>-0.245201</td>\n",
       "      <td>-0.377727</td>\n",
       "      <td>-0.322642</td>\n",
       "      <td>0.083483</td>\n",
       "      <td>0.070022</td>\n",
       "      <td>-0.180036</td>\n",
       "      <td>-0.110956</td>\n",
       "      <td>0.192835</td>\n",
       "      <td>-1.106670</td>\n",
       "      <td>-0.871214</td>\n",
       "    </tr>\n",
       "  </tbody>\n",
       "</table>\n",
       "<p>5 rows × 252 columns</p>\n",
       "</div>"
      ],
      "text/plain": [
       "   ticker_time_sec     close      high       low      open  volume_base  \\\n",
       "4       1609444800  29126.70  29139.65  28862.00  28897.83      1936.48   \n",
       "3       1609448400  28966.36  29169.55  28900.79  29126.70      2524.47   \n",
       "2       1609452000  29100.84  29143.73  28910.19  28966.36      1438.51   \n",
       "1       1609455600  28923.63  29110.35  28780.00  29100.84      1976.42   \n",
       "0       1609459200  28995.13  29031.34  28690.17  28923.63      2311.81   \n",
       "\n",
       "        volume conversionType conversionSymbol partition_date  ...  \\\n",
       "4  56103301.54   force_direct                      2021-01-04  ...   \n",
       "3  73351462.94   force_direct                      2021-01-04  ...   \n",
       "2  41807122.89   force_direct                      2021-01-04  ...   \n",
       "1  57243040.07   force_direct                      2021-01-04  ...   \n",
       "0  66768830.34   force_direct                      2021-01-04  ...   \n",
       "\n",
       "  volume_lag15 volume_lag16 volume_lag17 volume_lag18 volume_lag19  \\\n",
       "4    -0.107137    -0.357195    -0.288114     0.015676    -1.283829   \n",
       "3     0.171483     0.158022    -0.092036    -0.022955     0.280835   \n",
       "2    -0.797065    -0.390940    -0.404401    -0.654459    -0.585379   \n",
       "1    -0.534471    -0.479386    -0.073261    -0.086722    -0.336780   \n",
       "0    -0.245201    -0.377727    -0.322642     0.083483     0.070022   \n",
       "\n",
       "   volume_lag20  volume_lag21  volume_lag22  volume_lag23  volume_lag24  \n",
       "4     -1.048373     -0.119924      0.010799     -0.606369     -0.791053  \n",
       "3     -1.018670     -0.783214      0.145235      0.275958     -0.341209  \n",
       "2     -0.281588     -1.581093     -1.345637     -0.417188     -0.286465  \n",
       "1     -0.267699      0.036091     -1.263414     -1.027958     -0.099509  \n",
       "0     -0.180036     -0.110956      0.192835     -1.106670     -0.871214  \n",
       "\n",
       "[5 rows x 252 columns]"
      ]
     },
     "execution_count": 4,
     "metadata": {},
     "output_type": "execute_result"
    }
   ],
   "source": [
    "iteration = 'i04'\n",
    "\n",
    "for year in years:\n",
    "    print(\"RUNNING: {}.\".format(year))\n",
    "    model = ticker_extract.run_extract_process(\n",
    "        ticker='BTC-USDT',\n",
    "        start_date='{}-01-01'.format(year),\n",
    "        end_date='{}-01-01'.format(year+1),\n",
    "        project='algom-trading',\n",
    "        destination_table='train_features.features_{ticker}_{interval}_{iteration}_{year}0101',\n",
    "        table_params={\n",
    "            'ticker': 'BTC-USDT',\n",
    "            'interval': 'hour',\n",
    "            'iteration': iteration,\n",
    "            'year': str(year)\n",
    "        },\n",
    "        interval='hour',\n",
    "        exchange='binance',\n",
    "        data_library='src.extract.cryptocompare_ticker_data',\n",
    "        features_library='src.features.algom_trading_v001.get_features_hour_{}'.format(iteration),\n",
    "        to_bq=True,\n",
    "    )\n",
    "\n",
    "model.data.df.tail()"
   ]
  },
  {
   "cell_type": "code",
   "execution_count": 11,
   "metadata": {},
   "outputs": [],
   "source": [
    "# list(model.data.df)\n",
    "# model.data.df.head()"
   ]
  },
  {
   "cell_type": "code",
   "execution_count": null,
   "metadata": {},
   "outputs": [],
   "source": []
  }
 ],
 "metadata": {
  "colab": {
   "collapsed_sections": [],
   "name": "Indicator Pipeline",
   "provenance": [],
   "version": "0.3.2"
  },
  "kernelspec": {
   "display_name": "Python 3",
   "language": "python",
   "name": "python3"
  },
  "language_info": {
   "codemirror_mode": {
    "name": "ipython",
    "version": 3
   },
   "file_extension": ".py",
   "mimetype": "text/x-python",
   "name": "python",
   "nbconvert_exporter": "python",
   "pygments_lexer": "ipython3",
   "version": "3.7.6"
  }
 },
 "nbformat": 4,
 "nbformat_minor": 4
}
