{
 "cells": [
  {
   "cell_type": "markdown",
   "metadata": {
    "colab_type": "text",
    "id": "PUsG-grKmsJj"
   },
   "source": [
    "# Model training\n",
    "\n",
    "#### BTC-USDT for ROR_n10\n",
    "\n",
    "<br>\n",
    "\n",
    "#### Model ID | Model Execution ID pairs\n",
    "\n",
    "```\n",
    "model_id: 584eba7f00ec5176bafd1feaafcc46fc8382830a\n",
    "    - n_estimators = 500\n",
    "    - max_depth = 10\n",
    "    - Mean Absolute Error: 0.03025\n",
    "    - Mean Absolute Outcome: 0.01991\n",
    "    - Mean Absolute Percent Error: 1.51939\n",
    "    - Error Variance: 0.00188\n",
    "    - R-Squared: -0.74909\n",
    "```\n",
    "\n",
    "\n",
    "```\n",
    "model_id: 46712697629b95bc495fc9a83f5d4b86e2a3a82f\n",
    "    - n_estimators = 500\n",
    "    - max_depth = 20\n",
    "    - Mean Absolute Error:\t 0.03385\n",
    "    - Mean Absolute Outcome:\t 0.01991\n",
    "    - Mean Absolute Percent Error:\t 1.70031\n",
    "    - Error Variance:\t 0.00262\n",
    "    - R-Squared:\t\t -1.43567\n",
    "```\n",
    "\n",
    "\n",
    "#### Resources\n",
    "+ [BigQuery](https://console.cloud.google.com/bigquery?folder=&organizationId=&project=algomosaic-nyc)\n",
    "+ [Storage](https://console.cloud.google.com/storage/browser/algom-trading/models/?project=algomosaic-nyc)\n",
    "\n"
   ]
  },
  {
   "cell_type": "markdown",
   "metadata": {
    "colab_type": "text",
    "id": "HOd4wXaNlQWz"
   },
   "source": [
    "<br> \n",
    "\n",
    "#### Requirements\n"
   ]
  },
  {
   "cell_type": "code",
   "execution_count": 1,
   "metadata": {},
   "outputs": [],
   "source": [
    "import numpy as np\n",
    "from algom import configs\n",
    "from algom.utils.data_object import dataObject\n",
    "from algom.model_regression import modelRegression\n",
    "from algom.model_plots import modelPlots"
   ]
  },
  {
   "cell_type": "markdown",
   "metadata": {},
   "source": [
    "<br>\n",
    "\n",
    "### Load training data\n"
   ]
  },
  {
   "cell_type": "code",
   "execution_count": 2,
   "metadata": {},
   "outputs": [
    {
     "name": "stdout",
     "output_type": "stream",
     "text": [
      "RUNNING: Querying SQL script.\n"
     ]
    },
    {
     "name": "stderr",
     "output_type": "stream",
     "text": [
      "Downloading: 100%|██████████| 10001/10001 [00:12<00:00, 795.26rows/s]"
     ]
    },
    {
     "name": "stdout",
     "output_type": "stream",
     "text": [
      "SUCCESS: Loaded SQL query.\n"
     ]
    },
    {
     "name": "stderr",
     "output_type": "stream",
     "text": [
      "\n"
     ]
    }
   ],
   "source": [
    "# Load model data\n",
    "data = dataObject(\"\"\"\n",
    "SELECT * EXCEPT (\n",
    "  conversionType,\n",
    "  conversionSymbol,\n",
    "  partition_date)\n",
    "FROM `algom-trading.train_features.features_BTC_USDT_hour_i02_20200101`\n",
    "\"\"\")"
   ]
  },
  {
   "cell_type": "code",
   "execution_count": 3,
   "metadata": {},
   "outputs": [
    {
     "name": "stdout",
     "output_type": "stream",
     "text": [
      "9503\n"
     ]
    },
    {
     "data": {
      "text/html": [
       "<div>\n",
       "<style scoped>\n",
       "    .dataframe tbody tr th:only-of-type {\n",
       "        vertical-align: middle;\n",
       "    }\n",
       "\n",
       "    .dataframe tbody tr th {\n",
       "        vertical-align: top;\n",
       "    }\n",
       "\n",
       "    .dataframe thead th {\n",
       "        text-align: right;\n",
       "    }\n",
       "</style>\n",
       "<table border=\"1\" class=\"dataframe\">\n",
       "  <thead>\n",
       "    <tr style=\"text-align: right;\">\n",
       "      <th></th>\n",
       "      <th>ticker_time_sec</th>\n",
       "      <th>close</th>\n",
       "      <th>high</th>\n",
       "      <th>low</th>\n",
       "      <th>open</th>\n",
       "      <th>volume_base</th>\n",
       "      <th>volume</th>\n",
       "      <th>etl_time</th>\n",
       "      <th>ticker_time</th>\n",
       "      <th>ticker</th>\n",
       "      <th>...</th>\n",
       "      <th>MACDdiff_9_12</th>\n",
       "      <th>MACD_26_200</th>\n",
       "      <th>MACDsign_26_200</th>\n",
       "      <th>MACDdiff_26_200</th>\n",
       "      <th>MACD_20_200</th>\n",
       "      <th>MACDsign_20_200</th>\n",
       "      <th>MACDdiff_20_200</th>\n",
       "      <th>RSI_</th>\n",
       "      <th>Mass_Index_9_25</th>\n",
       "      <th>SO_pct_k</th>\n",
       "    </tr>\n",
       "  </thead>\n",
       "  <tbody>\n",
       "    <tr>\n",
       "      <th>301</th>\n",
       "      <td>1608375600</td>\n",
       "      <td>22888.54</td>\n",
       "      <td>23063.49</td>\n",
       "      <td>22875.01</td>\n",
       "      <td>23019.99</td>\n",
       "      <td>1942.20</td>\n",
       "      <td>44613867.52</td>\n",
       "      <td>2021-01-01 15:41:59.341772+00:00</td>\n",
       "      <td>2020-12-19 11:00:00+00:00</td>\n",
       "      <td>BTC-USDT</td>\n",
       "      <td>...</td>\n",
       "      <td>-23419.784968</td>\n",
       "      <td>-481.114204</td>\n",
       "      <td>23351.657913</td>\n",
       "      <td>-23832.772118</td>\n",
       "      <td>-499.006097</td>\n",
       "      <td>23351.657913</td>\n",
       "      <td>-23850.664010</td>\n",
       "      <td>0.078191</td>\n",
       "      <td>25.147763</td>\n",
       "      <td>0.071785</td>\n",
       "    </tr>\n",
       "    <tr>\n",
       "      <th>302</th>\n",
       "      <td>1608372000</td>\n",
       "      <td>23019.99</td>\n",
       "      <td>23080.45</td>\n",
       "      <td>22950.00</td>\n",
       "      <td>22973.06</td>\n",
       "      <td>2332.00</td>\n",
       "      <td>53679672.53</td>\n",
       "      <td>2021-01-01 15:41:59.341772+00:00</td>\n",
       "      <td>2020-12-19 10:00:00+00:00</td>\n",
       "      <td>BTC-USDT</td>\n",
       "      <td>...</td>\n",
       "      <td>-23358.278049</td>\n",
       "      <td>-507.744985</td>\n",
       "      <td>23285.324331</td>\n",
       "      <td>-23793.069315</td>\n",
       "      <td>-534.465556</td>\n",
       "      <td>23285.324331</td>\n",
       "      <td>-23819.789887</td>\n",
       "      <td>0.156312</td>\n",
       "      <td>25.113732</td>\n",
       "      <td>0.536527</td>\n",
       "    </tr>\n",
       "    <tr>\n",
       "      <th>303</th>\n",
       "      <td>1608368400</td>\n",
       "      <td>22973.06</td>\n",
       "      <td>23045.49</td>\n",
       "      <td>22928.05</td>\n",
       "      <td>22983.77</td>\n",
       "      <td>2229.93</td>\n",
       "      <td>51261037.96</td>\n",
       "      <td>2021-01-01 15:41:59.341772+00:00</td>\n",
       "      <td>2020-12-19 09:00:00+00:00</td>\n",
       "      <td>BTC-USDT</td>\n",
       "      <td>...</td>\n",
       "      <td>-23299.013734</td>\n",
       "      <td>-534.743054</td>\n",
       "      <td>23222.871465</td>\n",
       "      <td>-23757.614519</td>\n",
       "      <td>-569.664508</td>\n",
       "      <td>23222.871465</td>\n",
       "      <td>-23792.535973</td>\n",
       "      <td>0.134228</td>\n",
       "      <td>24.992332</td>\n",
       "      <td>0.383260</td>\n",
       "    </tr>\n",
       "    <tr>\n",
       "      <th>304</th>\n",
       "      <td>1608364800</td>\n",
       "      <td>22983.77</td>\n",
       "      <td>22990.00</td>\n",
       "      <td>22750.00</td>\n",
       "      <td>22853.75</td>\n",
       "      <td>3048.67</td>\n",
       "      <td>69730044.00</td>\n",
       "      <td>2021-01-01 15:41:59.341772+00:00</td>\n",
       "      <td>2020-12-19 08:00:00+00:00</td>\n",
       "      <td>BTC-USDT</td>\n",
       "      <td>...</td>\n",
       "      <td>-23250.514698</td>\n",
       "      <td>-558.389875</td>\n",
       "      <td>23175.051172</td>\n",
       "      <td>-23733.441047</td>\n",
       "      <td>-599.708531</td>\n",
       "      <td>23175.051172</td>\n",
       "      <td>-23774.759703</td>\n",
       "      <td>0.049367</td>\n",
       "      <td>24.905168</td>\n",
       "      <td>0.974042</td>\n",
       "    </tr>\n",
       "    <tr>\n",
       "      <th>305</th>\n",
       "      <td>1608361200</td>\n",
       "      <td>22853.75</td>\n",
       "      <td>23038.00</td>\n",
       "      <td>22832.00</td>\n",
       "      <td>22853.50</td>\n",
       "      <td>1791.21</td>\n",
       "      <td>41091629.41</td>\n",
       "      <td>2021-01-01 15:41:59.341772+00:00</td>\n",
       "      <td>2020-12-19 07:00:00+00:00</td>\n",
       "      <td>BTC-USDT</td>\n",
       "      <td>...</td>\n",
       "      <td>-23189.473975</td>\n",
       "      <td>-587.903180</td>\n",
       "      <td>23110.790937</td>\n",
       "      <td>-23698.694118</td>\n",
       "      <td>-637.041300</td>\n",
       "      <td>23110.790937</td>\n",
       "      <td>-23747.832238</td>\n",
       "      <td>0.242920</td>\n",
       "      <td>24.817013</td>\n",
       "      <td>0.105583</td>\n",
       "    </tr>\n",
       "  </tbody>\n",
       "</table>\n",
       "<p>5 rows × 99 columns</p>\n",
       "</div>"
      ],
      "text/plain": [
       "     ticker_time_sec     close      high       low      open  volume_base  \\\n",
       "301       1608375600  22888.54  23063.49  22875.01  23019.99      1942.20   \n",
       "302       1608372000  23019.99  23080.45  22950.00  22973.06      2332.00   \n",
       "303       1608368400  22973.06  23045.49  22928.05  22983.77      2229.93   \n",
       "304       1608364800  22983.77  22990.00  22750.00  22853.75      3048.67   \n",
       "305       1608361200  22853.75  23038.00  22832.00  22853.50      1791.21   \n",
       "\n",
       "          volume                         etl_time               ticker_time  \\\n",
       "301  44613867.52 2021-01-01 15:41:59.341772+00:00 2020-12-19 11:00:00+00:00   \n",
       "302  53679672.53 2021-01-01 15:41:59.341772+00:00 2020-12-19 10:00:00+00:00   \n",
       "303  51261037.96 2021-01-01 15:41:59.341772+00:00 2020-12-19 09:00:00+00:00   \n",
       "304  69730044.00 2021-01-01 15:41:59.341772+00:00 2020-12-19 08:00:00+00:00   \n",
       "305  41091629.41 2021-01-01 15:41:59.341772+00:00 2020-12-19 07:00:00+00:00   \n",
       "\n",
       "       ticker  ... MACDdiff_9_12 MACD_26_200  MACDsign_26_200  \\\n",
       "301  BTC-USDT  ... -23419.784968 -481.114204     23351.657913   \n",
       "302  BTC-USDT  ... -23358.278049 -507.744985     23285.324331   \n",
       "303  BTC-USDT  ... -23299.013734 -534.743054     23222.871465   \n",
       "304  BTC-USDT  ... -23250.514698 -558.389875     23175.051172   \n",
       "305  BTC-USDT  ... -23189.473975 -587.903180     23110.790937   \n",
       "\n",
       "     MACDdiff_26_200  MACD_20_200  MACDsign_20_200  MACDdiff_20_200      RSI_  \\\n",
       "301    -23832.772118  -499.006097     23351.657913    -23850.664010  0.078191   \n",
       "302    -23793.069315  -534.465556     23285.324331    -23819.789887  0.156312   \n",
       "303    -23757.614519  -569.664508     23222.871465    -23792.535973  0.134228   \n",
       "304    -23733.441047  -599.708531     23175.051172    -23774.759703  0.049367   \n",
       "305    -23698.694118  -637.041300     23110.790937    -23747.832238  0.242920   \n",
       "\n",
       "     Mass_Index_9_25  SO_pct_k  \n",
       "301        25.147763  0.071785  \n",
       "302        25.113732  0.536527  \n",
       "303        24.992332  0.383260  \n",
       "304        24.905168  0.974042  \n",
       "305        24.817013  0.105583  \n",
       "\n",
       "[5 rows x 99 columns]"
      ]
     },
     "execution_count": 3,
     "metadata": {},
     "output_type": "execute_result"
    }
   ],
   "source": [
    "# Drop nan values\n",
    "data.df = data.df.replace([np.inf, -np.inf], np.nan).dropna()\n",
    "print(len(data.df))\n",
    "data.df.head()"
   ]
  },
  {
   "cell_type": "markdown",
   "metadata": {},
   "source": [
    "<br>\n",
    "\n",
    "### Initialize modelRegression class"
   ]
  },
  {
   "cell_type": "code",
   "execution_count": 13,
   "metadata": {},
   "outputs": [
    {
     "name": "stdout",
     "output_type": "stream",
     "text": [
      "SUCCESS: Loaded dataObject.\n",
      "SUCCESS: Model 46712697629b95bc495fc9a83f5d4b86e2a3a82f has been loaded successfully.\n",
      "Downloaded file from GCS to: /home/jovyan/algomosaic/data/models/20210102_GradientBoostingRegressor_46712697629b95bc495fc9a83f5d4b86e2a3a82f.pickle\n",
      "Initialized model. As a next step, run self.predict() or self.train().\n"
     ]
    }
   ],
   "source": [
    "# Initialize model class\n",
    "model = modelRegression(\n",
    "    data, \n",
    "    outcome='ROR_n20',\n",
    "    model_id='46712697629b95bc495fc9a83f5d4b86e2a3a82f',\n",
    "    index_features=configs.INDEX_FEATURES, \n",
    "    omit_features=configs.OMIT_FEATURES\n",
    ")"
   ]
  },
  {
   "cell_type": "code",
   "execution_count": 14,
   "metadata": {},
   "outputs": [
    {
     "name": "stdout",
     "output_type": "stream",
     "text": [
      "Model metadata added to `self.metadata.metadata`\n",
      "Model metadata added to `self.metadata.parameters`\n",
      "Get model performance.\n",
      "Set R^2 to `self.rsquared`\n",
      "The following performance measures have been added:\n",
      "                - self.mean_abs_error\n",
      "                - self.mean_abs_outcome\n",
      "                - self.mean_abs_pct_error\n",
      "                - self.error_var\n",
      "            \n",
      "Performance metrics added to `self.performance`\n",
      "\n",
      "MODEL PERFORMANCE SUMMARY\n",
      "        - Mean Absolute Error:\t 0.03385\n",
      "        - Mean Absolute Outcome:\t 0.01991\n",
      "        - Mean Absolute Percent Error:\t 1.70031\n",
      "        - Error Variance:\t 0.00262\n",
      "        - R-Squared:\t\t -1.43567\n",
      "        \n",
      "PLOT PREDICTIONS: Use the following commandsto view model performance.\n",
      "              `self.plot_predictions_by_date(start_date, end_date)`\n",
      "              `self.plot_predictions_histogram(start_date, end_date)`\n",
      "              `self.plot_errors_by_date(start_date, end_date)`\n",
      "              `self.plot_errors_histogram(start_date, end_date)`\n",
      "              `self.plot_predictions_scatterplot(start_date, end_date)`\n",
      "              \n"
     ]
    }
   ],
   "source": [
    "# Validate model\n",
    "model.predict()\n"
   ]
  },
  {
   "cell_type": "code",
   "execution_count": 15,
   "metadata": {},
   "outputs": [
    {
     "name": "stdout",
     "output_type": "stream",
     "text": [
      "model_id: 46712697629b95bc495fc9a83f5d4b86e2a3a82f\n",
      "model_execution_id: 8f72d22fef262ab637221a504a3de6b6723385bf\n"
     ]
    }
   ],
   "source": [
    "# Model IDs\n",
    "print('model_id: ' + model.model_id)\n",
    "print('model_execution_id: ' + model.model_execution_id)\n"
   ]
  },
  {
   "cell_type": "code",
   "execution_count": null,
   "metadata": {},
   "outputs": [],
   "source": []
  },
  {
   "cell_type": "code",
   "execution_count": null,
   "metadata": {},
   "outputs": [],
   "source": []
  },
  {
   "cell_type": "markdown",
   "metadata": {},
   "source": [
    "<br>\n",
    "\n",
    "## View performance \n",
    "\n",
    "+ Trending predictions vs outcomes\n",
    "+ Histogram of predictions vs outcomes\n"
   ]
  },
  {
   "cell_type": "code",
   "execution_count": 7,
   "metadata": {},
   "outputs": [],
   "source": [
    "start_date='2020-04-01'\n",
    "end_date='2020-04-15'\n",
    "%matplotlib inline\n",
    "model_plot = modelPlots(model)"
   ]
  },
  {
   "cell_type": "code",
   "execution_count": 8,
   "metadata": {},
   "outputs": [
    {
     "name": "stdout",
     "output_type": "stream",
     "text": [
      "PLOT: Predictions by Date\n",
      "        `self.plot_predictions_by_date(start_date, end_date)`\n"
     ]
    },
    {
     "data": {
      "text/plain": [
       "<matplotlib.axes._subplots.AxesSubplot at 0x7f4ba729eb90>"
      ]
     },
     "execution_count": 8,
     "metadata": {},
     "output_type": "execute_result"
    },
    {
     "data": {
      "image/png": "[encoded data removed]",
      "text/plain": [
       "<Figure size 1440x360 with 1 Axes>"
      ]
     },
     "metadata": {
      "needs_background": "light"
     },
     "output_type": "display_data"
    }
   ],
   "source": [
    "model_plot.plot_predictions_by_date(start_date, end_date)"
   ]
  },
  {
   "cell_type": "code",
   "execution_count": 9,
   "metadata": {},
   "outputs": [
    {
     "name": "stdout",
     "output_type": "stream",
     "text": [
      "PLOT: Prediction Errors by Date`\n"
     ]
    },
    {
     "data": {
      "text/plain": [
       "<matplotlib.axes._subplots.AxesSubplot at 0x7f4ba4d6e910>"
      ]
     },
     "execution_count": 9,
     "metadata": {},
     "output_type": "execute_result"
    },
    {
     "data": {
      "image/png": "[encoded data removed]",
      "text/plain": [
       "<Figure size 1440x360 with 1 Axes>"
      ]
     },
     "metadata": {
      "needs_background": "light"
     },
     "output_type": "display_data"
    }
   ],
   "source": [
    "model_plot.plot_errors_by_date(start_date, end_date)"
   ]
  },
  {
   "cell_type": "code",
   "execution_count": 10,
   "metadata": {},
   "outputs": [
    {
     "name": "stdout",
     "output_type": "stream",
     "text": [
      "PLOT: Predictions Histogram\n"
     ]
    },
    {
     "data": {
      "text/plain": [
       "<matplotlib.axes._subplots.AxesSubplot at 0x7f4b9f9f6710>"
      ]
     },
     "execution_count": 10,
     "metadata": {},
     "output_type": "execute_result"
    },
    {
     "data": {
      "image/png": "[encoded data removed]",
      "text/plain": [
       "<Figure size 720x360 with 1 Axes>"
      ]
     },
     "metadata": {
      "needs_background": "light"
     },
     "output_type": "display_data"
    }
   ],
   "source": [
    "model_plot.plot_predictions_histogram(start_date, end_date)"
   ]
  },
  {
   "cell_type": "code",
   "execution_count": 11,
   "metadata": {},
   "outputs": [
    {
     "name": "stdout",
     "output_type": "stream",
     "text": [
      "PLOT: Predictions Histogram\n"
     ]
    },
    {
     "data": {
      "text/plain": [
       "<matplotlib.axes._subplots.AxesSubplot at 0x7f4b9f84d2d0>"
      ]
     },
     "execution_count": 11,
     "metadata": {},
     "output_type": "execute_result"
    },
    {
     "data": {
      "image/png": "[encoded data removed]",
      "text/plain": [
       "<Figure size 720x360 with 1 Axes>"
      ]
     },
     "metadata": {
      "needs_background": "light"
     },
     "output_type": "display_data"
    }
   ],
   "source": [
    "model_plot.plot_errors_histogram(start_date, end_date)\n"
   ]
  },
  {
   "cell_type": "code",
   "execution_count": 12,
   "metadata": {},
   "outputs": [
    {
     "name": "stdout",
     "output_type": "stream",
     "text": [
      "PLOT: Predictions by Date\n"
     ]
    },
    {
     "data": {
      "text/plain": [
       "<matplotlib.axes._subplots.AxesSubplot at 0x7f4b9f83e410>"
      ]
     },
     "execution_count": 12,
     "metadata": {},
     "output_type": "execute_result"
    },
    {
     "data": {
      "image/png": "[encoded data removed]",
      "text/plain": [
       "<Figure size 360x360 with 1 Axes>"
      ]
     },
     "metadata": {
      "needs_background": "light"
     },
     "output_type": "display_data"
    }
   ],
   "source": [
    "model_plot.plot_predictions_scatterplot(start_date, end_date)"
   ]
  },
  {
   "cell_type": "markdown",
   "metadata": {},
   "source": [
    "<br>\n",
    "\n",
    "### View trending features\n"
   ]
  },
  {
   "cell_type": "code",
   "execution_count": 28,
   "metadata": {},
   "outputs": [
    {
     "ename": "AttributeError",
     "evalue": "'modelPlots' object has no attribute 'plot_features'",
     "output_type": "error",
     "traceback": [
      "\u001b[0;31m---------------------------------------------------------------------------\u001b[0m",
      "\u001b[0;31mAttributeError\u001b[0m                            Traceback (most recent call last)",
      "\u001b[0;32m<ipython-input-28-aebe06cff970>\u001b[0m in \u001b[0;36m<module>\u001b[0;34m\u001b[0m\n\u001b[1;32m      5\u001b[0m \u001b[0;31m# from data_mgmt import data_mgmt as dm\u001b[0m\u001b[0;34m\u001b[0m\u001b[0;34m\u001b[0m\u001b[0;34m\u001b[0m\u001b[0m\n\u001b[1;32m      6\u001b[0m \u001b[0;34m\u001b[0m\u001b[0m\n\u001b[0;32m----> 7\u001b[0;31m model_plot.plot_features(\n\u001b[0m\u001b[1;32m      8\u001b[0m     \u001b[0mdf\u001b[0m \u001b[0;34m=\u001b[0m \u001b[0mmodel\u001b[0m\u001b[0;34m.\u001b[0m\u001b[0mdf\u001b[0m\u001b[0;34m,\u001b[0m\u001b[0;34m\u001b[0m\u001b[0;34m\u001b[0m\u001b[0m\n\u001b[1;32m      9\u001b[0m     \u001b[0mx\u001b[0m \u001b[0;34m=\u001b[0m \u001b[0;34m'ticker_time'\u001b[0m\u001b[0;34m,\u001b[0m\u001b[0;34m\u001b[0m\u001b[0;34m\u001b[0m\u001b[0m\n",
      "\u001b[0;31mAttributeError\u001b[0m: 'modelPlots' object has no attribute 'plot_features'"
     ]
    }
   ],
   "source": [
    "start_date = '2016-01-01'\n",
    "end_date = '2017-01-01'\n",
    "%matplotlib inline \n",
    "\n",
    "# from data_mgmt import data_mgmt as dm\n",
    "\n",
    "model_plot.plot_features(\n",
    "    df = model.df, \n",
    "    x = 'ticker_time', \n",
    "    y = 'ROR_n10',\n",
    "    start_date=start_date, \n",
    "    end_date=end_date\n",
    ")"
   ]
  },
  {
   "cell_type": "code",
   "execution_count": null,
   "metadata": {},
   "outputs": [],
   "source": [
    "model_plot.plot_features(df = model.df, x = 'ticker_time', y = 'ATR_7',\n",
    "    start_date=start_date, end_date=end_date, chart_type = 'line')\n",
    "\n",
    "model_plot.plot_features(df = model.df, x = 'ticker_time', y = 'EMA_20',\n",
    "    start_date=start_date, end_date=end_date, chart_type='line')\n"
   ]
  },
  {
   "cell_type": "code",
   "execution_count": null,
   "metadata": {},
   "outputs": [],
   "source": []
  },
  {
   "cell_type": "code",
   "execution_count": null,
   "metadata": {},
   "outputs": [],
   "source": []
  }
 ],
 "metadata": {
  "accelerator": "TPU",
  "colab": {
   "collapsed_sections": [
    "o8UChE6mjUOP",
    "fRG-fEws1PQW",
    "4GJa607W6ljl"
   ],
   "name": "stocks_random_forest.ipynb",
   "provenance": [],
   "version": "0.3.2"
  },
  "kernelspec": {
   "display_name": "Python 3",
   "language": "python",
   "name": "python3"
  },
  "language_info": {
   "codemirror_mode": {
    "name": "ipython",
    "version": 3
   },
   "file_extension": ".py",
   "mimetype": "text/x-python",
   "name": "python",
   "nbconvert_exporter": "python",
   "pygments_lexer": "ipython3",
   "version": "3.7.6"
  }
 },
 "nbformat": 4,
 "nbformat_minor": 4
}
