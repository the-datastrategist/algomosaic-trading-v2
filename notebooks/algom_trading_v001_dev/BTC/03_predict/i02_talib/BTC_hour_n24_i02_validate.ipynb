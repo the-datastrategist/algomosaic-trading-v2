{
 "cells": [
  {
   "cell_type": "markdown",
   "metadata": {
    "colab_type": "text",
    "id": "PUsG-grKmsJj"
   },
   "source": [
    "# Model training\n",
    "\n",
    "#### BTC-USDT for ROR_n10\n",
    "\n",
    "<br>\n",
    "\n",
    "#### Model ID | Model Execution ID pairs\n",
    "\n",
    "```\n",
    "model_id: 1a198235336cc9cd417004b752cc80ffdf7b2705\n",
    "    - n_estimators = 500\n",
    "    - max_depth = 25\n",
    "\n",
    "```\n",
    "\n",
    "\n",
    "\n",
    "#### Resources\n",
    "+ [BigQuery](https://console.cloud.google.com/bigquery?folder=&organizationId=&project=algomosaic-nyc)\n",
    "+ [Storage](https://console.cloud.google.com/storage/browser/algom-trading/models/?project=algomosaic-nyc)\n",
    "\n"
   ]
  },
  {
   "cell_type": "markdown",
   "metadata": {
    "colab_type": "text",
    "id": "HOd4wXaNlQWz"
   },
   "source": [
    "<br> \n",
    "\n",
    "#### Requirements\n"
   ]
  },
  {
   "cell_type": "code",
   "execution_count": 2,
   "metadata": {},
   "outputs": [],
   "source": [
    "import numpy as np\n",
    "from algom import configs\n",
    "from algom.utils.data_object import dataObject\n",
    "from algom.model_regression import modelRegression\n",
    "from algom.model_plots import modelPlots"
   ]
  },
  {
   "cell_type": "markdown",
   "metadata": {},
   "source": [
    "<br>\n",
    "\n",
    "### Load training data\n"
   ]
  },
  {
   "cell_type": "code",
   "execution_count": 12,
   "metadata": {},
   "outputs": [
    {
     "name": "stdout",
     "output_type": "stream",
     "text": [
      "RUNNING: Querying SQL script.\n"
     ]
    },
    {
     "name": "stderr",
     "output_type": "stream",
     "text": [
      "Downloading: 100%|██████████| 8784/8784 [00:10<00:00, 830.19rows/s]"
     ]
    },
    {
     "name": "stdout",
     "output_type": "stream",
     "text": [
      "SUCCESS: Loaded SQL query.\n"
     ]
    },
    {
     "name": "stderr",
     "output_type": "stream",
     "text": [
      "\n"
     ]
    }
   ],
   "source": [
    "# Load model data\n",
    "data = dataObject(\"\"\"\n",
    "SELECT * EXCEPT (\n",
    "  conversionType,\n",
    "  conversionSymbol,\n",
    "  partition_date,\n",
    "  ATR_, RSI_)\n",
    "FROM `algom-trading.train_features.features_BTC_USDT_hour_i02_20200101`\n",
    "WHERE \n",
    "    year = 2020\n",
    "    AND close IS NOT NULL\n",
    "\"\"\")"
   ]
  },
  {
   "cell_type": "code",
   "execution_count": 13,
   "metadata": {},
   "outputs": [
    {
     "name": "stdout",
     "output_type": "stream",
     "text": [
      "8563\n"
     ]
    },
    {
     "data": {
      "text/html": [
       "<div>\n",
       "<style scoped>\n",
       "    .dataframe tbody tr th:only-of-type {\n",
       "        vertical-align: middle;\n",
       "    }\n",
       "\n",
       "    .dataframe tbody tr th {\n",
       "        vertical-align: top;\n",
       "    }\n",
       "\n",
       "    .dataframe thead th {\n",
       "        text-align: right;\n",
       "    }\n",
       "</style>\n",
       "<table border=\"1\" class=\"dataframe\">\n",
       "  <thead>\n",
       "    <tr style=\"text-align: right;\">\n",
       "      <th></th>\n",
       "      <th>ticker_time_sec</th>\n",
       "      <th>close</th>\n",
       "      <th>high</th>\n",
       "      <th>low</th>\n",
       "      <th>open</th>\n",
       "      <th>volume_base</th>\n",
       "      <th>volume</th>\n",
       "      <th>etl_time</th>\n",
       "      <th>ticker_time</th>\n",
       "      <th>ticker</th>\n",
       "      <th>...</th>\n",
       "      <th>MACDsign_9_12</th>\n",
       "      <th>MACDdiff_9_12</th>\n",
       "      <th>MACD_26_200</th>\n",
       "      <th>MACDsign_26_200</th>\n",
       "      <th>MACDdiff_26_200</th>\n",
       "      <th>MACD_20_200</th>\n",
       "      <th>MACDsign_20_200</th>\n",
       "      <th>MACDdiff_20_200</th>\n",
       "      <th>Mass_Index_9_25</th>\n",
       "      <th>SO_pct_k</th>\n",
       "    </tr>\n",
       "  </thead>\n",
       "  <tbody>\n",
       "    <tr>\n",
       "      <th>0</th>\n",
       "      <td>1577836800</td>\n",
       "      <td>7177.02</td>\n",
       "      <td>7196.25</td>\n",
       "      <td>7175.46</td>\n",
       "      <td>7195.23</td>\n",
       "      <td>480.93</td>\n",
       "      <td>3453949.34</td>\n",
       "      <td>2021-01-05 00:01:56.919700+00:00</td>\n",
       "      <td>2020-01-01 00:00:00+00:00</td>\n",
       "      <td>BTC-USDT</td>\n",
       "      <td>...</td>\n",
       "      <td>7191.489438</td>\n",
       "      <td>-7196.469863</td>\n",
       "      <td>-43.005903</td>\n",
       "      <td>7191.489438</td>\n",
       "      <td>-7234.495341</td>\n",
       "      <td>-53.263989</td>\n",
       "      <td>7191.489438</td>\n",
       "      <td>-7244.753427</td>\n",
       "      <td>24.424669</td>\n",
       "      <td>0.075036</td>\n",
       "    </tr>\n",
       "    <tr>\n",
       "      <th>1</th>\n",
       "      <td>1577840400</td>\n",
       "      <td>7216.27</td>\n",
       "      <td>7230.00</td>\n",
       "      <td>7175.71</td>\n",
       "      <td>7177.02</td>\n",
       "      <td>836.51</td>\n",
       "      <td>6030300.92</td>\n",
       "      <td>2021-01-05 00:01:56.919700+00:00</td>\n",
       "      <td>2020-01-01 01:00:00+00:00</td>\n",
       "      <td>BTC-USDT</td>\n",
       "      <td>...</td>\n",
       "      <td>7196.445550</td>\n",
       "      <td>-7199.516038</td>\n",
       "      <td>-42.873158</td>\n",
       "      <td>7196.445550</td>\n",
       "      <td>-7239.318708</td>\n",
       "      <td>-52.251705</td>\n",
       "      <td>7196.445550</td>\n",
       "      <td>-7248.697256</td>\n",
       "      <td>24.374815</td>\n",
       "      <td>0.747099</td>\n",
       "    </tr>\n",
       "    <tr>\n",
       "      <th>2</th>\n",
       "      <td>1577844000</td>\n",
       "      <td>7242.85</td>\n",
       "      <td>7244.87</td>\n",
       "      <td>7211.41</td>\n",
       "      <td>7216.27</td>\n",
       "      <td>626.60</td>\n",
       "      <td>4530216.13</td>\n",
       "      <td>2021-01-05 00:01:56.919700+00:00</td>\n",
       "      <td>2020-01-01 02:00:00+00:00</td>\n",
       "      <td>BTC-USDT</td>\n",
       "      <td>...</td>\n",
       "      <td>7205.726440</td>\n",
       "      <td>-7206.182801</td>\n",
       "      <td>-41.015458</td>\n",
       "      <td>7205.726440</td>\n",
       "      <td>-7246.741899</td>\n",
       "      <td>-49.028477</td>\n",
       "      <td>7205.726440</td>\n",
       "      <td>-7254.754918</td>\n",
       "      <td>24.403118</td>\n",
       "      <td>0.939629</td>\n",
       "    </tr>\n",
       "    <tr>\n",
       "      <th>3</th>\n",
       "      <td>1577847600</td>\n",
       "      <td>7225.01</td>\n",
       "      <td>7245.00</td>\n",
       "      <td>7220.00</td>\n",
       "      <td>7242.85</td>\n",
       "      <td>748.76</td>\n",
       "      <td>5414508.65</td>\n",
       "      <td>2021-01-05 00:01:56.919700+00:00</td>\n",
       "      <td>2020-01-01 03:00:00+00:00</td>\n",
       "      <td>BTC-USDT</td>\n",
       "      <td>...</td>\n",
       "      <td>7209.583152</td>\n",
       "      <td>-7209.079293</td>\n",
       "      <td>-40.426219</td>\n",
       "      <td>7209.583152</td>\n",
       "      <td>-7250.009371</td>\n",
       "      <td>-47.616314</td>\n",
       "      <td>7209.583152</td>\n",
       "      <td>-7257.199466</td>\n",
       "      <td>24.367324</td>\n",
       "      <td>0.200400</td>\n",
       "    </tr>\n",
       "    <tr>\n",
       "      <th>4</th>\n",
       "      <td>1577851200</td>\n",
       "      <td>7217.27</td>\n",
       "      <td>7230.00</td>\n",
       "      <td>7215.03</td>\n",
       "      <td>7225.01</td>\n",
       "      <td>442.09</td>\n",
       "      <td>3193315.81</td>\n",
       "      <td>2021-01-05 00:01:56.919700+00:00</td>\n",
       "      <td>2020-01-01 04:00:00+00:00</td>\n",
       "      <td>BTC-USDT</td>\n",
       "      <td>...</td>\n",
       "      <td>7211.120522</td>\n",
       "      <td>-7210.339402</td>\n",
       "      <td>-40.352577</td>\n",
       "      <td>7211.120522</td>\n",
       "      <td>-7251.473099</td>\n",
       "      <td>-46.966359</td>\n",
       "      <td>7211.120522</td>\n",
       "      <td>-7258.086881</td>\n",
       "      <td>24.292316</td>\n",
       "      <td>0.149633</td>\n",
       "    </tr>\n",
       "  </tbody>\n",
       "</table>\n",
       "<p>5 rows × 101 columns</p>\n",
       "</div>"
      ],
      "text/plain": [
       "   ticker_time_sec    close     high      low     open  volume_base  \\\n",
       "0       1577836800  7177.02  7196.25  7175.46  7195.23       480.93   \n",
       "1       1577840400  7216.27  7230.00  7175.71  7177.02       836.51   \n",
       "2       1577844000  7242.85  7244.87  7211.41  7216.27       626.60   \n",
       "3       1577847600  7225.01  7245.00  7220.00  7242.85       748.76   \n",
       "4       1577851200  7217.27  7230.00  7215.03  7225.01       442.09   \n",
       "\n",
       "       volume                         etl_time               ticker_time  \\\n",
       "0  3453949.34 2021-01-05 00:01:56.919700+00:00 2020-01-01 00:00:00+00:00   \n",
       "1  6030300.92 2021-01-05 00:01:56.919700+00:00 2020-01-01 01:00:00+00:00   \n",
       "2  4530216.13 2021-01-05 00:01:56.919700+00:00 2020-01-01 02:00:00+00:00   \n",
       "3  5414508.65 2021-01-05 00:01:56.919700+00:00 2020-01-01 03:00:00+00:00   \n",
       "4  3193315.81 2021-01-05 00:01:56.919700+00:00 2020-01-01 04:00:00+00:00   \n",
       "\n",
       "     ticker  ... MACDsign_9_12 MACDdiff_9_12  MACD_26_200  MACDsign_26_200  \\\n",
       "0  BTC-USDT  ...   7191.489438  -7196.469863   -43.005903      7191.489438   \n",
       "1  BTC-USDT  ...   7196.445550  -7199.516038   -42.873158      7196.445550   \n",
       "2  BTC-USDT  ...   7205.726440  -7206.182801   -41.015458      7205.726440   \n",
       "3  BTC-USDT  ...   7209.583152  -7209.079293   -40.426219      7209.583152   \n",
       "4  BTC-USDT  ...   7211.120522  -7210.339402   -40.352577      7211.120522   \n",
       "\n",
       "   MACDdiff_26_200  MACD_20_200  MACDsign_20_200  MACDdiff_20_200  \\\n",
       "0     -7234.495341   -53.263989      7191.489438     -7244.753427   \n",
       "1     -7239.318708   -52.251705      7196.445550     -7248.697256   \n",
       "2     -7246.741899   -49.028477      7205.726440     -7254.754918   \n",
       "3     -7250.009371   -47.616314      7209.583152     -7257.199466   \n",
       "4     -7251.473099   -46.966359      7211.120522     -7258.086881   \n",
       "\n",
       "   Mass_Index_9_25  SO_pct_k  \n",
       "0        24.424669  0.075036  \n",
       "1        24.374815  0.747099  \n",
       "2        24.403118  0.939629  \n",
       "3        24.367324  0.200400  \n",
       "4        24.292316  0.149633  \n",
       "\n",
       "[5 rows x 101 columns]"
      ]
     },
     "execution_count": 13,
     "metadata": {},
     "output_type": "execute_result"
    }
   ],
   "source": [
    "# Drop nan values\n",
    "data.df = data.df.replace([np.inf, -np.inf], np.nan).dropna()\n",
    "print(len(data.df))\n",
    "data.df.head()"
   ]
  },
  {
   "cell_type": "markdown",
   "metadata": {},
   "source": [
    "<br>\n",
    "\n",
    "### Initialize modelRegression class"
   ]
  },
  {
   "cell_type": "code",
   "execution_count": 14,
   "metadata": {},
   "outputs": [
    {
     "name": "stdout",
     "output_type": "stream",
     "text": [
      "SUCCESS: Loaded dataObject.\n",
      "SUCCESS: Model 7959fdd354a37ab43d2786edc7a6b041edb9c5f5 has been loaded successfully.\n",
      "Downloaded file from GCS to: /home/jovyan/algomosaic/data/models/20210105_GradientBoostingRegressor_7959fdd354a37ab43d2786edc7a6b041edb9c5f5.pickle\n",
      "Initialized model. As a next step, run self.predict() or self.train().\n"
     ]
    }
   ],
   "source": [
    "# Initialize model class\n",
    "model = modelRegression(\n",
    "    data, \n",
    "    outcome='ROR_n24',\n",
    "    model_id='7959fdd354a37ab43d2786edc7a6b041edb9c5f5',\n",
    "    index_features=configs.INDEX_FEATURES, \n",
    "    omit_features=configs.OMIT_FEATURES\n",
    ")"
   ]
  },
  {
   "cell_type": "code",
   "execution_count": 15,
   "metadata": {},
   "outputs": [
    {
     "name": "stdout",
     "output_type": "stream",
     "text": [
      "Model metadata added to `self.metadata.metadata`\n",
      "Model metadata added to `self.metadata.parameters`\n",
      "Get model performance.\n",
      "Set R^2 to `self.rsquared`\n",
      "The following performance measures have been added:\n",
      "                - self.mean_abs_error\n",
      "                - self.mean_abs_outcome\n",
      "                - self.mean_abs_pct_error\n",
      "                - self.error_var\n",
      "            \n",
      "Performance metrics added to `self.performance`\n",
      "\n",
      "MODEL PERFORMANCE SUMMARY\n",
      "        - Mean Absolute Error:\t 0.04405\n",
      "        - Mean Absolute Outcome:\t 0.02292\n",
      "        - Mean Absolute Percent Error:\t 1.92188\n",
      "        - Error Variance:\t 0.00398\n",
      "        - R-Squared:\t\t -1.85717\n",
      "        \n",
      "PLOT PREDICTIONS: Use the following commandsto view model performance.\n",
      "              `self.plot_predictions_by_date(start_date, end_date)`\n",
      "              `self.plot_predictions_histogram(start_date, end_date)`\n",
      "              `self.plot_errors_by_date(start_date, end_date)`\n",
      "              `self.plot_errors_histogram(start_date, end_date)`\n",
      "              `self.plot_predictions_scatterplot(start_date, end_date)`\n",
      "              \n"
     ]
    }
   ],
   "source": [
    "# Validate model\n",
    "model.predict()\n"
   ]
  },
  {
   "cell_type": "code",
   "execution_count": 16,
   "metadata": {},
   "outputs": [
    {
     "name": "stdout",
     "output_type": "stream",
     "text": [
      "model_id: 7959fdd354a37ab43d2786edc7a6b041edb9c5f5\n",
      "model_execution_id: 86f889dc81f7b86b3d470535c72c1be3440150cd\n"
     ]
    }
   ],
   "source": [
    "# Model IDs\n",
    "print('model_id: ' + model.model_id)\n",
    "print('model_execution_id: ' + model.model_execution_id)\n"
   ]
  },
  {
   "cell_type": "code",
   "execution_count": null,
   "metadata": {},
   "outputs": [],
   "source": []
  },
  {
   "cell_type": "code",
   "execution_count": null,
   "metadata": {},
   "outputs": [],
   "source": []
  },
  {
   "cell_type": "markdown",
   "metadata": {},
   "source": [
    "<br>\n",
    "\n",
    "## View performance \n",
    "\n",
    "+ Trending predictions vs outcomes\n",
    "+ Histogram of predictions vs outcomes\n"
   ]
  },
  {
   "cell_type": "code",
   "execution_count": 22,
   "metadata": {},
   "outputs": [],
   "source": [
    "start_date='2020-07-01'\n",
    "end_date='2020-07-15'\n",
    "%matplotlib inline\n",
    "model_plot = modelPlots(model)"
   ]
  },
  {
   "cell_type": "code",
   "execution_count": 23,
   "metadata": {},
   "outputs": [
    {
     "name": "stdout",
     "output_type": "stream",
     "text": [
      "PLOT: Predictions by Date\n",
      "        `self.plot_predictions_by_date(start_date, end_date)`\n"
     ]
    },
    {
     "data": {
      "text/plain": [
       "<matplotlib.axes._subplots.AxesSubplot at 0x7fb71792ad10>"
      ]
     },
     "execution_count": 23,
     "metadata": {},
     "output_type": "execute_result"
    },
    {
     "data": {
      "image/png": "[encoded data removed]",
      "text/plain": [
       "<Figure size 1440x360 with 1 Axes>"
      ]
     },
     "metadata": {
      "needs_background": "light"
     },
     "output_type": "display_data"
    }
   ],
   "source": [
    "model_plot.plot_predictions_by_date(start_date, end_date)"
   ]
  },
  {
   "cell_type": "code",
   "execution_count": 24,
   "metadata": {},
   "outputs": [
    {
     "name": "stdout",
     "output_type": "stream",
     "text": [
      "PLOT: Prediction Errors by Date`\n"
     ]
    },
    {
     "data": {
      "text/plain": [
       "<matplotlib.axes._subplots.AxesSubplot at 0x7fb71c059a10>"
      ]
     },
     "execution_count": 24,
     "metadata": {},
     "output_type": "execute_result"
    },
    {
     "data": {
      "image/png": "[encoded data removed]",
      "text/plain": [
       "<Figure size 1440x360 with 1 Axes>"
      ]
     },
     "metadata": {
      "needs_background": "light"
     },
     "output_type": "display_data"
    }
   ],
   "source": [
    "model_plot.plot_errors_by_date(start_date, end_date)"
   ]
  },
  {
   "cell_type": "code",
   "execution_count": 25,
   "metadata": {},
   "outputs": [
    {
     "name": "stdout",
     "output_type": "stream",
     "text": [
      "PLOT: Predictions Histogram\n"
     ]
    },
    {
     "data": {
      "text/plain": [
       "<matplotlib.axes._subplots.AxesSubplot at 0x7fb7164dc250>"
      ]
     },
     "execution_count": 25,
     "metadata": {},
     "output_type": "execute_result"
    },
    {
     "data": {
      "image/png": "[encoded data removed]",
      "text/plain": [
       "<Figure size 720x360 with 1 Axes>"
      ]
     },
     "metadata": {
      "needs_background": "light"
     },
     "output_type": "display_data"
    }
   ],
   "source": [
    "model_plot.plot_predictions_histogram(start_date, end_date)"
   ]
  },
  {
   "cell_type": "code",
   "execution_count": 21,
   "metadata": {},
   "outputs": [
    {
     "name": "stdout",
     "output_type": "stream",
     "text": [
      "PLOT: Predictions Histogram\n"
     ]
    },
    {
     "data": {
      "text/plain": [
       "<matplotlib.axes._subplots.AxesSubplot at 0x7fb7178c5ed0>"
      ]
     },
     "execution_count": 21,
     "metadata": {},
     "output_type": "execute_result"
    },
    {
     "data": {
      "image/png": "[encoded data removed]",
      "text/plain": [
       "<Figure size 720x360 with 1 Axes>"
      ]
     },
     "metadata": {
      "needs_background": "light"
     },
     "output_type": "display_data"
    }
   ],
   "source": [
    "model_plot.plot_errors_histogram(start_date, end_date)\n"
   ]
  },
  {
   "cell_type": "code",
   "execution_count": 12,
   "metadata": {},
   "outputs": [
    {
     "name": "stdout",
     "output_type": "stream",
     "text": [
      "PLOT: Predictions by Date\n"
     ]
    },
    {
     "data": {
      "text/plain": [
       "<matplotlib.axes._subplots.AxesSubplot at 0x7fce1dcafcd0>"
      ]
     },
     "execution_count": 12,
     "metadata": {},
     "output_type": "execute_result"
    },
    {
     "data": {
      "image/png": "[encoded data removed]",
      "text/plain": [
       "<Figure size 360x360 with 1 Axes>"
      ]
     },
     "metadata": {
      "needs_background": "light"
     },
     "output_type": "display_data"
    }
   ],
   "source": [
    "model_plot.plot_predictions_scatterplot(start_date, end_date)"
   ]
  },
  {
   "cell_type": "markdown",
   "metadata": {},
   "source": [
    "<br>\n",
    "\n",
    "### View trending features\n"
   ]
  },
  {
   "cell_type": "code",
   "execution_count": 28,
   "metadata": {},
   "outputs": [
    {
     "ename": "AttributeError",
     "evalue": "'modelPlots' object has no attribute 'plot_features'",
     "output_type": "error",
     "traceback": [
      "\u001b[0;31m---------------------------------------------------------------------------\u001b[0m",
      "\u001b[0;31mAttributeError\u001b[0m                            Traceback (most recent call last)",
      "\u001b[0;32m<ipython-input-28-aebe06cff970>\u001b[0m in \u001b[0;36m<module>\u001b[0;34m\u001b[0m\n\u001b[1;32m      5\u001b[0m \u001b[0;31m# from data_mgmt import data_mgmt as dm\u001b[0m\u001b[0;34m\u001b[0m\u001b[0;34m\u001b[0m\u001b[0;34m\u001b[0m\u001b[0m\n\u001b[1;32m      6\u001b[0m \u001b[0;34m\u001b[0m\u001b[0m\n\u001b[0;32m----> 7\u001b[0;31m model_plot.plot_features(\n\u001b[0m\u001b[1;32m      8\u001b[0m     \u001b[0mdf\u001b[0m \u001b[0;34m=\u001b[0m \u001b[0mmodel\u001b[0m\u001b[0;34m.\u001b[0m\u001b[0mdf\u001b[0m\u001b[0;34m,\u001b[0m\u001b[0;34m\u001b[0m\u001b[0;34m\u001b[0m\u001b[0m\n\u001b[1;32m      9\u001b[0m     \u001b[0mx\u001b[0m \u001b[0;34m=\u001b[0m \u001b[0;34m'ticker_time'\u001b[0m\u001b[0;34m,\u001b[0m\u001b[0;34m\u001b[0m\u001b[0;34m\u001b[0m\u001b[0m\n",
      "\u001b[0;31mAttributeError\u001b[0m: 'modelPlots' object has no attribute 'plot_features'"
     ]
    }
   ],
   "source": [
    "start_date = '2016-01-01'\n",
    "end_date = '2017-01-01'\n",
    "%matplotlib inline \n",
    "\n",
    "# from data_mgmt import data_mgmt as dm\n",
    "\n",
    "model_plot.plot_features(\n",
    "    df = model.df, \n",
    "    x = 'ticker_time', \n",
    "    y = 'ROR_n10',\n",
    "    start_date=start_date, \n",
    "    end_date=end_date\n",
    ")"
   ]
  },
  {
   "cell_type": "code",
   "execution_count": null,
   "metadata": {},
   "outputs": [],
   "source": [
    "model_plot.plot_features(df = model.df, x = 'ticker_time', y = 'ATR_7',\n",
    "    start_date=start_date, end_date=end_date, chart_type = 'line')\n",
    "\n",
    "model_plot.plot_features(df = model.df, x = 'ticker_time', y = 'EMA_20',\n",
    "    start_date=start_date, end_date=end_date, chart_type='line')\n"
   ]
  },
  {
   "cell_type": "code",
   "execution_count": null,
   "metadata": {},
   "outputs": [],
   "source": []
  },
  {
   "cell_type": "code",
   "execution_count": null,
   "metadata": {},
   "outputs": [],
   "source": []
  }
 ],
 "metadata": {
  "accelerator": "TPU",
  "colab": {
   "collapsed_sections": [
    "o8UChE6mjUOP",
    "fRG-fEws1PQW",
    "4GJa607W6ljl"
   ],
   "name": "stocks_random_forest.ipynb",
   "provenance": [],
   "version": "0.3.2"
  },
  "kernelspec": {
   "display_name": "Python 3",
   "language": "python",
   "name": "python3"
  },
  "language_info": {
   "codemirror_mode": {
    "name": "ipython",
    "version": 3
   },
   "file_extension": ".py",
   "mimetype": "text/x-python",
   "name": "python",
   "nbconvert_exporter": "python",
   "pygments_lexer": "ipython3",
   "version": "3.7.6"
  }
 },
 "nbformat": 4,
 "nbformat_minor": 4
}
