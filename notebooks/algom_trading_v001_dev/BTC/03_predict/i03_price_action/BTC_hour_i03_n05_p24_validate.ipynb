{
 "cells": [
  {
   "cell_type": "markdown",
   "metadata": {
    "colab_type": "text",
    "id": "PUsG-grKmsJj"
   },
   "source": [
    "# Model training\n",
    "\n",
    "#### BTC-USDT for ROR_n5 with price action features\n",
    "\n",
    "\n",
    "<br>\n",
    "\n",
    "#### Performance by Model ID\n",
    "\n",
    "```\n",
    "model_id: e1afc23760a3c777224189577d20c93aa5e135e5\n",
    "    - n_estimates = 500\n",
    "    - max_depth = 10\n",
    "    - Mean Absolute Error: 0.00082\n",
    "    - Mean Absolute Outcome: 0.01254\n",
    "    - Mean Absolute Percent Error: 0.06553\n",
    "    - Error Variance: 1e-05\n",
    "    - R-Squared: 0.97942\n",
    "```\n",
    "\n",
    "\n",
    "<br>\n",
    "\n",
    "#### Resources\n",
    "+ [BigQuery](https://console.cloud.google.com/bigquery?folder=&organizationId=&project=algomosaic-nyc)\n",
    "+ [Storage](https://console.cloud.google.com/storage/browser/algom-trading/models/?project=algomosaic-nyc)\n",
    "\n"
   ]
  },
  {
   "cell_type": "markdown",
   "metadata": {
    "colab_type": "text",
    "id": "HOd4wXaNlQWz"
   },
   "source": [
    "<br> \n",
    "\n",
    "#### Requirements\n"
   ]
  },
  {
   "cell_type": "code",
   "execution_count": 1,
   "metadata": {},
   "outputs": [],
   "source": [
    "import numpy as np\n",
    "from algom import configs\n",
    "from algom.utils.data_object import dataObject\n",
    "from algom.model_regression import modelRegression\n",
    "from algom.model_plots import modelPlots"
   ]
  },
  {
   "cell_type": "markdown",
   "metadata": {},
   "source": [
    "<br>\n",
    "\n",
    "### Load training data\n"
   ]
  },
  {
   "cell_type": "code",
   "execution_count": null,
   "metadata": {},
   "outputs": [],
   "source": [
    "# Load model data\n",
    "data = dataObject(\"\"\"\n",
    "with\n",
    "\n",
    "ticker_data as (\n",
    "  select\n",
    "    ticker_time,\n",
    "    ticker_time_sec,\n",
    "    ticker,\n",
    "    `interval` as ticker_interval,\n",
    "    ROR_n1,\n",
    "    ROR_n5,\n",
    "    ROR_n10,\n",
    "    ROR_n20,\n",
    "    ROR_n25,\n",
    "    ROR_n30,\n",
    "    volume_base,\n",
    "    volume,\n",
    "    open as open1,\n",
    "    high as high1,\n",
    "    low as low1,\n",
    "    close as close1,\n",
    "    rank() over (partition by ticker_time order by etl_time desc) as load_rank,\n",
    "  from `algom-trading.train_features.features_BTC_USDT_hour_i02_20200101`\n",
    "  )\n",
    "\n",
    "select * except(\n",
    "  open1, high1, low1, close1, open2, high2, low2, close2, open3, high3, low3, close3, open4, high4, low4, close4, \n",
    "  open5, high5, low5, close5, open6, high6, low6, close6, open7, high7, low7, close7, open8, high8, low8, close8, \n",
    "  open9, high9, low9, close9, open10, high10, low10, close10, open11, high11, low11, close11, open12, high12, low12, close12, \n",
    "  open13, high13, low13, close13, open14, high14, low14, close14, open15, high15, low15, close15, open16, high16, low16, close16, \n",
    "  open17, high17, low17, close17, open18, high18, low18, close18, open19, high19, low19, close19, open20, high20, low20, close20, \n",
    "  open21, high21, low21, close21, open22, high22, low22, close22, open23, high23, low23, close23, open24, high24, low24, close24),\n",
    "\n",
    "  round(log(safe_divide(close1, open24)), 5) as open_close1,\n",
    "  round(log(safe_divide(high1, open24)), 5)  as open_high1,\n",
    "  round(log(safe_divide(low1, open24)), 5)   as open_low1,\n",
    "\n",
    "  round(log(safe_divide(close2, open24)), 5) as open_close2,\n",
    "  round(log(safe_divide(high2, open24)), 5)  as open_high2,\n",
    "  round(log(safe_divide(low2, open24)), 5)   as open_low2,\n",
    "\n",
    "  round(log(safe_divide(close3, open24)), 5) as open_close3,\n",
    "  round(log(safe_divide(high3, open24)), 5)  as open_high3,\n",
    "  round(log(safe_divide(low3, open24)), 5)   as open_low3,\n",
    "\n",
    "  round(log(safe_divide(close4, open24)), 5) as open_close4,\n",
    "  round(log(safe_divide(high4, open24)), 5)  as open_high4,\n",
    "  round(log(safe_divide(low4, open24)), 5)   as open_low4,\n",
    "\n",
    "  round(log(safe_divide(close5, open24)), 5) as open_close5,\n",
    "  round(log(safe_divide(high5, open24)), 5)  as open_high5,\n",
    "  round(log(safe_divide(low5, open24)), 5)   as open_low5,\n",
    "\n",
    "  round(log(safe_divide(close6, open24)), 5) as open_close6,\n",
    "  round(log(safe_divide(high6, open24)), 5)  as open_high6,\n",
    "  round(log(safe_divide(low6, open24)), 5)   as open_low6,\n",
    "\n",
    "  round(log(safe_divide(close7, open24)), 5) as open_close7,\n",
    "  round(log(safe_divide(high7, open24)), 5)  as open_high7,\n",
    "  round(log(safe_divide(low7, open24)), 5)   as open_low7,\n",
    "\n",
    "  round(log(safe_divide(close8, open24)), 5) as open_close8,\n",
    "  round(log(safe_divide(high8, open24)), 5)  as open_high8,\n",
    "  round(log(safe_divide(low8, open24)), 5)   as open_low8,\n",
    "  \n",
    "  round(log(safe_divide(close9, open24)), 5) as open_close9,\n",
    "  round(log(safe_divide(high9, open24)), 5)  as open_high9,\n",
    "  round(log(safe_divide(low9, open24)), 5)   as open_low9,\n",
    "\n",
    "  round(log(safe_divide(close10, open24)), 5) as open_close10,\n",
    "  round(log(safe_divide(high10, open24)), 5)  as open_high10,\n",
    "  round(log(safe_divide(low10, open24)), 5)   as open_low10,\n",
    "\n",
    "  round(log(safe_divide(close11, open24)), 5) as open_close11,\n",
    "  round(log(safe_divide(high11, open24)), 5)  as open_high11,\n",
    "  round(log(safe_divide(low11, open24)), 5)   as open_low11,\n",
    "\n",
    "  round(log(safe_divide(close12, open24)), 5) as open_close12,\n",
    "  round(log(safe_divide(high12, open24)), 5)  as open_high12,\n",
    "  round(log(safe_divide(low12, open24)), 5)   as open_low12,\n",
    "\n",
    "  round(log(safe_divide(close13, open24)), 5) as open_close13,\n",
    "  round(log(safe_divide(high13, open24)), 5)  as open_high13,\n",
    "  round(log(safe_divide(low13, open24)), 5)   as open_low13,\n",
    "\n",
    "  round(log(safe_divide(close14, open24)), 5) as open_close14,\n",
    "  round(log(safe_divide(high14, open24)), 5)  as open_high14,\n",
    "  round(log(safe_divide(low14, open24)), 5)   as open_low14,\n",
    "\n",
    "  round(log(safe_divide(close15, open24)), 5) as open_close15,\n",
    "  round(log(safe_divide(high15, open24)), 5)  as open_high15,\n",
    "  round(log(safe_divide(low15, open24)), 5)   as open_low15,\n",
    "\n",
    "  round(log(safe_divide(close16, open24)), 5) as open_close16,\n",
    "  round(log(safe_divide(high16, open24)), 5)  as open_high16,\n",
    "  round(log(safe_divide(low16, open24)), 5)   as open_low16,\n",
    "\n",
    "  round(log(safe_divide(close17, open24)), 5) as open_close17,\n",
    "  round(log(safe_divide(high17, open24)), 5)  as open_high17,\n",
    "  round(log(safe_divide(low17, open24)), 5)   as open_low17,\n",
    "\n",
    "  round(log(safe_divide(close18, open24)), 5) as open_close18,\n",
    "  round(log(safe_divide(high18, open24)), 5)  as open_high18,\n",
    "  round(log(safe_divide(low18, open24)), 5)   as open_low18,\n",
    "\n",
    "  round(log(safe_divide(close19, open24)), 5) as open_close19,\n",
    "  round(log(safe_divide(high19, open24)), 5)  as open_high19,\n",
    "  round(log(safe_divide(low19, open24)), 5)   as open_low19,\n",
    "\n",
    "  round(log(safe_divide(close20, open24)), 5) as open_close20,\n",
    "  round(log(safe_divide(high20, open24)), 5)  as open_high20,\n",
    "  round(log(safe_divide(low20, open24)), 5)   as open_low20,\n",
    "\n",
    "  round(log(safe_divide(close21, open24)), 5) as open_close21,\n",
    "  round(log(safe_divide(high21, open24)), 5)  as open_high21,\n",
    "  round(log(safe_divide(low21, open24)), 5)   as open_low21,\n",
    "\n",
    "  round(log(safe_divide(close22, open24)), 5) as open_close22,\n",
    "  round(log(safe_divide(high22, open24)), 5)  as open_high22,\n",
    "  round(log(safe_divide(low22, open24)), 5)   as open_low22,\n",
    "\n",
    "  round(log(safe_divide(close23, open24)), 5) as open_close23,\n",
    "  round(log(safe_divide(high23, open24)), 5)  as open_high23,\n",
    "  round(log(safe_divide(low23, open24)), 5)   as open_low23,\n",
    "\n",
    "  round(log(safe_divide(close24, open24)), 5) as open_close24,\n",
    "  round(log(safe_divide(high24, open24)), 5)  as open_high24,\n",
    "  round(log(safe_divide(low24, open24)), 5)   as open_low24,\n",
    "\n",
    "from (\n",
    "    select * except(load_rank),\n",
    "\n",
    "    lag(open1) over (order by ticker_time)  as open2,\n",
    "    lag(high1) over (order by ticker_time)  as high2,\n",
    "    lag(low1) over (order by ticker_time)   as low2,\n",
    "    lag(close1) over (order by ticker_time) as close2,\n",
    "\n",
    "    lag(open1, 2) over (order by ticker_time)  as open3,\n",
    "    lag(high1, 2) over (order by ticker_time)  as high3,\n",
    "    lag(low1, 2) over (order by ticker_time)   as low3,\n",
    "    lag(close1, 2) over (order by ticker_time) as close3,\n",
    "\n",
    "    lag(open1, 3) over (order by ticker_time)  as open4,\n",
    "    lag(high1, 3) over (order by ticker_time)  as high4,\n",
    "    lag(low1, 3) over (order by ticker_time)   as low4,\n",
    "    lag(close1, 3) over (order by ticker_time) as close4,\n",
    "\n",
    "    lag(open1, 4) over (order by ticker_time)  as open5,\n",
    "    lag(high1, 4) over (order by ticker_time)  as high5,\n",
    "    lag(low1, 4) over (order by ticker_time)   as low5,\n",
    "    lag(close1, 4) over (order by ticker_time) as close5,\n",
    "\n",
    "    lag(open1, 5) over (order by ticker_time)  as open6,\n",
    "    lag(high1, 5) over (order by ticker_time)  as high6,\n",
    "    lag(low1, 5) over (order by ticker_time)   as low6,\n",
    "    lag(close1, 5) over (order by ticker_time) as close6,\n",
    "\n",
    "    lag(open1, 6) over (order by ticker_time)  as open7,\n",
    "    lag(high1, 6) over (order by ticker_time)  as high7,\n",
    "    lag(low1, 6) over (order by ticker_time)   as low7,\n",
    "    lag(close1, 6) over (order by ticker_time) as close7,\n",
    "\n",
    "    lag(open1, 7) over (order by ticker_time)  as open8,\n",
    "    lag(high1, 7) over (order by ticker_time)  as high8,\n",
    "    lag(low1, 7) over (order by ticker_time)   as low8,\n",
    "    lag(close1, 7) over (order by ticker_time) as close8,\n",
    "\n",
    "    lag(open1, 8) over (order by ticker_time)  as open9,\n",
    "    lag(high1, 8) over (order by ticker_time)  as high9,\n",
    "    lag(low1, 8) over (order by ticker_time)   as low9,\n",
    "    lag(close1, 8) over (order by ticker_time) as close9,\n",
    "\n",
    "    lag(open1, 9) over (order by ticker_time)  as open10,\n",
    "    lag(high1, 9) over (order by ticker_time)  as high10,\n",
    "    lag(low1, 9) over (order by ticker_time)   as low10,\n",
    "    lag(close1, 9) over (order by ticker_time) as close10,\n",
    "\n",
    "    lag(open1, 10) over (order by ticker_time)  as open11,\n",
    "    lag(high1, 10) over (order by ticker_time)  as high11,\n",
    "    lag(low1, 10) over (order by ticker_time)   as low11,\n",
    "    lag(close1, 10) over (order by ticker_time) as close11,\n",
    "\n",
    "    lag(open1, 11) over (order by ticker_time)  as open12,\n",
    "    lag(high1, 11) over (order by ticker_time)  as high12,\n",
    "    lag(low1, 11) over (order by ticker_time)   as low12,\n",
    "    lag(close1, 11) over (order by ticker_time) as close12,\n",
    "\n",
    "    lag(open1, 12) over (order by ticker_time)  as open13,\n",
    "    lag(high1, 12) over (order by ticker_time)  as high13,\n",
    "    lag(low1, 12) over (order by ticker_time)   as low13,\n",
    "    lag(close1, 12) over (order by ticker_time) as close13,\n",
    "\n",
    "    lag(open1, 13) over (order by ticker_time)  as open14,\n",
    "    lag(high1, 13) over (order by ticker_time)  as high14,\n",
    "    lag(low1, 13) over (order by ticker_time)   as low14,\n",
    "    lag(close1, 13) over (order by ticker_time) as close14,\n",
    "\n",
    "    lag(open1, 14) over (order by ticker_time)  as open15,\n",
    "    lag(high1, 14) over (order by ticker_time)  as high15,\n",
    "    lag(low1, 14) over (order by ticker_time)   as low15,\n",
    "    lag(close1, 14) over (order by ticker_time) as close15,\n",
    "\n",
    "    lag(open1, 15) over (order by ticker_time)  as open16,\n",
    "    lag(high1, 15) over (order by ticker_time)  as high16,\n",
    "    lag(low1, 15) over (order by ticker_time)   as low16,\n",
    "    lag(close1, 15) over (order by ticker_time) as close16,\n",
    "\n",
    "    lag(open1, 16) over (order by ticker_time)  as open17,\n",
    "    lag(high1, 16) over (order by ticker_time)  as high17,\n",
    "    lag(low1, 16) over (order by ticker_time)   as low17,\n",
    "    lag(close1, 16) over (order by ticker_time) as close17,\n",
    "\n",
    "    lag(open1, 17) over (order by ticker_time)  as open18,\n",
    "    lag(high1, 17) over (order by ticker_time)  as high18,\n",
    "    lag(low1, 17) over (order by ticker_time)   as low18,\n",
    "    lag(close1, 17) over (order by ticker_time) as close18,\n",
    "\n",
    "    lag(open1, 18) over (order by ticker_time)  as open19,\n",
    "    lag(high1, 18) over (order by ticker_time)  as high19,\n",
    "    lag(low1, 18) over (order by ticker_time)   as low19,\n",
    "    lag(close1, 18) over (order by ticker_time) as close19,\n",
    "\n",
    "    lag(open1, 19) over (order by ticker_time)  as open20,\n",
    "    lag(high1, 19) over (order by ticker_time)  as high20,\n",
    "    lag(low1, 19) over (order by ticker_time)   as low20,\n",
    "    lag(close1, 19) over (order by ticker_time) as close20,\n",
    "\n",
    "    lag(open1, 20) over (order by ticker_time)  as open21,\n",
    "    lag(high1, 20) over (order by ticker_time)  as high21,\n",
    "    lag(low1, 20) over (order by ticker_time)   as low21,\n",
    "    lag(close1, 20) over (order by ticker_time) as close21,\n",
    "\n",
    "    lag(open1, 21) over (order by ticker_time)  as open22,\n",
    "    lag(high1, 21) over (order by ticker_time)  as high22,\n",
    "    lag(low1, 21) over (order by ticker_time)   as low22,\n",
    "    lag(close1, 21) over (order by ticker_time) as close22,\n",
    "\n",
    "    lag(open1, 22) over (order by ticker_time)  as open23,\n",
    "    lag(high1, 22) over (order by ticker_time)  as high23,\n",
    "    lag(low1, 22) over (order by ticker_time)   as low23,\n",
    "    lag(close1, 22) over (order by ticker_time) as close23,\n",
    "\n",
    "    lag(open1, 23) over (order by ticker_time)  as open24,\n",
    "    lag(high1, 23) over (order by ticker_time)  as high24,\n",
    "    lag(low1, 23) over (order by ticker_time)   as low24,\n",
    "    lag(close1, 23) over (order by ticker_time) as close24,\n",
    "\n",
    "    from ticker_data\n",
    "    where load_rank = 1\n",
    "    )\n",
    "where\n",
    "  close12 is not null\n",
    "  and ROR_n30 is not null\n",
    "order by ticker_time\n",
    "\"\"\")"
   ]
  },
  {
   "cell_type": "code",
   "execution_count": null,
   "metadata": {},
   "outputs": [],
   "source": [
    "# Drop nan values\n",
    "data.df = data.df.replace([np.inf, -np.inf], np.nan).dropna()\n",
    "print(len(data.df))\n",
    "data.df.head()"
   ]
  },
  {
   "cell_type": "markdown",
   "metadata": {},
   "source": [
    "<br>\n",
    "\n",
    "### Initialize modelRegression class"
   ]
  },
  {
   "cell_type": "code",
   "execution_count": 4,
   "metadata": {},
   "outputs": [
    {
     "name": "stdout",
     "output_type": "stream",
     "text": [
      "SUCCESS: Loaded dataObject.\n",
      "SUCCESS: Model e1afc23760a3c777224189577d20c93aa5e135e5 has been loaded successfully.\n",
      "Downloaded file from GCS to: /home/jovyan/algomosaic/data/models/20210102_GradientBoostingRegressor_e1afc23760a3c777224189577d20c93aa5e135e5.pickle\n",
      "Initialized model. As a next step, run self.predict() or self.train().\n"
     ]
    }
   ],
   "source": [
    "# Initialize model class\n",
    "model = modelRegression(\n",
    "    data, \n",
    "    outcome='ROR_n5',\n",
    "    model_id='e1afc23760a3c777224189577d20c93aa5e135e5',\n",
    "    index_features=configs.INDEX_FEATURES, \n",
    "    omit_features=configs.OMIT_FEATURES\n",
    ")"
   ]
  },
  {
   "cell_type": "code",
   "execution_count": 5,
   "metadata": {},
   "outputs": [],
   "source": [
    "# len(model.feature_list)\n",
    "# list(model.feature_list)"
   ]
  },
  {
   "cell_type": "code",
   "execution_count": 6,
   "metadata": {},
   "outputs": [
    {
     "name": "stdout",
     "output_type": "stream",
     "text": [
      "Model metadata added to `self.metadata.metadata`\n",
      "Model metadata added to `self.metadata.parameters`\n",
      "Get model performance.\n",
      "Set R^2 to `self.rsquared`\n",
      "The following performance measures have been added:\n",
      "                - self.mean_abs_error\n",
      "                - self.mean_abs_outcome\n",
      "                - self.mean_abs_pct_error\n",
      "                - self.error_var\n",
      "            \n",
      "Performance metrics added to `self.performance`\n",
      "\n",
      "MODEL PERFORMANCE SUMMARY\n",
      "        - Mean Absolute Error:\t 0.00073\n",
      "        - Mean Absolute Outcome:\t 0.00941\n",
      "        - Mean Absolute Percent Error:\t 0.07748\n",
      "        - Error Variance:\t 4e-05\n",
      "        - R-Squared:\t\t 0.83869\n",
      "        \n",
      "PLOT PREDICTIONS: Use the following commandsto view model performance.\n",
      "              `self.plot_predictions_by_date(start_date, end_date)`\n",
      "              `self.plot_predictions_histogram(start_date, end_date)`\n",
      "              `self.plot_errors_by_date(start_date, end_date)`\n",
      "              `self.plot_errors_histogram(start_date, end_date)`\n",
      "              `self.plot_predictions_scatterplot(start_date, end_date)`\n",
      "              \n"
     ]
    }
   ],
   "source": [
    "# Train model\n",
    "model.predict()\n"
   ]
  },
  {
   "cell_type": "code",
   "execution_count": 7,
   "metadata": {},
   "outputs": [
    {
     "name": "stdout",
     "output_type": "stream",
     "text": [
      "model_id: e1afc23760a3c777224189577d20c93aa5e135e5\n",
      "model_execution_id: 487dc05ab2ab3052b414fb7dc3c2594cd15550fb\n"
     ]
    }
   ],
   "source": [
    "# Model IDs\n",
    "print('model_id: ' + model.model_id)\n",
    "print('model_execution_id: ' + model.model_execution_id)"
   ]
  },
  {
   "cell_type": "code",
   "execution_count": null,
   "metadata": {},
   "outputs": [],
   "source": []
  },
  {
   "cell_type": "markdown",
   "metadata": {},
   "source": [
    "<br><br>\n",
    "\n",
    "## View performance \n",
    "\n",
    "+ Trending predictions vs outcomes\n",
    "+ Histogram of predictions vs outcomes\n"
   ]
  },
  {
   "cell_type": "code",
   "execution_count": 18,
   "metadata": {},
   "outputs": [],
   "source": [
    "start_date='2020-05-01'\n",
    "end_date='2020-06-01'\n",
    "%matplotlib inline\n",
    "model_plot = modelPlots(model)"
   ]
  },
  {
   "cell_type": "code",
   "execution_count": 19,
   "metadata": {},
   "outputs": [
    {
     "name": "stdout",
     "output_type": "stream",
     "text": [
      "PLOT: Predictions by Date\n",
      "        `self.plot_predictions_by_date(start_date, end_date)`\n"
     ]
    },
    {
     "data": {
      "text/plain": [
       "<matplotlib.axes._subplots.AxesSubplot at 0x7fdbed204e90>"
      ]
     },
     "execution_count": 19,
     "metadata": {},
     "output_type": "execute_result"
    },
    {
     "data": {
      "image/png": "[encoded data removed]",
      "text/plain": [
       "<Figure size 1440x360 with 1 Axes>"
      ]
     },
     "metadata": {
      "needs_background": "light"
     },
     "output_type": "display_data"
    }
   ],
   "source": [
    "model_plot.plot_predictions_by_date(start_date, end_date)"
   ]
  },
  {
   "cell_type": "code",
   "execution_count": 20,
   "metadata": {},
   "outputs": [
    {
     "name": "stdout",
     "output_type": "stream",
     "text": [
      "PLOT: Prediction Errors by Date`\n"
     ]
    },
    {
     "data": {
      "text/plain": [
       "<matplotlib.axes._subplots.AxesSubplot at 0x7fdbdf81c990>"
      ]
     },
     "execution_count": 20,
     "metadata": {},
     "output_type": "execute_result"
    },
    {
     "data": {
      "image/png": "[encoded data removed]",
      "text/plain": [
       "<Figure size 1440x360 with 1 Axes>"
      ]
     },
     "metadata": {
      "needs_background": "light"
     },
     "output_type": "display_data"
    }
   ],
   "source": [
    "model_plot.plot_errors_by_date(start_date, end_date)"
   ]
  },
  {
   "cell_type": "code",
   "execution_count": 21,
   "metadata": {},
   "outputs": [
    {
     "name": "stdout",
     "output_type": "stream",
     "text": [
      "PLOT: Predictions Histogram\n"
     ]
    },
    {
     "data": {
      "text/plain": [
       "<matplotlib.axes._subplots.AxesSubplot at 0x7fdbde6740d0>"
      ]
     },
     "execution_count": 21,
     "metadata": {},
     "output_type": "execute_result"
    },
    {
     "data": {
      "image/png": "[encoded data removed]",
      "text/plain": [
       "<Figure size 720x360 with 1 Axes>"
      ]
     },
     "metadata": {
      "needs_background": "light"
     },
     "output_type": "display_data"
    }
   ],
   "source": [
    "model_plot.plot_predictions_histogram(start_date, end_date)"
   ]
  },
  {
   "cell_type": "code",
   "execution_count": 22,
   "metadata": {},
   "outputs": [
    {
     "name": "stdout",
     "output_type": "stream",
     "text": [
      "PLOT: Predictions Histogram\n"
     ]
    },
    {
     "data": {
      "text/plain": [
       "<matplotlib.axes._subplots.AxesSubplot at 0x7fdbde5bd6d0>"
      ]
     },
     "execution_count": 22,
     "metadata": {},
     "output_type": "execute_result"
    },
    {
     "data": {
      "image/png": "[encoded data removed]",
      "text/plain": [
       "<Figure size 720x360 with 1 Axes>"
      ]
     },
     "metadata": {
      "needs_background": "light"
     },
     "output_type": "display_data"
    }
   ],
   "source": [
    "model_plot.plot_errors_histogram(start_date, end_date)"
   ]
  },
  {
   "cell_type": "code",
   "execution_count": 23,
   "metadata": {},
   "outputs": [
    {
     "name": "stdout",
     "output_type": "stream",
     "text": [
      "PLOT: Predictions by Date\n"
     ]
    },
    {
     "data": {
      "text/plain": [
       "<matplotlib.axes._subplots.AxesSubplot at 0x7fdbde535b50>"
      ]
     },
     "execution_count": 23,
     "metadata": {},
     "output_type": "execute_result"
    },
    {
     "data": {
      "image/png": "[encoded data removed]",
      "text/plain": [
       "<Figure size 360x360 with 1 Axes>"
      ]
     },
     "metadata": {
      "needs_background": "light"
     },
     "output_type": "display_data"
    }
   ],
   "source": [
    "model_plot.plot_predictions_scatterplot(start_date, end_date)"
   ]
  },
  {
   "cell_type": "code",
   "execution_count": null,
   "metadata": {},
   "outputs": [],
   "source": []
  }
 ],
 "metadata": {
  "accelerator": "TPU",
  "colab": {
   "collapsed_sections": [
    "o8UChE6mjUOP",
    "fRG-fEws1PQW",
    "4GJa607W6ljl"
   ],
   "name": "stocks_random_forest.ipynb",
   "provenance": [],
   "version": "0.3.2"
  },
  "kernelspec": {
   "display_name": "Python 3",
   "language": "python",
   "name": "python3"
  },
  "language_info": {
   "codemirror_mode": {
    "name": "ipython",
    "version": 3
   },
   "file_extension": ".py",
   "mimetype": "text/x-python",
   "name": "python",
   "nbconvert_exporter": "python",
   "pygments_lexer": "ipython3",
   "version": "3.7.6"
  }
 },
 "nbformat": 4,
 "nbformat_minor": 4
}
