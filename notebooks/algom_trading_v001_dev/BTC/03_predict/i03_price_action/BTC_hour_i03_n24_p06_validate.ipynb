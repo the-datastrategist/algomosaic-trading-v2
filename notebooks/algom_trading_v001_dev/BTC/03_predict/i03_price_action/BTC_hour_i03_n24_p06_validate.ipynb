{
 "cells": [
  {
   "cell_type": "markdown",
   "metadata": {
    "colab_type": "text",
    "id": "PUsG-grKmsJj"
   },
   "source": [
    "# Model training\n",
    "\n",
    "#### BTC-USDT for ROR_n24 with price action features\n",
    "\n",
    "\n",
    "<br>\n",
    "\n",
    "#### Performance by Model ID\n",
    "\n",
    "```\n",
    "model_id: 7764ba619949bad96eae8f48cc4f0cc673af7bee\n",
    "    - n_estimates = 100\n",
    "    - max_depth = 10\n",
    "    - Mean Absolute Error:\t 0.02534\n",
    "    - Mean Absolute Outcome:\t 0.02999\n",
    "    - Mean Absolute Percent Error:\t 0.84501\n",
    "    - Error Variance:\t 0.00142\n",
    "    - R-Squared:\t\t 0.27244\n",
    "\n",
    "```\n",
    "\n",
    "\n",
    "```\n",
    "model_id: 286c8f533ecdc2563101afbcb5b49e33c1103266\n",
    "    - max_depth=20\n",
    "    - Mean Absolute Error:\t 0.02554\n",
    "    - Mean Absolute Outcome:\t 0.02999\n",
    "    - Mean Absolute Percent Error:\t 0.85149\n",
    "    - Error Variance:\t 0.00147\n",
    "    - R-Squared:\t\t 0.24567\n",
    "```\n",
    "\n",
    "\n",
    "```\n",
    "model_id: b23eb573457cf3a715cf9cb79455d9b0e86fb50a\n",
    "    - max_depth = 30\n",
    "    - Mean Absolute Error:\t 0.0257\n",
    "    - Mean Absolute Outcome:\t 0.02999\n",
    "    - Mean Absolute Percent Error:\t 0.85714\n",
    "    - Error Variance:\t 0.00148\n",
    "    - R-Squared:\t\t 0.24101\n",
    "```\n",
    "\n",
    "<br>\n",
    "\n",
    "#### Resources\n",
    "+ [BigQuery](https://console.cloud.google.com/bigquery?folder=&organizationId=&project=algomosaic-nyc)\n",
    "+ [Storage](https://console.cloud.google.com/storage/browser/algom-trading/models/?project=algomosaic-nyc)\n",
    "\n"
   ]
  },
  {
   "cell_type": "markdown",
   "metadata": {
    "colab_type": "text",
    "id": "HOd4wXaNlQWz"
   },
   "source": [
    "<br> \n",
    "\n",
    "#### Requirements\n"
   ]
  },
  {
   "cell_type": "code",
   "execution_count": 29,
   "metadata": {},
   "outputs": [],
   "source": [
    "import numpy as np\n",
    "from algom import configs\n",
    "from algom.utils.data_object import dataObject\n",
    "from algom.model_regression import modelRegression\n",
    "from algom.model_plots import modelPlots"
   ]
  },
  {
   "cell_type": "markdown",
   "metadata": {},
   "source": [
    "<br>\n",
    "\n",
    "### Load training data\n"
   ]
  },
  {
   "cell_type": "code",
   "execution_count": 30,
   "metadata": {},
   "outputs": [
    {
     "name": "stdout",
     "output_type": "stream",
     "text": [
      "RUNNING: Querying SQL script.\n"
     ]
    },
    {
     "name": "stderr",
     "output_type": "stream",
     "text": [
      "Downloading: 100%|██████████| 8604/8604 [00:05<00:00, 1687.72rows/s]"
     ]
    },
    {
     "name": "stdout",
     "output_type": "stream",
     "text": [
      "SUCCESS: Loaded SQL query.\n"
     ]
    },
    {
     "name": "stderr",
     "output_type": "stream",
     "text": [
      "\n"
     ]
    }
   ],
   "source": [
    "# Load model data\n",
    "data = dataObject(\"\"\"\n",
    "with\n",
    "\n",
    "ticker_data as (\n",
    "  select\n",
    "    ticker_time,\n",
    "    ticker_time_sec,\n",
    "    ticker,\n",
    "    `interval` as ticker_interval,\n",
    "    ROR_n6,\n",
    "    ROR_n12,\n",
    "    ROR_n24,\n",
    "    ROR_n48,\n",
    "    ROR_n72,\n",
    "    ROR_n96,\n",
    "    ROR_n120,\n",
    "    ROR_n144,\n",
    "    ROR_n168,\n",
    "    volume_base,\n",
    "    volume,\n",
    "    open as open1,\n",
    "    high as high1,\n",
    "    low as low1,\n",
    "    close as close1,\n",
    "    rank() over (partition by ticker_time order by etl_time desc) as load_rank,\n",
    "  from `algom-trading.cryptocompare.features_BTC_USD_hour_2020`\n",
    "  )\n",
    "\n",
    "select *,\n",
    "  round(log(safe_divide(close1, open6)), 5) as open_close1,\n",
    "  round(log(safe_divide(high1, open6)), 5)  as open_high1,\n",
    "  round(log(safe_divide(low1, open6)), 5)   as open_low1,\n",
    "\n",
    "  round(log(safe_divide(close2, open6)), 5) as open_close2,\n",
    "  round(log(safe_divide(high2, open6)), 5)  as open_high2,\n",
    "  round(log(safe_divide(low2, open6)), 5)   as open_low2,\n",
    "\n",
    "  round(log(safe_divide(close3, open6)), 5) as open_close3,\n",
    "  round(log(safe_divide(high3, open6)), 5)  as open_high3,\n",
    "  round(log(safe_divide(low3, open6)), 5)   as open_low3,\n",
    "\n",
    "  round(log(safe_divide(close4, open6)), 5) as open_close4,\n",
    "  round(log(safe_divide(high4, open6)), 5)  as open_high4,\n",
    "  round(log(safe_divide(low4, open6)), 5)   as open_low4,\n",
    "\n",
    "  round(log(safe_divide(close5, open6)), 5) as open_close5,\n",
    "  round(log(safe_divide(high5, open6)), 5)  as open_high5,\n",
    "  round(log(safe_divide(low5, open6)), 5)   as open_low5,\n",
    "\n",
    "  round(log(safe_divide(close6, open6)), 5) as open_close6,\n",
    "  round(log(safe_divide(high6, open6)), 5)  as open_high6,\n",
    "  round(log(safe_divide(low6, open6)), 5)   as open_low6,\n",
    "\n",
    "from (\n",
    "    select * except(load_rank),\n",
    "\n",
    "    lag(open1) over (order by ticker_time)  as open2,\n",
    "    lag(high1) over (order by ticker_time)  as high2,\n",
    "    lag(low1) over (order by ticker_time)   as low2,\n",
    "    lag(close1) over (order by ticker_time) as close2,\n",
    "\n",
    "    lag(open1, 2) over (order by ticker_time)  as open3,\n",
    "    lag(high1, 2) over (order by ticker_time)  as high3,\n",
    "    lag(low1, 2) over (order by ticker_time)   as low3,\n",
    "    lag(close1, 2) over (order by ticker_time) as close3,\n",
    "\n",
    "    lag(open1, 3) over (order by ticker_time)  as open4,\n",
    "    lag(high1, 3) over (order by ticker_time)  as high4,\n",
    "    lag(low1, 3) over (order by ticker_time)   as low4,\n",
    "    lag(close1, 3) over (order by ticker_time) as close4,\n",
    "\n",
    "    lag(open1, 4) over (order by ticker_time)  as open5,\n",
    "    lag(high1, 4) over (order by ticker_time)  as high5,\n",
    "    lag(low1, 4) over (order by ticker_time)   as low5,\n",
    "    lag(close1, 4) over (order by ticker_time) as close5,\n",
    "\n",
    "    lag(open1, 5) over (order by ticker_time)  as open6,\n",
    "    lag(high1, 5) over (order by ticker_time)  as high6,\n",
    "    lag(low1, 5) over (order by ticker_time)   as low6,\n",
    "    lag(close1, 5) over (order by ticker_time) as close6,\n",
    "\n",
    "    from ticker_data\n",
    "    where load_rank = 1\n",
    "    )\n",
    "where close6 is not null\n",
    "order by ticker_time\n",
    "\"\"\")\n"
   ]
  },
  {
   "cell_type": "code",
   "execution_count": 31,
   "metadata": {},
   "outputs": [
    {
     "name": "stdout",
     "output_type": "stream",
     "text": [
      "8441\n"
     ]
    },
    {
     "data": {
      "text/html": [
       "<div>\n",
       "<style scoped>\n",
       "    .dataframe tbody tr th:only-of-type {\n",
       "        vertical-align: middle;\n",
       "    }\n",
       "\n",
       "    .dataframe tbody tr th {\n",
       "        vertical-align: top;\n",
       "    }\n",
       "\n",
       "    .dataframe thead th {\n",
       "        text-align: right;\n",
       "    }\n",
       "</style>\n",
       "<table border=\"1\" class=\"dataframe\">\n",
       "  <thead>\n",
       "    <tr style=\"text-align: right;\">\n",
       "      <th></th>\n",
       "      <th>ticker_time</th>\n",
       "      <th>ticker_time_sec</th>\n",
       "      <th>ticker</th>\n",
       "      <th>ticker_interval</th>\n",
       "      <th>ROR_n6</th>\n",
       "      <th>ROR_n12</th>\n",
       "      <th>ROR_n24</th>\n",
       "      <th>ROR_n48</th>\n",
       "      <th>ROR_n72</th>\n",
       "      <th>ROR_n96</th>\n",
       "      <th>...</th>\n",
       "      <th>open_low3</th>\n",
       "      <th>open_close4</th>\n",
       "      <th>open_high4</th>\n",
       "      <th>open_low4</th>\n",
       "      <th>open_close5</th>\n",
       "      <th>open_high5</th>\n",
       "      <th>open_low5</th>\n",
       "      <th>open_close6</th>\n",
       "      <th>open_high6</th>\n",
       "      <th>open_low6</th>\n",
       "    </tr>\n",
       "  </thead>\n",
       "  <tbody>\n",
       "    <tr>\n",
       "      <th>163</th>\n",
       "      <td>2019-11-18 08:00:00+00:00</td>\n",
       "      <td>1574064000</td>\n",
       "      <td>BTC-USD</td>\n",
       "      <td>hour</td>\n",
       "      <td>0.002803</td>\n",
       "      <td>-0.007048</td>\n",
       "      <td>-0.010658</td>\n",
       "      <td>-0.001109</td>\n",
       "      <td>-0.016153</td>\n",
       "      <td>-0.013862</td>\n",
       "      <td>...</td>\n",
       "      <td>-0.00124</td>\n",
       "      <td>0.00390</td>\n",
       "      <td>0.00498</td>\n",
       "      <td>0.00207</td>\n",
       "      <td>0.00262</td>\n",
       "      <td>0.00550</td>\n",
       "      <td>0.00188</td>\n",
       "      <td>0.00353</td>\n",
       "      <td>0.00393</td>\n",
       "      <td>-0.00257</td>\n",
       "    </tr>\n",
       "    <tr>\n",
       "      <th>164</th>\n",
       "      <td>2019-11-18 09:00:00+00:00</td>\n",
       "      <td>1574067600</td>\n",
       "      <td>BTC-USD</td>\n",
       "      <td>hour</td>\n",
       "      <td>-0.000504</td>\n",
       "      <td>-0.008857</td>\n",
       "      <td>-0.007972</td>\n",
       "      <td>-0.002562</td>\n",
       "      <td>-0.013127</td>\n",
       "      <td>-0.016154</td>\n",
       "      <td>...</td>\n",
       "      <td>-0.00674</td>\n",
       "      <td>-0.00347</td>\n",
       "      <td>0.00185</td>\n",
       "      <td>-0.00477</td>\n",
       "      <td>0.00037</td>\n",
       "      <td>0.00145</td>\n",
       "      <td>-0.00146</td>\n",
       "      <td>-0.00091</td>\n",
       "      <td>0.00197</td>\n",
       "      <td>-0.00165</td>\n",
       "    </tr>\n",
       "    <tr>\n",
       "      <th>165</th>\n",
       "      <td>2019-11-18 10:00:00+00:00</td>\n",
       "      <td>1574071200</td>\n",
       "      <td>BTC-USD</td>\n",
       "      <td>hour</td>\n",
       "      <td>-0.000784</td>\n",
       "      <td>-0.008691</td>\n",
       "      <td>-0.007902</td>\n",
       "      <td>-0.000164</td>\n",
       "      <td>-0.019610</td>\n",
       "      <td>-0.016775</td>\n",
       "      <td>...</td>\n",
       "      <td>-0.00406</td>\n",
       "      <td>-0.00307</td>\n",
       "      <td>-0.00001</td>\n",
       "      <td>-0.00583</td>\n",
       "      <td>-0.00257</td>\n",
       "      <td>0.00276</td>\n",
       "      <td>-0.00387</td>\n",
       "      <td>0.00127</td>\n",
       "      <td>0.00235</td>\n",
       "      <td>-0.00055</td>\n",
       "    </tr>\n",
       "    <tr>\n",
       "      <th>166</th>\n",
       "      <td>2019-11-18 11:00:00+00:00</td>\n",
       "      <td>1574074800</td>\n",
       "      <td>BTC-USD</td>\n",
       "      <td>hour</td>\n",
       "      <td>-0.006130</td>\n",
       "      <td>-0.008014</td>\n",
       "      <td>-0.011580</td>\n",
       "      <td>-0.004561</td>\n",
       "      <td>-0.021164</td>\n",
       "      <td>-0.020955</td>\n",
       "      <td>...</td>\n",
       "      <td>-0.00393</td>\n",
       "      <td>-0.00110</td>\n",
       "      <td>0.00109</td>\n",
       "      <td>-0.00533</td>\n",
       "      <td>-0.00434</td>\n",
       "      <td>-0.00129</td>\n",
       "      <td>-0.00711</td>\n",
       "      <td>-0.00384</td>\n",
       "      <td>0.00149</td>\n",
       "      <td>-0.00514</td>\n",
       "    </tr>\n",
       "    <tr>\n",
       "      <th>167</th>\n",
       "      <td>2019-11-18 12:00:00+00:00</td>\n",
       "      <td>1574078400</td>\n",
       "      <td>BTC-USD</td>\n",
       "      <td>hour</td>\n",
       "      <td>-0.006150</td>\n",
       "      <td>-0.012650</td>\n",
       "      <td>-0.019518</td>\n",
       "      <td>-0.008060</td>\n",
       "      <td>-0.029475</td>\n",
       "      <td>-0.024134</td>\n",
       "      <td>...</td>\n",
       "      <td>-0.00010</td>\n",
       "      <td>0.00297</td>\n",
       "      <td>0.00334</td>\n",
       "      <td>-0.00009</td>\n",
       "      <td>0.00275</td>\n",
       "      <td>0.00493</td>\n",
       "      <td>-0.00149</td>\n",
       "      <td>-0.00050</td>\n",
       "      <td>0.00256</td>\n",
       "      <td>-0.00327</td>\n",
       "    </tr>\n",
       "  </tbody>\n",
       "</table>\n",
       "<p>5 rows × 57 columns</p>\n",
       "</div>"
      ],
      "text/plain": [
       "                  ticker_time  ticker_time_sec   ticker ticker_interval  \\\n",
       "163 2019-11-18 08:00:00+00:00       1574064000  BTC-USD            hour   \n",
       "164 2019-11-18 09:00:00+00:00       1574067600  BTC-USD            hour   \n",
       "165 2019-11-18 10:00:00+00:00       1574071200  BTC-USD            hour   \n",
       "166 2019-11-18 11:00:00+00:00       1574074800  BTC-USD            hour   \n",
       "167 2019-11-18 12:00:00+00:00       1574078400  BTC-USD            hour   \n",
       "\n",
       "       ROR_n6   ROR_n12   ROR_n24   ROR_n48   ROR_n72   ROR_n96  ...  \\\n",
       "163  0.002803 -0.007048 -0.010658 -0.001109 -0.016153 -0.013862  ...   \n",
       "164 -0.000504 -0.008857 -0.007972 -0.002562 -0.013127 -0.016154  ...   \n",
       "165 -0.000784 -0.008691 -0.007902 -0.000164 -0.019610 -0.016775  ...   \n",
       "166 -0.006130 -0.008014 -0.011580 -0.004561 -0.021164 -0.020955  ...   \n",
       "167 -0.006150 -0.012650 -0.019518 -0.008060 -0.029475 -0.024134  ...   \n",
       "\n",
       "     open_low3  open_close4  open_high4  open_low4  open_close5  open_high5  \\\n",
       "163   -0.00124      0.00390     0.00498    0.00207      0.00262     0.00550   \n",
       "164   -0.00674     -0.00347     0.00185   -0.00477      0.00037     0.00145   \n",
       "165   -0.00406     -0.00307    -0.00001   -0.00583     -0.00257     0.00276   \n",
       "166   -0.00393     -0.00110     0.00109   -0.00533     -0.00434    -0.00129   \n",
       "167   -0.00010      0.00297     0.00334   -0.00009      0.00275     0.00493   \n",
       "\n",
       "     open_low5  open_close6  open_high6  open_low6  \n",
       "163    0.00188      0.00353     0.00393   -0.00257  \n",
       "164   -0.00146     -0.00091     0.00197   -0.00165  \n",
       "165   -0.00387      0.00127     0.00235   -0.00055  \n",
       "166   -0.00711     -0.00384     0.00149   -0.00514  \n",
       "167   -0.00149     -0.00050     0.00256   -0.00327  \n",
       "\n",
       "[5 rows x 57 columns]"
      ]
     },
     "execution_count": 31,
     "metadata": {},
     "output_type": "execute_result"
    }
   ],
   "source": [
    "# Drop nan values\n",
    "data.df = data.df.replace([np.inf, -np.inf], np.nan).dropna()\n",
    "print(len(data.df))\n",
    "data.df.head()"
   ]
  },
  {
   "cell_type": "markdown",
   "metadata": {},
   "source": [
    "<br>\n",
    "\n",
    "### Initialize modelRegression class"
   ]
  },
  {
   "cell_type": "code",
   "execution_count": 32,
   "metadata": {},
   "outputs": [
    {
     "name": "stdout",
     "output_type": "stream",
     "text": [
      "SUCCESS: Loaded dataObject.\n",
      "SUCCESS: Model 7764ba619949bad96eae8f48cc4f0cc673af7bee has been loaded successfully.\n",
      "Downloaded file from GCS to: /home/jovyan/algomosaic/data/models/20210102_GradientBoostingRegressor_7764ba619949bad96eae8f48cc4f0cc673af7bee.pickle\n",
      "Initialized model. As a next step, run self.predict() or self.train().\n"
     ]
    }
   ],
   "source": [
    "# Initialize model class\n",
    "model = modelRegression(\n",
    "    data, \n",
    "    outcome='ROR_n24',\n",
    "    model_id='7764ba619949bad96eae8f48cc4f0cc673af7bee',\n",
    "    index_features=configs.INDEX_FEATURES, \n",
    "    omit_features=configs.OMIT_FEATURES\n",
    ")"
   ]
  },
  {
   "cell_type": "code",
   "execution_count": 33,
   "metadata": {},
   "outputs": [],
   "source": [
    "# len(model.feature_list)\n",
    "# list(model.feature_list)\n"
   ]
  },
  {
   "cell_type": "code",
   "execution_count": 36,
   "metadata": {},
   "outputs": [
    {
     "ename": "TypeError",
     "evalue": "predict() got an unexpected keyword argument 'to_bq'",
     "output_type": "error",
     "traceback": [
      "\u001b[0;31m---------------------------------------------------------------------------\u001b[0m",
      "\u001b[0;31mTypeError\u001b[0m                                 Traceback (most recent call last)",
      "\u001b[0;32m<ipython-input-36-3ce2d680d7ad>\u001b[0m in \u001b[0;36m<module>\u001b[0;34m\u001b[0m\n\u001b[1;32m      1\u001b[0m \u001b[0;31m# Train model\u001b[0m\u001b[0;34m\u001b[0m\u001b[0;34m\u001b[0m\u001b[0;34m\u001b[0m\u001b[0m\n\u001b[0;32m----> 2\u001b[0;31m \u001b[0mmodel\u001b[0m\u001b[0;34m.\u001b[0m\u001b[0mpredict\u001b[0m\u001b[0;34m(\u001b[0m\u001b[0mto_bq\u001b[0m\u001b[0;34m=\u001b[0m\u001b[0;32mTrue\u001b[0m\u001b[0;34m)\u001b[0m\u001b[0;34m\u001b[0m\u001b[0;34m\u001b[0m\u001b[0m\n\u001b[0m",
      "\u001b[0;31mTypeError\u001b[0m: predict() got an unexpected keyword argument 'to_bq'"
     ]
    }
   ],
   "source": [
    "# Train model\n",
    "model.predict()\n"
   ]
  },
  {
   "cell_type": "code",
   "execution_count": 35,
   "metadata": {},
   "outputs": [
    {
     "name": "stdout",
     "output_type": "stream",
     "text": [
      "model_id: 7764ba619949bad96eae8f48cc4f0cc673af7bee\n",
      "model_execution_id: 9fe28d40d3878f5ad126230a293d13eedd071191\n"
     ]
    }
   ],
   "source": [
    "# Model IDs\n",
    "print('model_id: ' + model.model_id)\n",
    "print('model_execution_id: ' + model.model_execution_id)\n"
   ]
  },
  {
   "cell_type": "code",
   "execution_count": null,
   "metadata": {},
   "outputs": [],
   "source": []
  },
  {
   "cell_type": "code",
   "execution_count": null,
   "metadata": {},
   "outputs": [],
   "source": []
  },
  {
   "cell_type": "code",
   "execution_count": null,
   "metadata": {},
   "outputs": [],
   "source": []
  },
  {
   "cell_type": "code",
   "execution_count": null,
   "metadata": {},
   "outputs": [],
   "source": []
  },
  {
   "cell_type": "code",
   "execution_count": null,
   "metadata": {},
   "outputs": [],
   "source": []
  },
  {
   "cell_type": "markdown",
   "metadata": {},
   "source": [
    "<br>\n",
    "\n",
    "## View performance \n",
    "\n",
    "+ Trending predictions vs outcomes\n",
    "+ Histogram of predictions vs outcomes\n"
   ]
  },
  {
   "cell_type": "code",
   "execution_count": 22,
   "metadata": {},
   "outputs": [],
   "source": [
    "start_date='2020-02-01'\n",
    "end_date='2020-02-07'\n",
    "%matplotlib inline\n",
    "model_plot = modelPlots(model)"
   ]
  },
  {
   "cell_type": "code",
   "execution_count": 23,
   "metadata": {},
   "outputs": [
    {
     "name": "stdout",
     "output_type": "stream",
     "text": [
      "PLOT: Predictions by Date\n",
      "        `self.plot_predictions_by_date(start_date, end_date)`\n"
     ]
    },
    {
     "data": {
      "text/plain": [
       "<matplotlib.axes._subplots.AxesSubplot at 0x7f17e80d3850>"
      ]
     },
     "execution_count": 23,
     "metadata": {},
     "output_type": "execute_result"
    },
    {
     "data": {
      "image/png": "[encoded data removed]",
      "text/plain": [
       "<Figure size 1440x360 with 1 Axes>"
      ]
     },
     "metadata": {
      "needs_background": "light"
     },
     "output_type": "display_data"
    }
   ],
   "source": [
    "model_plot.plot_predictions_by_date(start_date, end_date)"
   ]
  },
  {
   "cell_type": "code",
   "execution_count": 24,
   "metadata": {},
   "outputs": [
    {
     "name": "stdout",
     "output_type": "stream",
     "text": [
      "PLOT: Prediction Errors by Date`\n"
     ]
    },
    {
     "data": {
      "text/plain": [
       "<matplotlib.axes._subplots.AxesSubplot at 0x7f17e7a8edd0>"
      ]
     },
     "execution_count": 24,
     "metadata": {},
     "output_type": "execute_result"
    },
    {
     "data": {
      "image/png": "[encoded data removed]",
      "text/plain": [
       "<Figure size 1440x360 with 1 Axes>"
      ]
     },
     "metadata": {
      "needs_background": "light"
     },
     "output_type": "display_data"
    }
   ],
   "source": [
    "model_plot.plot_errors_by_date(start_date, end_date)"
   ]
  },
  {
   "cell_type": "code",
   "execution_count": 25,
   "metadata": {},
   "outputs": [
    {
     "name": "stdout",
     "output_type": "stream",
     "text": [
      "PLOT: Predictions Histogram\n"
     ]
    },
    {
     "data": {
      "text/plain": [
       "<matplotlib.axes._subplots.AxesSubplot at 0x7f1802d96510>"
      ]
     },
     "execution_count": 25,
     "metadata": {},
     "output_type": "execute_result"
    },
    {
     "data": {
      "image/png": "[encoded data removed]",
      "text/plain": [
       "<Figure size 720x360 with 1 Axes>"
      ]
     },
     "metadata": {
      "needs_background": "light"
     },
     "output_type": "display_data"
    }
   ],
   "source": [
    "model_plot.plot_predictions_histogram(start_date, end_date)"
   ]
  },
  {
   "cell_type": "code",
   "execution_count": 26,
   "metadata": {},
   "outputs": [
    {
     "name": "stdout",
     "output_type": "stream",
     "text": [
      "PLOT: Predictions Histogram\n"
     ]
    },
    {
     "data": {
      "text/plain": [
       "<matplotlib.axes._subplots.AxesSubplot at 0x7f17e75fd050>"
      ]
     },
     "execution_count": 26,
     "metadata": {},
     "output_type": "execute_result"
    },
    {
     "data": {
      "image/png": "[encoded data removed]",
      "text/plain": [
       "<Figure size 720x360 with 1 Axes>"
      ]
     },
     "metadata": {
      "needs_background": "light"
     },
     "output_type": "display_data"
    }
   ],
   "source": [
    "model_plot.plot_errors_histogram(start_date, end_date)\n"
   ]
  },
  {
   "cell_type": "code",
   "execution_count": 27,
   "metadata": {},
   "outputs": [
    {
     "name": "stdout",
     "output_type": "stream",
     "text": [
      "PLOT: Predictions by Date\n"
     ]
    },
    {
     "data": {
      "text/plain": [
       "<matplotlib.axes._subplots.AxesSubplot at 0x7f17e74eaf10>"
      ]
     },
     "execution_count": 27,
     "metadata": {},
     "output_type": "execute_result"
    },
    {
     "data": {
      "image/png": "[encoded data removed]",
      "text/plain": [
       "<Figure size 360x360 with 1 Axes>"
      ]
     },
     "metadata": {
      "needs_background": "light"
     },
     "output_type": "display_data"
    }
   ],
   "source": [
    "model_plot.plot_predictions_scatterplot(start_date, end_date)"
   ]
  },
  {
   "cell_type": "markdown",
   "metadata": {},
   "source": [
    "<br>\n",
    "\n",
    "### View trending features\n"
   ]
  },
  {
   "cell_type": "code",
   "execution_count": 28,
   "metadata": {},
   "outputs": [
    {
     "ename": "AttributeError",
     "evalue": "'modelPlots' object has no attribute 'plot_features'",
     "output_type": "error",
     "traceback": [
      "\u001b[0;31m---------------------------------------------------------------------------\u001b[0m",
      "\u001b[0;31mAttributeError\u001b[0m                            Traceback (most recent call last)",
      "\u001b[0;32m<ipython-input-28-aebe06cff970>\u001b[0m in \u001b[0;36m<module>\u001b[0;34m\u001b[0m\n\u001b[1;32m      5\u001b[0m \u001b[0;31m# from data_mgmt import data_mgmt as dm\u001b[0m\u001b[0;34m\u001b[0m\u001b[0;34m\u001b[0m\u001b[0;34m\u001b[0m\u001b[0m\n\u001b[1;32m      6\u001b[0m \u001b[0;34m\u001b[0m\u001b[0m\n\u001b[0;32m----> 7\u001b[0;31m model_plot.plot_features(\n\u001b[0m\u001b[1;32m      8\u001b[0m     \u001b[0mdf\u001b[0m \u001b[0;34m=\u001b[0m \u001b[0mmodel\u001b[0m\u001b[0;34m.\u001b[0m\u001b[0mdf\u001b[0m\u001b[0;34m,\u001b[0m\u001b[0;34m\u001b[0m\u001b[0;34m\u001b[0m\u001b[0m\n\u001b[1;32m      9\u001b[0m     \u001b[0mx\u001b[0m \u001b[0;34m=\u001b[0m \u001b[0;34m'ticker_time'\u001b[0m\u001b[0;34m,\u001b[0m\u001b[0;34m\u001b[0m\u001b[0;34m\u001b[0m\u001b[0m\n",
      "\u001b[0;31mAttributeError\u001b[0m: 'modelPlots' object has no attribute 'plot_features'"
     ]
    }
   ],
   "source": [
    "start_date = '2016-01-01'\n",
    "end_date = '2017-01-01'\n",
    "%matplotlib inline \n",
    "\n",
    "# from data_mgmt import data_mgmt as dm\n",
    "\n",
    "model_plot.plot_features(\n",
    "    df = model.df, \n",
    "    x = 'ticker_time', \n",
    "    y = 'ROR_n10',\n",
    "    start_date=start_date, \n",
    "    end_date=end_date\n",
    ")"
   ]
  },
  {
   "cell_type": "code",
   "execution_count": null,
   "metadata": {},
   "outputs": [],
   "source": [
    "model_plot.plot_features(df = model.df, x = 'ticker_time', y = 'ATR_7',\n",
    "    start_date=start_date, end_date=end_date, chart_type = 'line')\n",
    "\n",
    "model_plot.plot_features(df = model.df, x = 'ticker_time', y = 'EMA_20',\n",
    "    start_date=start_date, end_date=end_date, chart_type='line')\n"
   ]
  },
  {
   "cell_type": "code",
   "execution_count": null,
   "metadata": {},
   "outputs": [],
   "source": []
  },
  {
   "cell_type": "code",
   "execution_count": null,
   "metadata": {},
   "outputs": [],
   "source": []
  }
 ],
 "metadata": {
  "accelerator": "TPU",
  "colab": {
   "collapsed_sections": [
    "o8UChE6mjUOP",
    "fRG-fEws1PQW",
    "4GJa607W6ljl"
   ],
   "name": "stocks_random_forest.ipynb",
   "provenance": [],
   "version": "0.3.2"
  },
  "kernelspec": {
   "display_name": "Python 3",
   "language": "python",
   "name": "python3"
  },
  "language_info": {
   "codemirror_mode": {
    "name": "ipython",
    "version": 3
   },
   "file_extension": ".py",
   "mimetype": "text/x-python",
   "name": "python",
   "nbconvert_exporter": "python",
   "pygments_lexer": "ipython3",
   "version": "3.7.6"
  }
 },
 "nbformat": 4,
 "nbformat_minor": 4
}
