{
 "cells": [
  {
   "cell_type": "markdown",
   "metadata": {
    "colab_type": "text",
    "id": "PUsG-grKmsJj"
   },
   "source": [
    "# Model validation\n",
    "\n",
    "#### BTC-USDT for ROR_n24 with price action features\n",
    "\n",
    "\n",
    "<br>\n",
    "\n",
    "#### Performance by Model ID\n",
    "\n",
    "```\n",
    "model_id: 1a198235336cc9cd417004b752cc80ffdf7b2705\n",
    "    - n_estimates = 500\n",
    "    - max_depth = 10\n",
    "    - Mean Absolute Error: 0.0043\n",
    "    - Mean Absolute Outcome: 0.02299\n",
    "    - Mean Absolute Percent Error: 0.18687\n",
    "    - Error Variance: 9e-05\n",
    "    - R-Squared: 0.93091\n",
    "```\n",
    "\n",
    "<br>\n",
    "\n",
    "#### Resources\n",
    "+ [BigQuery](https://console.cloud.google.com/bigquery?folder=&organizationId=&project=algomosaic-nyc)\n",
    "+ [Storage](https://console.cloud.google.com/storage/browser/algom-trading/models/?project=algomosaic-nyc)\n",
    "\n"
   ]
  },
  {
   "cell_type": "markdown",
   "metadata": {
    "colab_type": "text",
    "id": "HOd4wXaNlQWz"
   },
   "source": [
    "<br> \n",
    "\n",
    "#### Requirements\n"
   ]
  },
  {
   "cell_type": "code",
   "execution_count": 2,
   "metadata": {},
   "outputs": [],
   "source": [
    "import numpy as np\n",
    "from algom import configs\n",
    "from algom.utils.data_object import dataObject\n",
    "from algom.model_regression import modelRegression\n",
    "from algom.model_plots import modelPlots"
   ]
  },
  {
   "cell_type": "markdown",
   "metadata": {},
   "source": [
    "<br>\n",
    "\n",
    "### Load training data\n"
   ]
  },
  {
   "cell_type": "code",
   "execution_count": 3,
   "metadata": {},
   "outputs": [
    {
     "name": "stdout",
     "output_type": "stream",
     "text": [
      "RUNNING: Querying SQL script.\n"
     ]
    },
    {
     "name": "stderr",
     "output_type": "stream",
     "text": [
      "Downloading: 100%|██████████| 8784/8784 [00:11<00:00, 738.96rows/s]"
     ]
    },
    {
     "name": "stdout",
     "output_type": "stream",
     "text": [
      "SUCCESS: Loaded SQL query.\n"
     ]
    },
    {
     "name": "stderr",
     "output_type": "stream",
     "text": [
      "\n"
     ]
    }
   ],
   "source": [
    "# Load model data\n",
    "data = dataObject(\"\"\"\n",
    "SELECT * EXCEPT(load_rank)\n",
    "FROM (\n",
    "  SELECT\n",
    "  RANK() OVER (PARTITION BY ticker_time ORDER BY etl_time) AS load_rank,\n",
    "  * EXCEPT(\n",
    "    conversionType, conversionSymbol,\n",
    "    LAG1_open, LAG1_high, LAG1_low, LAG1_close,\n",
    "    LAG2_open, LAG2_high, LAG2_low, LAG2_close,\n",
    "    LAG3_open, LAG3_high, LAG3_low, LAG3_close,\n",
    "    LAG4_open, LAG4_high, LAG4_low, LAG4_close,\n",
    "    LAG5_open, LAG5_high, LAG5_low, LAG5_close,\n",
    "    LAG6_open, LAG6_high, LAG6_low, LAG6_close,\n",
    "    LAG7_open, LAG7_high, LAG7_low, LAG7_close,\n",
    "    LAG8_open, LAG8_high, LAG8_low, LAG8_close,\n",
    "    LAG9_open, LAG9_high, LAG9_low, LAG9_close,\n",
    "    LAG10_open, LAG10_high, LAG10_low, LAG10_close,\n",
    "    LAG11_open, LAG11_high, LAG11_low, LAG11_close,\n",
    "    LAG12_open, LAG12_high, LAG12_low, LAG12_close,\n",
    "    LAG13_open, LAG13_high, LAG13_low, LAG13_close,\n",
    "    LAG14_open, LAG14_high, LAG14_low, LAG14_close,\n",
    "    LAG15_open, LAG15_high, LAG15_low, LAG15_close,\n",
    "    LAG16_open, LAG16_high, LAG16_low, LAG16_close,\n",
    "    LAG17_open, LAG17_high, LAG17_low, LAG17_close,\n",
    "    LAG18_open, LAG18_high, LAG18_low, LAG18_close,\n",
    "    LAG19_open, LAG19_high, LAG19_low, LAG19_close,\n",
    "    LAG20_open, LAG20_high, LAG20_low, LAG20_close,\n",
    "    LAG21_open, LAG21_high, LAG21_low, LAG21_close,\n",
    "    LAG22_open, LAG22_high, LAG22_low, LAG22_close,\n",
    "    LAG23_open, LAG23_high, LAG23_low, LAG23_close,\n",
    "    LAG24_open, LAG24_high, LAG24_low, LAG24_close\n",
    "    )\n",
    "  FROM `algom-trading.train_features.features_BTC_USDT_hour_i03_20200101`\n",
    "  WHERE \n",
    "    year = 2020\n",
    "    AND LAG24_close > 0\n",
    ")\n",
    "WHERE load_rank = 1\n",
    "ORDER BY ticker_time\n",
    "\"\"\")"
   ]
  },
  {
   "cell_type": "code",
   "execution_count": 4,
   "metadata": {},
   "outputs": [
    {
     "name": "stdout",
     "output_type": "stream",
     "text": [
      "8713\n"
     ]
    },
    {
     "data": {
      "text/html": [
       "<div>\n",
       "<style scoped>\n",
       "    .dataframe tbody tr th:only-of-type {\n",
       "        vertical-align: middle;\n",
       "    }\n",
       "\n",
       "    .dataframe tbody tr th {\n",
       "        vertical-align: top;\n",
       "    }\n",
       "\n",
       "    .dataframe thead th {\n",
       "        text-align: right;\n",
       "    }\n",
       "</style>\n",
       "<table border=\"1\" class=\"dataframe\">\n",
       "  <thead>\n",
       "    <tr style=\"text-align: right;\">\n",
       "      <th></th>\n",
       "      <th>ticker_time_sec</th>\n",
       "      <th>close</th>\n",
       "      <th>high</th>\n",
       "      <th>low</th>\n",
       "      <th>open</th>\n",
       "      <th>volume_base</th>\n",
       "      <th>volume</th>\n",
       "      <th>partition_date</th>\n",
       "      <th>etl_time</th>\n",
       "      <th>ticker_time</th>\n",
       "      <th>...</th>\n",
       "      <th>open_low21</th>\n",
       "      <th>open_close22</th>\n",
       "      <th>open_high22</th>\n",
       "      <th>open_low22</th>\n",
       "      <th>open_close23</th>\n",
       "      <th>open_high23</th>\n",
       "      <th>open_low23</th>\n",
       "      <th>open_close24</th>\n",
       "      <th>open_high24</th>\n",
       "      <th>open_low24</th>\n",
       "    </tr>\n",
       "  </thead>\n",
       "  <tbody>\n",
       "    <tr>\n",
       "      <th>0</th>\n",
       "      <td>1577836800</td>\n",
       "      <td>7177.02</td>\n",
       "      <td>7196.25</td>\n",
       "      <td>7175.46</td>\n",
       "      <td>7195.23</td>\n",
       "      <td>480.93</td>\n",
       "      <td>3453949.34</td>\n",
       "      <td>2021-01-03</td>\n",
       "      <td>2021-01-03 21:31:02.826911+00:00</td>\n",
       "      <td>2020-01-01 00:00:00+00:00</td>\n",
       "      <td>...</td>\n",
       "      <td>0.001235</td>\n",
       "      <td>0.001235</td>\n",
       "      <td>0.001236</td>\n",
       "      <td>0.001235</td>\n",
       "      <td>0.001236</td>\n",
       "      <td>0.001236</td>\n",
       "      <td>0.001235</td>\n",
       "      <td>0.001235</td>\n",
       "      <td>0.001235</td>\n",
       "      <td>0.001234</td>\n",
       "    </tr>\n",
       "    <tr>\n",
       "      <th>1</th>\n",
       "      <td>1577840400</td>\n",
       "      <td>7216.27</td>\n",
       "      <td>7230.00</td>\n",
       "      <td>7175.71</td>\n",
       "      <td>7177.02</td>\n",
       "      <td>836.51</td>\n",
       "      <td>6030300.92</td>\n",
       "      <td>2021-01-03</td>\n",
       "      <td>2021-01-03 21:31:02.826911+00:00</td>\n",
       "      <td>2020-01-01 01:00:00+00:00</td>\n",
       "      <td>...</td>\n",
       "      <td>0.001238</td>\n",
       "      <td>0.001238</td>\n",
       "      <td>0.001239</td>\n",
       "      <td>0.001238</td>\n",
       "      <td>0.001238</td>\n",
       "      <td>0.001239</td>\n",
       "      <td>0.001238</td>\n",
       "      <td>0.001239</td>\n",
       "      <td>0.001239</td>\n",
       "      <td>0.001238</td>\n",
       "    </tr>\n",
       "    <tr>\n",
       "      <th>2</th>\n",
       "      <td>1577844000</td>\n",
       "      <td>7242.85</td>\n",
       "      <td>7244.87</td>\n",
       "      <td>7211.41</td>\n",
       "      <td>7216.27</td>\n",
       "      <td>626.60</td>\n",
       "      <td>4530216.13</td>\n",
       "      <td>2021-01-03</td>\n",
       "      <td>2021-01-03 21:31:02.826911+00:00</td>\n",
       "      <td>2020-01-01 02:00:00+00:00</td>\n",
       "      <td>...</td>\n",
       "      <td>0.001232</td>\n",
       "      <td>0.001232</td>\n",
       "      <td>0.001232</td>\n",
       "      <td>0.001231</td>\n",
       "      <td>0.001232</td>\n",
       "      <td>0.001232</td>\n",
       "      <td>0.001231</td>\n",
       "      <td>0.001232</td>\n",
       "      <td>0.001232</td>\n",
       "      <td>0.001231</td>\n",
       "    </tr>\n",
       "    <tr>\n",
       "      <th>3</th>\n",
       "      <td>1577847600</td>\n",
       "      <td>7225.01</td>\n",
       "      <td>7245.00</td>\n",
       "      <td>7220.00</td>\n",
       "      <td>7242.85</td>\n",
       "      <td>748.76</td>\n",
       "      <td>5414508.65</td>\n",
       "      <td>2021-01-03</td>\n",
       "      <td>2021-01-03 21:31:02.826911+00:00</td>\n",
       "      <td>2020-01-01 03:00:00+00:00</td>\n",
       "      <td>...</td>\n",
       "      <td>0.001227</td>\n",
       "      <td>0.001228</td>\n",
       "      <td>0.001228</td>\n",
       "      <td>0.001227</td>\n",
       "      <td>0.001227</td>\n",
       "      <td>0.001227</td>\n",
       "      <td>0.001227</td>\n",
       "      <td>0.001227</td>\n",
       "      <td>0.001227</td>\n",
       "      <td>0.001227</td>\n",
       "    </tr>\n",
       "    <tr>\n",
       "      <th>4</th>\n",
       "      <td>1577851200</td>\n",
       "      <td>7217.27</td>\n",
       "      <td>7230.00</td>\n",
       "      <td>7215.03</td>\n",
       "      <td>7225.01</td>\n",
       "      <td>442.09</td>\n",
       "      <td>3193315.81</td>\n",
       "      <td>2021-01-03</td>\n",
       "      <td>2021-01-03 21:31:02.826911+00:00</td>\n",
       "      <td>2020-01-01 04:00:00+00:00</td>\n",
       "      <td>...</td>\n",
       "      <td>0.001230</td>\n",
       "      <td>0.001230</td>\n",
       "      <td>0.001231</td>\n",
       "      <td>0.001230</td>\n",
       "      <td>0.001231</td>\n",
       "      <td>0.001231</td>\n",
       "      <td>0.001230</td>\n",
       "      <td>0.001230</td>\n",
       "      <td>0.001231</td>\n",
       "      <td>0.001230</td>\n",
       "    </tr>\n",
       "  </tbody>\n",
       "</table>\n",
       "<p>5 rows × 106 columns</p>\n",
       "</div>"
      ],
      "text/plain": [
       "   ticker_time_sec    close     high      low     open  volume_base  \\\n",
       "0       1577836800  7177.02  7196.25  7175.46  7195.23       480.93   \n",
       "1       1577840400  7216.27  7230.00  7175.71  7177.02       836.51   \n",
       "2       1577844000  7242.85  7244.87  7211.41  7216.27       626.60   \n",
       "3       1577847600  7225.01  7245.00  7220.00  7242.85       748.76   \n",
       "4       1577851200  7217.27  7230.00  7215.03  7225.01       442.09   \n",
       "\n",
       "       volume partition_date                         etl_time  \\\n",
       "0  3453949.34     2021-01-03 2021-01-03 21:31:02.826911+00:00   \n",
       "1  6030300.92     2021-01-03 2021-01-03 21:31:02.826911+00:00   \n",
       "2  4530216.13     2021-01-03 2021-01-03 21:31:02.826911+00:00   \n",
       "3  5414508.65     2021-01-03 2021-01-03 21:31:02.826911+00:00   \n",
       "4  3193315.81     2021-01-03 2021-01-03 21:31:02.826911+00:00   \n",
       "\n",
       "                ticker_time  ... open_low21 open_close22 open_high22  \\\n",
       "0 2020-01-01 00:00:00+00:00  ...   0.001235     0.001235    0.001236   \n",
       "1 2020-01-01 01:00:00+00:00  ...   0.001238     0.001238    0.001239   \n",
       "2 2020-01-01 02:00:00+00:00  ...   0.001232     0.001232    0.001232   \n",
       "3 2020-01-01 03:00:00+00:00  ...   0.001227     0.001228    0.001228   \n",
       "4 2020-01-01 04:00:00+00:00  ...   0.001230     0.001230    0.001231   \n",
       "\n",
       "   open_low22  open_close23  open_high23  open_low23  open_close24  \\\n",
       "0    0.001235      0.001236     0.001236    0.001235      0.001235   \n",
       "1    0.001238      0.001238     0.001239    0.001238      0.001239   \n",
       "2    0.001231      0.001232     0.001232    0.001231      0.001232   \n",
       "3    0.001227      0.001227     0.001227    0.001227      0.001227   \n",
       "4    0.001230      0.001231     0.001231    0.001230      0.001230   \n",
       "\n",
       "   open_high24  open_low24  \n",
       "0     0.001235    0.001234  \n",
       "1     0.001239    0.001238  \n",
       "2     0.001232    0.001231  \n",
       "3     0.001227    0.001227  \n",
       "4     0.001231    0.001230  \n",
       "\n",
       "[5 rows x 106 columns]"
      ]
     },
     "execution_count": 4,
     "metadata": {},
     "output_type": "execute_result"
    }
   ],
   "source": [
    "# Drop nan values\n",
    "data.df = data.df.replace([np.inf, -np.inf], np.nan).dropna()\n",
    "print(len(data.df))\n",
    "data.df.head()"
   ]
  },
  {
   "cell_type": "markdown",
   "metadata": {},
   "source": [
    "<br>\n",
    "\n",
    "### Initialize modelRegression class"
   ]
  },
  {
   "cell_type": "code",
   "execution_count": 5,
   "metadata": {},
   "outputs": [
    {
     "name": "stdout",
     "output_type": "stream",
     "text": [
      "SUCCESS: Loaded dataObject.\n",
      "SUCCESS: Model 2aeb39446969312548b8c5ef57d92a63bea44184 has been loaded successfully.\n",
      "Downloaded file from GCS to: /home/jovyan/algomosaic/data/models/20210105_GradientBoostingRegressor_2aeb39446969312548b8c5ef57d92a63bea44184.pickle\n",
      "Initialized model. As a next step, run self.predict() or self.train().\n"
     ]
    }
   ],
   "source": [
    "# Initialize model class\n",
    "model = modelRegression(\n",
    "    data, \n",
    "    outcome='ROR_n24',\n",
    "    model_id='2aeb39446969312548b8c5ef57d92a63bea44184',\n",
    "    index_features=configs.INDEX_FEATURES, \n",
    "    omit_features=configs.OMIT_FEATURES,\n",
    "    to_bq=True\n",
    ")"
   ]
  },
  {
   "cell_type": "code",
   "execution_count": 6,
   "metadata": {},
   "outputs": [],
   "source": [
    "# len(model.feature_list)\n",
    "# list(model.feature_list)\n"
   ]
  },
  {
   "cell_type": "code",
   "execution_count": 7,
   "metadata": {},
   "outputs": [
    {
     "name": "stdout",
     "output_type": "stream",
     "text": [
      "Model metadata added to `self.metadata.metadata`\n",
      "SUCCESS: Loaded DataFrame.\n"
     ]
    },
    {
     "name": "stderr",
     "output_type": "stream",
     "text": [
      "1it [00:03,  3.29s/it]\n"
     ]
    },
    {
     "name": "stdout",
     "output_type": "stream",
     "text": [
      "Model metadata added to `self.metadata.parameters`\n",
      "SUCCESS: Loaded DataFrame.\n"
     ]
    },
    {
     "name": "stderr",
     "output_type": "stream",
     "text": [
      "1it [00:03,  3.39s/it]\n"
     ]
    },
    {
     "name": "stdout",
     "output_type": "stream",
     "text": [
      "Get model performance.\n",
      "Set R^2 to `self.rsquared`\n",
      "The following performance measures have been added:\n",
      "                - self.mean_abs_error\n",
      "                - self.mean_abs_outcome\n",
      "                - self.mean_abs_pct_error\n",
      "                - self.error_var\n",
      "            \n",
      "Performance metrics added to `self.performance`\n",
      "\n",
      "MODEL PERFORMANCE SUMMARY\n",
      "        - Mean Absolute Error:\t 0.03551\n",
      "        - Mean Absolute Outcome:\t 0.02289\n",
      "        - Mean Absolute Percent Error:\t 1.55135\n",
      "        - Error Variance:\t 0.00255\n",
      "        - R-Squared:\t\t -0.83858\n",
      "        \n",
      "PLOT PREDICTIONS: Use the following commandsto view model performance.\n",
      "              `self.plot_predictions_by_date(start_date, end_date)`\n",
      "              `self.plot_predictions_histogram(start_date, end_date)`\n",
      "              `self.plot_errors_by_date(start_date, end_date)`\n",
      "              `self.plot_errors_histogram(start_date, end_date)`\n",
      "              `self.plot_predictions_scatterplot(start_date, end_date)`\n",
      "              \n",
      "SUCCESS: Loaded DataFrame.\n"
     ]
    },
    {
     "name": "stderr",
     "output_type": "stream",
     "text": [
      "1it [00:08,  8.21s/it]\n"
     ]
    }
   ],
   "source": [
    "# Train model\n",
    "model.predict()\n"
   ]
  },
  {
   "cell_type": "code",
   "execution_count": 8,
   "metadata": {},
   "outputs": [
    {
     "name": "stdout",
     "output_type": "stream",
     "text": [
      "model_id: 2aeb39446969312548b8c5ef57d92a63bea44184\n",
      "model_execution_id: 4aa4ed3b597d61c1afc9bf8e6b7f994e4c6eb70a\n"
     ]
    }
   ],
   "source": [
    "# Model IDs\n",
    "print('model_id: ' + model.model_id)\n",
    "print('model_execution_id: ' + model.model_execution_id)\n"
   ]
  },
  {
   "cell_type": "code",
   "execution_count": null,
   "metadata": {},
   "outputs": [],
   "source": []
  },
  {
   "cell_type": "markdown",
   "metadata": {},
   "source": [
    "<br>\n",
    "\n",
    "## View performance \n",
    "\n",
    "+ Trending predictions vs outcomes\n",
    "+ Histogram of predictions vs outcomes\n"
   ]
  },
  {
   "cell_type": "code",
   "execution_count": 19,
   "metadata": {},
   "outputs": [],
   "source": [
    "start_date='2020-04-01'\n",
    "end_date='2020-04-15'\n",
    "%matplotlib inline\n",
    "model_plot = modelPlots(model)"
   ]
  },
  {
   "cell_type": "code",
   "execution_count": 20,
   "metadata": {},
   "outputs": [
    {
     "name": "stdout",
     "output_type": "stream",
     "text": [
      "PLOT: Predictions by Date\n",
      "        `self.plot_predictions_by_date(start_date, end_date)`\n"
     ]
    },
    {
     "data": {
      "text/plain": [
       "<matplotlib.axes._subplots.AxesSubplot at 0x7fadc77cf510>"
      ]
     },
     "execution_count": 20,
     "metadata": {},
     "output_type": "execute_result"
    },
    {
     "data": {
      "image/png": "[encoded data removed]",
      "text/plain": [
       "<Figure size 1440x360 with 1 Axes>"
      ]
     },
     "metadata": {
      "needs_background": "light"
     },
     "output_type": "display_data"
    }
   ],
   "source": [
    "model_plot.plot_predictions_by_date(start_date, end_date)"
   ]
  },
  {
   "cell_type": "code",
   "execution_count": 18,
   "metadata": {},
   "outputs": [
    {
     "name": "stdout",
     "output_type": "stream",
     "text": [
      "PLOT: Prediction Errors by Date`\n"
     ]
    },
    {
     "data": {
      "text/plain": [
       "<matplotlib.axes._subplots.AxesSubplot at 0x7fadcc1437d0>"
      ]
     },
     "execution_count": 18,
     "metadata": {},
     "output_type": "execute_result"
    },
    {
     "data": {
      "image/png": "[encoded data removed]",
      "text/plain": [
       "<Figure size 1440x360 with 1 Axes>"
      ]
     },
     "metadata": {
      "needs_background": "light"
     },
     "output_type": "display_data"
    }
   ],
   "source": [
    "model_plot.plot_errors_by_date(start_date, end_date)"
   ]
  },
  {
   "cell_type": "code",
   "execution_count": 12,
   "metadata": {},
   "outputs": [
    {
     "name": "stdout",
     "output_type": "stream",
     "text": [
      "PLOT: Predictions Histogram\n"
     ]
    },
    {
     "data": {
      "text/plain": [
       "<matplotlib.axes._subplots.AxesSubplot at 0x7fadcf621950>"
      ]
     },
     "execution_count": 12,
     "metadata": {},
     "output_type": "execute_result"
    },
    {
     "data": {
      "image/png": "[encoded data removed]",
      "text/plain": [
       "<Figure size 720x360 with 1 Axes>"
      ]
     },
     "metadata": {
      "needs_background": "light"
     },
     "output_type": "display_data"
    }
   ],
   "source": [
    "model_plot.plot_predictions_histogram(start_date, end_date)"
   ]
  },
  {
   "cell_type": "code",
   "execution_count": 13,
   "metadata": {},
   "outputs": [
    {
     "name": "stdout",
     "output_type": "stream",
     "text": [
      "PLOT: Predictions Histogram\n"
     ]
    },
    {
     "data": {
      "text/plain": [
       "<matplotlib.axes._subplots.AxesSubplot at 0x7fadcf241710>"
      ]
     },
     "execution_count": 13,
     "metadata": {},
     "output_type": "execute_result"
    },
    {
     "data": {
      "image/png": "[encoded data removed]",
      "text/plain": [
       "<Figure size 720x360 with 1 Axes>"
      ]
     },
     "metadata": {
      "needs_background": "light"
     },
     "output_type": "display_data"
    }
   ],
   "source": [
    "model_plot.plot_errors_histogram(start_date, end_date)"
   ]
  },
  {
   "cell_type": "code",
   "execution_count": 21,
   "metadata": {},
   "outputs": [
    {
     "name": "stdout",
     "output_type": "stream",
     "text": [
      "PLOT: Predictions by Date\n"
     ]
    },
    {
     "data": {
      "text/plain": [
       "<matplotlib.axes._subplots.AxesSubplot at 0x7f854cf68fd0>"
      ]
     },
     "execution_count": 21,
     "metadata": {},
     "output_type": "execute_result"
    },
    {
     "data": {
      "image/png": "[encoded data removed]",
      "text/plain": [
       "<Figure size 360x360 with 1 Axes>"
      ]
     },
     "metadata": {
      "needs_background": "light"
     },
     "output_type": "display_data"
    }
   ],
   "source": [
    "model_plot.plot_predictions_scatterplot(start_date, end_date)"
   ]
  },
  {
   "cell_type": "code",
   "execution_count": null,
   "metadata": {},
   "outputs": [],
   "source": []
  },
  {
   "cell_type": "code",
   "execution_count": null,
   "metadata": {},
   "outputs": [],
   "source": []
  },
  {
   "cell_type": "markdown",
   "metadata": {},
   "source": [
    "<br>\n",
    "\n",
    "### Most important features\n"
   ]
  },
  {
   "cell_type": "code",
   "execution_count": 32,
   "metadata": {},
   "outputs": [
    {
     "data": {
      "text/html": [
       "<div>\n",
       "<style scoped>\n",
       "    .dataframe tbody tr th:only-of-type {\n",
       "        vertical-align: middle;\n",
       "    }\n",
       "\n",
       "    .dataframe tbody tr th {\n",
       "        vertical-align: top;\n",
       "    }\n",
       "\n",
       "    .dataframe thead th {\n",
       "        text-align: right;\n",
       "    }\n",
       "</style>\n",
       "<table border=\"1\" class=\"dataframe\">\n",
       "  <thead>\n",
       "    <tr style=\"text-align: right;\">\n",
       "      <th></th>\n",
       "      <th>model_execution_id</th>\n",
       "      <th>data_id</th>\n",
       "      <th>outcome_variable</th>\n",
       "      <th>variable</th>\n",
       "      <th>importance</th>\n",
       "      <th>rank</th>\n",
       "      <th>pct_rank</th>\n",
       "    </tr>\n",
       "  </thead>\n",
       "  <tbody>\n",
       "    <tr>\n",
       "      <th>0</th>\n",
       "      <td>8a992ab5ae501da51c16a46403ee4bc349950b2a</td>\n",
       "      <td>6eef6648406c333a4035cd5e60d0bf2ecf2606d7</td>\n",
       "      <td>ROR_n24</td>\n",
       "      <td>open_close1</td>\n",
       "      <td>0.30463</td>\n",
       "      <td>1.0</td>\n",
       "      <td>1.000000</td>\n",
       "    </tr>\n",
       "    <tr>\n",
       "      <th>1</th>\n",
       "      <td>8a992ab5ae501da51c16a46403ee4bc349950b2a</td>\n",
       "      <td>6eef6648406c333a4035cd5e60d0bf2ecf2606d7</td>\n",
       "      <td>ROR_n24</td>\n",
       "      <td>open_high6</td>\n",
       "      <td>0.06002</td>\n",
       "      <td>2.0</td>\n",
       "      <td>0.944444</td>\n",
       "    </tr>\n",
       "    <tr>\n",
       "      <th>2</th>\n",
       "      <td>8a992ab5ae501da51c16a46403ee4bc349950b2a</td>\n",
       "      <td>6eef6648406c333a4035cd5e60d0bf2ecf2606d7</td>\n",
       "      <td>ROR_n24</td>\n",
       "      <td>open_low6</td>\n",
       "      <td>0.05763</td>\n",
       "      <td>3.0</td>\n",
       "      <td>0.888889</td>\n",
       "    </tr>\n",
       "    <tr>\n",
       "      <th>3</th>\n",
       "      <td>8a992ab5ae501da51c16a46403ee4bc349950b2a</td>\n",
       "      <td>6eef6648406c333a4035cd5e60d0bf2ecf2606d7</td>\n",
       "      <td>ROR_n24</td>\n",
       "      <td>open_low1</td>\n",
       "      <td>0.05286</td>\n",
       "      <td>4.0</td>\n",
       "      <td>0.833333</td>\n",
       "    </tr>\n",
       "    <tr>\n",
       "      <th>4</th>\n",
       "      <td>8a992ab5ae501da51c16a46403ee4bc349950b2a</td>\n",
       "      <td>6eef6648406c333a4035cd5e60d0bf2ecf2606d7</td>\n",
       "      <td>ROR_n24</td>\n",
       "      <td>open_low2</td>\n",
       "      <td>0.04559</td>\n",
       "      <td>5.0</td>\n",
       "      <td>0.777778</td>\n",
       "    </tr>\n",
       "    <tr>\n",
       "      <th>5</th>\n",
       "      <td>8a992ab5ae501da51c16a46403ee4bc349950b2a</td>\n",
       "      <td>6eef6648406c333a4035cd5e60d0bf2ecf2606d7</td>\n",
       "      <td>ROR_n24</td>\n",
       "      <td>open_high5</td>\n",
       "      <td>0.04491</td>\n",
       "      <td>6.0</td>\n",
       "      <td>0.722222</td>\n",
       "    </tr>\n",
       "    <tr>\n",
       "      <th>6</th>\n",
       "      <td>8a992ab5ae501da51c16a46403ee4bc349950b2a</td>\n",
       "      <td>6eef6648406c333a4035cd5e60d0bf2ecf2606d7</td>\n",
       "      <td>ROR_n24</td>\n",
       "      <td>open_low5</td>\n",
       "      <td>0.04481</td>\n",
       "      <td>7.0</td>\n",
       "      <td>0.666667</td>\n",
       "    </tr>\n",
       "    <tr>\n",
       "      <th>7</th>\n",
       "      <td>8a992ab5ae501da51c16a46403ee4bc349950b2a</td>\n",
       "      <td>6eef6648406c333a4035cd5e60d0bf2ecf2606d7</td>\n",
       "      <td>ROR_n24</td>\n",
       "      <td>open_low3</td>\n",
       "      <td>0.04133</td>\n",
       "      <td>8.0</td>\n",
       "      <td>0.611111</td>\n",
       "    </tr>\n",
       "    <tr>\n",
       "      <th>8</th>\n",
       "      <td>8a992ab5ae501da51c16a46403ee4bc349950b2a</td>\n",
       "      <td>6eef6648406c333a4035cd5e60d0bf2ecf2606d7</td>\n",
       "      <td>ROR_n24</td>\n",
       "      <td>open_high1</td>\n",
       "      <td>0.03966</td>\n",
       "      <td>9.0</td>\n",
       "      <td>0.555556</td>\n",
       "    </tr>\n",
       "    <tr>\n",
       "      <th>9</th>\n",
       "      <td>8a992ab5ae501da51c16a46403ee4bc349950b2a</td>\n",
       "      <td>6eef6648406c333a4035cd5e60d0bf2ecf2606d7</td>\n",
       "      <td>ROR_n24</td>\n",
       "      <td>open_close6</td>\n",
       "      <td>0.03827</td>\n",
       "      <td>10.0</td>\n",
       "      <td>0.500000</td>\n",
       "    </tr>\n",
       "    <tr>\n",
       "      <th>10</th>\n",
       "      <td>8a992ab5ae501da51c16a46403ee4bc349950b2a</td>\n",
       "      <td>6eef6648406c333a4035cd5e60d0bf2ecf2606d7</td>\n",
       "      <td>ROR_n24</td>\n",
       "      <td>open_low4</td>\n",
       "      <td>0.03569</td>\n",
       "      <td>11.0</td>\n",
       "      <td>0.444444</td>\n",
       "    </tr>\n",
       "    <tr>\n",
       "      <th>11</th>\n",
       "      <td>8a992ab5ae501da51c16a46403ee4bc349950b2a</td>\n",
       "      <td>6eef6648406c333a4035cd5e60d0bf2ecf2606d7</td>\n",
       "      <td>ROR_n24</td>\n",
       "      <td>open_high4</td>\n",
       "      <td>0.03512</td>\n",
       "      <td>12.0</td>\n",
       "      <td>0.388889</td>\n",
       "    </tr>\n",
       "    <tr>\n",
       "      <th>12</th>\n",
       "      <td>8a992ab5ae501da51c16a46403ee4bc349950b2a</td>\n",
       "      <td>6eef6648406c333a4035cd5e60d0bf2ecf2606d7</td>\n",
       "      <td>ROR_n24</td>\n",
       "      <td>open_high3</td>\n",
       "      <td>0.03446</td>\n",
       "      <td>13.0</td>\n",
       "      <td>0.333333</td>\n",
       "    </tr>\n",
       "    <tr>\n",
       "      <th>13</th>\n",
       "      <td>8a992ab5ae501da51c16a46403ee4bc349950b2a</td>\n",
       "      <td>6eef6648406c333a4035cd5e60d0bf2ecf2606d7</td>\n",
       "      <td>ROR_n24</td>\n",
       "      <td>open_close5</td>\n",
       "      <td>0.03414</td>\n",
       "      <td>14.0</td>\n",
       "      <td>0.277778</td>\n",
       "    </tr>\n",
       "    <tr>\n",
       "      <th>14</th>\n",
       "      <td>8a992ab5ae501da51c16a46403ee4bc349950b2a</td>\n",
       "      <td>6eef6648406c333a4035cd5e60d0bf2ecf2606d7</td>\n",
       "      <td>ROR_n24</td>\n",
       "      <td>open_high2</td>\n",
       "      <td>0.03376</td>\n",
       "      <td>15.0</td>\n",
       "      <td>0.222222</td>\n",
       "    </tr>\n",
       "    <tr>\n",
       "      <th>15</th>\n",
       "      <td>8a992ab5ae501da51c16a46403ee4bc349950b2a</td>\n",
       "      <td>6eef6648406c333a4035cd5e60d0bf2ecf2606d7</td>\n",
       "      <td>ROR_n24</td>\n",
       "      <td>open_close3</td>\n",
       "      <td>0.03366</td>\n",
       "      <td>16.0</td>\n",
       "      <td>0.166667</td>\n",
       "    </tr>\n",
       "    <tr>\n",
       "      <th>16</th>\n",
       "      <td>8a992ab5ae501da51c16a46403ee4bc349950b2a</td>\n",
       "      <td>6eef6648406c333a4035cd5e60d0bf2ecf2606d7</td>\n",
       "      <td>ROR_n24</td>\n",
       "      <td>open_close2</td>\n",
       "      <td>0.03202</td>\n",
       "      <td>17.0</td>\n",
       "      <td>0.111111</td>\n",
       "    </tr>\n",
       "    <tr>\n",
       "      <th>17</th>\n",
       "      <td>8a992ab5ae501da51c16a46403ee4bc349950b2a</td>\n",
       "      <td>6eef6648406c333a4035cd5e60d0bf2ecf2606d7</td>\n",
       "      <td>ROR_n24</td>\n",
       "      <td>open_close4</td>\n",
       "      <td>0.03145</td>\n",
       "      <td>18.0</td>\n",
       "      <td>0.055556</td>\n",
       "    </tr>\n",
       "  </tbody>\n",
       "</table>\n",
       "</div>"
      ],
      "text/plain": [
       "                          model_execution_id  \\\n",
       "0   8a992ab5ae501da51c16a46403ee4bc349950b2a   \n",
       "1   8a992ab5ae501da51c16a46403ee4bc349950b2a   \n",
       "2   8a992ab5ae501da51c16a46403ee4bc349950b2a   \n",
       "3   8a992ab5ae501da51c16a46403ee4bc349950b2a   \n",
       "4   8a992ab5ae501da51c16a46403ee4bc349950b2a   \n",
       "5   8a992ab5ae501da51c16a46403ee4bc349950b2a   \n",
       "6   8a992ab5ae501da51c16a46403ee4bc349950b2a   \n",
       "7   8a992ab5ae501da51c16a46403ee4bc349950b2a   \n",
       "8   8a992ab5ae501da51c16a46403ee4bc349950b2a   \n",
       "9   8a992ab5ae501da51c16a46403ee4bc349950b2a   \n",
       "10  8a992ab5ae501da51c16a46403ee4bc349950b2a   \n",
       "11  8a992ab5ae501da51c16a46403ee4bc349950b2a   \n",
       "12  8a992ab5ae501da51c16a46403ee4bc349950b2a   \n",
       "13  8a992ab5ae501da51c16a46403ee4bc349950b2a   \n",
       "14  8a992ab5ae501da51c16a46403ee4bc349950b2a   \n",
       "15  8a992ab5ae501da51c16a46403ee4bc349950b2a   \n",
       "16  8a992ab5ae501da51c16a46403ee4bc349950b2a   \n",
       "17  8a992ab5ae501da51c16a46403ee4bc349950b2a   \n",
       "\n",
       "                                     data_id outcome_variable     variable  \\\n",
       "0   6eef6648406c333a4035cd5e60d0bf2ecf2606d7          ROR_n24  open_close1   \n",
       "1   6eef6648406c333a4035cd5e60d0bf2ecf2606d7          ROR_n24   open_high6   \n",
       "2   6eef6648406c333a4035cd5e60d0bf2ecf2606d7          ROR_n24    open_low6   \n",
       "3   6eef6648406c333a4035cd5e60d0bf2ecf2606d7          ROR_n24    open_low1   \n",
       "4   6eef6648406c333a4035cd5e60d0bf2ecf2606d7          ROR_n24    open_low2   \n",
       "5   6eef6648406c333a4035cd5e60d0bf2ecf2606d7          ROR_n24   open_high5   \n",
       "6   6eef6648406c333a4035cd5e60d0bf2ecf2606d7          ROR_n24    open_low5   \n",
       "7   6eef6648406c333a4035cd5e60d0bf2ecf2606d7          ROR_n24    open_low3   \n",
       "8   6eef6648406c333a4035cd5e60d0bf2ecf2606d7          ROR_n24   open_high1   \n",
       "9   6eef6648406c333a4035cd5e60d0bf2ecf2606d7          ROR_n24  open_close6   \n",
       "10  6eef6648406c333a4035cd5e60d0bf2ecf2606d7          ROR_n24    open_low4   \n",
       "11  6eef6648406c333a4035cd5e60d0bf2ecf2606d7          ROR_n24   open_high4   \n",
       "12  6eef6648406c333a4035cd5e60d0bf2ecf2606d7          ROR_n24   open_high3   \n",
       "13  6eef6648406c333a4035cd5e60d0bf2ecf2606d7          ROR_n24  open_close5   \n",
       "14  6eef6648406c333a4035cd5e60d0bf2ecf2606d7          ROR_n24   open_high2   \n",
       "15  6eef6648406c333a4035cd5e60d0bf2ecf2606d7          ROR_n24  open_close3   \n",
       "16  6eef6648406c333a4035cd5e60d0bf2ecf2606d7          ROR_n24  open_close2   \n",
       "17  6eef6648406c333a4035cd5e60d0bf2ecf2606d7          ROR_n24  open_close4   \n",
       "\n",
       "    importance  rank  pct_rank  \n",
       "0      0.30463   1.0  1.000000  \n",
       "1      0.06002   2.0  0.944444  \n",
       "2      0.05763   3.0  0.888889  \n",
       "3      0.05286   4.0  0.833333  \n",
       "4      0.04559   5.0  0.777778  \n",
       "5      0.04491   6.0  0.722222  \n",
       "6      0.04481   7.0  0.666667  \n",
       "7      0.04133   8.0  0.611111  \n",
       "8      0.03966   9.0  0.555556  \n",
       "9      0.03827  10.0  0.500000  \n",
       "10     0.03569  11.0  0.444444  \n",
       "11     0.03512  12.0  0.388889  \n",
       "12     0.03446  13.0  0.333333  \n",
       "13     0.03414  14.0  0.277778  \n",
       "14     0.03376  15.0  0.222222  \n",
       "15     0.03366  16.0  0.166667  \n",
       "16     0.03202  17.0  0.111111  \n",
       "17     0.03145  18.0  0.055556  "
      ]
     },
     "execution_count": 32,
     "metadata": {},
     "output_type": "execute_result"
    }
   ],
   "source": [
    "features = model.feature_importance.feature_importance\n",
    "features[0:30]\n"
   ]
  },
  {
   "cell_type": "markdown",
   "metadata": {},
   "source": [
    "<br>\n",
    "\n",
    "### Least import features"
   ]
  },
  {
   "cell_type": "code",
   "execution_count": 33,
   "metadata": {},
   "outputs": [
    {
     "data": {
      "text/html": [
       "<div>\n",
       "<style scoped>\n",
       "    .dataframe tbody tr th:only-of-type {\n",
       "        vertical-align: middle;\n",
       "    }\n",
       "\n",
       "    .dataframe tbody tr th {\n",
       "        vertical-align: top;\n",
       "    }\n",
       "\n",
       "    .dataframe thead th {\n",
       "        text-align: right;\n",
       "    }\n",
       "</style>\n",
       "<table border=\"1\" class=\"dataframe\">\n",
       "  <thead>\n",
       "    <tr style=\"text-align: right;\">\n",
       "      <th></th>\n",
       "      <th>model_execution_id</th>\n",
       "      <th>data_id</th>\n",
       "      <th>outcome_variable</th>\n",
       "      <th>variable</th>\n",
       "      <th>importance</th>\n",
       "      <th>rank</th>\n",
       "      <th>pct_rank</th>\n",
       "    </tr>\n",
       "  </thead>\n",
       "  <tbody>\n",
       "    <tr>\n",
       "      <th>16</th>\n",
       "      <td>8a992ab5ae501da51c16a46403ee4bc349950b2a</td>\n",
       "      <td>6eef6648406c333a4035cd5e60d0bf2ecf2606d7</td>\n",
       "      <td>ROR_n24</td>\n",
       "      <td>open_close2</td>\n",
       "      <td>0.03202</td>\n",
       "      <td>17.0</td>\n",
       "      <td>0.111111</td>\n",
       "    </tr>\n",
       "    <tr>\n",
       "      <th>17</th>\n",
       "      <td>8a992ab5ae501da51c16a46403ee4bc349950b2a</td>\n",
       "      <td>6eef6648406c333a4035cd5e60d0bf2ecf2606d7</td>\n",
       "      <td>ROR_n24</td>\n",
       "      <td>open_close4</td>\n",
       "      <td>0.03145</td>\n",
       "      <td>18.0</td>\n",
       "      <td>0.055556</td>\n",
       "    </tr>\n",
       "  </tbody>\n",
       "</table>\n",
       "</div>"
      ],
      "text/plain": [
       "                          model_execution_id  \\\n",
       "16  8a992ab5ae501da51c16a46403ee4bc349950b2a   \n",
       "17  8a992ab5ae501da51c16a46403ee4bc349950b2a   \n",
       "\n",
       "                                     data_id outcome_variable     variable  \\\n",
       "16  6eef6648406c333a4035cd5e60d0bf2ecf2606d7          ROR_n24  open_close2   \n",
       "17  6eef6648406c333a4035cd5e60d0bf2ecf2606d7          ROR_n24  open_close4   \n",
       "\n",
       "    importance  rank  pct_rank  \n",
       "16     0.03202  17.0  0.111111  \n",
       "17     0.03145  18.0  0.055556  "
      ]
     },
     "execution_count": 33,
     "metadata": {},
     "output_type": "execute_result"
    }
   ],
   "source": [
    "features[len(features)-20:len(features)]"
   ]
  },
  {
   "cell_type": "markdown",
   "metadata": {},
   "source": [
    "<br>\n",
    "\n",
    "### View trending features\n"
   ]
  },
  {
   "cell_type": "code",
   "execution_count": 28,
   "metadata": {},
   "outputs": [
    {
     "ename": "AttributeError",
     "evalue": "'modelPlots' object has no attribute 'plot_features'",
     "output_type": "error",
     "traceback": [
      "\u001b[0;31m---------------------------------------------------------------------------\u001b[0m",
      "\u001b[0;31mAttributeError\u001b[0m                            Traceback (most recent call last)",
      "\u001b[0;32m<ipython-input-28-aebe06cff970>\u001b[0m in \u001b[0;36m<module>\u001b[0;34m\u001b[0m\n\u001b[1;32m      5\u001b[0m \u001b[0;31m# from data_mgmt import data_mgmt as dm\u001b[0m\u001b[0;34m\u001b[0m\u001b[0;34m\u001b[0m\u001b[0;34m\u001b[0m\u001b[0m\n\u001b[1;32m      6\u001b[0m \u001b[0;34m\u001b[0m\u001b[0m\n\u001b[0;32m----> 7\u001b[0;31m model_plot.plot_features(\n\u001b[0m\u001b[1;32m      8\u001b[0m     \u001b[0mdf\u001b[0m \u001b[0;34m=\u001b[0m \u001b[0mmodel\u001b[0m\u001b[0;34m.\u001b[0m\u001b[0mdf\u001b[0m\u001b[0;34m,\u001b[0m\u001b[0;34m\u001b[0m\u001b[0;34m\u001b[0m\u001b[0m\n\u001b[1;32m      9\u001b[0m     \u001b[0mx\u001b[0m \u001b[0;34m=\u001b[0m \u001b[0;34m'ticker_time'\u001b[0m\u001b[0;34m,\u001b[0m\u001b[0;34m\u001b[0m\u001b[0;34m\u001b[0m\u001b[0m\n",
      "\u001b[0;31mAttributeError\u001b[0m: 'modelPlots' object has no attribute 'plot_features'"
     ]
    }
   ],
   "source": [
    "start_date = '2016-01-01'\n",
    "end_date = '2017-01-01'\n",
    "%matplotlib inline \n",
    "\n",
    "# from data_mgmt import data_mgmt as dm\n",
    "\n",
    "model_plot.plot_features(\n",
    "    df = model.df, \n",
    "    x = 'ticker_time', \n",
    "    y = 'ROR_n10',\n",
    "    start_date=start_date, \n",
    "    end_date=end_date\n",
    ")"
   ]
  },
  {
   "cell_type": "code",
   "execution_count": null,
   "metadata": {},
   "outputs": [],
   "source": [
    "model_plot.plot_features(df = model.df, x = 'ticker_time', y = 'ATR_7',\n",
    "    start_date=start_date, end_date=end_date, chart_type = 'line')\n",
    "\n",
    "model_plot.plot_features(df = model.df, x = 'ticker_time', y = 'EMA_20',\n",
    "    start_date=start_date, end_date=end_date, chart_type='line')\n"
   ]
  },
  {
   "cell_type": "code",
   "execution_count": null,
   "metadata": {},
   "outputs": [],
   "source": []
  },
  {
   "cell_type": "code",
   "execution_count": null,
   "metadata": {},
   "outputs": [],
   "source": []
  }
 ],
 "metadata": {
  "accelerator": "TPU",
  "colab": {
   "collapsed_sections": [
    "o8UChE6mjUOP",
    "fRG-fEws1PQW",
    "4GJa607W6ljl"
   ],
   "name": "stocks_random_forest.ipynb",
   "provenance": [],
   "version": "0.3.2"
  },
  "kernelspec": {
   "display_name": "Python 3",
   "language": "python",
   "name": "python3"
  },
  "language_info": {
   "codemirror_mode": {
    "name": "ipython",
    "version": 3
   },
   "file_extension": ".py",
   "mimetype": "text/x-python",
   "name": "python",
   "nbconvert_exporter": "python",
   "pygments_lexer": "ipython3",
   "version": "3.7.6"
  }
 },
 "nbformat": 4,
 "nbformat_minor": 4
}
