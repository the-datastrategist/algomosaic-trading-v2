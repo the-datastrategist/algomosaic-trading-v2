{
 "cells": [
  {
   "cell_type": "markdown",
   "metadata": {
    "colab_type": "text",
    "id": "PUsG-grKmsJj"
   },
   "source": [
    "# Model training\n",
    "\n",
    "#### BTC-USDT for ROR_n24 with price action features\n",
    "\n",
    "\n",
    "<br>\n",
    "\n",
    "#### Performance by Model ID\n",
    "\n",
    "```\n",
    "model_id: 1a198235336cc9cd417004b752cc80ffdf7b2705\n",
    "    - n_estimates = 500\n",
    "    - max_depth = 10 \n",
    "\n",
    "```\n",
    "\n",
    "\n",
    "```\n",
    "model_id:\n",
    "    - n_estimates = 500\n",
    "    - max_depth=20\n",
    "```\n",
    "\n",
    "\n",
    "\n",
    "<br>\n",
    "\n",
    "#### Resources\n",
    "+ [BigQuery](https://console.cloud.google.com/bigquery?folder=&organizationId=&project=algomosaic-nyc)\n",
    "+ [Storage](https://console.cloud.google.com/storage/browser/algom-trading/models/?project=algomosaic-nyc)\n",
    "\n"
   ]
  },
  {
   "cell_type": "markdown",
   "metadata": {
    "colab_type": "text",
    "id": "HOd4wXaNlQWz"
   },
   "source": [
    "<br> \n",
    "\n",
    "#### Requirements\n"
   ]
  },
  {
   "cell_type": "code",
   "execution_count": 1,
   "metadata": {},
   "outputs": [],
   "source": [
    "import numpy as np\n",
    "from algom import configs\n",
    "from algom.utils.data_object import dataObject\n",
    "from algom.model_regression import modelRegression\n",
    "from algom.model_plots import modelPlots"
   ]
  },
  {
   "cell_type": "markdown",
   "metadata": {},
   "source": [
    "<br>\n",
    "\n",
    "### Load training data\n"
   ]
  },
  {
   "cell_type": "code",
   "execution_count": 2,
   "metadata": {},
   "outputs": [
    {
     "name": "stdout",
     "output_type": "stream",
     "text": [
      "RUNNING: Querying SQL script.\n"
     ]
    },
    {
     "name": "stderr",
     "output_type": "stream",
     "text": [
      "Downloading: 100%|██████████| 20780/20780 [00:30<00:00, 672.91rows/s]"
     ]
    },
    {
     "name": "stdout",
     "output_type": "stream",
     "text": [
      "SUCCESS: Loaded SQL query.\n"
     ]
    },
    {
     "name": "stderr",
     "output_type": "stream",
     "text": [
      "\n"
     ]
    }
   ],
   "source": [
    "# Load model data\n",
    "data = dataObject(\"\"\"\n",
    "SELECT * EXCEPT(load_rank)\n",
    "FROM (\n",
    "  SELECT\n",
    "  RANK() OVER (PARTITION BY ticker_time ORDER BY etl_time) AS load_rank,\n",
    "  * EXCEPT(\n",
    "    conversionType, conversionSymbol,\n",
    "    LAG1_open, LAG1_high, LAG1_low, LAG1_close,\n",
    "    LAG2_open, LAG2_high, LAG2_low, LAG2_close,\n",
    "    LAG3_open, LAG3_high, LAG3_low, LAG3_close,\n",
    "    LAG4_open, LAG4_high, LAG4_low, LAG4_close,\n",
    "    LAG5_open, LAG5_high, LAG5_low, LAG5_close,\n",
    "    LAG6_open, LAG6_high, LAG6_low, LAG6_close,\n",
    "    LAG7_open, LAG7_high, LAG7_low, LAG7_close,\n",
    "    LAG8_open, LAG8_high, LAG8_low, LAG8_close,\n",
    "    LAG9_open, LAG9_high, LAG9_low, LAG9_close,\n",
    "    LAG10_open, LAG10_high, LAG10_low, LAG10_close,\n",
    "    LAG11_open, LAG11_high, LAG11_low, LAG11_close,\n",
    "    LAG12_open, LAG12_high, LAG12_low, LAG12_close,\n",
    "    LAG13_open, LAG13_high, LAG13_low, LAG13_close,\n",
    "    LAG14_open, LAG14_high, LAG14_low, LAG14_close,\n",
    "    LAG15_open, LAG15_high, LAG15_low, LAG15_close,\n",
    "    LAG16_open, LAG16_high, LAG16_low, LAG16_close,\n",
    "    LAG17_open, LAG17_high, LAG17_low, LAG17_close,\n",
    "    LAG18_open, LAG18_high, LAG18_low, LAG18_close,\n",
    "    LAG19_open, LAG19_high, LAG19_low, LAG19_close,\n",
    "    LAG20_open, LAG20_high, LAG20_low, LAG20_close,\n",
    "    LAG21_open, LAG21_high, LAG21_low, LAG21_close,\n",
    "    LAG22_open, LAG22_high, LAG22_low, LAG22_close,\n",
    "    LAG23_open, LAG23_high, LAG23_low, LAG23_close,\n",
    "    LAG24_open, LAG24_high, LAG24_low, LAG24_close\n",
    "    )\n",
    "  FROM `algom-trading.train_features.features_BTC_USDT_hour_i03_*`\n",
    "  WHERE \n",
    "    _table_suffix IN (\n",
    "      '20170101',\n",
    "      '20180101',\n",
    "      '20190101')\n",
    "    AND year BETWEEN 2017 AND 2019\n",
    "    AND LAG24_close > 0\n",
    ")\n",
    "WHERE load_rank = 1\n",
    "ORDER BY ticker_time\n",
    "\"\"\")"
   ]
  },
  {
   "cell_type": "code",
   "execution_count": 3,
   "metadata": {},
   "outputs": [
    {
     "name": "stdout",
     "output_type": "stream",
     "text": [
      "20565\n"
     ]
    },
    {
     "data": {
      "text/html": [
       "<div>\n",
       "<style scoped>\n",
       "    .dataframe tbody tr th:only-of-type {\n",
       "        vertical-align: middle;\n",
       "    }\n",
       "\n",
       "    .dataframe tbody tr th {\n",
       "        vertical-align: top;\n",
       "    }\n",
       "\n",
       "    .dataframe thead th {\n",
       "        text-align: right;\n",
       "    }\n",
       "</style>\n",
       "<table border=\"1\" class=\"dataframe\">\n",
       "  <thead>\n",
       "    <tr style=\"text-align: right;\">\n",
       "      <th></th>\n",
       "      <th>ticker_time_sec</th>\n",
       "      <th>close</th>\n",
       "      <th>high</th>\n",
       "      <th>low</th>\n",
       "      <th>open</th>\n",
       "      <th>volume_base</th>\n",
       "      <th>volume</th>\n",
       "      <th>partition_date</th>\n",
       "      <th>etl_time</th>\n",
       "      <th>ticker_time</th>\n",
       "      <th>...</th>\n",
       "      <th>open_low21</th>\n",
       "      <th>open_close22</th>\n",
       "      <th>open_high22</th>\n",
       "      <th>open_low22</th>\n",
       "      <th>open_close23</th>\n",
       "      <th>open_high23</th>\n",
       "      <th>open_low23</th>\n",
       "      <th>open_close24</th>\n",
       "      <th>open_high24</th>\n",
       "      <th>open_low24</th>\n",
       "    </tr>\n",
       "  </thead>\n",
       "  <tbody>\n",
       "    <tr>\n",
       "      <th>0</th>\n",
       "      <td>1503028800</td>\n",
       "      <td>4287.92</td>\n",
       "      <td>4292.39</td>\n",
       "      <td>4234.43</td>\n",
       "      <td>4292.39</td>\n",
       "      <td>50.69</td>\n",
       "      <td>216069.15</td>\n",
       "      <td>2021-01-03</td>\n",
       "      <td>2021-01-03 21:29:25.688867+00:00</td>\n",
       "      <td>2017-08-18 04:00:00+00:00</td>\n",
       "      <td>...</td>\n",
       "      <td>0.001948</td>\n",
       "      <td>0.001950</td>\n",
       "      <td>0.001952</td>\n",
       "      <td>0.001950</td>\n",
       "      <td>0.001950</td>\n",
       "      <td>0.001951</td>\n",
       "      <td>0.001949</td>\n",
       "      <td>0.001950</td>\n",
       "      <td>0.002258</td>\n",
       "      <td>0.001947</td>\n",
       "    </tr>\n",
       "    <tr>\n",
       "      <th>1</th>\n",
       "      <td>1503032400</td>\n",
       "      <td>4313.56</td>\n",
       "      <td>4340.62</td>\n",
       "      <td>4250.04</td>\n",
       "      <td>4287.92</td>\n",
       "      <td>64.00</td>\n",
       "      <td>274857.30</td>\n",
       "      <td>2021-01-03</td>\n",
       "      <td>2021-01-03 21:29:25.688867+00:00</td>\n",
       "      <td>2017-08-18 05:00:00+00:00</td>\n",
       "      <td>...</td>\n",
       "      <td>0.001953</td>\n",
       "      <td>0.001954</td>\n",
       "      <td>0.001954</td>\n",
       "      <td>0.001950</td>\n",
       "      <td>0.001952</td>\n",
       "      <td>0.001954</td>\n",
       "      <td>0.001952</td>\n",
       "      <td>0.001952</td>\n",
       "      <td>0.001953</td>\n",
       "      <td>0.001951</td>\n",
       "    </tr>\n",
       "    <tr>\n",
       "      <th>2</th>\n",
       "      <td>1503036000</td>\n",
       "      <td>4279.46</td>\n",
       "      <td>4316.98</td>\n",
       "      <td>4247.75</td>\n",
       "      <td>4313.56</td>\n",
       "      <td>63.95</td>\n",
       "      <td>274013.68</td>\n",
       "      <td>2021-01-03</td>\n",
       "      <td>2021-01-03 21:29:25.688867+00:00</td>\n",
       "      <td>2017-08-18 06:00:00+00:00</td>\n",
       "      <td>...</td>\n",
       "      <td>0.001943</td>\n",
       "      <td>0.001943</td>\n",
       "      <td>0.001944</td>\n",
       "      <td>0.001941</td>\n",
       "      <td>0.001942</td>\n",
       "      <td>0.001942</td>\n",
       "      <td>0.001939</td>\n",
       "      <td>0.001941</td>\n",
       "      <td>0.001942</td>\n",
       "      <td>0.001940</td>\n",
       "    </tr>\n",
       "    <tr>\n",
       "      <th>3</th>\n",
       "      <td>1503039600</td>\n",
       "      <td>4300.25</td>\n",
       "      <td>4304.67</td>\n",
       "      <td>4270.48</td>\n",
       "      <td>4279.46</td>\n",
       "      <td>68.92</td>\n",
       "      <td>295447.38</td>\n",
       "      <td>2021-01-03</td>\n",
       "      <td>2021-01-03 21:29:25.688867+00:00</td>\n",
       "      <td>2017-08-18 07:00:00+00:00</td>\n",
       "      <td>...</td>\n",
       "      <td>0.001960</td>\n",
       "      <td>0.001963</td>\n",
       "      <td>0.001963</td>\n",
       "      <td>0.001958</td>\n",
       "      <td>0.001958</td>\n",
       "      <td>0.001959</td>\n",
       "      <td>0.001957</td>\n",
       "      <td>0.001958</td>\n",
       "      <td>0.001958</td>\n",
       "      <td>0.001954</td>\n",
       "    </tr>\n",
       "    <tr>\n",
       "      <th>4</th>\n",
       "      <td>1503043200</td>\n",
       "      <td>4282.73</td>\n",
       "      <td>4320.71</td>\n",
       "      <td>4259.85</td>\n",
       "      <td>4300.25</td>\n",
       "      <td>73.83</td>\n",
       "      <td>316938.59</td>\n",
       "      <td>2021-01-03</td>\n",
       "      <td>2021-01-03 21:29:25.688867+00:00</td>\n",
       "      <td>2017-08-18 08:00:00+00:00</td>\n",
       "      <td>...</td>\n",
       "      <td>0.001952</td>\n",
       "      <td>0.001954</td>\n",
       "      <td>0.001955</td>\n",
       "      <td>0.001951</td>\n",
       "      <td>0.001953</td>\n",
       "      <td>0.001953</td>\n",
       "      <td>0.001949</td>\n",
       "      <td>0.001949</td>\n",
       "      <td>0.001950</td>\n",
       "      <td>0.001947</td>\n",
       "    </tr>\n",
       "  </tbody>\n",
       "</table>\n",
       "<p>5 rows × 106 columns</p>\n",
       "</div>"
      ],
      "text/plain": [
       "   ticker_time_sec    close     high      low     open  volume_base  \\\n",
       "0       1503028800  4287.92  4292.39  4234.43  4292.39        50.69   \n",
       "1       1503032400  4313.56  4340.62  4250.04  4287.92        64.00   \n",
       "2       1503036000  4279.46  4316.98  4247.75  4313.56        63.95   \n",
       "3       1503039600  4300.25  4304.67  4270.48  4279.46        68.92   \n",
       "4       1503043200  4282.73  4320.71  4259.85  4300.25        73.83   \n",
       "\n",
       "      volume partition_date                         etl_time  \\\n",
       "0  216069.15     2021-01-03 2021-01-03 21:29:25.688867+00:00   \n",
       "1  274857.30     2021-01-03 2021-01-03 21:29:25.688867+00:00   \n",
       "2  274013.68     2021-01-03 2021-01-03 21:29:25.688867+00:00   \n",
       "3  295447.38     2021-01-03 2021-01-03 21:29:25.688867+00:00   \n",
       "4  316938.59     2021-01-03 2021-01-03 21:29:25.688867+00:00   \n",
       "\n",
       "                ticker_time  ... open_low21 open_close22 open_high22  \\\n",
       "0 2017-08-18 04:00:00+00:00  ...   0.001948     0.001950    0.001952   \n",
       "1 2017-08-18 05:00:00+00:00  ...   0.001953     0.001954    0.001954   \n",
       "2 2017-08-18 06:00:00+00:00  ...   0.001943     0.001943    0.001944   \n",
       "3 2017-08-18 07:00:00+00:00  ...   0.001960     0.001963    0.001963   \n",
       "4 2017-08-18 08:00:00+00:00  ...   0.001952     0.001954    0.001955   \n",
       "\n",
       "   open_low22  open_close23  open_high23  open_low23  open_close24  \\\n",
       "0    0.001950      0.001950     0.001951    0.001949      0.001950   \n",
       "1    0.001950      0.001952     0.001954    0.001952      0.001952   \n",
       "2    0.001941      0.001942     0.001942    0.001939      0.001941   \n",
       "3    0.001958      0.001958     0.001959    0.001957      0.001958   \n",
       "4    0.001951      0.001953     0.001953    0.001949      0.001949   \n",
       "\n",
       "   open_high24  open_low24  \n",
       "0     0.002258    0.001947  \n",
       "1     0.001953    0.001951  \n",
       "2     0.001942    0.001940  \n",
       "3     0.001958    0.001954  \n",
       "4     0.001950    0.001947  \n",
       "\n",
       "[5 rows x 106 columns]"
      ]
     },
     "execution_count": 3,
     "metadata": {},
     "output_type": "execute_result"
    }
   ],
   "source": [
    "# Drop nan values\n",
    "data.df = data.df.replace([np.inf, -np.inf], np.nan).dropna()\n",
    "print(len(data.df))\n",
    "data.df.head()"
   ]
  },
  {
   "cell_type": "markdown",
   "metadata": {},
   "source": [
    "<br>\n",
    "\n",
    "### Initialize modelRegression class"
   ]
  },
  {
   "cell_type": "code",
   "execution_count": 5,
   "metadata": {},
   "outputs": [
    {
     "name": "stdout",
     "output_type": "stream",
     "text": [
      "SUCCESS: Loaded dataObject.\n",
      "Initialized model. As a next step, run self.predict() or self.train().\n",
      "Training model on ROR_n24.\n",
      "Model metadata added to `self.metadata.metadata`\n",
      "SUCCESS: Loaded DataFrame.\n"
     ]
    },
    {
     "name": "stderr",
     "output_type": "stream",
     "text": [
      "1it [00:06,  6.67s/it]\n"
     ]
    },
    {
     "name": "stdout",
     "output_type": "stream",
     "text": [
      "Model metadata added to `self.metadata.parameters`\n",
      "SUCCESS: Loaded DataFrame.\n"
     ]
    },
    {
     "name": "stderr",
     "output_type": "stream",
     "text": [
      "1it [00:03,  3.55s/it]\n"
     ]
    },
    {
     "name": "stdout",
     "output_type": "stream",
     "text": [
      "SUCCESS: Loaded DataFrame.\n"
     ]
    },
    {
     "name": "stderr",
     "output_type": "stream",
     "text": [
      "1it [00:03,  3.21s/it]\n"
     ]
    },
    {
     "name": "stdout",
     "output_type": "stream",
     "text": [
      "Set feature_importance to `self.feature_importance.feature_importance`\n",
      "Fit model in 0:00:00.000018.\n",
      "Get model performance.\n",
      "Set evaluation to self.evaluations in 0:00:00.000018.\n",
      "SUCCESS: Loaded DataFrame.\n"
     ]
    },
    {
     "name": "stderr",
     "output_type": "stream",
     "text": [
      "1it [00:17, 17.69s/it]"
     ]
    },
    {
     "name": "stdout",
     "output_type": "stream",
     "text": [
      "Set R^2 to `self.rsquared`\n",
      "The following performance measures have been added:\n",
      "                - self.mean_abs_error\n",
      "                - self.mean_abs_outcome\n",
      "                - self.mean_abs_pct_error\n",
      "                - self.error_var\n",
      "            \n",
      "Performance metrics added to `self.performance`\n",
      "\n",
      "MODEL PERFORMANCE SUMMARY\n",
      "        - Mean Absolute Error:\t 0.027\n",
      "        - Mean Absolute Outcome:\t 0.03056\n",
      "        - Mean Absolute Percent Error:\t 0.88332\n",
      "        - Error Variance:\t 0.00161\n",
      "        - R-Squared:\t\t 0.2104\n",
      "        \n",
      "PLOT PREDICTIONS: Use the following commandsto view model performance.\n",
      "              `self.plot_predictions_by_date(start_date, end_date)`\n",
      "              `self.plot_predictions_histogram(start_date, end_date)`\n",
      "              `self.plot_errors_by_date(start_date, end_date)`\n",
      "              `self.plot_errors_histogram(start_date, end_date)`\n",
      "              `self.plot_predictions_scatterplot(start_date, end_date)`\n",
      "              \n"
     ]
    },
    {
     "name": "stderr",
     "output_type": "stream",
     "text": [
      "\n"
     ]
    }
   ],
   "source": [
    "# Initialize model class\n",
    "model = modelRegression(\n",
    "    data, \n",
    "    outcome='ROR_n24',\n",
    "    index_features=configs.INDEX_FEATURES, \n",
    "    omit_features=configs.OMIT_FEATURES,\n",
    "    to_bq=True,\n",
    ")\n",
    "\n",
    "# Specify regression parameters\n",
    "from sklearn import ensemble\n",
    "reg = ensemble.GradientBoostingRegressor(\n",
    "    loss='ls', \n",
    "    learning_rate=0.1,\n",
    "    n_estimators=500,\n",
    "    subsample=.9,\n",
    "    criterion='friedman_mse', \n",
    "    min_samples_split=3, \n",
    "    min_samples_leaf=3,\n",
    "    min_weight_fraction_leaf=0.0,\n",
    "    max_depth=10,\n",
    "    min_impurity_decrease=0.0, \n",
    "    min_impurity_split=None, \n",
    "    init=None,\n",
    "    random_state=None, \n",
    "    max_features=None, \n",
    "    alpha=0.9, \n",
    "    verbose=0,\n",
    "    max_leaf_nodes=None, \n",
    "    warm_start=False, \n",
    "    validation_fraction=0.1, \n",
    "    n_iter_no_change=None, \n",
    "    tol=0.0001\n",
    ")\n",
    "\n",
    "\n",
    "# Train model\n",
    "model.train(reg)\n"
   ]
  },
  {
   "cell_type": "code",
   "execution_count": 6,
   "metadata": {},
   "outputs": [
    {
     "name": "stdout",
     "output_type": "stream",
     "text": [
      "model_id: 2aeb39446969312548b8c5ef57d92a63bea44184\n",
      "model_execution_id: 6ee5aa0ae9af88ea636ab5f6e3e31be1d7e7d11b\n"
     ]
    }
   ],
   "source": [
    "# Model IDs\n",
    "print('model_id: ' + model.model_id)\n",
    "print('model_execution_id: ' + model.model_execution_id)"
   ]
  },
  {
   "cell_type": "code",
   "execution_count": 7,
   "metadata": {},
   "outputs": [
    {
     "name": "stdout",
     "output_type": "stream",
     "text": [
      "Dumped model to:\n",
      "\t/home/jovyan/algomosaic/data/models/20210105_GradientBoostingRegressor_2aeb39446969312548b8c5ef57d92a63bea44184.pickle\n",
      "Uploaded pickle to Google Storage:\n",
      "\thttps://storage.googleapis.com/algom-trading-sto/models/20210105_GradientBoostingRegressor_2aeb39446969312548b8c5ef57d92a63bea44184.pickle\n",
      "SUCCESS: Loaded DataFrame.\n"
     ]
    },
    {
     "name": "stderr",
     "output_type": "stream",
     "text": [
      "1it [00:02,  2.97s/it]"
     ]
    },
    {
     "name": "stdout",
     "output_type": "stream",
     "text": [
      "Uploaded storage metadata to Google BigQuery:\n",
      "\tstorage.model_storage_YYYYMMDD\n",
      "Saved model to Google Storage:\n",
      "\tmodels/20210105_GradientBoostingRegressor_2aeb39446969312548b8c5ef57d92a63bea44184.pickle\n"
     ]
    },
    {
     "name": "stderr",
     "output_type": "stream",
     "text": [
      "\n"
     ]
    }
   ],
   "source": [
    "# Save model (optional)\n",
    "model.save()"
   ]
  },
  {
   "cell_type": "code",
   "execution_count": null,
   "metadata": {},
   "outputs": [],
   "source": []
  },
  {
   "cell_type": "markdown",
   "metadata": {},
   "source": [
    "<br>\n",
    "\n",
    "## View performance \n",
    "\n",
    "+ Trending predictions vs outcomes\n",
    "+ Histogram of predictions vs outcomes\n"
   ]
  },
  {
   "cell_type": "code",
   "execution_count": 9,
   "metadata": {},
   "outputs": [],
   "source": [
    "start_date='2019-06-01'\n",
    "end_date='2019-07-01'\n",
    "%matplotlib inline\n",
    "model_plot = modelPlots(model)"
   ]
  },
  {
   "cell_type": "code",
   "execution_count": 10,
   "metadata": {},
   "outputs": [
    {
     "name": "stdout",
     "output_type": "stream",
     "text": [
      "PLOT: Predictions by Date\n",
      "        `self.plot_predictions_by_date(start_date, end_date)`\n"
     ]
    },
    {
     "data": {
      "text/plain": [
       "<matplotlib.axes._subplots.AxesSubplot at 0x7f7fb8355f90>"
      ]
     },
     "execution_count": 10,
     "metadata": {},
     "output_type": "execute_result"
    },
    {
     "data": {
      "image/png": "[encoded data removed]",
      "text/plain": [
       "<Figure size 1440x360 with 1 Axes>"
      ]
     },
     "metadata": {
      "needs_background": "light"
     },
     "output_type": "display_data"
    }
   ],
   "source": [
    "model_plot.plot_predictions_by_date(start_date, end_date)"
   ]
  },
  {
   "cell_type": "code",
   "execution_count": 11,
   "metadata": {},
   "outputs": [
    {
     "name": "stdout",
     "output_type": "stream",
     "text": [
      "PLOT: Prediction Errors by Date`\n"
     ]
    },
    {
     "data": {
      "text/plain": [
       "<matplotlib.axes._subplots.AxesSubplot at 0x7f7fa9992bd0>"
      ]
     },
     "execution_count": 11,
     "metadata": {},
     "output_type": "execute_result"
    },
    {
     "data": {
      "image/png": "[encoded data removed]",
      "text/plain": [
       "<Figure size 1440x360 with 1 Axes>"
      ]
     },
     "metadata": {
      "needs_background": "light"
     },
     "output_type": "display_data"
    }
   ],
   "source": [
    "model_plot.plot_errors_by_date(start_date, end_date)"
   ]
  },
  {
   "cell_type": "code",
   "execution_count": 12,
   "metadata": {},
   "outputs": [
    {
     "name": "stdout",
     "output_type": "stream",
     "text": [
      "PLOT: Predictions Histogram\n"
     ]
    },
    {
     "data": {
      "text/plain": [
       "<matplotlib.axes._subplots.AxesSubplot at 0x7f7fa954d9d0>"
      ]
     },
     "execution_count": 12,
     "metadata": {},
     "output_type": "execute_result"
    },
    {
     "data": {
      "image/png": "[encoded data removed]",
      "text/plain": [
       "<Figure size 720x360 with 1 Axes>"
      ]
     },
     "metadata": {
      "needs_background": "light"
     },
     "output_type": "display_data"
    }
   ],
   "source": [
    "model_plot.plot_predictions_histogram(start_date, end_date)"
   ]
  },
  {
   "cell_type": "code",
   "execution_count": 13,
   "metadata": {},
   "outputs": [
    {
     "name": "stdout",
     "output_type": "stream",
     "text": [
      "PLOT: Predictions Histogram\n"
     ]
    },
    {
     "data": {
      "text/plain": [
       "<matplotlib.axes._subplots.AxesSubplot at 0x7f7fa99ff8d0>"
      ]
     },
     "execution_count": 13,
     "metadata": {},
     "output_type": "execute_result"
    },
    {
     "data": {
      "image/png": "[encoded data removed]",
      "text/plain": [
       "<Figure size 720x360 with 1 Axes>"
      ]
     },
     "metadata": {
      "needs_background": "light"
     },
     "output_type": "display_data"
    }
   ],
   "source": [
    "model_plot.plot_errors_histogram(start_date, end_date)\n"
   ]
  },
  {
   "cell_type": "code",
   "execution_count": 14,
   "metadata": {},
   "outputs": [
    {
     "name": "stdout",
     "output_type": "stream",
     "text": [
      "PLOT: Predictions by Date\n"
     ]
    },
    {
     "data": {
      "text/plain": [
       "<matplotlib.axes._subplots.AxesSubplot at 0x7f7fa92fcd10>"
      ]
     },
     "execution_count": 14,
     "metadata": {},
     "output_type": "execute_result"
    },
    {
     "data": {
      "image/png": "[encoded data removed]",
      "text/plain": [
       "<Figure size 360x360 with 1 Axes>"
      ]
     },
     "metadata": {
      "needs_background": "light"
     },
     "output_type": "display_data"
    }
   ],
   "source": [
    "model_plot.plot_predictions_scatterplot(start_date, end_date)"
   ]
  },
  {
   "cell_type": "markdown",
   "metadata": {},
   "source": [
    "<br>\n",
    "\n",
    "### Most important features\n"
   ]
  },
  {
   "cell_type": "code",
   "execution_count": 15,
   "metadata": {},
   "outputs": [
    {
     "data": {
      "text/html": [
       "<div>\n",
       "<style scoped>\n",
       "    .dataframe tbody tr th:only-of-type {\n",
       "        vertical-align: middle;\n",
       "    }\n",
       "\n",
       "    .dataframe tbody tr th {\n",
       "        vertical-align: top;\n",
       "    }\n",
       "\n",
       "    .dataframe thead th {\n",
       "        text-align: right;\n",
       "    }\n",
       "</style>\n",
       "<table border=\"1\" class=\"dataframe\">\n",
       "  <thead>\n",
       "    <tr style=\"text-align: right;\">\n",
       "      <th></th>\n",
       "      <th>model_execution_id</th>\n",
       "      <th>data_id</th>\n",
       "      <th>outcome_variable</th>\n",
       "      <th>variable</th>\n",
       "      <th>importance</th>\n",
       "      <th>rank</th>\n",
       "      <th>pct_rank</th>\n",
       "    </tr>\n",
       "  </thead>\n",
       "  <tbody>\n",
       "    <tr>\n",
       "      <th>0</th>\n",
       "      <td>aa6308878b4a3df7f0a43f852c4811890468c058</td>\n",
       "      <td>6eef6648406c333a4035cd5e60d0bf2ecf2606d7</td>\n",
       "      <td>ROR_n24</td>\n",
       "      <td>day_of_week</td>\n",
       "      <td>0.08373</td>\n",
       "      <td>1.0</td>\n",
       "      <td>1.000000</td>\n",
       "    </tr>\n",
       "    <tr>\n",
       "      <th>1</th>\n",
       "      <td>aa6308878b4a3df7f0a43f852c4811890468c058</td>\n",
       "      <td>6eef6648406c333a4035cd5e60d0bf2ecf2606d7</td>\n",
       "      <td>ROR_n24</td>\n",
       "      <td>hour_of_day</td>\n",
       "      <td>0.04293</td>\n",
       "      <td>2.0</td>\n",
       "      <td>0.986486</td>\n",
       "    </tr>\n",
       "    <tr>\n",
       "      <th>2</th>\n",
       "      <td>aa6308878b4a3df7f0a43f852c4811890468c058</td>\n",
       "      <td>6eef6648406c333a4035cd5e60d0bf2ecf2606d7</td>\n",
       "      <td>ROR_n24</td>\n",
       "      <td>open_close1</td>\n",
       "      <td>0.03198</td>\n",
       "      <td>3.0</td>\n",
       "      <td>0.972973</td>\n",
       "    </tr>\n",
       "    <tr>\n",
       "      <th>3</th>\n",
       "      <td>aa6308878b4a3df7f0a43f852c4811890468c058</td>\n",
       "      <td>6eef6648406c333a4035cd5e60d0bf2ecf2606d7</td>\n",
       "      <td>ROR_n24</td>\n",
       "      <td>open_high24</td>\n",
       "      <td>0.02804</td>\n",
       "      <td>4.0</td>\n",
       "      <td>0.959459</td>\n",
       "    </tr>\n",
       "    <tr>\n",
       "      <th>4</th>\n",
       "      <td>aa6308878b4a3df7f0a43f852c4811890468c058</td>\n",
       "      <td>6eef6648406c333a4035cd5e60d0bf2ecf2606d7</td>\n",
       "      <td>ROR_n24</td>\n",
       "      <td>open_low24</td>\n",
       "      <td>0.02739</td>\n",
       "      <td>5.0</td>\n",
       "      <td>0.945946</td>\n",
       "    </tr>\n",
       "    <tr>\n",
       "      <th>5</th>\n",
       "      <td>aa6308878b4a3df7f0a43f852c4811890468c058</td>\n",
       "      <td>6eef6648406c333a4035cd5e60d0bf2ecf2606d7</td>\n",
       "      <td>ROR_n24</td>\n",
       "      <td>open_low1</td>\n",
       "      <td>0.02721</td>\n",
       "      <td>6.0</td>\n",
       "      <td>0.932432</td>\n",
       "    </tr>\n",
       "    <tr>\n",
       "      <th>6</th>\n",
       "      <td>aa6308878b4a3df7f0a43f852c4811890468c058</td>\n",
       "      <td>6eef6648406c333a4035cd5e60d0bf2ecf2606d7</td>\n",
       "      <td>ROR_n24</td>\n",
       "      <td>open_low2</td>\n",
       "      <td>0.02202</td>\n",
       "      <td>7.0</td>\n",
       "      <td>0.918919</td>\n",
       "    </tr>\n",
       "    <tr>\n",
       "      <th>7</th>\n",
       "      <td>aa6308878b4a3df7f0a43f852c4811890468c058</td>\n",
       "      <td>6eef6648406c333a4035cd5e60d0bf2ecf2606d7</td>\n",
       "      <td>ROR_n24</td>\n",
       "      <td>open_low21</td>\n",
       "      <td>0.02025</td>\n",
       "      <td>8.0</td>\n",
       "      <td>0.905405</td>\n",
       "    </tr>\n",
       "    <tr>\n",
       "      <th>8</th>\n",
       "      <td>aa6308878b4a3df7f0a43f852c4811890468c058</td>\n",
       "      <td>6eef6648406c333a4035cd5e60d0bf2ecf2606d7</td>\n",
       "      <td>ROR_n24</td>\n",
       "      <td>open_low3</td>\n",
       "      <td>0.01954</td>\n",
       "      <td>9.0</td>\n",
       "      <td>0.891892</td>\n",
       "    </tr>\n",
       "    <tr>\n",
       "      <th>9</th>\n",
       "      <td>aa6308878b4a3df7f0a43f852c4811890468c058</td>\n",
       "      <td>6eef6648406c333a4035cd5e60d0bf2ecf2606d7</td>\n",
       "      <td>ROR_n24</td>\n",
       "      <td>open_high1</td>\n",
       "      <td>0.01897</td>\n",
       "      <td>10.0</td>\n",
       "      <td>0.878378</td>\n",
       "    </tr>\n",
       "    <tr>\n",
       "      <th>10</th>\n",
       "      <td>aa6308878b4a3df7f0a43f852c4811890468c058</td>\n",
       "      <td>6eef6648406c333a4035cd5e60d0bf2ecf2606d7</td>\n",
       "      <td>ROR_n24</td>\n",
       "      <td>open_high23</td>\n",
       "      <td>0.01770</td>\n",
       "      <td>11.0</td>\n",
       "      <td>0.864865</td>\n",
       "    </tr>\n",
       "    <tr>\n",
       "      <th>11</th>\n",
       "      <td>aa6308878b4a3df7f0a43f852c4811890468c058</td>\n",
       "      <td>6eef6648406c333a4035cd5e60d0bf2ecf2606d7</td>\n",
       "      <td>ROR_n24</td>\n",
       "      <td>open_low23</td>\n",
       "      <td>0.01719</td>\n",
       "      <td>12.0</td>\n",
       "      <td>0.851351</td>\n",
       "    </tr>\n",
       "    <tr>\n",
       "      <th>12</th>\n",
       "      <td>aa6308878b4a3df7f0a43f852c4811890468c058</td>\n",
       "      <td>6eef6648406c333a4035cd5e60d0bf2ecf2606d7</td>\n",
       "      <td>ROR_n24</td>\n",
       "      <td>open_low20</td>\n",
       "      <td>0.01576</td>\n",
       "      <td>13.0</td>\n",
       "      <td>0.837838</td>\n",
       "    </tr>\n",
       "    <tr>\n",
       "      <th>13</th>\n",
       "      <td>aa6308878b4a3df7f0a43f852c4811890468c058</td>\n",
       "      <td>6eef6648406c333a4035cd5e60d0bf2ecf2606d7</td>\n",
       "      <td>ROR_n24</td>\n",
       "      <td>open_low19</td>\n",
       "      <td>0.01517</td>\n",
       "      <td>14.0</td>\n",
       "      <td>0.824324</td>\n",
       "    </tr>\n",
       "    <tr>\n",
       "      <th>14</th>\n",
       "      <td>aa6308878b4a3df7f0a43f852c4811890468c058</td>\n",
       "      <td>6eef6648406c333a4035cd5e60d0bf2ecf2606d7</td>\n",
       "      <td>ROR_n24</td>\n",
       "      <td>open_close2</td>\n",
       "      <td>0.01505</td>\n",
       "      <td>15.0</td>\n",
       "      <td>0.810811</td>\n",
       "    </tr>\n",
       "    <tr>\n",
       "      <th>15</th>\n",
       "      <td>aa6308878b4a3df7f0a43f852c4811890468c058</td>\n",
       "      <td>6eef6648406c333a4035cd5e60d0bf2ecf2606d7</td>\n",
       "      <td>ROR_n24</td>\n",
       "      <td>open_close24</td>\n",
       "      <td>0.01489</td>\n",
       "      <td>16.0</td>\n",
       "      <td>0.797297</td>\n",
       "    </tr>\n",
       "    <tr>\n",
       "      <th>16</th>\n",
       "      <td>aa6308878b4a3df7f0a43f852c4811890468c058</td>\n",
       "      <td>6eef6648406c333a4035cd5e60d0bf2ecf2606d7</td>\n",
       "      <td>ROR_n24</td>\n",
       "      <td>open_low5</td>\n",
       "      <td>0.01438</td>\n",
       "      <td>17.0</td>\n",
       "      <td>0.783784</td>\n",
       "    </tr>\n",
       "    <tr>\n",
       "      <th>17</th>\n",
       "      <td>aa6308878b4a3df7f0a43f852c4811890468c058</td>\n",
       "      <td>6eef6648406c333a4035cd5e60d0bf2ecf2606d7</td>\n",
       "      <td>ROR_n24</td>\n",
       "      <td>open_low10</td>\n",
       "      <td>0.01426</td>\n",
       "      <td>18.0</td>\n",
       "      <td>0.770270</td>\n",
       "    </tr>\n",
       "    <tr>\n",
       "      <th>18</th>\n",
       "      <td>aa6308878b4a3df7f0a43f852c4811890468c058</td>\n",
       "      <td>6eef6648406c333a4035cd5e60d0bf2ecf2606d7</td>\n",
       "      <td>ROR_n24</td>\n",
       "      <td>open_low14</td>\n",
       "      <td>0.01372</td>\n",
       "      <td>19.0</td>\n",
       "      <td>0.756757</td>\n",
       "    </tr>\n",
       "    <tr>\n",
       "      <th>19</th>\n",
       "      <td>aa6308878b4a3df7f0a43f852c4811890468c058</td>\n",
       "      <td>6eef6648406c333a4035cd5e60d0bf2ecf2606d7</td>\n",
       "      <td>ROR_n24</td>\n",
       "      <td>open_high22</td>\n",
       "      <td>0.01366</td>\n",
       "      <td>20.0</td>\n",
       "      <td>0.743243</td>\n",
       "    </tr>\n",
       "    <tr>\n",
       "      <th>20</th>\n",
       "      <td>aa6308878b4a3df7f0a43f852c4811890468c058</td>\n",
       "      <td>6eef6648406c333a4035cd5e60d0bf2ecf2606d7</td>\n",
       "      <td>ROR_n24</td>\n",
       "      <td>open_low22</td>\n",
       "      <td>0.01348</td>\n",
       "      <td>21.0</td>\n",
       "      <td>0.729730</td>\n",
       "    </tr>\n",
       "    <tr>\n",
       "      <th>21</th>\n",
       "      <td>aa6308878b4a3df7f0a43f852c4811890468c058</td>\n",
       "      <td>6eef6648406c333a4035cd5e60d0bf2ecf2606d7</td>\n",
       "      <td>ROR_n24</td>\n",
       "      <td>open_high21</td>\n",
       "      <td>0.01331</td>\n",
       "      <td>22.0</td>\n",
       "      <td>0.716216</td>\n",
       "    </tr>\n",
       "    <tr>\n",
       "      <th>22</th>\n",
       "      <td>aa6308878b4a3df7f0a43f852c4811890468c058</td>\n",
       "      <td>6eef6648406c333a4035cd5e60d0bf2ecf2606d7</td>\n",
       "      <td>ROR_n24</td>\n",
       "      <td>open_low6</td>\n",
       "      <td>0.01313</td>\n",
       "      <td>23.0</td>\n",
       "      <td>0.702703</td>\n",
       "    </tr>\n",
       "    <tr>\n",
       "      <th>23</th>\n",
       "      <td>aa6308878b4a3df7f0a43f852c4811890468c058</td>\n",
       "      <td>6eef6648406c333a4035cd5e60d0bf2ecf2606d7</td>\n",
       "      <td>ROR_n24</td>\n",
       "      <td>open_low18</td>\n",
       "      <td>0.01276</td>\n",
       "      <td>24.0</td>\n",
       "      <td>0.689189</td>\n",
       "    </tr>\n",
       "    <tr>\n",
       "      <th>24</th>\n",
       "      <td>aa6308878b4a3df7f0a43f852c4811890468c058</td>\n",
       "      <td>6eef6648406c333a4035cd5e60d0bf2ecf2606d7</td>\n",
       "      <td>ROR_n24</td>\n",
       "      <td>open_high17</td>\n",
       "      <td>0.01209</td>\n",
       "      <td>25.0</td>\n",
       "      <td>0.675676</td>\n",
       "    </tr>\n",
       "    <tr>\n",
       "      <th>25</th>\n",
       "      <td>aa6308878b4a3df7f0a43f852c4811890468c058</td>\n",
       "      <td>6eef6648406c333a4035cd5e60d0bf2ecf2606d7</td>\n",
       "      <td>ROR_n24</td>\n",
       "      <td>open_high20</td>\n",
       "      <td>0.01201</td>\n",
       "      <td>26.0</td>\n",
       "      <td>0.662162</td>\n",
       "    </tr>\n",
       "    <tr>\n",
       "      <th>26</th>\n",
       "      <td>aa6308878b4a3df7f0a43f852c4811890468c058</td>\n",
       "      <td>6eef6648406c333a4035cd5e60d0bf2ecf2606d7</td>\n",
       "      <td>ROR_n24</td>\n",
       "      <td>open_low8</td>\n",
       "      <td>0.01184</td>\n",
       "      <td>27.0</td>\n",
       "      <td>0.648649</td>\n",
       "    </tr>\n",
       "    <tr>\n",
       "      <th>27</th>\n",
       "      <td>aa6308878b4a3df7f0a43f852c4811890468c058</td>\n",
       "      <td>6eef6648406c333a4035cd5e60d0bf2ecf2606d7</td>\n",
       "      <td>ROR_n24</td>\n",
       "      <td>open_high2</td>\n",
       "      <td>0.01183</td>\n",
       "      <td>28.0</td>\n",
       "      <td>0.635135</td>\n",
       "    </tr>\n",
       "    <tr>\n",
       "      <th>28</th>\n",
       "      <td>aa6308878b4a3df7f0a43f852c4811890468c058</td>\n",
       "      <td>6eef6648406c333a4035cd5e60d0bf2ecf2606d7</td>\n",
       "      <td>ROR_n24</td>\n",
       "      <td>open_high3</td>\n",
       "      <td>0.01176</td>\n",
       "      <td>29.0</td>\n",
       "      <td>0.621622</td>\n",
       "    </tr>\n",
       "    <tr>\n",
       "      <th>29</th>\n",
       "      <td>aa6308878b4a3df7f0a43f852c4811890468c058</td>\n",
       "      <td>6eef6648406c333a4035cd5e60d0bf2ecf2606d7</td>\n",
       "      <td>ROR_n24</td>\n",
       "      <td>open_low7</td>\n",
       "      <td>0.01131</td>\n",
       "      <td>30.0</td>\n",
       "      <td>0.608108</td>\n",
       "    </tr>\n",
       "  </tbody>\n",
       "</table>\n",
       "</div>"
      ],
      "text/plain": [
       "                          model_execution_id  \\\n",
       "0   aa6308878b4a3df7f0a43f852c4811890468c058   \n",
       "1   aa6308878b4a3df7f0a43f852c4811890468c058   \n",
       "2   aa6308878b4a3df7f0a43f852c4811890468c058   \n",
       "3   aa6308878b4a3df7f0a43f852c4811890468c058   \n",
       "4   aa6308878b4a3df7f0a43f852c4811890468c058   \n",
       "5   aa6308878b4a3df7f0a43f852c4811890468c058   \n",
       "6   aa6308878b4a3df7f0a43f852c4811890468c058   \n",
       "7   aa6308878b4a3df7f0a43f852c4811890468c058   \n",
       "8   aa6308878b4a3df7f0a43f852c4811890468c058   \n",
       "9   aa6308878b4a3df7f0a43f852c4811890468c058   \n",
       "10  aa6308878b4a3df7f0a43f852c4811890468c058   \n",
       "11  aa6308878b4a3df7f0a43f852c4811890468c058   \n",
       "12  aa6308878b4a3df7f0a43f852c4811890468c058   \n",
       "13  aa6308878b4a3df7f0a43f852c4811890468c058   \n",
       "14  aa6308878b4a3df7f0a43f852c4811890468c058   \n",
       "15  aa6308878b4a3df7f0a43f852c4811890468c058   \n",
       "16  aa6308878b4a3df7f0a43f852c4811890468c058   \n",
       "17  aa6308878b4a3df7f0a43f852c4811890468c058   \n",
       "18  aa6308878b4a3df7f0a43f852c4811890468c058   \n",
       "19  aa6308878b4a3df7f0a43f852c4811890468c058   \n",
       "20  aa6308878b4a3df7f0a43f852c4811890468c058   \n",
       "21  aa6308878b4a3df7f0a43f852c4811890468c058   \n",
       "22  aa6308878b4a3df7f0a43f852c4811890468c058   \n",
       "23  aa6308878b4a3df7f0a43f852c4811890468c058   \n",
       "24  aa6308878b4a3df7f0a43f852c4811890468c058   \n",
       "25  aa6308878b4a3df7f0a43f852c4811890468c058   \n",
       "26  aa6308878b4a3df7f0a43f852c4811890468c058   \n",
       "27  aa6308878b4a3df7f0a43f852c4811890468c058   \n",
       "28  aa6308878b4a3df7f0a43f852c4811890468c058   \n",
       "29  aa6308878b4a3df7f0a43f852c4811890468c058   \n",
       "\n",
       "                                     data_id outcome_variable      variable  \\\n",
       "0   6eef6648406c333a4035cd5e60d0bf2ecf2606d7          ROR_n24   day_of_week   \n",
       "1   6eef6648406c333a4035cd5e60d0bf2ecf2606d7          ROR_n24   hour_of_day   \n",
       "2   6eef6648406c333a4035cd5e60d0bf2ecf2606d7          ROR_n24   open_close1   \n",
       "3   6eef6648406c333a4035cd5e60d0bf2ecf2606d7          ROR_n24   open_high24   \n",
       "4   6eef6648406c333a4035cd5e60d0bf2ecf2606d7          ROR_n24    open_low24   \n",
       "5   6eef6648406c333a4035cd5e60d0bf2ecf2606d7          ROR_n24     open_low1   \n",
       "6   6eef6648406c333a4035cd5e60d0bf2ecf2606d7          ROR_n24     open_low2   \n",
       "7   6eef6648406c333a4035cd5e60d0bf2ecf2606d7          ROR_n24    open_low21   \n",
       "8   6eef6648406c333a4035cd5e60d0bf2ecf2606d7          ROR_n24     open_low3   \n",
       "9   6eef6648406c333a4035cd5e60d0bf2ecf2606d7          ROR_n24    open_high1   \n",
       "10  6eef6648406c333a4035cd5e60d0bf2ecf2606d7          ROR_n24   open_high23   \n",
       "11  6eef6648406c333a4035cd5e60d0bf2ecf2606d7          ROR_n24    open_low23   \n",
       "12  6eef6648406c333a4035cd5e60d0bf2ecf2606d7          ROR_n24    open_low20   \n",
       "13  6eef6648406c333a4035cd5e60d0bf2ecf2606d7          ROR_n24    open_low19   \n",
       "14  6eef6648406c333a4035cd5e60d0bf2ecf2606d7          ROR_n24   open_close2   \n",
       "15  6eef6648406c333a4035cd5e60d0bf2ecf2606d7          ROR_n24  open_close24   \n",
       "16  6eef6648406c333a4035cd5e60d0bf2ecf2606d7          ROR_n24     open_low5   \n",
       "17  6eef6648406c333a4035cd5e60d0bf2ecf2606d7          ROR_n24    open_low10   \n",
       "18  6eef6648406c333a4035cd5e60d0bf2ecf2606d7          ROR_n24    open_low14   \n",
       "19  6eef6648406c333a4035cd5e60d0bf2ecf2606d7          ROR_n24   open_high22   \n",
       "20  6eef6648406c333a4035cd5e60d0bf2ecf2606d7          ROR_n24    open_low22   \n",
       "21  6eef6648406c333a4035cd5e60d0bf2ecf2606d7          ROR_n24   open_high21   \n",
       "22  6eef6648406c333a4035cd5e60d0bf2ecf2606d7          ROR_n24     open_low6   \n",
       "23  6eef6648406c333a4035cd5e60d0bf2ecf2606d7          ROR_n24    open_low18   \n",
       "24  6eef6648406c333a4035cd5e60d0bf2ecf2606d7          ROR_n24   open_high17   \n",
       "25  6eef6648406c333a4035cd5e60d0bf2ecf2606d7          ROR_n24   open_high20   \n",
       "26  6eef6648406c333a4035cd5e60d0bf2ecf2606d7          ROR_n24     open_low8   \n",
       "27  6eef6648406c333a4035cd5e60d0bf2ecf2606d7          ROR_n24    open_high2   \n",
       "28  6eef6648406c333a4035cd5e60d0bf2ecf2606d7          ROR_n24    open_high3   \n",
       "29  6eef6648406c333a4035cd5e60d0bf2ecf2606d7          ROR_n24     open_low7   \n",
       "\n",
       "    importance  rank  pct_rank  \n",
       "0      0.08373   1.0  1.000000  \n",
       "1      0.04293   2.0  0.986486  \n",
       "2      0.03198   3.0  0.972973  \n",
       "3      0.02804   4.0  0.959459  \n",
       "4      0.02739   5.0  0.945946  \n",
       "5      0.02721   6.0  0.932432  \n",
       "6      0.02202   7.0  0.918919  \n",
       "7      0.02025   8.0  0.905405  \n",
       "8      0.01954   9.0  0.891892  \n",
       "9      0.01897  10.0  0.878378  \n",
       "10     0.01770  11.0  0.864865  \n",
       "11     0.01719  12.0  0.851351  \n",
       "12     0.01576  13.0  0.837838  \n",
       "13     0.01517  14.0  0.824324  \n",
       "14     0.01505  15.0  0.810811  \n",
       "15     0.01489  16.0  0.797297  \n",
       "16     0.01438  17.0  0.783784  \n",
       "17     0.01426  18.0  0.770270  \n",
       "18     0.01372  19.0  0.756757  \n",
       "19     0.01366  20.0  0.743243  \n",
       "20     0.01348  21.0  0.729730  \n",
       "21     0.01331  22.0  0.716216  \n",
       "22     0.01313  23.0  0.702703  \n",
       "23     0.01276  24.0  0.689189  \n",
       "24     0.01209  25.0  0.675676  \n",
       "25     0.01201  26.0  0.662162  \n",
       "26     0.01184  27.0  0.648649  \n",
       "27     0.01183  28.0  0.635135  \n",
       "28     0.01176  29.0  0.621622  \n",
       "29     0.01131  30.0  0.608108  "
      ]
     },
     "execution_count": 15,
     "metadata": {},
     "output_type": "execute_result"
    }
   ],
   "source": [
    "features = model.feature_importance.feature_importance\n",
    "features[0:30]\n"
   ]
  },
  {
   "cell_type": "markdown",
   "metadata": {},
   "source": [
    "<br>\n",
    "\n",
    "### Least import features"
   ]
  },
  {
   "cell_type": "code",
   "execution_count": 16,
   "metadata": {},
   "outputs": [
    {
     "data": {
      "text/html": [
       "<div>\n",
       "<style scoped>\n",
       "    .dataframe tbody tr th:only-of-type {\n",
       "        vertical-align: middle;\n",
       "    }\n",
       "\n",
       "    .dataframe tbody tr th {\n",
       "        vertical-align: top;\n",
       "    }\n",
       "\n",
       "    .dataframe thead th {\n",
       "        text-align: right;\n",
       "    }\n",
       "</style>\n",
       "<table border=\"1\" class=\"dataframe\">\n",
       "  <thead>\n",
       "    <tr style=\"text-align: right;\">\n",
       "      <th></th>\n",
       "      <th>model_execution_id</th>\n",
       "      <th>data_id</th>\n",
       "      <th>outcome_variable</th>\n",
       "      <th>variable</th>\n",
       "      <th>importance</th>\n",
       "      <th>rank</th>\n",
       "      <th>pct_rank</th>\n",
       "    </tr>\n",
       "  </thead>\n",
       "  <tbody>\n",
       "    <tr>\n",
       "      <th>54</th>\n",
       "      <td>aa6308878b4a3df7f0a43f852c4811890468c058</td>\n",
       "      <td>6eef6648406c333a4035cd5e60d0bf2ecf2606d7</td>\n",
       "      <td>ROR_n24</td>\n",
       "      <td>open_high18</td>\n",
       "      <td>0.00928</td>\n",
       "      <td>54.5</td>\n",
       "      <td>0.277027</td>\n",
       "    </tr>\n",
       "    <tr>\n",
       "      <th>55</th>\n",
       "      <td>aa6308878b4a3df7f0a43f852c4811890468c058</td>\n",
       "      <td>6eef6648406c333a4035cd5e60d0bf2ecf2606d7</td>\n",
       "      <td>ROR_n24</td>\n",
       "      <td>open_close11</td>\n",
       "      <td>0.00918</td>\n",
       "      <td>56.0</td>\n",
       "      <td>0.256757</td>\n",
       "    </tr>\n",
       "    <tr>\n",
       "      <th>56</th>\n",
       "      <td>aa6308878b4a3df7f0a43f852c4811890468c058</td>\n",
       "      <td>6eef6648406c333a4035cd5e60d0bf2ecf2606d7</td>\n",
       "      <td>ROR_n24</td>\n",
       "      <td>open_low13</td>\n",
       "      <td>0.00884</td>\n",
       "      <td>57.0</td>\n",
       "      <td>0.243243</td>\n",
       "    </tr>\n",
       "    <tr>\n",
       "      <th>57</th>\n",
       "      <td>aa6308878b4a3df7f0a43f852c4811890468c058</td>\n",
       "      <td>6eef6648406c333a4035cd5e60d0bf2ecf2606d7</td>\n",
       "      <td>ROR_n24</td>\n",
       "      <td>open_close12</td>\n",
       "      <td>0.00879</td>\n",
       "      <td>58.0</td>\n",
       "      <td>0.229730</td>\n",
       "    </tr>\n",
       "    <tr>\n",
       "      <th>58</th>\n",
       "      <td>aa6308878b4a3df7f0a43f852c4811890468c058</td>\n",
       "      <td>6eef6648406c333a4035cd5e60d0bf2ecf2606d7</td>\n",
       "      <td>ROR_n24</td>\n",
       "      <td>open_close20</td>\n",
       "      <td>0.00868</td>\n",
       "      <td>59.0</td>\n",
       "      <td>0.216216</td>\n",
       "    </tr>\n",
       "    <tr>\n",
       "      <th>59</th>\n",
       "      <td>aa6308878b4a3df7f0a43f852c4811890468c058</td>\n",
       "      <td>6eef6648406c333a4035cd5e60d0bf2ecf2606d7</td>\n",
       "      <td>ROR_n24</td>\n",
       "      <td>open_close5</td>\n",
       "      <td>0.00845</td>\n",
       "      <td>60.0</td>\n",
       "      <td>0.202703</td>\n",
       "    </tr>\n",
       "    <tr>\n",
       "      <th>60</th>\n",
       "      <td>aa6308878b4a3df7f0a43f852c4811890468c058</td>\n",
       "      <td>6eef6648406c333a4035cd5e60d0bf2ecf2606d7</td>\n",
       "      <td>ROR_n24</td>\n",
       "      <td>open_high9</td>\n",
       "      <td>0.00843</td>\n",
       "      <td>61.0</td>\n",
       "      <td>0.189189</td>\n",
       "    </tr>\n",
       "    <tr>\n",
       "      <th>61</th>\n",
       "      <td>aa6308878b4a3df7f0a43f852c4811890468c058</td>\n",
       "      <td>6eef6648406c333a4035cd5e60d0bf2ecf2606d7</td>\n",
       "      <td>ROR_n24</td>\n",
       "      <td>open_close7</td>\n",
       "      <td>0.00830</td>\n",
       "      <td>62.0</td>\n",
       "      <td>0.175676</td>\n",
       "    </tr>\n",
       "    <tr>\n",
       "      <th>62</th>\n",
       "      <td>aa6308878b4a3df7f0a43f852c4811890468c058</td>\n",
       "      <td>6eef6648406c333a4035cd5e60d0bf2ecf2606d7</td>\n",
       "      <td>ROR_n24</td>\n",
       "      <td>open_close13</td>\n",
       "      <td>0.00821</td>\n",
       "      <td>63.0</td>\n",
       "      <td>0.162162</td>\n",
       "    </tr>\n",
       "    <tr>\n",
       "      <th>63</th>\n",
       "      <td>aa6308878b4a3df7f0a43f852c4811890468c058</td>\n",
       "      <td>6eef6648406c333a4035cd5e60d0bf2ecf2606d7</td>\n",
       "      <td>ROR_n24</td>\n",
       "      <td>open_high11</td>\n",
       "      <td>0.00810</td>\n",
       "      <td>64.0</td>\n",
       "      <td>0.148649</td>\n",
       "    </tr>\n",
       "    <tr>\n",
       "      <th>64</th>\n",
       "      <td>aa6308878b4a3df7f0a43f852c4811890468c058</td>\n",
       "      <td>6eef6648406c333a4035cd5e60d0bf2ecf2606d7</td>\n",
       "      <td>ROR_n24</td>\n",
       "      <td>open_high10</td>\n",
       "      <td>0.00779</td>\n",
       "      <td>65.0</td>\n",
       "      <td>0.135135</td>\n",
       "    </tr>\n",
       "    <tr>\n",
       "      <th>65</th>\n",
       "      <td>aa6308878b4a3df7f0a43f852c4811890468c058</td>\n",
       "      <td>6eef6648406c333a4035cd5e60d0bf2ecf2606d7</td>\n",
       "      <td>ROR_n24</td>\n",
       "      <td>open_close19</td>\n",
       "      <td>0.00760</td>\n",
       "      <td>66.0</td>\n",
       "      <td>0.121622</td>\n",
       "    </tr>\n",
       "    <tr>\n",
       "      <th>66</th>\n",
       "      <td>aa6308878b4a3df7f0a43f852c4811890468c058</td>\n",
       "      <td>6eef6648406c333a4035cd5e60d0bf2ecf2606d7</td>\n",
       "      <td>ROR_n24</td>\n",
       "      <td>open_high7</td>\n",
       "      <td>0.00737</td>\n",
       "      <td>67.0</td>\n",
       "      <td>0.108108</td>\n",
       "    </tr>\n",
       "    <tr>\n",
       "      <th>67</th>\n",
       "      <td>aa6308878b4a3df7f0a43f852c4811890468c058</td>\n",
       "      <td>6eef6648406c333a4035cd5e60d0bf2ecf2606d7</td>\n",
       "      <td>ROR_n24</td>\n",
       "      <td>open_close4</td>\n",
       "      <td>0.00719</td>\n",
       "      <td>68.0</td>\n",
       "      <td>0.094595</td>\n",
       "    </tr>\n",
       "    <tr>\n",
       "      <th>68</th>\n",
       "      <td>aa6308878b4a3df7f0a43f852c4811890468c058</td>\n",
       "      <td>6eef6648406c333a4035cd5e60d0bf2ecf2606d7</td>\n",
       "      <td>ROR_n24</td>\n",
       "      <td>open_close9</td>\n",
       "      <td>0.00717</td>\n",
       "      <td>69.0</td>\n",
       "      <td>0.081081</td>\n",
       "    </tr>\n",
       "    <tr>\n",
       "      <th>69</th>\n",
       "      <td>aa6308878b4a3df7f0a43f852c4811890468c058</td>\n",
       "      <td>6eef6648406c333a4035cd5e60d0bf2ecf2606d7</td>\n",
       "      <td>ROR_n24</td>\n",
       "      <td>open_close10</td>\n",
       "      <td>0.00686</td>\n",
       "      <td>70.0</td>\n",
       "      <td>0.067568</td>\n",
       "    </tr>\n",
       "    <tr>\n",
       "      <th>70</th>\n",
       "      <td>aa6308878b4a3df7f0a43f852c4811890468c058</td>\n",
       "      <td>6eef6648406c333a4035cd5e60d0bf2ecf2606d7</td>\n",
       "      <td>ROR_n24</td>\n",
       "      <td>open_close14</td>\n",
       "      <td>0.00671</td>\n",
       "      <td>71.0</td>\n",
       "      <td>0.054054</td>\n",
       "    </tr>\n",
       "    <tr>\n",
       "      <th>71</th>\n",
       "      <td>aa6308878b4a3df7f0a43f852c4811890468c058</td>\n",
       "      <td>6eef6648406c333a4035cd5e60d0bf2ecf2606d7</td>\n",
       "      <td>ROR_n24</td>\n",
       "      <td>open_close8</td>\n",
       "      <td>0.00657</td>\n",
       "      <td>72.0</td>\n",
       "      <td>0.040541</td>\n",
       "    </tr>\n",
       "    <tr>\n",
       "      <th>72</th>\n",
       "      <td>aa6308878b4a3df7f0a43f852c4811890468c058</td>\n",
       "      <td>6eef6648406c333a4035cd5e60d0bf2ecf2606d7</td>\n",
       "      <td>ROR_n24</td>\n",
       "      <td>open_close16</td>\n",
       "      <td>0.00655</td>\n",
       "      <td>73.0</td>\n",
       "      <td>0.027027</td>\n",
       "    </tr>\n",
       "    <tr>\n",
       "      <th>73</th>\n",
       "      <td>aa6308878b4a3df7f0a43f852c4811890468c058</td>\n",
       "      <td>6eef6648406c333a4035cd5e60d0bf2ecf2606d7</td>\n",
       "      <td>ROR_n24</td>\n",
       "      <td>open_close15</td>\n",
       "      <td>0.00642</td>\n",
       "      <td>74.0</td>\n",
       "      <td>0.013514</td>\n",
       "    </tr>\n",
       "  </tbody>\n",
       "</table>\n",
       "</div>"
      ],
      "text/plain": [
       "                          model_execution_id  \\\n",
       "54  aa6308878b4a3df7f0a43f852c4811890468c058   \n",
       "55  aa6308878b4a3df7f0a43f852c4811890468c058   \n",
       "56  aa6308878b4a3df7f0a43f852c4811890468c058   \n",
       "57  aa6308878b4a3df7f0a43f852c4811890468c058   \n",
       "58  aa6308878b4a3df7f0a43f852c4811890468c058   \n",
       "59  aa6308878b4a3df7f0a43f852c4811890468c058   \n",
       "60  aa6308878b4a3df7f0a43f852c4811890468c058   \n",
       "61  aa6308878b4a3df7f0a43f852c4811890468c058   \n",
       "62  aa6308878b4a3df7f0a43f852c4811890468c058   \n",
       "63  aa6308878b4a3df7f0a43f852c4811890468c058   \n",
       "64  aa6308878b4a3df7f0a43f852c4811890468c058   \n",
       "65  aa6308878b4a3df7f0a43f852c4811890468c058   \n",
       "66  aa6308878b4a3df7f0a43f852c4811890468c058   \n",
       "67  aa6308878b4a3df7f0a43f852c4811890468c058   \n",
       "68  aa6308878b4a3df7f0a43f852c4811890468c058   \n",
       "69  aa6308878b4a3df7f0a43f852c4811890468c058   \n",
       "70  aa6308878b4a3df7f0a43f852c4811890468c058   \n",
       "71  aa6308878b4a3df7f0a43f852c4811890468c058   \n",
       "72  aa6308878b4a3df7f0a43f852c4811890468c058   \n",
       "73  aa6308878b4a3df7f0a43f852c4811890468c058   \n",
       "\n",
       "                                     data_id outcome_variable      variable  \\\n",
       "54  6eef6648406c333a4035cd5e60d0bf2ecf2606d7          ROR_n24   open_high18   \n",
       "55  6eef6648406c333a4035cd5e60d0bf2ecf2606d7          ROR_n24  open_close11   \n",
       "56  6eef6648406c333a4035cd5e60d0bf2ecf2606d7          ROR_n24    open_low13   \n",
       "57  6eef6648406c333a4035cd5e60d0bf2ecf2606d7          ROR_n24  open_close12   \n",
       "58  6eef6648406c333a4035cd5e60d0bf2ecf2606d7          ROR_n24  open_close20   \n",
       "59  6eef6648406c333a4035cd5e60d0bf2ecf2606d7          ROR_n24   open_close5   \n",
       "60  6eef6648406c333a4035cd5e60d0bf2ecf2606d7          ROR_n24    open_high9   \n",
       "61  6eef6648406c333a4035cd5e60d0bf2ecf2606d7          ROR_n24   open_close7   \n",
       "62  6eef6648406c333a4035cd5e60d0bf2ecf2606d7          ROR_n24  open_close13   \n",
       "63  6eef6648406c333a4035cd5e60d0bf2ecf2606d7          ROR_n24   open_high11   \n",
       "64  6eef6648406c333a4035cd5e60d0bf2ecf2606d7          ROR_n24   open_high10   \n",
       "65  6eef6648406c333a4035cd5e60d0bf2ecf2606d7          ROR_n24  open_close19   \n",
       "66  6eef6648406c333a4035cd5e60d0bf2ecf2606d7          ROR_n24    open_high7   \n",
       "67  6eef6648406c333a4035cd5e60d0bf2ecf2606d7          ROR_n24   open_close4   \n",
       "68  6eef6648406c333a4035cd5e60d0bf2ecf2606d7          ROR_n24   open_close9   \n",
       "69  6eef6648406c333a4035cd5e60d0bf2ecf2606d7          ROR_n24  open_close10   \n",
       "70  6eef6648406c333a4035cd5e60d0bf2ecf2606d7          ROR_n24  open_close14   \n",
       "71  6eef6648406c333a4035cd5e60d0bf2ecf2606d7          ROR_n24   open_close8   \n",
       "72  6eef6648406c333a4035cd5e60d0bf2ecf2606d7          ROR_n24  open_close16   \n",
       "73  6eef6648406c333a4035cd5e60d0bf2ecf2606d7          ROR_n24  open_close15   \n",
       "\n",
       "    importance  rank  pct_rank  \n",
       "54     0.00928  54.5  0.277027  \n",
       "55     0.00918  56.0  0.256757  \n",
       "56     0.00884  57.0  0.243243  \n",
       "57     0.00879  58.0  0.229730  \n",
       "58     0.00868  59.0  0.216216  \n",
       "59     0.00845  60.0  0.202703  \n",
       "60     0.00843  61.0  0.189189  \n",
       "61     0.00830  62.0  0.175676  \n",
       "62     0.00821  63.0  0.162162  \n",
       "63     0.00810  64.0  0.148649  \n",
       "64     0.00779  65.0  0.135135  \n",
       "65     0.00760  66.0  0.121622  \n",
       "66     0.00737  67.0  0.108108  \n",
       "67     0.00719  68.0  0.094595  \n",
       "68     0.00717  69.0  0.081081  \n",
       "69     0.00686  70.0  0.067568  \n",
       "70     0.00671  71.0  0.054054  \n",
       "71     0.00657  72.0  0.040541  \n",
       "72     0.00655  73.0  0.027027  \n",
       "73     0.00642  74.0  0.013514  "
      ]
     },
     "execution_count": 16,
     "metadata": {},
     "output_type": "execute_result"
    }
   ],
   "source": [
    "features[len(features)-20:len(features)]"
   ]
  },
  {
   "cell_type": "markdown",
   "metadata": {},
   "source": [
    "<br>\n",
    "\n",
    "### View trending features\n"
   ]
  },
  {
   "cell_type": "code",
   "execution_count": 28,
   "metadata": {
    "collapsed": true,
    "jupyter": {
     "outputs_hidden": true,
     "source_hidden": true
    }
   },
   "outputs": [
    {
     "ename": "AttributeError",
     "evalue": "'modelPlots' object has no attribute 'plot_features'",
     "output_type": "error",
     "traceback": [
      "\u001b[0;31m---------------------------------------------------------------------------\u001b[0m",
      "\u001b[0;31mAttributeError\u001b[0m                            Traceback (most recent call last)",
      "\u001b[0;32m<ipython-input-28-aebe06cff970>\u001b[0m in \u001b[0;36m<module>\u001b[0;34m\u001b[0m\n\u001b[1;32m      5\u001b[0m \u001b[0;31m# from data_mgmt import data_mgmt as dm\u001b[0m\u001b[0;34m\u001b[0m\u001b[0;34m\u001b[0m\u001b[0;34m\u001b[0m\u001b[0m\n\u001b[1;32m      6\u001b[0m \u001b[0;34m\u001b[0m\u001b[0m\n\u001b[0;32m----> 7\u001b[0;31m model_plot.plot_features(\n\u001b[0m\u001b[1;32m      8\u001b[0m     \u001b[0mdf\u001b[0m \u001b[0;34m=\u001b[0m \u001b[0mmodel\u001b[0m\u001b[0;34m.\u001b[0m\u001b[0mdf\u001b[0m\u001b[0;34m,\u001b[0m\u001b[0;34m\u001b[0m\u001b[0;34m\u001b[0m\u001b[0m\n\u001b[1;32m      9\u001b[0m     \u001b[0mx\u001b[0m \u001b[0;34m=\u001b[0m \u001b[0;34m'ticker_time'\u001b[0m\u001b[0;34m,\u001b[0m\u001b[0;34m\u001b[0m\u001b[0;34m\u001b[0m\u001b[0m\n",
      "\u001b[0;31mAttributeError\u001b[0m: 'modelPlots' object has no attribute 'plot_features'"
     ]
    }
   ],
   "source": [
    "start_date = '2016-01-01'\n",
    "end_date = '2017-01-01'\n",
    "%matplotlib inline \n",
    "\n",
    "# from data_mgmt import data_mgmt as dm\n",
    "\n",
    "model_plot.plot_features(\n",
    "    df = model.df, \n",
    "    x = 'ticker_time', \n",
    "    y = 'ROR_n10',\n",
    "    start_date=start_date, \n",
    "    end_date=end_date\n",
    ")"
   ]
  },
  {
   "cell_type": "code",
   "execution_count": null,
   "metadata": {
    "jupyter": {
     "source_hidden": true
    }
   },
   "outputs": [],
   "source": [
    "model_plot.plot_features(df = model.df, x = 'ticker_time', y = 'ATR_7',\n",
    "    start_date=start_date, end_date=end_date, chart_type = 'line')\n",
    "\n",
    "model_plot.plot_features(df = model.df, x = 'ticker_time', y = 'EMA_20',\n",
    "    start_date=start_date, end_date=end_date, chart_type='line')\n"
   ]
  },
  {
   "cell_type": "code",
   "execution_count": null,
   "metadata": {},
   "outputs": [],
   "source": []
  },
  {
   "cell_type": "code",
   "execution_count": null,
   "metadata": {},
   "outputs": [],
   "source": []
  },
  {
   "cell_type": "code",
   "execution_count": 13,
   "metadata": {},
   "outputs": [],
   "source": [
    "import hashlib"
   ]
  },
  {
   "cell_type": "code",
   "execution_count": 14,
   "metadata": {},
   "outputs": [],
   "source": [
    "def _get_hash_id(data):\n",
    "    \"\"\"Create SHA1 hash ID from any data input\"\"\"\n",
    "    x = str(data).encode()\n",
    "    gid = hashlib.sha1(x).hexdigest()\n",
    "    return gid\n",
    "\n",
    "def _get_class_attributes(cls):\n",
    "    return {k: v for k, v in cls.__dict__.items() if k[:1] != '_' and k[-1] != '_'}\n",
    "\n"
   ]
  },
  {
   "cell_type": "code",
   "execution_count": null,
   "metadata": {},
   "outputs": [],
   "source": []
  },
  {
   "cell_type": "code",
   "execution_count": 15,
   "metadata": {},
   "outputs": [],
   "source": [
    "# self.model_execution_id = self._get_hash_id(\n",
    "\n",
    "model_attributes = _get_class_attributes(model.model)\n",
    "\n",
    "hash_object = _get_hash_id(\n",
    "    str(model.model) +\n",
    "    str(model_attributes) +\n",
    "    str(model.outcome) +\n",
    "    str(model.data.data_id)\n",
    ")"
   ]
  },
  {
   "cell_type": "code",
   "execution_count": null,
   "metadata": {},
   "outputs": [],
   "source": []
  },
  {
   "cell_type": "code",
   "execution_count": 23,
   "metadata": {},
   "outputs": [
    {
     "name": "stdout",
     "output_type": "stream",
     "text": [
      "b'7764ba619949bad96eae8f48cc4f0cc673af7bee'\n",
      "ae6d5d81092754ea7a194a0bf9a41f627a88fc64\n",
      "9ecfff85b7489944e685c36f6c8447b927afa40e255fd6e87876c270eae82ecf\n"
     ]
    }
   ],
   "source": [
    "x = str(hash_object).encode('utf-8')\n",
    "\n",
    "gid1 = hashlib.sha1(x).hexdigest()\n",
    "\n",
    "gid256 = hashlib.sha256(x).hexdigest()\n",
    "\n",
    "# gid = hashlib.sha1(str(hash_object))\n",
    "\n",
    "print(x)\n",
    "print(gid1)\n",
    "print(gid256)\n"
   ]
  },
  {
   "cell_type": "code",
   "execution_count": null,
   "metadata": {},
   "outputs": [],
   "source": [
    "# hash(frozenset(my_dict.items()))"
   ]
  },
  {
   "cell_type": "code",
   "execution_count": null,
   "metadata": {},
   "outputs": [],
   "source": []
  },
  {
   "cell_type": "code",
   "execution_count": null,
   "metadata": {},
   "outputs": [],
   "source": []
  },
  {
   "cell_type": "code",
   "execution_count": null,
   "metadata": {},
   "outputs": [],
   "source": []
  },
  {
   "cell_type": "code",
   "execution_count": null,
   "metadata": {},
   "outputs": [],
   "source": []
  }
 ],
 "metadata": {
  "accelerator": "TPU",
  "colab": {
   "collapsed_sections": [
    "o8UChE6mjUOP",
    "fRG-fEws1PQW",
    "4GJa607W6ljl"
   ],
   "name": "stocks_random_forest.ipynb",
   "provenance": [],
   "version": "0.3.2"
  },
  "kernelspec": {
   "display_name": "Python 3",
   "language": "python",
   "name": "python3"
  },
  "language_info": {
   "codemirror_mode": {
    "name": "ipython",
    "version": 3
   },
   "file_extension": ".py",
   "mimetype": "text/x-python",
   "name": "python",
   "nbconvert_exporter": "python",
   "pygments_lexer": "ipython3",
   "version": "3.7.6"
  }
 },
 "nbformat": 4,
 "nbformat_minor": 4
}
