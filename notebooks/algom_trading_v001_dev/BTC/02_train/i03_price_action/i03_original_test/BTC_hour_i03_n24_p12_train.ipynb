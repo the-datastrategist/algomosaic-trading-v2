{
 "cells": [
  {
   "cell_type": "markdown",
   "metadata": {
    "colab_type": "text",
    "id": "PUsG-grKmsJj"
   },
   "source": [
    "# Model training\n",
    "\n",
    "#### BTC-USDT for ROR_n24 with price action features\n",
    "\n",
    "\n",
    "<br>\n",
    "\n",
    "#### Performance by Model ID\n",
    "\n",
    "```\n",
    "model_id: 1a198235336cc9cd417004b752cc80ffdf7b2705\n",
    "    - n_estimates = 500\n",
    "    - max_depth = 10\n",
    "        - Mean Absolute Error:\t 0.02053\n",
    "        - Mean Absolute Outcome:\t 0.03118\n",
    "        - Mean Absolute Percent Error:\t 0.65847\n",
    "        - Error Variance:\t 0.00101\n",
    "        - R-Squared:\t\t 0.54526\n",
    "\n",
    "```\n",
    "\n",
    "\n",
    "```\n",
    "model_id: 68778f094c78320b4e733e2ed4744de98e76e6cc\n",
    "    - n_estimates = 500\n",
    "    - max_depth=20\n",
    "    - Mean Absolute Error:\t 0.02096\n",
    "    - Mean Absolute Outcome:\t 0.03118\n",
    "    - Mean Absolute Percent Error:\t 0.67209\n",
    "    - Error Variance:\t 0.00105\n",
    "    - R-Squared:\t\t 0.52689\n",
    "```\n",
    "\n",
    "\n",
    "```\n",
    "model_id: \n",
    "    - n_estimates = 800\n",
    "    - max_depth = 10\n",
    "    - Mean Absolute Error:\t 0.02045\n",
    "    - Mean Absolute Outcome:\t 0.03118\n",
    "    - Mean Absolute Percent Error:\t 0.65584\n",
    "    - Error Variance:\t 0.00101\n",
    "    - R-Squared:\t\t 0.54669\n",
    "```\n",
    "\n",
    "```\n",
    "model_id: 563ca0d5f53de8de73ac097f19d3dc514b0dfb0c\n",
    "    - training on 2017 to 2019\n",
    "    - n_estimates = 1_000\n",
    "    - max_depth = 10\n",
    "    - Mean Absolute Error:\t 0.02051\n",
    "    - Mean Absolute Outcome:\t 0.03118\n",
    "    - Mean Absolute Percent Error:\t 0.65771\n",
    "    - Error Variance:\t 0.001\n",
    "    - R-Squared:\t\t 0.54905\n",
    "```\n",
    "\n",
    "\n",
    "<br>\n",
    "\n",
    "#### Resources\n",
    "+ [BigQuery](https://console.cloud.google.com/bigquery?folder=&organizationId=&project=algomosaic-nyc)\n",
    "+ [Storage](https://console.cloud.google.com/storage/browser/algom-trading/models/?project=algomosaic-nyc)\n",
    "\n"
   ]
  },
  {
   "cell_type": "markdown",
   "metadata": {
    "colab_type": "text",
    "id": "HOd4wXaNlQWz"
   },
   "source": [
    "<br> \n",
    "\n",
    "#### Requirements\n"
   ]
  },
  {
   "cell_type": "code",
   "execution_count": 1,
   "metadata": {},
   "outputs": [],
   "source": [
    "import numpy as np\n",
    "from algom import configs\n",
    "from algom.utils.data_object import dataObject\n",
    "from algom.model_regression import modelRegression\n",
    "from algom.model_plots import modelPlots"
   ]
  },
  {
   "cell_type": "markdown",
   "metadata": {},
   "source": [
    "<br>\n",
    "\n",
    "### Load training data\n"
   ]
  },
  {
   "cell_type": "code",
   "execution_count": 38,
   "metadata": {},
   "outputs": [
    {
     "name": "stdout",
     "output_type": "stream",
     "text": [
      "RUNNING: Querying SQL script.\n"
     ]
    },
    {
     "name": "stderr",
     "output_type": "stream",
     "text": [
      "Downloading: 100%|██████████| 20745/20745 [00:18<00:00, 1127.10rows/s]"
     ]
    },
    {
     "name": "stdout",
     "output_type": "stream",
     "text": [
      "SUCCESS: Loaded SQL query.\n"
     ]
    },
    {
     "name": "stderr",
     "output_type": "stream",
     "text": [
      "\n"
     ]
    }
   ],
   "source": [
    "# Load model data\n",
    "data = dataObject(\"\"\"\n",
    "with\n",
    "\n",
    "ticker_data as (\n",
    "  select\n",
    "    ticker_time,\n",
    "    ticker_time_sec,\n",
    "    ticker,\n",
    "    `interval` as ticker_interval,\n",
    "    ROR_n1,\n",
    "    ROR_n5,\n",
    "    ROR_n20,\n",
    "    ROR_n25,\n",
    "    ROR_n30,\n",
    "    volume_base,\n",
    "    volume,\n",
    "    open as open1,\n",
    "    high as high1,\n",
    "    low as low1,\n",
    "    close as close1,\n",
    "    rank() over (partition by ticker_time order by etl_time desc) as load_rank,\n",
    "  from `algom-trading.train_features.features_BTC_USDT_hour_i02_*`\n",
    "  where\n",
    "    _table_suffix in (\n",
    "      '20170101',\n",
    "      '20180101',\n",
    "      '20190101'\n",
    "      )\n",
    "  )\n",
    "\n",
    "select *,\n",
    "  round(log(safe_divide(close1, open12)), 5) as open_close1,\n",
    "  round(log(safe_divide(high1, open12)), 5)  as open_high1,\n",
    "  round(log(safe_divide(low1, open12)), 5)   as open_low1,\n",
    "\n",
    "  round(log(safe_divide(close2, open12)), 5) as open_close2,\n",
    "  round(log(safe_divide(high2, open12)), 5)  as open_high2,\n",
    "  round(log(safe_divide(low2, open12)), 5)   as open_low2,\n",
    "\n",
    "  round(log(safe_divide(close3, open12)), 5) as open_close3,\n",
    "  round(log(safe_divide(high3, open12)), 5)  as open_high3,\n",
    "  round(log(safe_divide(low3, open12)), 5)   as open_low3,\n",
    "\n",
    "  round(log(safe_divide(close4, open12)), 5) as open_close4,\n",
    "  round(log(safe_divide(high4, open12)), 5)  as open_high4,\n",
    "  round(log(safe_divide(low4, open12)), 5)   as open_low4,\n",
    "\n",
    "  round(log(safe_divide(close5, open12)), 5) as open_close5,\n",
    "  round(log(safe_divide(high5, open12)), 5)  as open_high5,\n",
    "  round(log(safe_divide(low5, open12)), 5)   as open_low5,\n",
    "\n",
    "  round(log(safe_divide(close6, open12)), 5) as open_close6,\n",
    "  round(log(safe_divide(high6, open12)), 5)  as open_high6,\n",
    "  round(log(safe_divide(low6, open12)), 5)   as open_low6,\n",
    "\n",
    "  round(log(safe_divide(close7, open12)), 5) as open_close7,\n",
    "  round(log(safe_divide(high7, open12)), 5)  as open_high7,\n",
    "  round(log(safe_divide(low7, open12)), 5)   as open_low7,\n",
    "\n",
    "  round(log(safe_divide(close8, open12)), 5) as open_close8,\n",
    "  round(log(safe_divide(high8, open12)), 5)  as open_high8,\n",
    "  round(log(safe_divide(low8, open12)), 5)   as open_low8,\n",
    "  \n",
    "  round(log(safe_divide(close9, open12)), 5) as open_close9,\n",
    "  round(log(safe_divide(high9, open12)), 5)  as open_high9,\n",
    "  round(log(safe_divide(low9, open12)), 5)   as open_low9,\n",
    "\n",
    "  round(log(safe_divide(close10, open12)), 5) as open_close10,\n",
    "  round(log(safe_divide(high10, open12)), 5)  as open_high10,\n",
    "  round(log(safe_divide(low10, open12)), 5)   as open_low10,\n",
    "\n",
    "  round(log(safe_divide(close11, open12)), 5) as open_close11,\n",
    "  round(log(safe_divide(high11, open12)), 5)  as open_high11,\n",
    "  round(log(safe_divide(low11, open12)), 5)   as open_low11,\n",
    "\n",
    "  round(log(safe_divide(close12, open12)), 5) as open_close12,\n",
    "  round(log(safe_divide(high12, open12)), 5)  as open_high12,\n",
    "  round(log(safe_divide(low12, open12)), 5)   as open_low12,\n",
    "\n",
    "from (\n",
    "    select * except(load_rank),\n",
    "\n",
    "    lag(open1) over (order by ticker_time)  as open2,\n",
    "    lag(high1) over (order by ticker_time)  as high2,\n",
    "    lag(low1) over (order by ticker_time)   as low2,\n",
    "    lag(close1) over (order by ticker_time) as close2,\n",
    "\n",
    "    lag(open1, 2) over (order by ticker_time)  as open3,\n",
    "    lag(high1, 2) over (order by ticker_time)  as high3,\n",
    "    lag(low1, 2) over (order by ticker_time)   as low3,\n",
    "    lag(close1, 2) over (order by ticker_time) as close3,\n",
    "\n",
    "    lag(open1, 3) over (order by ticker_time)  as open4,\n",
    "    lag(high1, 3) over (order by ticker_time)  as high4,\n",
    "    lag(low1, 3) over (order by ticker_time)   as low4,\n",
    "    lag(close1, 3) over (order by ticker_time) as close4,\n",
    "\n",
    "    lag(open1, 4) over (order by ticker_time)  as open5,\n",
    "    lag(high1, 4) over (order by ticker_time)  as high5,\n",
    "    lag(low1, 4) over (order by ticker_time)   as low5,\n",
    "    lag(close1, 4) over (order by ticker_time) as close5,\n",
    "\n",
    "    lag(open1, 5) over (order by ticker_time)  as open6,\n",
    "    lag(high1, 5) over (order by ticker_time)  as high6,\n",
    "    lag(low1, 5) over (order by ticker_time)   as low6,\n",
    "    lag(close1, 5) over (order by ticker_time) as close6,\n",
    "\n",
    "    lag(open1, 6) over (order by ticker_time)  as open7,\n",
    "    lag(high1, 6) over (order by ticker_time)  as high7,\n",
    "    lag(low1, 6) over (order by ticker_time)   as low7,\n",
    "    lag(close1, 6) over (order by ticker_time) as close7,\n",
    "\n",
    "    lag(open1, 7) over (order by ticker_time)  as open8,\n",
    "    lag(high1, 7) over (order by ticker_time)  as high8,\n",
    "    lag(low1, 7) over (order by ticker_time)   as low8,\n",
    "    lag(close1, 7) over (order by ticker_time) as close8,\n",
    "\n",
    "    lag(open1, 8) over (order by ticker_time)  as open9,\n",
    "    lag(high1, 8) over (order by ticker_time)  as high9,\n",
    "    lag(low1, 8) over (order by ticker_time)   as low9,\n",
    "    lag(close1, 8) over (order by ticker_time) as close9,\n",
    "\n",
    "    lag(open1, 9) over (order by ticker_time)  as open10,\n",
    "    lag(high1, 9) over (order by ticker_time)  as high10,\n",
    "    lag(low1, 9) over (order by ticker_time)   as low10,\n",
    "    lag(close1, 9) over (order by ticker_time) as close10,\n",
    "\n",
    "    lag(open1, 10) over (order by ticker_time)  as open11,\n",
    "    lag(high1, 10) over (order by ticker_time)  as high11,\n",
    "    lag(low1, 10) over (order by ticker_time)   as low11,\n",
    "    lag(close1, 10) over (order by ticker_time) as close11,\n",
    "\n",
    "    lag(open1, 11) over (order by ticker_time)  as open12,\n",
    "    lag(high1, 11) over (order by ticker_time)  as high12,\n",
    "    lag(low1, 11) over (order by ticker_time)   as low12,\n",
    "    lag(close1, 11) over (order by ticker_time) as close12,\n",
    "\n",
    "    from ticker_data\n",
    "    where load_rank = 1\n",
    "    )\n",
    "where\n",
    "  close12 is not null\n",
    "  and ROR_n30 is not null\n",
    "order by ticker_time\n",
    "\"\"\")"
   ]
  },
  {
   "cell_type": "code",
   "execution_count": 39,
   "metadata": {},
   "outputs": [
    {
     "name": "stdout",
     "output_type": "stream",
     "text": [
      "20715\n"
     ]
    },
    {
     "data": {
      "text/html": [
       "<div>\n",
       "<style scoped>\n",
       "    .dataframe tbody tr th:only-of-type {\n",
       "        vertical-align: middle;\n",
       "    }\n",
       "\n",
       "    .dataframe tbody tr th {\n",
       "        vertical-align: top;\n",
       "    }\n",
       "\n",
       "    .dataframe thead th {\n",
       "        text-align: right;\n",
       "    }\n",
       "</style>\n",
       "<table border=\"1\" class=\"dataframe\">\n",
       "  <thead>\n",
       "    <tr style=\"text-align: right;\">\n",
       "      <th></th>\n",
       "      <th>ticker_time</th>\n",
       "      <th>ticker_time_sec</th>\n",
       "      <th>ticker</th>\n",
       "      <th>ticker_interval</th>\n",
       "      <th>ROR_n1</th>\n",
       "      <th>ROR_n5</th>\n",
       "      <th>ROR_n20</th>\n",
       "      <th>ROR_n25</th>\n",
       "      <th>ROR_n30</th>\n",
       "      <th>volume_base</th>\n",
       "      <th>...</th>\n",
       "      <th>open_low9</th>\n",
       "      <th>open_close10</th>\n",
       "      <th>open_high10</th>\n",
       "      <th>open_low10</th>\n",
       "      <th>open_close11</th>\n",
       "      <th>open_high11</th>\n",
       "      <th>open_low11</th>\n",
       "      <th>open_close12</th>\n",
       "      <th>open_high12</th>\n",
       "      <th>open_low12</th>\n",
       "    </tr>\n",
       "  </thead>\n",
       "  <tbody>\n",
       "    <tr>\n",
       "      <th>30</th>\n",
       "      <td>2017-08-18 10:00:00+00:00</td>\n",
       "      <td>1503050400</td>\n",
       "      <td>BTC-USDT</td>\n",
       "      <td>hour</td>\n",
       "      <td>0.012046</td>\n",
       "      <td>0.009862</td>\n",
       "      <td>-0.025946</td>\n",
       "      <td>-0.019930</td>\n",
       "      <td>0.010959</td>\n",
       "      <td>51.54</td>\n",
       "      <td>...</td>\n",
       "      <td>-0.02399</td>\n",
       "      <td>-0.02173</td>\n",
       "      <td>-0.01166</td>\n",
       "      <td>-0.04774</td>\n",
       "      <td>-0.01166</td>\n",
       "      <td>0.00088</td>\n",
       "      <td>-0.02523</td>\n",
       "      <td>-0.01200</td>\n",
       "      <td>0.00013</td>\n",
       "      <td>-0.01299</td>\n",
       "    </tr>\n",
       "    <tr>\n",
       "      <th>31</th>\n",
       "      <td>2017-08-18 11:00:00+00:00</td>\n",
       "      <td>1503054000</td>\n",
       "      <td>BTC-USDT</td>\n",
       "      <td>hour</td>\n",
       "      <td>-0.003680</td>\n",
       "      <td>0.014119</td>\n",
       "      <td>-0.002768</td>\n",
       "      <td>-0.027203</td>\n",
       "      <td>0.005774</td>\n",
       "      <td>24.09</td>\n",
       "      <td>...</td>\n",
       "      <td>-0.01199</td>\n",
       "      <td>-0.00409</td>\n",
       "      <td>0.00316</td>\n",
       "      <td>-0.01199</td>\n",
       "      <td>-0.00973</td>\n",
       "      <td>0.00034</td>\n",
       "      <td>-0.03575</td>\n",
       "      <td>0.00034</td>\n",
       "      <td>0.01288</td>\n",
       "      <td>-0.01323</td>\n",
       "    </tr>\n",
       "    <tr>\n",
       "      <th>32</th>\n",
       "      <td>2017-08-18 12:00:00+00:00</td>\n",
       "      <td>1503057600</td>\n",
       "      <td>BTC-USDT</td>\n",
       "      <td>hour</td>\n",
       "      <td>-0.000874</td>\n",
       "      <td>0.008399</td>\n",
       "      <td>-0.004064</td>\n",
       "      <td>-0.020718</td>\n",
       "      <td>0.002810</td>\n",
       "      <td>15.12</td>\n",
       "      <td>...</td>\n",
       "      <td>-0.01223</td>\n",
       "      <td>0.00137</td>\n",
       "      <td>0.00516</td>\n",
       "      <td>-0.01233</td>\n",
       "      <td>-0.00443</td>\n",
       "      <td>0.00282</td>\n",
       "      <td>-0.01233</td>\n",
       "      <td>-0.01007</td>\n",
       "      <td>0.00000</td>\n",
       "      <td>-0.03608</td>\n",
       "    </tr>\n",
       "    <tr>\n",
       "      <th>33</th>\n",
       "      <td>2017-08-18 13:00:00+00:00</td>\n",
       "      <td>1503061200</td>\n",
       "      <td>BTC-USDT</td>\n",
       "      <td>hour</td>\n",
       "      <td>-0.017336</td>\n",
       "      <td>-0.004854</td>\n",
       "      <td>-0.021400</td>\n",
       "      <td>-0.034365</td>\n",
       "      <td>-0.020437</td>\n",
       "      <td>17.01</td>\n",
       "      <td>...</td>\n",
       "      <td>0.00152</td>\n",
       "      <td>0.01039</td>\n",
       "      <td>0.01143</td>\n",
       "      <td>-0.00216</td>\n",
       "      <td>0.01143</td>\n",
       "      <td>0.01523</td>\n",
       "      <td>-0.00226</td>\n",
       "      <td>0.00564</td>\n",
       "      <td>0.01289</td>\n",
       "      <td>-0.00226</td>\n",
       "    </tr>\n",
       "    <tr>\n",
       "      <th>34</th>\n",
       "      <td>2017-08-18 14:00:00+00:00</td>\n",
       "      <td>1503064800</td>\n",
       "      <td>BTC-USDT</td>\n",
       "      <td>hour</td>\n",
       "      <td>-0.000608</td>\n",
       "      <td>-0.010451</td>\n",
       "      <td>0.000571</td>\n",
       "      <td>-0.045796</td>\n",
       "      <td>-0.023502</td>\n",
       "      <td>71.29</td>\n",
       "      <td>...</td>\n",
       "      <td>-0.00466</td>\n",
       "      <td>0.01071</td>\n",
       "      <td>0.01697</td>\n",
       "      <td>-0.00412</td>\n",
       "      <td>0.00475</td>\n",
       "      <td>0.00579</td>\n",
       "      <td>-0.00780</td>\n",
       "      <td>0.00579</td>\n",
       "      <td>0.00959</td>\n",
       "      <td>-0.00790</td>\n",
       "    </tr>\n",
       "  </tbody>\n",
       "</table>\n",
       "<p>5 rows × 95 columns</p>\n",
       "</div>"
      ],
      "text/plain": [
       "                 ticker_time  ticker_time_sec    ticker ticker_interval  \\\n",
       "30 2017-08-18 10:00:00+00:00       1503050400  BTC-USDT            hour   \n",
       "31 2017-08-18 11:00:00+00:00       1503054000  BTC-USDT            hour   \n",
       "32 2017-08-18 12:00:00+00:00       1503057600  BTC-USDT            hour   \n",
       "33 2017-08-18 13:00:00+00:00       1503061200  BTC-USDT            hour   \n",
       "34 2017-08-18 14:00:00+00:00       1503064800  BTC-USDT            hour   \n",
       "\n",
       "      ROR_n1    ROR_n5   ROR_n20   ROR_n25   ROR_n30  volume_base  ...  \\\n",
       "30  0.012046  0.009862 -0.025946 -0.019930  0.010959        51.54  ...   \n",
       "31 -0.003680  0.014119 -0.002768 -0.027203  0.005774        24.09  ...   \n",
       "32 -0.000874  0.008399 -0.004064 -0.020718  0.002810        15.12  ...   \n",
       "33 -0.017336 -0.004854 -0.021400 -0.034365 -0.020437        17.01  ...   \n",
       "34 -0.000608 -0.010451  0.000571 -0.045796 -0.023502        71.29  ...   \n",
       "\n",
       "    open_low9  open_close10  open_high10  open_low10  open_close11  \\\n",
       "30   -0.02399      -0.02173     -0.01166    -0.04774      -0.01166   \n",
       "31   -0.01199      -0.00409      0.00316    -0.01199      -0.00973   \n",
       "32   -0.01223       0.00137      0.00516    -0.01233      -0.00443   \n",
       "33    0.00152       0.01039      0.01143    -0.00216       0.01143   \n",
       "34   -0.00466       0.01071      0.01697    -0.00412       0.00475   \n",
       "\n",
       "    open_high11  open_low11  open_close12  open_high12  open_low12  \n",
       "30      0.00088    -0.02523      -0.01200      0.00013    -0.01299  \n",
       "31      0.00034    -0.03575       0.00034      0.01288    -0.01323  \n",
       "32      0.00282    -0.01233      -0.01007      0.00000    -0.03608  \n",
       "33      0.01523    -0.00226       0.00564      0.01289    -0.00226  \n",
       "34      0.00579    -0.00780       0.00579      0.00959    -0.00790  \n",
       "\n",
       "[5 rows x 95 columns]"
      ]
     },
     "execution_count": 39,
     "metadata": {},
     "output_type": "execute_result"
    }
   ],
   "source": [
    "# Drop nan values\n",
    "data.df = data.df.replace([np.inf, -np.inf], np.nan).dropna()\n",
    "print(len(data.df))\n",
    "data.df.head()"
   ]
  },
  {
   "cell_type": "markdown",
   "metadata": {},
   "source": [
    "<br>\n",
    "\n",
    "### Initialize modelRegression class"
   ]
  },
  {
   "cell_type": "code",
   "execution_count": 33,
   "metadata": {},
   "outputs": [
    {
     "name": "stdout",
     "output_type": "stream",
     "text": [
      "SUCCESS: Loaded dataObject.\n",
      "Initialized model. As a next step, run self.predict() or self.train().\n"
     ]
    }
   ],
   "source": [
    "# Initialize model class\n",
    "model = modelRegression(\n",
    "    data, \n",
    "    outcome='ROR_n25',\n",
    "    index_features=configs.INDEX_FEATURES, \n",
    "    omit_features=configs.OMIT_FEATURES\n",
    ")"
   ]
  },
  {
   "cell_type": "code",
   "execution_count": 34,
   "metadata": {},
   "outputs": [],
   "source": [
    "# len(model.feature_list)\n",
    "# list(model.feature_list)\n"
   ]
  },
  {
   "cell_type": "code",
   "execution_count": 35,
   "metadata": {},
   "outputs": [
    {
     "name": "stdout",
     "output_type": "stream",
     "text": [
      "Training model on ROR_n25.\n",
      "Model metadata added to `self.metadata.metadata`\n",
      "Model metadata added to `self.metadata.parameters`\n",
      "Set feature_importance to `self.feature_importance.feature_importance`\n",
      "Fit model in 0:00:00.000018.\n",
      "Get model performance.\n",
      "Set evaluation to self.evaluations in 0:00:00.000018.\n",
      "Set R^2 to `self.rsquared`\n",
      "The following performance measures have been added:\n",
      "                - self.mean_abs_error\n",
      "                - self.mean_abs_outcome\n",
      "                - self.mean_abs_pct_error\n",
      "                - self.error_var\n",
      "            \n",
      "Performance metrics added to `self.performance`\n",
      "\n",
      "MODEL PERFORMANCE SUMMARY\n",
      "        - Mean Absolute Error:\t 0.02053\n",
      "        - Mean Absolute Outcome:\t 0.03118\n",
      "        - Mean Absolute Percent Error:\t 0.65847\n",
      "        - Error Variance:\t 0.001\n",
      "        - R-Squared:\t\t 0.54987\n",
      "        \n",
      "PLOT PREDICTIONS: Use the following commandsto view model performance.\n",
      "              `self.plot_predictions_by_date(start_date, end_date)`\n",
      "              `self.plot_predictions_histogram(start_date, end_date)`\n",
      "              `self.plot_errors_by_date(start_date, end_date)`\n",
      "              `self.plot_errors_histogram(start_date, end_date)`\n",
      "              `self.plot_predictions_scatterplot(start_date, end_date)`\n",
      "              \n"
     ]
    }
   ],
   "source": [
    "# Specify regression parameters\n",
    "from sklearn import ensemble\n",
    "reg = ensemble.GradientBoostingRegressor(\n",
    "    loss='ls', \n",
    "    learning_rate=0.1,\n",
    "    n_estimators=1_000,\n",
    "    subsample=.9,\n",
    "    criterion='friedman_mse', \n",
    "    min_samples_split=3, \n",
    "    min_samples_leaf=3,\n",
    "    min_weight_fraction_leaf=0.0,\n",
    "    max_depth=10,\n",
    "    min_impurity_decrease=0.0, \n",
    "    min_impurity_split=None, \n",
    "    init=None,\n",
    "    random_state=None, \n",
    "    max_features=None, \n",
    "    alpha=0.9, \n",
    "    verbose=0,\n",
    "    max_leaf_nodes=None, \n",
    "    warm_start=False, \n",
    "    validation_fraction=0.1, \n",
    "    n_iter_no_change=None, \n",
    "    tol=0.0001\n",
    ")\n",
    "\n",
    "\n",
    "# Train model\n",
    "model.train(reg)\n"
   ]
  },
  {
   "cell_type": "code",
   "execution_count": 36,
   "metadata": {},
   "outputs": [
    {
     "name": "stdout",
     "output_type": "stream",
     "text": [
      "model_id: 563ca0d5f53de8de73ac097f19d3dc514b0dfb0c\n",
      "model_execution_id: b1b90670bef7a077445fb5acca1419e8f246de89\n"
     ]
    }
   ],
   "source": [
    "# Model IDs\n",
    "print('model_id: ' + model.model_id)\n",
    "print('model_execution_id: ' + model.model_execution_id)\n"
   ]
  },
  {
   "cell_type": "code",
   "execution_count": 37,
   "metadata": {},
   "outputs": [
    {
     "name": "stdout",
     "output_type": "stream",
     "text": [
      "Dumped model to:\n",
      "\t/home/jovyan/algomosaic/data/models/20210102_GradientBoostingRegressor_563ca0d5f53de8de73ac097f19d3dc514b0dfb0c.pickle\n",
      "Uploaded pickle to Google Storage:\n",
      "\thttps://storage.googleapis.com/algom-trading-sto/models/20210102_GradientBoostingRegressor_563ca0d5f53de8de73ac097f19d3dc514b0dfb0c.pickle\n",
      "SUCCESS: Loaded DataFrame.\n"
     ]
    },
    {
     "name": "stderr",
     "output_type": "stream",
     "text": [
      "1it [00:04,  4.04s/it]"
     ]
    },
    {
     "name": "stdout",
     "output_type": "stream",
     "text": [
      "Uploaded storage metadata to Google BigQuery:\n",
      "\tstorage.model_storage_YYYYMMDD\n",
      "Saved model to Google Storage:\n",
      "\tmodels/20210102_GradientBoostingRegressor_563ca0d5f53de8de73ac097f19d3dc514b0dfb0c.pickle\n"
     ]
    },
    {
     "name": "stderr",
     "output_type": "stream",
     "text": [
      "\n"
     ]
    }
   ],
   "source": [
    "# Save model (optional)\n",
    "model.save()\n"
   ]
  },
  {
   "cell_type": "code",
   "execution_count": null,
   "metadata": {},
   "outputs": [],
   "source": []
  },
  {
   "cell_type": "markdown",
   "metadata": {},
   "source": [
    "<br>\n",
    "\n",
    "## View performance \n",
    "\n",
    "+ Trending predictions vs outcomes\n",
    "+ Histogram of predictions vs outcomes\n"
   ]
  },
  {
   "cell_type": "code",
   "execution_count": 19,
   "metadata": {},
   "outputs": [],
   "source": [
    "start_date='2019-06-01'\n",
    "end_date='2019-07-01'\n",
    "%matplotlib inline\n",
    "model_plot = modelPlots(model)"
   ]
  },
  {
   "cell_type": "code",
   "execution_count": 20,
   "metadata": {},
   "outputs": [
    {
     "name": "stdout",
     "output_type": "stream",
     "text": [
      "PLOT: Predictions by Date\n",
      "        `self.plot_predictions_by_date(start_date, end_date)`\n"
     ]
    },
    {
     "data": {
      "text/plain": [
       "<matplotlib.axes._subplots.AxesSubplot at 0x7ff948420410>"
      ]
     },
     "execution_count": 20,
     "metadata": {},
     "output_type": "execute_result"
    },
    {
     "data": {
      "image/png": "[encoded data removed]",
      "text/plain": [
       "<Figure size 1440x360 with 1 Axes>"
      ]
     },
     "metadata": {
      "needs_background": "light"
     },
     "output_type": "display_data"
    }
   ],
   "source": [
    "model_plot.plot_predictions_by_date(start_date, end_date)"
   ]
  },
  {
   "cell_type": "code",
   "execution_count": 21,
   "metadata": {},
   "outputs": [
    {
     "name": "stdout",
     "output_type": "stream",
     "text": [
      "PLOT: Prediction Errors by Date`\n"
     ]
    },
    {
     "data": {
      "text/plain": [
       "<matplotlib.axes._subplots.AxesSubplot at 0x7ff936e5ca50>"
      ]
     },
     "execution_count": 21,
     "metadata": {},
     "output_type": "execute_result"
    },
    {
     "data": {
      "image/png": "[encoded data removed]",
      "text/plain": [
       "<Figure size 1440x360 with 1 Axes>"
      ]
     },
     "metadata": {
      "needs_background": "light"
     },
     "output_type": "display_data"
    }
   ],
   "source": [
    "model_plot.plot_errors_by_date(start_date, end_date)"
   ]
  },
  {
   "cell_type": "code",
   "execution_count": 22,
   "metadata": {},
   "outputs": [
    {
     "name": "stdout",
     "output_type": "stream",
     "text": [
      "PLOT: Predictions Histogram\n"
     ]
    },
    {
     "data": {
      "text/plain": [
       "<matplotlib.axes._subplots.AxesSubplot at 0x7ff9367f6f50>"
      ]
     },
     "execution_count": 22,
     "metadata": {},
     "output_type": "execute_result"
    },
    {
     "data": {
      "image/png": "[encoded data removed]",
      "text/plain": [
       "<Figure size 720x360 with 1 Axes>"
      ]
     },
     "metadata": {
      "needs_background": "light"
     },
     "output_type": "display_data"
    }
   ],
   "source": [
    "model_plot.plot_predictions_histogram(start_date, end_date)"
   ]
  },
  {
   "cell_type": "code",
   "execution_count": 23,
   "metadata": {},
   "outputs": [
    {
     "name": "stdout",
     "output_type": "stream",
     "text": [
      "PLOT: Predictions Histogram\n"
     ]
    },
    {
     "data": {
      "text/plain": [
       "<matplotlib.axes._subplots.AxesSubplot at 0x7ff936775550>"
      ]
     },
     "execution_count": 23,
     "metadata": {},
     "output_type": "execute_result"
    },
    {
     "data": {
      "image/png": "[encoded data removed]",
      "text/plain": [
       "<Figure size 720x360 with 1 Axes>"
      ]
     },
     "metadata": {
      "needs_background": "light"
     },
     "output_type": "display_data"
    }
   ],
   "source": [
    "model_plot.plot_errors_histogram(start_date, end_date)\n"
   ]
  },
  {
   "cell_type": "code",
   "execution_count": 24,
   "metadata": {},
   "outputs": [
    {
     "name": "stdout",
     "output_type": "stream",
     "text": [
      "PLOT: Predictions by Date\n"
     ]
    },
    {
     "data": {
      "text/plain": [
       "<matplotlib.axes._subplots.AxesSubplot at 0x7ff9374d47d0>"
      ]
     },
     "execution_count": 24,
     "metadata": {},
     "output_type": "execute_result"
    },
    {
     "data": {
      "image/png": "[encoded data removed]",
      "text/plain": [
       "<Figure size 360x360 with 1 Axes>"
      ]
     },
     "metadata": {
      "needs_background": "light"
     },
     "output_type": "display_data"
    }
   ],
   "source": [
    "model_plot.plot_predictions_scatterplot(start_date, end_date)"
   ]
  },
  {
   "cell_type": "markdown",
   "metadata": {},
   "source": [
    "<br>\n",
    "\n",
    "### Most important features\n"
   ]
  },
  {
   "cell_type": "code",
   "execution_count": 32,
   "metadata": {},
   "outputs": [
    {
     "data": {
      "text/html": [
       "<div>\n",
       "<style scoped>\n",
       "    .dataframe tbody tr th:only-of-type {\n",
       "        vertical-align: middle;\n",
       "    }\n",
       "\n",
       "    .dataframe tbody tr th {\n",
       "        vertical-align: top;\n",
       "    }\n",
       "\n",
       "    .dataframe thead th {\n",
       "        text-align: right;\n",
       "    }\n",
       "</style>\n",
       "<table border=\"1\" class=\"dataframe\">\n",
       "  <thead>\n",
       "    <tr style=\"text-align: right;\">\n",
       "      <th></th>\n",
       "      <th>model_execution_id</th>\n",
       "      <th>data_id</th>\n",
       "      <th>outcome_variable</th>\n",
       "      <th>variable</th>\n",
       "      <th>importance</th>\n",
       "      <th>rank</th>\n",
       "      <th>pct_rank</th>\n",
       "    </tr>\n",
       "  </thead>\n",
       "  <tbody>\n",
       "    <tr>\n",
       "      <th>0</th>\n",
       "      <td>8a992ab5ae501da51c16a46403ee4bc349950b2a</td>\n",
       "      <td>6eef6648406c333a4035cd5e60d0bf2ecf2606d7</td>\n",
       "      <td>ROR_n24</td>\n",
       "      <td>open_close1</td>\n",
       "      <td>0.30463</td>\n",
       "      <td>1.0</td>\n",
       "      <td>1.000000</td>\n",
       "    </tr>\n",
       "    <tr>\n",
       "      <th>1</th>\n",
       "      <td>8a992ab5ae501da51c16a46403ee4bc349950b2a</td>\n",
       "      <td>6eef6648406c333a4035cd5e60d0bf2ecf2606d7</td>\n",
       "      <td>ROR_n24</td>\n",
       "      <td>open_high6</td>\n",
       "      <td>0.06002</td>\n",
       "      <td>2.0</td>\n",
       "      <td>0.944444</td>\n",
       "    </tr>\n",
       "    <tr>\n",
       "      <th>2</th>\n",
       "      <td>8a992ab5ae501da51c16a46403ee4bc349950b2a</td>\n",
       "      <td>6eef6648406c333a4035cd5e60d0bf2ecf2606d7</td>\n",
       "      <td>ROR_n24</td>\n",
       "      <td>open_low6</td>\n",
       "      <td>0.05763</td>\n",
       "      <td>3.0</td>\n",
       "      <td>0.888889</td>\n",
       "    </tr>\n",
       "    <tr>\n",
       "      <th>3</th>\n",
       "      <td>8a992ab5ae501da51c16a46403ee4bc349950b2a</td>\n",
       "      <td>6eef6648406c333a4035cd5e60d0bf2ecf2606d7</td>\n",
       "      <td>ROR_n24</td>\n",
       "      <td>open_low1</td>\n",
       "      <td>0.05286</td>\n",
       "      <td>4.0</td>\n",
       "      <td>0.833333</td>\n",
       "    </tr>\n",
       "    <tr>\n",
       "      <th>4</th>\n",
       "      <td>8a992ab5ae501da51c16a46403ee4bc349950b2a</td>\n",
       "      <td>6eef6648406c333a4035cd5e60d0bf2ecf2606d7</td>\n",
       "      <td>ROR_n24</td>\n",
       "      <td>open_low2</td>\n",
       "      <td>0.04559</td>\n",
       "      <td>5.0</td>\n",
       "      <td>0.777778</td>\n",
       "    </tr>\n",
       "    <tr>\n",
       "      <th>5</th>\n",
       "      <td>8a992ab5ae501da51c16a46403ee4bc349950b2a</td>\n",
       "      <td>6eef6648406c333a4035cd5e60d0bf2ecf2606d7</td>\n",
       "      <td>ROR_n24</td>\n",
       "      <td>open_high5</td>\n",
       "      <td>0.04491</td>\n",
       "      <td>6.0</td>\n",
       "      <td>0.722222</td>\n",
       "    </tr>\n",
       "    <tr>\n",
       "      <th>6</th>\n",
       "      <td>8a992ab5ae501da51c16a46403ee4bc349950b2a</td>\n",
       "      <td>6eef6648406c333a4035cd5e60d0bf2ecf2606d7</td>\n",
       "      <td>ROR_n24</td>\n",
       "      <td>open_low5</td>\n",
       "      <td>0.04481</td>\n",
       "      <td>7.0</td>\n",
       "      <td>0.666667</td>\n",
       "    </tr>\n",
       "    <tr>\n",
       "      <th>7</th>\n",
       "      <td>8a992ab5ae501da51c16a46403ee4bc349950b2a</td>\n",
       "      <td>6eef6648406c333a4035cd5e60d0bf2ecf2606d7</td>\n",
       "      <td>ROR_n24</td>\n",
       "      <td>open_low3</td>\n",
       "      <td>0.04133</td>\n",
       "      <td>8.0</td>\n",
       "      <td>0.611111</td>\n",
       "    </tr>\n",
       "    <tr>\n",
       "      <th>8</th>\n",
       "      <td>8a992ab5ae501da51c16a46403ee4bc349950b2a</td>\n",
       "      <td>6eef6648406c333a4035cd5e60d0bf2ecf2606d7</td>\n",
       "      <td>ROR_n24</td>\n",
       "      <td>open_high1</td>\n",
       "      <td>0.03966</td>\n",
       "      <td>9.0</td>\n",
       "      <td>0.555556</td>\n",
       "    </tr>\n",
       "    <tr>\n",
       "      <th>9</th>\n",
       "      <td>8a992ab5ae501da51c16a46403ee4bc349950b2a</td>\n",
       "      <td>6eef6648406c333a4035cd5e60d0bf2ecf2606d7</td>\n",
       "      <td>ROR_n24</td>\n",
       "      <td>open_close6</td>\n",
       "      <td>0.03827</td>\n",
       "      <td>10.0</td>\n",
       "      <td>0.500000</td>\n",
       "    </tr>\n",
       "    <tr>\n",
       "      <th>10</th>\n",
       "      <td>8a992ab5ae501da51c16a46403ee4bc349950b2a</td>\n",
       "      <td>6eef6648406c333a4035cd5e60d0bf2ecf2606d7</td>\n",
       "      <td>ROR_n24</td>\n",
       "      <td>open_low4</td>\n",
       "      <td>0.03569</td>\n",
       "      <td>11.0</td>\n",
       "      <td>0.444444</td>\n",
       "    </tr>\n",
       "    <tr>\n",
       "      <th>11</th>\n",
       "      <td>8a992ab5ae501da51c16a46403ee4bc349950b2a</td>\n",
       "      <td>6eef6648406c333a4035cd5e60d0bf2ecf2606d7</td>\n",
       "      <td>ROR_n24</td>\n",
       "      <td>open_high4</td>\n",
       "      <td>0.03512</td>\n",
       "      <td>12.0</td>\n",
       "      <td>0.388889</td>\n",
       "    </tr>\n",
       "    <tr>\n",
       "      <th>12</th>\n",
       "      <td>8a992ab5ae501da51c16a46403ee4bc349950b2a</td>\n",
       "      <td>6eef6648406c333a4035cd5e60d0bf2ecf2606d7</td>\n",
       "      <td>ROR_n24</td>\n",
       "      <td>open_high3</td>\n",
       "      <td>0.03446</td>\n",
       "      <td>13.0</td>\n",
       "      <td>0.333333</td>\n",
       "    </tr>\n",
       "    <tr>\n",
       "      <th>13</th>\n",
       "      <td>8a992ab5ae501da51c16a46403ee4bc349950b2a</td>\n",
       "      <td>6eef6648406c333a4035cd5e60d0bf2ecf2606d7</td>\n",
       "      <td>ROR_n24</td>\n",
       "      <td>open_close5</td>\n",
       "      <td>0.03414</td>\n",
       "      <td>14.0</td>\n",
       "      <td>0.277778</td>\n",
       "    </tr>\n",
       "    <tr>\n",
       "      <th>14</th>\n",
       "      <td>8a992ab5ae501da51c16a46403ee4bc349950b2a</td>\n",
       "      <td>6eef6648406c333a4035cd5e60d0bf2ecf2606d7</td>\n",
       "      <td>ROR_n24</td>\n",
       "      <td>open_high2</td>\n",
       "      <td>0.03376</td>\n",
       "      <td>15.0</td>\n",
       "      <td>0.222222</td>\n",
       "    </tr>\n",
       "    <tr>\n",
       "      <th>15</th>\n",
       "      <td>8a992ab5ae501da51c16a46403ee4bc349950b2a</td>\n",
       "      <td>6eef6648406c333a4035cd5e60d0bf2ecf2606d7</td>\n",
       "      <td>ROR_n24</td>\n",
       "      <td>open_close3</td>\n",
       "      <td>0.03366</td>\n",
       "      <td>16.0</td>\n",
       "      <td>0.166667</td>\n",
       "    </tr>\n",
       "    <tr>\n",
       "      <th>16</th>\n",
       "      <td>8a992ab5ae501da51c16a46403ee4bc349950b2a</td>\n",
       "      <td>6eef6648406c333a4035cd5e60d0bf2ecf2606d7</td>\n",
       "      <td>ROR_n24</td>\n",
       "      <td>open_close2</td>\n",
       "      <td>0.03202</td>\n",
       "      <td>17.0</td>\n",
       "      <td>0.111111</td>\n",
       "    </tr>\n",
       "    <tr>\n",
       "      <th>17</th>\n",
       "      <td>8a992ab5ae501da51c16a46403ee4bc349950b2a</td>\n",
       "      <td>6eef6648406c333a4035cd5e60d0bf2ecf2606d7</td>\n",
       "      <td>ROR_n24</td>\n",
       "      <td>open_close4</td>\n",
       "      <td>0.03145</td>\n",
       "      <td>18.0</td>\n",
       "      <td>0.055556</td>\n",
       "    </tr>\n",
       "  </tbody>\n",
       "</table>\n",
       "</div>"
      ],
      "text/plain": [
       "                          model_execution_id  \\\n",
       "0   8a992ab5ae501da51c16a46403ee4bc349950b2a   \n",
       "1   8a992ab5ae501da51c16a46403ee4bc349950b2a   \n",
       "2   8a992ab5ae501da51c16a46403ee4bc349950b2a   \n",
       "3   8a992ab5ae501da51c16a46403ee4bc349950b2a   \n",
       "4   8a992ab5ae501da51c16a46403ee4bc349950b2a   \n",
       "5   8a992ab5ae501da51c16a46403ee4bc349950b2a   \n",
       "6   8a992ab5ae501da51c16a46403ee4bc349950b2a   \n",
       "7   8a992ab5ae501da51c16a46403ee4bc349950b2a   \n",
       "8   8a992ab5ae501da51c16a46403ee4bc349950b2a   \n",
       "9   8a992ab5ae501da51c16a46403ee4bc349950b2a   \n",
       "10  8a992ab5ae501da51c16a46403ee4bc349950b2a   \n",
       "11  8a992ab5ae501da51c16a46403ee4bc349950b2a   \n",
       "12  8a992ab5ae501da51c16a46403ee4bc349950b2a   \n",
       "13  8a992ab5ae501da51c16a46403ee4bc349950b2a   \n",
       "14  8a992ab5ae501da51c16a46403ee4bc349950b2a   \n",
       "15  8a992ab5ae501da51c16a46403ee4bc349950b2a   \n",
       "16  8a992ab5ae501da51c16a46403ee4bc349950b2a   \n",
       "17  8a992ab5ae501da51c16a46403ee4bc349950b2a   \n",
       "\n",
       "                                     data_id outcome_variable     variable  \\\n",
       "0   6eef6648406c333a4035cd5e60d0bf2ecf2606d7          ROR_n24  open_close1   \n",
       "1   6eef6648406c333a4035cd5e60d0bf2ecf2606d7          ROR_n24   open_high6   \n",
       "2   6eef6648406c333a4035cd5e60d0bf2ecf2606d7          ROR_n24    open_low6   \n",
       "3   6eef6648406c333a4035cd5e60d0bf2ecf2606d7          ROR_n24    open_low1   \n",
       "4   6eef6648406c333a4035cd5e60d0bf2ecf2606d7          ROR_n24    open_low2   \n",
       "5   6eef6648406c333a4035cd5e60d0bf2ecf2606d7          ROR_n24   open_high5   \n",
       "6   6eef6648406c333a4035cd5e60d0bf2ecf2606d7          ROR_n24    open_low5   \n",
       "7   6eef6648406c333a4035cd5e60d0bf2ecf2606d7          ROR_n24    open_low3   \n",
       "8   6eef6648406c333a4035cd5e60d0bf2ecf2606d7          ROR_n24   open_high1   \n",
       "9   6eef6648406c333a4035cd5e60d0bf2ecf2606d7          ROR_n24  open_close6   \n",
       "10  6eef6648406c333a4035cd5e60d0bf2ecf2606d7          ROR_n24    open_low4   \n",
       "11  6eef6648406c333a4035cd5e60d0bf2ecf2606d7          ROR_n24   open_high4   \n",
       "12  6eef6648406c333a4035cd5e60d0bf2ecf2606d7          ROR_n24   open_high3   \n",
       "13  6eef6648406c333a4035cd5e60d0bf2ecf2606d7          ROR_n24  open_close5   \n",
       "14  6eef6648406c333a4035cd5e60d0bf2ecf2606d7          ROR_n24   open_high2   \n",
       "15  6eef6648406c333a4035cd5e60d0bf2ecf2606d7          ROR_n24  open_close3   \n",
       "16  6eef6648406c333a4035cd5e60d0bf2ecf2606d7          ROR_n24  open_close2   \n",
       "17  6eef6648406c333a4035cd5e60d0bf2ecf2606d7          ROR_n24  open_close4   \n",
       "\n",
       "    importance  rank  pct_rank  \n",
       "0      0.30463   1.0  1.000000  \n",
       "1      0.06002   2.0  0.944444  \n",
       "2      0.05763   3.0  0.888889  \n",
       "3      0.05286   4.0  0.833333  \n",
       "4      0.04559   5.0  0.777778  \n",
       "5      0.04491   6.0  0.722222  \n",
       "6      0.04481   7.0  0.666667  \n",
       "7      0.04133   8.0  0.611111  \n",
       "8      0.03966   9.0  0.555556  \n",
       "9      0.03827  10.0  0.500000  \n",
       "10     0.03569  11.0  0.444444  \n",
       "11     0.03512  12.0  0.388889  \n",
       "12     0.03446  13.0  0.333333  \n",
       "13     0.03414  14.0  0.277778  \n",
       "14     0.03376  15.0  0.222222  \n",
       "15     0.03366  16.0  0.166667  \n",
       "16     0.03202  17.0  0.111111  \n",
       "17     0.03145  18.0  0.055556  "
      ]
     },
     "execution_count": 32,
     "metadata": {},
     "output_type": "execute_result"
    }
   ],
   "source": [
    "features = model.feature_importance.feature_importance\n",
    "features[0:30]\n"
   ]
  },
  {
   "cell_type": "markdown",
   "metadata": {},
   "source": [
    "<br>\n",
    "\n",
    "### Least import features"
   ]
  },
  {
   "cell_type": "code",
   "execution_count": 33,
   "metadata": {},
   "outputs": [
    {
     "data": {
      "text/html": [
       "<div>\n",
       "<style scoped>\n",
       "    .dataframe tbody tr th:only-of-type {\n",
       "        vertical-align: middle;\n",
       "    }\n",
       "\n",
       "    .dataframe tbody tr th {\n",
       "        vertical-align: top;\n",
       "    }\n",
       "\n",
       "    .dataframe thead th {\n",
       "        text-align: right;\n",
       "    }\n",
       "</style>\n",
       "<table border=\"1\" class=\"dataframe\">\n",
       "  <thead>\n",
       "    <tr style=\"text-align: right;\">\n",
       "      <th></th>\n",
       "      <th>model_execution_id</th>\n",
       "      <th>data_id</th>\n",
       "      <th>outcome_variable</th>\n",
       "      <th>variable</th>\n",
       "      <th>importance</th>\n",
       "      <th>rank</th>\n",
       "      <th>pct_rank</th>\n",
       "    </tr>\n",
       "  </thead>\n",
       "  <tbody>\n",
       "    <tr>\n",
       "      <th>16</th>\n",
       "      <td>8a992ab5ae501da51c16a46403ee4bc349950b2a</td>\n",
       "      <td>6eef6648406c333a4035cd5e60d0bf2ecf2606d7</td>\n",
       "      <td>ROR_n24</td>\n",
       "      <td>open_close2</td>\n",
       "      <td>0.03202</td>\n",
       "      <td>17.0</td>\n",
       "      <td>0.111111</td>\n",
       "    </tr>\n",
       "    <tr>\n",
       "      <th>17</th>\n",
       "      <td>8a992ab5ae501da51c16a46403ee4bc349950b2a</td>\n",
       "      <td>6eef6648406c333a4035cd5e60d0bf2ecf2606d7</td>\n",
       "      <td>ROR_n24</td>\n",
       "      <td>open_close4</td>\n",
       "      <td>0.03145</td>\n",
       "      <td>18.0</td>\n",
       "      <td>0.055556</td>\n",
       "    </tr>\n",
       "  </tbody>\n",
       "</table>\n",
       "</div>"
      ],
      "text/plain": [
       "                          model_execution_id  \\\n",
       "16  8a992ab5ae501da51c16a46403ee4bc349950b2a   \n",
       "17  8a992ab5ae501da51c16a46403ee4bc349950b2a   \n",
       "\n",
       "                                     data_id outcome_variable     variable  \\\n",
       "16  6eef6648406c333a4035cd5e60d0bf2ecf2606d7          ROR_n24  open_close2   \n",
       "17  6eef6648406c333a4035cd5e60d0bf2ecf2606d7          ROR_n24  open_close4   \n",
       "\n",
       "    importance  rank  pct_rank  \n",
       "16     0.03202  17.0  0.111111  \n",
       "17     0.03145  18.0  0.055556  "
      ]
     },
     "execution_count": 33,
     "metadata": {},
     "output_type": "execute_result"
    }
   ],
   "source": [
    "features[len(features)-20:len(features)]"
   ]
  },
  {
   "cell_type": "markdown",
   "metadata": {},
   "source": [
    "<br>\n",
    "\n",
    "### View trending features\n"
   ]
  },
  {
   "cell_type": "code",
   "execution_count": 28,
   "metadata": {},
   "outputs": [
    {
     "ename": "AttributeError",
     "evalue": "'modelPlots' object has no attribute 'plot_features'",
     "output_type": "error",
     "traceback": [
      "\u001b[0;31m---------------------------------------------------------------------------\u001b[0m",
      "\u001b[0;31mAttributeError\u001b[0m                            Traceback (most recent call last)",
      "\u001b[0;32m<ipython-input-28-aebe06cff970>\u001b[0m in \u001b[0;36m<module>\u001b[0;34m\u001b[0m\n\u001b[1;32m      5\u001b[0m \u001b[0;31m# from data_mgmt import data_mgmt as dm\u001b[0m\u001b[0;34m\u001b[0m\u001b[0;34m\u001b[0m\u001b[0;34m\u001b[0m\u001b[0m\n\u001b[1;32m      6\u001b[0m \u001b[0;34m\u001b[0m\u001b[0m\n\u001b[0;32m----> 7\u001b[0;31m model_plot.plot_features(\n\u001b[0m\u001b[1;32m      8\u001b[0m     \u001b[0mdf\u001b[0m \u001b[0;34m=\u001b[0m \u001b[0mmodel\u001b[0m\u001b[0;34m.\u001b[0m\u001b[0mdf\u001b[0m\u001b[0;34m,\u001b[0m\u001b[0;34m\u001b[0m\u001b[0;34m\u001b[0m\u001b[0m\n\u001b[1;32m      9\u001b[0m     \u001b[0mx\u001b[0m \u001b[0;34m=\u001b[0m \u001b[0;34m'ticker_time'\u001b[0m\u001b[0;34m,\u001b[0m\u001b[0;34m\u001b[0m\u001b[0;34m\u001b[0m\u001b[0m\n",
      "\u001b[0;31mAttributeError\u001b[0m: 'modelPlots' object has no attribute 'plot_features'"
     ]
    }
   ],
   "source": [
    "start_date = '2016-01-01'\n",
    "end_date = '2017-01-01'\n",
    "%matplotlib inline \n",
    "\n",
    "# from data_mgmt import data_mgmt as dm\n",
    "\n",
    "model_plot.plot_features(\n",
    "    df = model.df, \n",
    "    x = 'ticker_time', \n",
    "    y = 'ROR_n10',\n",
    "    start_date=start_date, \n",
    "    end_date=end_date\n",
    ")"
   ]
  },
  {
   "cell_type": "code",
   "execution_count": null,
   "metadata": {},
   "outputs": [],
   "source": [
    "model_plot.plot_features(df = model.df, x = 'ticker_time', y = 'ATR_7',\n",
    "    start_date=start_date, end_date=end_date, chart_type = 'line')\n",
    "\n",
    "model_plot.plot_features(df = model.df, x = 'ticker_time', y = 'EMA_20',\n",
    "    start_date=start_date, end_date=end_date, chart_type='line')\n"
   ]
  },
  {
   "cell_type": "code",
   "execution_count": null,
   "metadata": {},
   "outputs": [],
   "source": []
  },
  {
   "cell_type": "code",
   "execution_count": null,
   "metadata": {},
   "outputs": [],
   "source": []
  }
 ],
 "metadata": {
  "accelerator": "TPU",
  "colab": {
   "collapsed_sections": [
    "o8UChE6mjUOP",
    "fRG-fEws1PQW",
    "4GJa607W6ljl"
   ],
   "name": "stocks_random_forest.ipynb",
   "provenance": [],
   "version": "0.3.2"
  },
  "kernelspec": {
   "display_name": "Python 3",
   "language": "python",
   "name": "python3"
  },
  "language_info": {
   "codemirror_mode": {
    "name": "ipython",
    "version": 3
   },
   "file_extension": ".py",
   "mimetype": "text/x-python",
   "name": "python",
   "nbconvert_exporter": "python",
   "pygments_lexer": "ipython3",
   "version": "3.7.6"
  }
 },
 "nbformat": 4,
 "nbformat_minor": 4
}
