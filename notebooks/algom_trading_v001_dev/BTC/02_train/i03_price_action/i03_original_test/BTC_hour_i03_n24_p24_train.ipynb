{
 "cells": [
  {
   "cell_type": "markdown",
   "metadata": {
    "colab_type": "text",
    "id": "PUsG-grKmsJj"
   },
   "source": [
    "# Model training\n",
    "\n",
    "#### BTC-USDT for ROR_n24 with price action features\n",
    "\n",
    "\n",
    "<br>\n",
    "\n",
    "#### Performance by Model ID\n",
    "\n",
    "```\n",
    "model_id: 1a198235336cc9cd417004b752cc80ffdf7b2705\n",
    "    - n_estimates = 500\n",
    "    - max_depth = 10\n",
    "    - Mean Absolute Error:\t 0.00628\n",
    "    - Mean Absolute Outcome:\t 0.03118\n",
    "    - Mean Absolute Percent Error:\t 0.20153\n",
    "    - Error Variance:\t 0.00012\n",
    "    - R-Squared:\t\t 0.94399\n",
    "```\n",
    "\n",
    "\n",
    "```\n",
    "model_id:\n",
    "    - n_estimates = 500\n",
    "    - max_depth=20\n",
    "```\n",
    "\n",
    "\n",
    "\n",
    "<br>\n",
    "\n",
    "#### Resources\n",
    "+ [BigQuery](https://console.cloud.google.com/bigquery?folder=&organizationId=&project=algomosaic-nyc)\n",
    "+ [Storage](https://console.cloud.google.com/storage/browser/algom-trading/models/?project=algomosaic-nyc)\n",
    "\n"
   ]
  },
  {
   "cell_type": "markdown",
   "metadata": {
    "colab_type": "text",
    "id": "HOd4wXaNlQWz"
   },
   "source": [
    "<br> \n",
    "\n",
    "#### Requirements\n"
   ]
  },
  {
   "cell_type": "code",
   "execution_count": 1,
   "metadata": {},
   "outputs": [],
   "source": [
    "import numpy as np\n",
    "from algom import configs\n",
    "from algom.utils.data_object import dataObject\n",
    "from algom.model_regression import modelRegression\n",
    "from algom.model_plots import modelPlots"
   ]
  },
  {
   "cell_type": "markdown",
   "metadata": {},
   "source": [
    "<br>\n",
    "\n",
    "### Load training data\n"
   ]
  },
  {
   "cell_type": "code",
   "execution_count": 2,
   "metadata": {},
   "outputs": [
    {
     "name": "stdout",
     "output_type": "stream",
     "text": [
      "RUNNING: Querying SQL script.\n"
     ]
    },
    {
     "name": "stderr",
     "output_type": "stream",
     "text": [
      "Downloading: 100%|██████████| 20745/20745 [00:17<00:00, 1191.48rows/s]"
     ]
    },
    {
     "name": "stdout",
     "output_type": "stream",
     "text": [
      "SUCCESS: Loaded SQL query.\n"
     ]
    },
    {
     "name": "stderr",
     "output_type": "stream",
     "text": [
      "\n"
     ]
    }
   ],
   "source": [
    "# Load model data\n",
    "data = dataObject(\"\"\"\n",
    "with\n",
    "\n",
    "ticker_data as (\n",
    "  select\n",
    "    ticker_time,\n",
    "    ticker_time_sec,\n",
    "    ticker,\n",
    "    `interval` as ticker_interval,\n",
    "    ROR_n1,\n",
    "    ROR_n5,\n",
    "    ROR_n20,\n",
    "    ROR_n25,\n",
    "    ROR_n30,\n",
    "    volume_base,\n",
    "    volume,\n",
    "    open as open1,\n",
    "    high as high1,\n",
    "    low as low1,\n",
    "    close as close1,\n",
    "    rank() over (partition by ticker_time order by etl_time desc) as load_rank,\n",
    "  from `algom-trading.train_features.features_BTC_USDT_hour_i02_*`\n",
    "  where\n",
    "    _table_suffix in (\n",
    "      '20170101',\n",
    "      '20180101',\n",
    "      '20190101'\n",
    "      )\n",
    "    AND year BETWEEN 2017 AND 2020\n",
    "  )\n",
    "\n",
    "select * except(\n",
    "  open1, high1, low1, close1, open2, high2, low2, close2, open3, high3, low3, close3, open4, high4, low4, close4, \n",
    "  open5, high5, low5, close5, open6, high6, low6, close6, open7, high7, low7, close7, open8, high8, low8, close8, \n",
    "  open9, high9, low9, close9, open10, high10, low10, close10, open11, high11, low11, close11, open12, high12, low12, close12, \n",
    "  open13, high13, low13, close13, open14, high14, low14, close14, open15, high15, low15, close15, open16, high16, low16, close16, \n",
    "  open17, high17, low17, close17, open18, high18, low18, close18, open19, high19, low19, close19, open20, high20, low20, close20, \n",
    "  open21, high21, low21, close21, open22, high22, low22, close22, open23, high23, low23, close23, open24, high24, low24, close24),\n",
    "\n",
    "  round(log(safe_divide(close1, open24)), 5) as open_close1,\n",
    "  round(log(safe_divide(high1, open24)), 5)  as open_high1,\n",
    "  round(log(safe_divide(low1, open24)), 5)   as open_low1,\n",
    "\n",
    "  round(log(safe_divide(close2, open24)), 5) as open_close2,\n",
    "  round(log(safe_divide(high2, open24)), 5)  as open_high2,\n",
    "  round(log(safe_divide(low2, open24)), 5)   as open_low2,\n",
    "\n",
    "  round(log(safe_divide(close3, open24)), 5) as open_close3,\n",
    "  round(log(safe_divide(high3, open24)), 5)  as open_high3,\n",
    "  round(log(safe_divide(low3, open24)), 5)   as open_low3,\n",
    "\n",
    "  round(log(safe_divide(close4, open24)), 5) as open_close4,\n",
    "  round(log(safe_divide(high4, open24)), 5)  as open_high4,\n",
    "  round(log(safe_divide(low4, open24)), 5)   as open_low4,\n",
    "\n",
    "  round(log(safe_divide(close5, open24)), 5) as open_close5,\n",
    "  round(log(safe_divide(high5, open24)), 5)  as open_high5,\n",
    "  round(log(safe_divide(low5, open24)), 5)   as open_low5,\n",
    "\n",
    "  round(log(safe_divide(close6, open24)), 5) as open_close6,\n",
    "  round(log(safe_divide(high6, open24)), 5)  as open_high6,\n",
    "  round(log(safe_divide(low6, open24)), 5)   as open_low6,\n",
    "\n",
    "  round(log(safe_divide(close7, open24)), 5) as open_close7,\n",
    "  round(log(safe_divide(high7, open24)), 5)  as open_high7,\n",
    "  round(log(safe_divide(low7, open24)), 5)   as open_low7,\n",
    "\n",
    "  round(log(safe_divide(close8, open24)), 5) as open_close8,\n",
    "  round(log(safe_divide(high8, open24)), 5)  as open_high8,\n",
    "  round(log(safe_divide(low8, open24)), 5)   as open_low8,\n",
    "  \n",
    "  round(log(safe_divide(close9, open24)), 5) as open_close9,\n",
    "  round(log(safe_divide(high9, open24)), 5)  as open_high9,\n",
    "  round(log(safe_divide(low9, open24)), 5)   as open_low9,\n",
    "\n",
    "  round(log(safe_divide(close10, open24)), 5) as open_close10,\n",
    "  round(log(safe_divide(high10, open24)), 5)  as open_high10,\n",
    "  round(log(safe_divide(low10, open24)), 5)   as open_low10,\n",
    "\n",
    "  round(log(safe_divide(close11, open24)), 5) as open_close11,\n",
    "  round(log(safe_divide(high11, open24)), 5)  as open_high11,\n",
    "  round(log(safe_divide(low11, open24)), 5)   as open_low11,\n",
    "\n",
    "  round(log(safe_divide(close12, open24)), 5) as open_close12,\n",
    "  round(log(safe_divide(high12, open24)), 5)  as open_high12,\n",
    "  round(log(safe_divide(low12, open24)), 5)   as open_low12,\n",
    "\n",
    "  round(log(safe_divide(close13, open24)), 5) as open_close13,\n",
    "  round(log(safe_divide(high13, open24)), 5)  as open_high13,\n",
    "  round(log(safe_divide(low13, open24)), 5)   as open_low13,\n",
    "\n",
    "  round(log(safe_divide(close14, open24)), 5) as open_close14,\n",
    "  round(log(safe_divide(high14, open24)), 5)  as open_high14,\n",
    "  round(log(safe_divide(low14, open24)), 5)   as open_low14,\n",
    "\n",
    "  round(log(safe_divide(close15, open24)), 5) as open_close15,\n",
    "  round(log(safe_divide(high15, open24)), 5)  as open_high15,\n",
    "  round(log(safe_divide(low15, open24)), 5)   as open_low15,\n",
    "\n",
    "  round(log(safe_divide(close16, open24)), 5) as open_close16,\n",
    "  round(log(safe_divide(high16, open24)), 5)  as open_high16,\n",
    "  round(log(safe_divide(low16, open24)), 5)   as open_low16,\n",
    "\n",
    "  round(log(safe_divide(close17, open24)), 5) as open_close17,\n",
    "  round(log(safe_divide(high17, open24)), 5)  as open_high17,\n",
    "  round(log(safe_divide(low17, open24)), 5)   as open_low17,\n",
    "\n",
    "  round(log(safe_divide(close18, open24)), 5) as open_close18,\n",
    "  round(log(safe_divide(high18, open24)), 5)  as open_high18,\n",
    "  round(log(safe_divide(low18, open24)), 5)   as open_low18,\n",
    "\n",
    "  round(log(safe_divide(close19, open24)), 5) as open_close19,\n",
    "  round(log(safe_divide(high19, open24)), 5)  as open_high19,\n",
    "  round(log(safe_divide(low19, open24)), 5)   as open_low19,\n",
    "\n",
    "  round(log(safe_divide(close20, open24)), 5) as open_close20,\n",
    "  round(log(safe_divide(high20, open24)), 5)  as open_high20,\n",
    "  round(log(safe_divide(low20, open24)), 5)   as open_low20,\n",
    "\n",
    "  round(log(safe_divide(close21, open24)), 5) as open_close21,\n",
    "  round(log(safe_divide(high21, open24)), 5)  as open_high21,\n",
    "  round(log(safe_divide(low21, open24)), 5)   as open_low21,\n",
    "\n",
    "  round(log(safe_divide(close22, open24)), 5) as open_close22,\n",
    "  round(log(safe_divide(high22, open24)), 5)  as open_high22,\n",
    "  round(log(safe_divide(low22, open24)), 5)   as open_low22,\n",
    "\n",
    "  round(log(safe_divide(close23, open24)), 5) as open_close23,\n",
    "  round(log(safe_divide(high23, open24)), 5)  as open_high23,\n",
    "  round(log(safe_divide(low23, open24)), 5)   as open_low23,\n",
    "\n",
    "  round(log(safe_divide(close24, open24)), 5) as open_close24,\n",
    "  round(log(safe_divide(high24, open24)), 5)  as open_high24,\n",
    "  round(log(safe_divide(low24, open24)), 5)   as open_low24,\n",
    "\n",
    "from (\n",
    "    select * except(load_rank),\n",
    "\n",
    "    lag(open1) over (order by ticker_time)  as open2,\n",
    "    lag(high1) over (order by ticker_time)  as high2,\n",
    "    lag(low1) over (order by ticker_time)   as low2,\n",
    "    lag(close1) over (order by ticker_time) as close2,\n",
    "\n",
    "    lag(open1, 2) over (order by ticker_time)  as open3,\n",
    "    lag(high1, 2) over (order by ticker_time)  as high3,\n",
    "    lag(low1, 2) over (order by ticker_time)   as low3,\n",
    "    lag(close1, 2) over (order by ticker_time) as close3,\n",
    "\n",
    "    lag(open1, 3) over (order by ticker_time)  as open4,\n",
    "    lag(high1, 3) over (order by ticker_time)  as high4,\n",
    "    lag(low1, 3) over (order by ticker_time)   as low4,\n",
    "    lag(close1, 3) over (order by ticker_time) as close4,\n",
    "\n",
    "    lag(open1, 4) over (order by ticker_time)  as open5,\n",
    "    lag(high1, 4) over (order by ticker_time)  as high5,\n",
    "    lag(low1, 4) over (order by ticker_time)   as low5,\n",
    "    lag(close1, 4) over (order by ticker_time) as close5,\n",
    "\n",
    "    lag(open1, 5) over (order by ticker_time)  as open6,\n",
    "    lag(high1, 5) over (order by ticker_time)  as high6,\n",
    "    lag(low1, 5) over (order by ticker_time)   as low6,\n",
    "    lag(close1, 5) over (order by ticker_time) as close6,\n",
    "\n",
    "    lag(open1, 6) over (order by ticker_time)  as open7,\n",
    "    lag(high1, 6) over (order by ticker_time)  as high7,\n",
    "    lag(low1, 6) over (order by ticker_time)   as low7,\n",
    "    lag(close1, 6) over (order by ticker_time) as close7,\n",
    "\n",
    "    lag(open1, 7) over (order by ticker_time)  as open8,\n",
    "    lag(high1, 7) over (order by ticker_time)  as high8,\n",
    "    lag(low1, 7) over (order by ticker_time)   as low8,\n",
    "    lag(close1, 7) over (order by ticker_time) as close8,\n",
    "\n",
    "    lag(open1, 8) over (order by ticker_time)  as open9,\n",
    "    lag(high1, 8) over (order by ticker_time)  as high9,\n",
    "    lag(low1, 8) over (order by ticker_time)   as low9,\n",
    "    lag(close1, 8) over (order by ticker_time) as close9,\n",
    "\n",
    "    lag(open1, 9) over (order by ticker_time)  as open10,\n",
    "    lag(high1, 9) over (order by ticker_time)  as high10,\n",
    "    lag(low1, 9) over (order by ticker_time)   as low10,\n",
    "    lag(close1, 9) over (order by ticker_time) as close10,\n",
    "\n",
    "    lag(open1, 10) over (order by ticker_time)  as open11,\n",
    "    lag(high1, 10) over (order by ticker_time)  as high11,\n",
    "    lag(low1, 10) over (order by ticker_time)   as low11,\n",
    "    lag(close1, 10) over (order by ticker_time) as close11,\n",
    "\n",
    "    lag(open1, 11) over (order by ticker_time)  as open12,\n",
    "    lag(high1, 11) over (order by ticker_time)  as high12,\n",
    "    lag(low1, 11) over (order by ticker_time)   as low12,\n",
    "    lag(close1, 11) over (order by ticker_time) as close12,\n",
    "\n",
    "    lag(open1, 12) over (order by ticker_time)  as open13,\n",
    "    lag(high1, 12) over (order by ticker_time)  as high13,\n",
    "    lag(low1, 12) over (order by ticker_time)   as low13,\n",
    "    lag(close1, 12) over (order by ticker_time) as close13,\n",
    "\n",
    "    lag(open1, 13) over (order by ticker_time)  as open14,\n",
    "    lag(high1, 13) over (order by ticker_time)  as high14,\n",
    "    lag(low1, 13) over (order by ticker_time)   as low14,\n",
    "    lag(close1, 13) over (order by ticker_time) as close14,\n",
    "\n",
    "    lag(open1, 14) over (order by ticker_time)  as open15,\n",
    "    lag(high1, 14) over (order by ticker_time)  as high15,\n",
    "    lag(low1, 14) over (order by ticker_time)   as low15,\n",
    "    lag(close1, 14) over (order by ticker_time) as close15,\n",
    "\n",
    "    lag(open1, 15) over (order by ticker_time)  as open16,\n",
    "    lag(high1, 15) over (order by ticker_time)  as high16,\n",
    "    lag(low1, 15) over (order by ticker_time)   as low16,\n",
    "    lag(close1, 15) over (order by ticker_time) as close16,\n",
    "\n",
    "    lag(open1, 16) over (order by ticker_time)  as open17,\n",
    "    lag(high1, 16) over (order by ticker_time)  as high17,\n",
    "    lag(low1, 16) over (order by ticker_time)   as low17,\n",
    "    lag(close1, 16) over (order by ticker_time) as close17,\n",
    "\n",
    "    lag(open1, 17) over (order by ticker_time)  as open18,\n",
    "    lag(high1, 17) over (order by ticker_time)  as high18,\n",
    "    lag(low1, 17) over (order by ticker_time)   as low18,\n",
    "    lag(close1, 17) over (order by ticker_time) as close18,\n",
    "\n",
    "    lag(open1, 18) over (order by ticker_time)  as open19,\n",
    "    lag(high1, 18) over (order by ticker_time)  as high19,\n",
    "    lag(low1, 18) over (order by ticker_time)   as low19,\n",
    "    lag(close1, 18) over (order by ticker_time) as close19,\n",
    "\n",
    "    lag(open1, 19) over (order by ticker_time)  as open20,\n",
    "    lag(high1, 19) over (order by ticker_time)  as high20,\n",
    "    lag(low1, 19) over (order by ticker_time)   as low20,\n",
    "    lag(close1, 19) over (order by ticker_time) as close20,\n",
    "\n",
    "    lag(open1, 20) over (order by ticker_time)  as open21,\n",
    "    lag(high1, 20) over (order by ticker_time)  as high21,\n",
    "    lag(low1, 20) over (order by ticker_time)   as low21,\n",
    "    lag(close1, 20) over (order by ticker_time) as close21,\n",
    "\n",
    "    lag(open1, 21) over (order by ticker_time)  as open22,\n",
    "    lag(high1, 21) over (order by ticker_time)  as high22,\n",
    "    lag(low1, 21) over (order by ticker_time)   as low22,\n",
    "    lag(close1, 21) over (order by ticker_time) as close22,\n",
    "\n",
    "    lag(open1, 22) over (order by ticker_time)  as open23,\n",
    "    lag(high1, 22) over (order by ticker_time)  as high23,\n",
    "    lag(low1, 22) over (order by ticker_time)   as low23,\n",
    "    lag(close1, 22) over (order by ticker_time) as close23,\n",
    "\n",
    "    lag(open1, 23) over (order by ticker_time)  as open24,\n",
    "    lag(high1, 23) over (order by ticker_time)  as high24,\n",
    "    lag(low1, 23) over (order by ticker_time)   as low24,\n",
    "    lag(close1, 23) over (order by ticker_time) as close24,\n",
    "\n",
    "    FROM ticker_data\n",
    "    WHERE load_rank = 1\n",
    "    )\n",
    "WHERE\n",
    "  close12 IS NOT NULL\n",
    "  AND ROR_n30 IS NOT NULL\n",
    "  AND close24 IS NOT NULL\n",
    "ORDER BY ticker_time\n",
    "\"\"\")"
   ]
  },
  {
   "cell_type": "code",
   "execution_count": 3,
   "metadata": {},
   "outputs": [
    {
     "name": "stdout",
     "output_type": "stream",
     "text": [
      "20715\n"
     ]
    },
    {
     "data": {
      "text/html": [
       "<div>\n",
       "<style scoped>\n",
       "    .dataframe tbody tr th:only-of-type {\n",
       "        vertical-align: middle;\n",
       "    }\n",
       "\n",
       "    .dataframe tbody tr th {\n",
       "        vertical-align: top;\n",
       "    }\n",
       "\n",
       "    .dataframe thead th {\n",
       "        text-align: right;\n",
       "    }\n",
       "</style>\n",
       "<table border=\"1\" class=\"dataframe\">\n",
       "  <thead>\n",
       "    <tr style=\"text-align: right;\">\n",
       "      <th></th>\n",
       "      <th>ticker_time</th>\n",
       "      <th>ticker_time_sec</th>\n",
       "      <th>ticker</th>\n",
       "      <th>ticker_interval</th>\n",
       "      <th>ROR_n1</th>\n",
       "      <th>ROR_n5</th>\n",
       "      <th>ROR_n20</th>\n",
       "      <th>ROR_n25</th>\n",
       "      <th>ROR_n30</th>\n",
       "      <th>volume_base</th>\n",
       "      <th>...</th>\n",
       "      <th>open_low21</th>\n",
       "      <th>open_close22</th>\n",
       "      <th>open_high22</th>\n",
       "      <th>open_low22</th>\n",
       "      <th>open_close23</th>\n",
       "      <th>open_high23</th>\n",
       "      <th>open_low23</th>\n",
       "      <th>open_close24</th>\n",
       "      <th>open_high24</th>\n",
       "      <th>open_low24</th>\n",
       "    </tr>\n",
       "  </thead>\n",
       "  <tbody>\n",
       "    <tr>\n",
       "      <th>30</th>\n",
       "      <td>2017-08-18 10:00:00+00:00</td>\n",
       "      <td>1503050400</td>\n",
       "      <td>BTC-USDT</td>\n",
       "      <td>hour</td>\n",
       "      <td>0.012046</td>\n",
       "      <td>0.009862</td>\n",
       "      <td>-0.025946</td>\n",
       "      <td>-0.019930</td>\n",
       "      <td>0.010959</td>\n",
       "      <td>51.54</td>\n",
       "      <td>...</td>\n",
       "      <td>-0.00541</td>\n",
       "      <td>-0.00022</td>\n",
       "      <td>-0.00022</td>\n",
       "      <td>-0.01105</td>\n",
       "      <td>-0.01105</td>\n",
       "      <td>-0.00234</td>\n",
       "      <td>-0.01105</td>\n",
       "      <td>-0.00736</td>\n",
       "      <td>0.00568</td>\n",
       "      <td>-0.00736</td>\n",
       "    </tr>\n",
       "    <tr>\n",
       "      <th>31</th>\n",
       "      <td>2017-08-18 11:00:00+00:00</td>\n",
       "      <td>1503054000</td>\n",
       "      <td>BTC-USDT</td>\n",
       "      <td>hour</td>\n",
       "      <td>-0.003680</td>\n",
       "      <td>0.014119</td>\n",
       "      <td>-0.002768</td>\n",
       "      <td>-0.027203</td>\n",
       "      <td>0.005774</td>\n",
       "      <td>24.09</td>\n",
       "      <td>...</td>\n",
       "      <td>-0.02143</td>\n",
       "      <td>0.00978</td>\n",
       "      <td>0.01304</td>\n",
       "      <td>0.00195</td>\n",
       "      <td>0.00713</td>\n",
       "      <td>0.00713</td>\n",
       "      <td>-0.00369</td>\n",
       "      <td>-0.00369</td>\n",
       "      <td>0.00502</td>\n",
       "      <td>-0.00369</td>\n",
       "    </tr>\n",
       "    <tr>\n",
       "      <th>32</th>\n",
       "      <td>2017-08-18 12:00:00+00:00</td>\n",
       "      <td>1503057600</td>\n",
       "      <td>BTC-USDT</td>\n",
       "      <td>hour</td>\n",
       "      <td>-0.000874</td>\n",
       "      <td>0.008399</td>\n",
       "      <td>-0.004064</td>\n",
       "      <td>-0.020718</td>\n",
       "      <td>0.002810</td>\n",
       "      <td>15.12</td>\n",
       "      <td>...</td>\n",
       "      <td>-0.03594</td>\n",
       "      <td>-0.01339</td>\n",
       "      <td>0.01347</td>\n",
       "      <td>-0.01774</td>\n",
       "      <td>0.01347</td>\n",
       "      <td>0.01672</td>\n",
       "      <td>0.00564</td>\n",
       "      <td>0.01082</td>\n",
       "      <td>0.01082</td>\n",
       "      <td>0.00000</td>\n",
       "    </tr>\n",
       "    <tr>\n",
       "      <th>33</th>\n",
       "      <td>2017-08-18 13:00:00+00:00</td>\n",
       "      <td>1503061200</td>\n",
       "      <td>BTC-USDT</td>\n",
       "      <td>hour</td>\n",
       "      <td>-0.017336</td>\n",
       "      <td>-0.004854</td>\n",
       "      <td>-0.021400</td>\n",
       "      <td>-0.034365</td>\n",
       "      <td>-0.020437</td>\n",
       "      <td>17.01</td>\n",
       "      <td>...</td>\n",
       "      <td>-0.05143</td>\n",
       "      <td>-0.02379</td>\n",
       "      <td>-0.02375</td>\n",
       "      <td>-0.04676</td>\n",
       "      <td>-0.02421</td>\n",
       "      <td>0.00265</td>\n",
       "      <td>-0.02857</td>\n",
       "      <td>0.00265</td>\n",
       "      <td>0.00590</td>\n",
       "      <td>-0.00519</td>\n",
       "    </tr>\n",
       "    <tr>\n",
       "      <th>34</th>\n",
       "      <td>2017-08-18 14:00:00+00:00</td>\n",
       "      <td>1503064800</td>\n",
       "      <td>BTC-USDT</td>\n",
       "      <td>hour</td>\n",
       "      <td>-0.000608</td>\n",
       "      <td>-0.010451</td>\n",
       "      <td>0.000571</td>\n",
       "      <td>-0.045796</td>\n",
       "      <td>-0.023502</td>\n",
       "      <td>71.29</td>\n",
       "      <td>...</td>\n",
       "      <td>-0.05805</td>\n",
       "      <td>-0.02644</td>\n",
       "      <td>-0.02628</td>\n",
       "      <td>-0.05408</td>\n",
       "      <td>-0.02644</td>\n",
       "      <td>-0.02640</td>\n",
       "      <td>-0.04941</td>\n",
       "      <td>-0.02686</td>\n",
       "      <td>0.00000</td>\n",
       "      <td>-0.03121</td>\n",
       "    </tr>\n",
       "  </tbody>\n",
       "</table>\n",
       "<p>5 rows × 83 columns</p>\n",
       "</div>"
      ],
      "text/plain": [
       "                 ticker_time  ticker_time_sec    ticker ticker_interval  \\\n",
       "30 2017-08-18 10:00:00+00:00       1503050400  BTC-USDT            hour   \n",
       "31 2017-08-18 11:00:00+00:00       1503054000  BTC-USDT            hour   \n",
       "32 2017-08-18 12:00:00+00:00       1503057600  BTC-USDT            hour   \n",
       "33 2017-08-18 13:00:00+00:00       1503061200  BTC-USDT            hour   \n",
       "34 2017-08-18 14:00:00+00:00       1503064800  BTC-USDT            hour   \n",
       "\n",
       "      ROR_n1    ROR_n5   ROR_n20   ROR_n25   ROR_n30  volume_base  ...  \\\n",
       "30  0.012046  0.009862 -0.025946 -0.019930  0.010959        51.54  ...   \n",
       "31 -0.003680  0.014119 -0.002768 -0.027203  0.005774        24.09  ...   \n",
       "32 -0.000874  0.008399 -0.004064 -0.020718  0.002810        15.12  ...   \n",
       "33 -0.017336 -0.004854 -0.021400 -0.034365 -0.020437        17.01  ...   \n",
       "34 -0.000608 -0.010451  0.000571 -0.045796 -0.023502        71.29  ...   \n",
       "\n",
       "    open_low21  open_close22  open_high22  open_low22  open_close23  \\\n",
       "30    -0.00541      -0.00022     -0.00022    -0.01105      -0.01105   \n",
       "31    -0.02143       0.00978      0.01304     0.00195       0.00713   \n",
       "32    -0.03594      -0.01339      0.01347    -0.01774       0.01347   \n",
       "33    -0.05143      -0.02379     -0.02375    -0.04676      -0.02421   \n",
       "34    -0.05805      -0.02644     -0.02628    -0.05408      -0.02644   \n",
       "\n",
       "    open_high23  open_low23  open_close24  open_high24  open_low24  \n",
       "30     -0.00234    -0.01105      -0.00736      0.00568    -0.00736  \n",
       "31      0.00713    -0.00369      -0.00369      0.00502    -0.00369  \n",
       "32      0.01672     0.00564       0.01082      0.01082     0.00000  \n",
       "33      0.00265    -0.02857       0.00265      0.00590    -0.00519  \n",
       "34     -0.02640    -0.04941      -0.02686      0.00000    -0.03121  \n",
       "\n",
       "[5 rows x 83 columns]"
      ]
     },
     "execution_count": 3,
     "metadata": {},
     "output_type": "execute_result"
    }
   ],
   "source": [
    "# Drop nan values\n",
    "data.df = data.df.replace([np.inf, -np.inf], np.nan).dropna()\n",
    "print(len(data.df))\n",
    "data.df.head()"
   ]
  },
  {
   "cell_type": "markdown",
   "metadata": {},
   "source": [
    "<br>\n",
    "\n",
    "### Initialize modelRegression class"
   ]
  },
  {
   "cell_type": "code",
   "execution_count": 4,
   "metadata": {},
   "outputs": [
    {
     "name": "stdout",
     "output_type": "stream",
     "text": [
      "SUCCESS: Loaded dataObject.\n",
      "Initialized model. As a next step, run self.predict() or self.train().\n"
     ]
    }
   ],
   "source": [
    "# Initialize model class\n",
    "model = modelRegression(\n",
    "    data, \n",
    "    outcome='ROR_n25',\n",
    "    index_features=configs.INDEX_FEATURES, \n",
    "    omit_features=configs.OMIT_FEATURES\n",
    ")"
   ]
  },
  {
   "cell_type": "code",
   "execution_count": 5,
   "metadata": {},
   "outputs": [],
   "source": [
    "# len(model.feature_list)\n",
    "# list(model.feature_list)\n"
   ]
  },
  {
   "cell_type": "code",
   "execution_count": 6,
   "metadata": {},
   "outputs": [
    {
     "name": "stdout",
     "output_type": "stream",
     "text": [
      "Training model on ROR_n25.\n",
      "Model metadata added to `self.metadata.metadata`\n",
      "Model metadata added to `self.metadata.parameters`\n",
      "Set feature_importance to `self.feature_importance.feature_importance`\n",
      "Fit model in 0:00:00.000042.\n",
      "Get model performance.\n",
      "Set evaluation to self.evaluations in 0:00:00.000042.\n",
      "Set R^2 to `self.rsquared`\n",
      "The following performance measures have been added:\n",
      "                - self.mean_abs_error\n",
      "                - self.mean_abs_outcome\n",
      "                - self.mean_abs_pct_error\n",
      "                - self.error_var\n",
      "            \n",
      "Performance metrics added to `self.performance`\n",
      "\n",
      "MODEL PERFORMANCE SUMMARY\n",
      "        - Mean Absolute Error:\t 0.00622\n",
      "        - Mean Absolute Outcome:\t 0.03118\n",
      "        - Mean Absolute Percent Error:\t 0.19957\n",
      "        - Error Variance:\t 0.00013\n",
      "        - R-Squared:\t\t 0.94357\n",
      "        \n",
      "PLOT PREDICTIONS: Use the following commandsto view model performance.\n",
      "              `self.plot_predictions_by_date(start_date, end_date)`\n",
      "              `self.plot_predictions_histogram(start_date, end_date)`\n",
      "              `self.plot_errors_by_date(start_date, end_date)`\n",
      "              `self.plot_errors_histogram(start_date, end_date)`\n",
      "              `self.plot_predictions_scatterplot(start_date, end_date)`\n",
      "              \n"
     ]
    }
   ],
   "source": [
    "# Specify regression parameters\n",
    "from sklearn import ensemble\n",
    "reg = ensemble.GradientBoostingRegressor(\n",
    "    loss='ls', \n",
    "    learning_rate=0.1,\n",
    "    n_estimators=500,\n",
    "    subsample=.9,\n",
    "    criterion='friedman_mse', \n",
    "    min_samples_split=3, \n",
    "    min_samples_leaf=3,\n",
    "    min_weight_fraction_leaf=0.0,\n",
    "    max_depth=10,\n",
    "    min_impurity_decrease=0.0, \n",
    "    min_impurity_split=None, \n",
    "    init=None,\n",
    "    random_state=None, \n",
    "    max_features=None, \n",
    "    alpha=0.9, \n",
    "    verbose=0,\n",
    "    max_leaf_nodes=None, \n",
    "    warm_start=False, \n",
    "    validation_fraction=0.1, \n",
    "    n_iter_no_change=None, \n",
    "    tol=0.0001\n",
    ")\n",
    "\n",
    "\n",
    "# Train model\n",
    "model.train(reg)\n"
   ]
  },
  {
   "cell_type": "code",
   "execution_count": 7,
   "metadata": {},
   "outputs": [
    {
     "name": "stdout",
     "output_type": "stream",
     "text": [
      "model_id: 1a198235336cc9cd417004b752cc80ffdf7b2705\n",
      "model_execution_id: f92ef83fe9b8f4fdaaa186a57d1ebd3a8a43a94a\n"
     ]
    }
   ],
   "source": [
    "# Model IDs\n",
    "print('model_id: ' + model.model_id)\n",
    "print('model_execution_id: ' + model.model_execution_id)\n"
   ]
  },
  {
   "cell_type": "code",
   "execution_count": 8,
   "metadata": {},
   "outputs": [
    {
     "name": "stdout",
     "output_type": "stream",
     "text": [
      "Dumped model to:\n",
      "\t/home/jovyan/algomosaic/data/models/20210103_GradientBoostingRegressor_1a198235336cc9cd417004b752cc80ffdf7b2705.pickle\n",
      "Uploaded pickle to Google Storage:\n",
      "\thttps://storage.googleapis.com/algom-trading-sto/models/20210103_GradientBoostingRegressor_1a198235336cc9cd417004b752cc80ffdf7b2705.pickle\n",
      "SUCCESS: Loaded DataFrame.\n"
     ]
    },
    {
     "name": "stderr",
     "output_type": "stream",
     "text": [
      "1it [00:03,  3.55s/it]"
     ]
    },
    {
     "name": "stdout",
     "output_type": "stream",
     "text": [
      "Uploaded storage metadata to Google BigQuery:\n",
      "\tstorage.model_storage_YYYYMMDD\n",
      "Saved model to Google Storage:\n",
      "\tmodels/20210103_GradientBoostingRegressor_1a198235336cc9cd417004b752cc80ffdf7b2705.pickle\n"
     ]
    },
    {
     "name": "stderr",
     "output_type": "stream",
     "text": [
      "\n"
     ]
    }
   ],
   "source": [
    "# Save model (optional)\n",
    "model.save()\n"
   ]
  },
  {
   "cell_type": "code",
   "execution_count": null,
   "metadata": {},
   "outputs": [],
   "source": []
  },
  {
   "cell_type": "markdown",
   "metadata": {},
   "source": [
    "<br>\n",
    "\n",
    "## View performance \n",
    "\n",
    "+ Trending predictions vs outcomes\n",
    "+ Histogram of predictions vs outcomes\n"
   ]
  },
  {
   "cell_type": "code",
   "execution_count": 9,
   "metadata": {},
   "outputs": [],
   "source": [
    "start_date='2019-04-01'\n",
    "end_date='2019-05-01'\n",
    "%matplotlib inline\n",
    "model_plot = modelPlots(model)"
   ]
  },
  {
   "cell_type": "code",
   "execution_count": 10,
   "metadata": {},
   "outputs": [
    {
     "name": "stdout",
     "output_type": "stream",
     "text": [
      "PLOT: Predictions by Date\n",
      "        `self.plot_predictions_by_date(start_date, end_date)`\n"
     ]
    },
    {
     "data": {
      "text/plain": [
       "<matplotlib.axes._subplots.AxesSubplot at 0x7f0e8509ca10>"
      ]
     },
     "execution_count": 10,
     "metadata": {},
     "output_type": "execute_result"
    },
    {
     "data": {
      "image/png": "[encoded data removed]",
      "text/plain": [
       "<Figure size 1440x360 with 1 Axes>"
      ]
     },
     "metadata": {
      "needs_background": "light"
     },
     "output_type": "display_data"
    }
   ],
   "source": [
    "model_plot.plot_predictions_by_date(start_date, end_date)"
   ]
  },
  {
   "cell_type": "code",
   "execution_count": 11,
   "metadata": {},
   "outputs": [
    {
     "name": "stdout",
     "output_type": "stream",
     "text": [
      "PLOT: Prediction Errors by Date`\n"
     ]
    },
    {
     "data": {
      "text/plain": [
       "<matplotlib.axes._subplots.AxesSubplot at 0x7f0e84385b50>"
      ]
     },
     "execution_count": 11,
     "metadata": {},
     "output_type": "execute_result"
    },
    {
     "data": {
      "image/png": "[encoded data removed]",
      "text/plain": [
       "<Figure size 1440x360 with 1 Axes>"
      ]
     },
     "metadata": {
      "needs_background": "light"
     },
     "output_type": "display_data"
    }
   ],
   "source": [
    "model_plot.plot_errors_by_date(start_date, end_date)"
   ]
  },
  {
   "cell_type": "code",
   "execution_count": 12,
   "metadata": {},
   "outputs": [
    {
     "name": "stdout",
     "output_type": "stream",
     "text": [
      "PLOT: Predictions Histogram\n"
     ]
    },
    {
     "data": {
      "text/plain": [
       "<matplotlib.axes._subplots.AxesSubplot at 0x7f0e84b79ed0>"
      ]
     },
     "execution_count": 12,
     "metadata": {},
     "output_type": "execute_result"
    },
    {
     "data": {
      "image/png": "[encoded data removed]",
      "text/plain": [
       "<Figure size 720x360 with 1 Axes>"
      ]
     },
     "metadata": {
      "needs_background": "light"
     },
     "output_type": "display_data"
    }
   ],
   "source": [
    "model_plot.plot_predictions_histogram(start_date, end_date)"
   ]
  },
  {
   "cell_type": "code",
   "execution_count": 13,
   "metadata": {},
   "outputs": [
    {
     "name": "stdout",
     "output_type": "stream",
     "text": [
      "PLOT: Predictions Histogram\n"
     ]
    },
    {
     "data": {
      "text/plain": [
       "<matplotlib.axes._subplots.AxesSubplot at 0x7f0e84497c90>"
      ]
     },
     "execution_count": 13,
     "metadata": {},
     "output_type": "execute_result"
    },
    {
     "data": {
      "image/png": "[encoded data removed]",
      "text/plain": [
       "<Figure size 720x360 with 1 Axes>"
      ]
     },
     "metadata": {
      "needs_background": "light"
     },
     "output_type": "display_data"
    }
   ],
   "source": [
    "model_plot.plot_errors_histogram(start_date, end_date)\n"
   ]
  },
  {
   "cell_type": "code",
   "execution_count": 14,
   "metadata": {},
   "outputs": [
    {
     "name": "stdout",
     "output_type": "stream",
     "text": [
      "PLOT: Predictions by Date\n"
     ]
    },
    {
     "data": {
      "text/plain": [
       "<matplotlib.axes._subplots.AxesSubplot at 0x7f0e7db83490>"
      ]
     },
     "execution_count": 14,
     "metadata": {},
     "output_type": "execute_result"
    },
    {
     "data": {
      "image/png": "[encoded data removed]",
      "text/plain": [
       "<Figure size 360x360 with 1 Axes>"
      ]
     },
     "metadata": {
      "needs_background": "light"
     },
     "output_type": "display_data"
    }
   ],
   "source": [
    "model_plot.plot_predictions_scatterplot(start_date, end_date)"
   ]
  },
  {
   "cell_type": "markdown",
   "metadata": {},
   "source": [
    "<br>\n",
    "\n",
    "### Most important features\n"
   ]
  },
  {
   "cell_type": "code",
   "execution_count": 32,
   "metadata": {},
   "outputs": [
    {
     "data": {
      "text/html": [
       "<div>\n",
       "<style scoped>\n",
       "    .dataframe tbody tr th:only-of-type {\n",
       "        vertical-align: middle;\n",
       "    }\n",
       "\n",
       "    .dataframe tbody tr th {\n",
       "        vertical-align: top;\n",
       "    }\n",
       "\n",
       "    .dataframe thead th {\n",
       "        text-align: right;\n",
       "    }\n",
       "</style>\n",
       "<table border=\"1\" class=\"dataframe\">\n",
       "  <thead>\n",
       "    <tr style=\"text-align: right;\">\n",
       "      <th></th>\n",
       "      <th>model_execution_id</th>\n",
       "      <th>data_id</th>\n",
       "      <th>outcome_variable</th>\n",
       "      <th>variable</th>\n",
       "      <th>importance</th>\n",
       "      <th>rank</th>\n",
       "      <th>pct_rank</th>\n",
       "    </tr>\n",
       "  </thead>\n",
       "  <tbody>\n",
       "    <tr>\n",
       "      <th>0</th>\n",
       "      <td>8a992ab5ae501da51c16a46403ee4bc349950b2a</td>\n",
       "      <td>6eef6648406c333a4035cd5e60d0bf2ecf2606d7</td>\n",
       "      <td>ROR_n24</td>\n",
       "      <td>open_close1</td>\n",
       "      <td>0.30463</td>\n",
       "      <td>1.0</td>\n",
       "      <td>1.000000</td>\n",
       "    </tr>\n",
       "    <tr>\n",
       "      <th>1</th>\n",
       "      <td>8a992ab5ae501da51c16a46403ee4bc349950b2a</td>\n",
       "      <td>6eef6648406c333a4035cd5e60d0bf2ecf2606d7</td>\n",
       "      <td>ROR_n24</td>\n",
       "      <td>open_high6</td>\n",
       "      <td>0.06002</td>\n",
       "      <td>2.0</td>\n",
       "      <td>0.944444</td>\n",
       "    </tr>\n",
       "    <tr>\n",
       "      <th>2</th>\n",
       "      <td>8a992ab5ae501da51c16a46403ee4bc349950b2a</td>\n",
       "      <td>6eef6648406c333a4035cd5e60d0bf2ecf2606d7</td>\n",
       "      <td>ROR_n24</td>\n",
       "      <td>open_low6</td>\n",
       "      <td>0.05763</td>\n",
       "      <td>3.0</td>\n",
       "      <td>0.888889</td>\n",
       "    </tr>\n",
       "    <tr>\n",
       "      <th>3</th>\n",
       "      <td>8a992ab5ae501da51c16a46403ee4bc349950b2a</td>\n",
       "      <td>6eef6648406c333a4035cd5e60d0bf2ecf2606d7</td>\n",
       "      <td>ROR_n24</td>\n",
       "      <td>open_low1</td>\n",
       "      <td>0.05286</td>\n",
       "      <td>4.0</td>\n",
       "      <td>0.833333</td>\n",
       "    </tr>\n",
       "    <tr>\n",
       "      <th>4</th>\n",
       "      <td>8a992ab5ae501da51c16a46403ee4bc349950b2a</td>\n",
       "      <td>6eef6648406c333a4035cd5e60d0bf2ecf2606d7</td>\n",
       "      <td>ROR_n24</td>\n",
       "      <td>open_low2</td>\n",
       "      <td>0.04559</td>\n",
       "      <td>5.0</td>\n",
       "      <td>0.777778</td>\n",
       "    </tr>\n",
       "    <tr>\n",
       "      <th>5</th>\n",
       "      <td>8a992ab5ae501da51c16a46403ee4bc349950b2a</td>\n",
       "      <td>6eef6648406c333a4035cd5e60d0bf2ecf2606d7</td>\n",
       "      <td>ROR_n24</td>\n",
       "      <td>open_high5</td>\n",
       "      <td>0.04491</td>\n",
       "      <td>6.0</td>\n",
       "      <td>0.722222</td>\n",
       "    </tr>\n",
       "    <tr>\n",
       "      <th>6</th>\n",
       "      <td>8a992ab5ae501da51c16a46403ee4bc349950b2a</td>\n",
       "      <td>6eef6648406c333a4035cd5e60d0bf2ecf2606d7</td>\n",
       "      <td>ROR_n24</td>\n",
       "      <td>open_low5</td>\n",
       "      <td>0.04481</td>\n",
       "      <td>7.0</td>\n",
       "      <td>0.666667</td>\n",
       "    </tr>\n",
       "    <tr>\n",
       "      <th>7</th>\n",
       "      <td>8a992ab5ae501da51c16a46403ee4bc349950b2a</td>\n",
       "      <td>6eef6648406c333a4035cd5e60d0bf2ecf2606d7</td>\n",
       "      <td>ROR_n24</td>\n",
       "      <td>open_low3</td>\n",
       "      <td>0.04133</td>\n",
       "      <td>8.0</td>\n",
       "      <td>0.611111</td>\n",
       "    </tr>\n",
       "    <tr>\n",
       "      <th>8</th>\n",
       "      <td>8a992ab5ae501da51c16a46403ee4bc349950b2a</td>\n",
       "      <td>6eef6648406c333a4035cd5e60d0bf2ecf2606d7</td>\n",
       "      <td>ROR_n24</td>\n",
       "      <td>open_high1</td>\n",
       "      <td>0.03966</td>\n",
       "      <td>9.0</td>\n",
       "      <td>0.555556</td>\n",
       "    </tr>\n",
       "    <tr>\n",
       "      <th>9</th>\n",
       "      <td>8a992ab5ae501da51c16a46403ee4bc349950b2a</td>\n",
       "      <td>6eef6648406c333a4035cd5e60d0bf2ecf2606d7</td>\n",
       "      <td>ROR_n24</td>\n",
       "      <td>open_close6</td>\n",
       "      <td>0.03827</td>\n",
       "      <td>10.0</td>\n",
       "      <td>0.500000</td>\n",
       "    </tr>\n",
       "    <tr>\n",
       "      <th>10</th>\n",
       "      <td>8a992ab5ae501da51c16a46403ee4bc349950b2a</td>\n",
       "      <td>6eef6648406c333a4035cd5e60d0bf2ecf2606d7</td>\n",
       "      <td>ROR_n24</td>\n",
       "      <td>open_low4</td>\n",
       "      <td>0.03569</td>\n",
       "      <td>11.0</td>\n",
       "      <td>0.444444</td>\n",
       "    </tr>\n",
       "    <tr>\n",
       "      <th>11</th>\n",
       "      <td>8a992ab5ae501da51c16a46403ee4bc349950b2a</td>\n",
       "      <td>6eef6648406c333a4035cd5e60d0bf2ecf2606d7</td>\n",
       "      <td>ROR_n24</td>\n",
       "      <td>open_high4</td>\n",
       "      <td>0.03512</td>\n",
       "      <td>12.0</td>\n",
       "      <td>0.388889</td>\n",
       "    </tr>\n",
       "    <tr>\n",
       "      <th>12</th>\n",
       "      <td>8a992ab5ae501da51c16a46403ee4bc349950b2a</td>\n",
       "      <td>6eef6648406c333a4035cd5e60d0bf2ecf2606d7</td>\n",
       "      <td>ROR_n24</td>\n",
       "      <td>open_high3</td>\n",
       "      <td>0.03446</td>\n",
       "      <td>13.0</td>\n",
       "      <td>0.333333</td>\n",
       "    </tr>\n",
       "    <tr>\n",
       "      <th>13</th>\n",
       "      <td>8a992ab5ae501da51c16a46403ee4bc349950b2a</td>\n",
       "      <td>6eef6648406c333a4035cd5e60d0bf2ecf2606d7</td>\n",
       "      <td>ROR_n24</td>\n",
       "      <td>open_close5</td>\n",
       "      <td>0.03414</td>\n",
       "      <td>14.0</td>\n",
       "      <td>0.277778</td>\n",
       "    </tr>\n",
       "    <tr>\n",
       "      <th>14</th>\n",
       "      <td>8a992ab5ae501da51c16a46403ee4bc349950b2a</td>\n",
       "      <td>6eef6648406c333a4035cd5e60d0bf2ecf2606d7</td>\n",
       "      <td>ROR_n24</td>\n",
       "      <td>open_high2</td>\n",
       "      <td>0.03376</td>\n",
       "      <td>15.0</td>\n",
       "      <td>0.222222</td>\n",
       "    </tr>\n",
       "    <tr>\n",
       "      <th>15</th>\n",
       "      <td>8a992ab5ae501da51c16a46403ee4bc349950b2a</td>\n",
       "      <td>6eef6648406c333a4035cd5e60d0bf2ecf2606d7</td>\n",
       "      <td>ROR_n24</td>\n",
       "      <td>open_close3</td>\n",
       "      <td>0.03366</td>\n",
       "      <td>16.0</td>\n",
       "      <td>0.166667</td>\n",
       "    </tr>\n",
       "    <tr>\n",
       "      <th>16</th>\n",
       "      <td>8a992ab5ae501da51c16a46403ee4bc349950b2a</td>\n",
       "      <td>6eef6648406c333a4035cd5e60d0bf2ecf2606d7</td>\n",
       "      <td>ROR_n24</td>\n",
       "      <td>open_close2</td>\n",
       "      <td>0.03202</td>\n",
       "      <td>17.0</td>\n",
       "      <td>0.111111</td>\n",
       "    </tr>\n",
       "    <tr>\n",
       "      <th>17</th>\n",
       "      <td>8a992ab5ae501da51c16a46403ee4bc349950b2a</td>\n",
       "      <td>6eef6648406c333a4035cd5e60d0bf2ecf2606d7</td>\n",
       "      <td>ROR_n24</td>\n",
       "      <td>open_close4</td>\n",
       "      <td>0.03145</td>\n",
       "      <td>18.0</td>\n",
       "      <td>0.055556</td>\n",
       "    </tr>\n",
       "  </tbody>\n",
       "</table>\n",
       "</div>"
      ],
      "text/plain": [
       "                          model_execution_id  \\\n",
       "0   8a992ab5ae501da51c16a46403ee4bc349950b2a   \n",
       "1   8a992ab5ae501da51c16a46403ee4bc349950b2a   \n",
       "2   8a992ab5ae501da51c16a46403ee4bc349950b2a   \n",
       "3   8a992ab5ae501da51c16a46403ee4bc349950b2a   \n",
       "4   8a992ab5ae501da51c16a46403ee4bc349950b2a   \n",
       "5   8a992ab5ae501da51c16a46403ee4bc349950b2a   \n",
       "6   8a992ab5ae501da51c16a46403ee4bc349950b2a   \n",
       "7   8a992ab5ae501da51c16a46403ee4bc349950b2a   \n",
       "8   8a992ab5ae501da51c16a46403ee4bc349950b2a   \n",
       "9   8a992ab5ae501da51c16a46403ee4bc349950b2a   \n",
       "10  8a992ab5ae501da51c16a46403ee4bc349950b2a   \n",
       "11  8a992ab5ae501da51c16a46403ee4bc349950b2a   \n",
       "12  8a992ab5ae501da51c16a46403ee4bc349950b2a   \n",
       "13  8a992ab5ae501da51c16a46403ee4bc349950b2a   \n",
       "14  8a992ab5ae501da51c16a46403ee4bc349950b2a   \n",
       "15  8a992ab5ae501da51c16a46403ee4bc349950b2a   \n",
       "16  8a992ab5ae501da51c16a46403ee4bc349950b2a   \n",
       "17  8a992ab5ae501da51c16a46403ee4bc349950b2a   \n",
       "\n",
       "                                     data_id outcome_variable     variable  \\\n",
       "0   6eef6648406c333a4035cd5e60d0bf2ecf2606d7          ROR_n24  open_close1   \n",
       "1   6eef6648406c333a4035cd5e60d0bf2ecf2606d7          ROR_n24   open_high6   \n",
       "2   6eef6648406c333a4035cd5e60d0bf2ecf2606d7          ROR_n24    open_low6   \n",
       "3   6eef6648406c333a4035cd5e60d0bf2ecf2606d7          ROR_n24    open_low1   \n",
       "4   6eef6648406c333a4035cd5e60d0bf2ecf2606d7          ROR_n24    open_low2   \n",
       "5   6eef6648406c333a4035cd5e60d0bf2ecf2606d7          ROR_n24   open_high5   \n",
       "6   6eef6648406c333a4035cd5e60d0bf2ecf2606d7          ROR_n24    open_low5   \n",
       "7   6eef6648406c333a4035cd5e60d0bf2ecf2606d7          ROR_n24    open_low3   \n",
       "8   6eef6648406c333a4035cd5e60d0bf2ecf2606d7          ROR_n24   open_high1   \n",
       "9   6eef6648406c333a4035cd5e60d0bf2ecf2606d7          ROR_n24  open_close6   \n",
       "10  6eef6648406c333a4035cd5e60d0bf2ecf2606d7          ROR_n24    open_low4   \n",
       "11  6eef6648406c333a4035cd5e60d0bf2ecf2606d7          ROR_n24   open_high4   \n",
       "12  6eef6648406c333a4035cd5e60d0bf2ecf2606d7          ROR_n24   open_high3   \n",
       "13  6eef6648406c333a4035cd5e60d0bf2ecf2606d7          ROR_n24  open_close5   \n",
       "14  6eef6648406c333a4035cd5e60d0bf2ecf2606d7          ROR_n24   open_high2   \n",
       "15  6eef6648406c333a4035cd5e60d0bf2ecf2606d7          ROR_n24  open_close3   \n",
       "16  6eef6648406c333a4035cd5e60d0bf2ecf2606d7          ROR_n24  open_close2   \n",
       "17  6eef6648406c333a4035cd5e60d0bf2ecf2606d7          ROR_n24  open_close4   \n",
       "\n",
       "    importance  rank  pct_rank  \n",
       "0      0.30463   1.0  1.000000  \n",
       "1      0.06002   2.0  0.944444  \n",
       "2      0.05763   3.0  0.888889  \n",
       "3      0.05286   4.0  0.833333  \n",
       "4      0.04559   5.0  0.777778  \n",
       "5      0.04491   6.0  0.722222  \n",
       "6      0.04481   7.0  0.666667  \n",
       "7      0.04133   8.0  0.611111  \n",
       "8      0.03966   9.0  0.555556  \n",
       "9      0.03827  10.0  0.500000  \n",
       "10     0.03569  11.0  0.444444  \n",
       "11     0.03512  12.0  0.388889  \n",
       "12     0.03446  13.0  0.333333  \n",
       "13     0.03414  14.0  0.277778  \n",
       "14     0.03376  15.0  0.222222  \n",
       "15     0.03366  16.0  0.166667  \n",
       "16     0.03202  17.0  0.111111  \n",
       "17     0.03145  18.0  0.055556  "
      ]
     },
     "execution_count": 32,
     "metadata": {},
     "output_type": "execute_result"
    }
   ],
   "source": [
    "features = model.feature_importance.feature_importance\n",
    "features[0:30]"
   ]
  },
  {
   "cell_type": "markdown",
   "metadata": {},
   "source": [
    "<br>\n",
    "\n",
    "### Least import features"
   ]
  },
  {
   "cell_type": "code",
   "execution_count": 33,
   "metadata": {},
   "outputs": [
    {
     "data": {
      "text/html": [
       "<div>\n",
       "<style scoped>\n",
       "    .dataframe tbody tr th:only-of-type {\n",
       "        vertical-align: middle;\n",
       "    }\n",
       "\n",
       "    .dataframe tbody tr th {\n",
       "        vertical-align: top;\n",
       "    }\n",
       "\n",
       "    .dataframe thead th {\n",
       "        text-align: right;\n",
       "    }\n",
       "</style>\n",
       "<table border=\"1\" class=\"dataframe\">\n",
       "  <thead>\n",
       "    <tr style=\"text-align: right;\">\n",
       "      <th></th>\n",
       "      <th>model_execution_id</th>\n",
       "      <th>data_id</th>\n",
       "      <th>outcome_variable</th>\n",
       "      <th>variable</th>\n",
       "      <th>importance</th>\n",
       "      <th>rank</th>\n",
       "      <th>pct_rank</th>\n",
       "    </tr>\n",
       "  </thead>\n",
       "  <tbody>\n",
       "    <tr>\n",
       "      <th>16</th>\n",
       "      <td>8a992ab5ae501da51c16a46403ee4bc349950b2a</td>\n",
       "      <td>6eef6648406c333a4035cd5e60d0bf2ecf2606d7</td>\n",
       "      <td>ROR_n24</td>\n",
       "      <td>open_close2</td>\n",
       "      <td>0.03202</td>\n",
       "      <td>17.0</td>\n",
       "      <td>0.111111</td>\n",
       "    </tr>\n",
       "    <tr>\n",
       "      <th>17</th>\n",
       "      <td>8a992ab5ae501da51c16a46403ee4bc349950b2a</td>\n",
       "      <td>6eef6648406c333a4035cd5e60d0bf2ecf2606d7</td>\n",
       "      <td>ROR_n24</td>\n",
       "      <td>open_close4</td>\n",
       "      <td>0.03145</td>\n",
       "      <td>18.0</td>\n",
       "      <td>0.055556</td>\n",
       "    </tr>\n",
       "  </tbody>\n",
       "</table>\n",
       "</div>"
      ],
      "text/plain": [
       "                          model_execution_id  \\\n",
       "16  8a992ab5ae501da51c16a46403ee4bc349950b2a   \n",
       "17  8a992ab5ae501da51c16a46403ee4bc349950b2a   \n",
       "\n",
       "                                     data_id outcome_variable     variable  \\\n",
       "16  6eef6648406c333a4035cd5e60d0bf2ecf2606d7          ROR_n24  open_close2   \n",
       "17  6eef6648406c333a4035cd5e60d0bf2ecf2606d7          ROR_n24  open_close4   \n",
       "\n",
       "    importance  rank  pct_rank  \n",
       "16     0.03202  17.0  0.111111  \n",
       "17     0.03145  18.0  0.055556  "
      ]
     },
     "execution_count": 33,
     "metadata": {},
     "output_type": "execute_result"
    }
   ],
   "source": [
    "features[len(features)-20:len(features)]"
   ]
  },
  {
   "cell_type": "markdown",
   "metadata": {},
   "source": [
    "<br>\n",
    "\n",
    "### View trending features\n"
   ]
  },
  {
   "cell_type": "code",
   "execution_count": 28,
   "metadata": {},
   "outputs": [
    {
     "ename": "AttributeError",
     "evalue": "'modelPlots' object has no attribute 'plot_features'",
     "output_type": "error",
     "traceback": [
      "\u001b[0;31m---------------------------------------------------------------------------\u001b[0m",
      "\u001b[0;31mAttributeError\u001b[0m                            Traceback (most recent call last)",
      "\u001b[0;32m<ipython-input-28-aebe06cff970>\u001b[0m in \u001b[0;36m<module>\u001b[0;34m\u001b[0m\n\u001b[1;32m      5\u001b[0m \u001b[0;31m# from data_mgmt import data_mgmt as dm\u001b[0m\u001b[0;34m\u001b[0m\u001b[0;34m\u001b[0m\u001b[0;34m\u001b[0m\u001b[0m\n\u001b[1;32m      6\u001b[0m \u001b[0;34m\u001b[0m\u001b[0m\n\u001b[0;32m----> 7\u001b[0;31m model_plot.plot_features(\n\u001b[0m\u001b[1;32m      8\u001b[0m     \u001b[0mdf\u001b[0m \u001b[0;34m=\u001b[0m \u001b[0mmodel\u001b[0m\u001b[0;34m.\u001b[0m\u001b[0mdf\u001b[0m\u001b[0;34m,\u001b[0m\u001b[0;34m\u001b[0m\u001b[0;34m\u001b[0m\u001b[0m\n\u001b[1;32m      9\u001b[0m     \u001b[0mx\u001b[0m \u001b[0;34m=\u001b[0m \u001b[0;34m'ticker_time'\u001b[0m\u001b[0;34m,\u001b[0m\u001b[0;34m\u001b[0m\u001b[0;34m\u001b[0m\u001b[0m\n",
      "\u001b[0;31mAttributeError\u001b[0m: 'modelPlots' object has no attribute 'plot_features'"
     ]
    }
   ],
   "source": [
    "start_date = '2016-01-01'\n",
    "end_date = '2017-01-01'\n",
    "%matplotlib inline \n",
    "\n",
    "# from data_mgmt import data_mgmt as dm\n",
    "\n",
    "model_plot.plot_features(\n",
    "    df = model.df, \n",
    "    x = 'ticker_time', \n",
    "    y = 'ROR_n10',\n",
    "    start_date=start_date, \n",
    "    end_date=end_date\n",
    ")"
   ]
  },
  {
   "cell_type": "code",
   "execution_count": null,
   "metadata": {},
   "outputs": [],
   "source": [
    "model_plot.plot_features(df = model.df, x = 'ticker_time', y = 'ATR_7',\n",
    "    start_date=start_date, end_date=end_date, chart_type = 'line')\n",
    "\n",
    "model_plot.plot_features(df = model.df, x = 'ticker_time', y = 'EMA_20',\n",
    "    start_date=start_date, end_date=end_date, chart_type='line')\n"
   ]
  },
  {
   "cell_type": "code",
   "execution_count": null,
   "metadata": {},
   "outputs": [],
   "source": []
  },
  {
   "cell_type": "code",
   "execution_count": null,
   "metadata": {},
   "outputs": [],
   "source": []
  }
 ],
 "metadata": {
  "accelerator": "TPU",
  "colab": {
   "collapsed_sections": [
    "o8UChE6mjUOP",
    "fRG-fEws1PQW",
    "4GJa607W6ljl"
   ],
   "name": "stocks_random_forest.ipynb",
   "provenance": [],
   "version": "0.3.2"
  },
  "kernelspec": {
   "display_name": "Python 3",
   "language": "python",
   "name": "python3"
  },
  "language_info": {
   "codemirror_mode": {
    "name": "ipython",
    "version": 3
   },
   "file_extension": ".py",
   "mimetype": "text/x-python",
   "name": "python",
   "nbconvert_exporter": "python",
   "pygments_lexer": "ipython3",
   "version": "3.7.6"
  }
 },
 "nbformat": 4,
 "nbformat_minor": 4
}
