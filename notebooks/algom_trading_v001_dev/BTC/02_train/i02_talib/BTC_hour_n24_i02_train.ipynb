{
 "cells": [
  {
   "cell_type": "markdown",
   "metadata": {
    "colab_type": "text",
    "id": "PUsG-grKmsJj"
   },
   "source": [
    "# Model training\n",
    "\n",
    "#### BTC-USDT for ROR_n25\n",
    "\n",
    "<br>\n",
    "\n",
    "#### Performance by Model ID\n",
    "\n",
    "\n",
    "```\n",
    "model_id: 1a198235336cc9cd417004b752cc80ffdf7b2705\n",
    "    - n_estimators = 500\n",
    "    - max_depth = 10\n",
    "    - Mean Absolute Error:\t 0.01207\n",
    "    - Mean Absolute Outcome:\t 0.03295\n",
    "    - Mean Absolute Percent Error:\t 0.36637\n",
    "    - Error Variance:\t 0.00042\n",
    "    - R-Squared:\t\t 0.81834\n",
    "\n",
    "```\n",
    "\n",
    "\n",
    "```\n",
    "model_id: 68778f094c78320b4e733e2ed4744de98e76e6cc\n",
    "    - n_estimators = 500\n",
    "    - max_depth = 20\n",
    "    - Mean Absolute Error:\t 0.0133\n",
    "    - Mean Absolute Outcome:\t 0.03295\n",
    "    - Mean Absolute Percent Error:\t 0.40354\n",
    "    - Error Variance:\t 0.00051\n",
    "    - R-Squared:\t\t 0.77968\n",
    "\n",
    "```\n",
    "\n",
    "\n",
    "```\n",
    "model_id: aa877090e5ae618c09838b02e4f398cc4d52d6c9\n",
    "    - n_estimators = 500\n",
    "    - max_depth = 30\n",
    "    - Mean Absolute Error:\t 0.01255\n",
    "    - Mean Absolute Outcome:\t 0.03295\n",
    "    - Mean Absolute Percent Error:\t 0.38099\n",
    "    - Error Variance:\t 0.00051\n",
    "    - R-Squared:\t\t 0.78235\n",
    "\n",
    "```\n",
    "\n",
    "\n",
    "<br>\n",
    "\n",
    "#### Resources\n",
    "+ [BigQuery](https://console.cloud.google.com/bigquery?folder=&organizationId=&project=algomosaic-nyc)\n",
    "+ [Storage](https://console.cloud.google.com/storage/browser/algom-trading/models/?project=algomosaic-nyc)\n",
    "\n"
   ]
  },
  {
   "cell_type": "markdown",
   "metadata": {
    "colab_type": "text",
    "id": "HOd4wXaNlQWz"
   },
   "source": [
    "<br> \n",
    "\n",
    "#### Requirements\n"
   ]
  },
  {
   "cell_type": "code",
   "execution_count": 1,
   "metadata": {},
   "outputs": [],
   "source": [
    "import numpy as np\n",
    "from algom import configs\n",
    "from algom.utils.data_object import dataObject\n",
    "from algom.model_regression import modelRegression\n",
    "from algom.model_plots import modelPlots"
   ]
  },
  {
   "cell_type": "markdown",
   "metadata": {},
   "source": [
    "<br>\n",
    "\n",
    "### Load training data\n"
   ]
  },
  {
   "cell_type": "code",
   "execution_count": 2,
   "metadata": {},
   "outputs": [
    {
     "name": "stdout",
     "output_type": "stream",
     "text": [
      "RUNNING: Querying SQL script.\n"
     ]
    },
    {
     "name": "stderr",
     "output_type": "stream",
     "text": [
      "Downloading: 100%|██████████| 28762/28762 [00:41<00:00, 687.93rows/s] "
     ]
    },
    {
     "name": "stdout",
     "output_type": "stream",
     "text": [
      "SUCCESS: Loaded SQL query.\n"
     ]
    },
    {
     "name": "stderr",
     "output_type": "stream",
     "text": [
      "\n"
     ]
    }
   ],
   "source": [
    "# Load model data\n",
    "data = dataObject(\"\"\"\n",
    "SELECT DISTINCT * EXCEPT (\n",
    "  conversionType,\n",
    "  conversionSymbol,\n",
    "  partition_date)\n",
    "FROM `algom-trading.train_features.features_BTC_USDT_hour_i02_*`\n",
    "WHERE \n",
    "  _table_suffix in (\n",
    "    '20170101',\n",
    "    '20180101',\n",
    "    '20190101')\n",
    "AND year BETWEEN 2017 AND 2019\n",
    "AND close IS NOT NULL\n",
    "\"\"\")"
   ]
  },
  {
   "cell_type": "code",
   "execution_count": 3,
   "metadata": {},
   "outputs": [
    {
     "name": "stdout",
     "output_type": "stream",
     "text": [
      "21562\n"
     ]
    },
    {
     "data": {
      "text/html": [
       "<div>\n",
       "<style scoped>\n",
       "    .dataframe tbody tr th:only-of-type {\n",
       "        vertical-align: middle;\n",
       "    }\n",
       "\n",
       "    .dataframe tbody tr th {\n",
       "        vertical-align: top;\n",
       "    }\n",
       "\n",
       "    .dataframe thead th {\n",
       "        text-align: right;\n",
       "    }\n",
       "</style>\n",
       "<table border=\"1\" class=\"dataframe\">\n",
       "  <thead>\n",
       "    <tr style=\"text-align: right;\">\n",
       "      <th></th>\n",
       "      <th>ticker_time_sec</th>\n",
       "      <th>close</th>\n",
       "      <th>high</th>\n",
       "      <th>low</th>\n",
       "      <th>open</th>\n",
       "      <th>volume_base</th>\n",
       "      <th>volume</th>\n",
       "      <th>etl_time</th>\n",
       "      <th>ticker_time</th>\n",
       "      <th>ticker</th>\n",
       "      <th>...</th>\n",
       "      <th>MACDsign_9_12</th>\n",
       "      <th>MACDdiff_9_12</th>\n",
       "      <th>MACD_26_200</th>\n",
       "      <th>MACDsign_26_200</th>\n",
       "      <th>MACDdiff_26_200</th>\n",
       "      <th>MACD_20_200</th>\n",
       "      <th>MACDsign_20_200</th>\n",
       "      <th>MACDdiff_20_200</th>\n",
       "      <th>Mass_Index_9_25</th>\n",
       "      <th>SO_pct_k</th>\n",
       "    </tr>\n",
       "  </thead>\n",
       "  <tbody>\n",
       "    <tr>\n",
       "      <th>0</th>\n",
       "      <td>1504022400</td>\n",
       "      <td>4503.92</td>\n",
       "      <td>4584.00</td>\n",
       "      <td>4503.92</td>\n",
       "      <td>4570.00</td>\n",
       "      <td>30.83</td>\n",
       "      <td>139924.80</td>\n",
       "      <td>2021-01-12 09:13:55.699499+00:00</td>\n",
       "      <td>2017-08-29 16:00:00+00:00</td>\n",
       "      <td>BTC-USDT</td>\n",
       "      <td>...</td>\n",
       "      <td>4470.849428</td>\n",
       "      <td>-4450.499025</td>\n",
       "      <td>341.281305</td>\n",
       "      <td>4470.849428</td>\n",
       "      <td>-4129.568123</td>\n",
       "      <td>358.909066</td>\n",
       "      <td>4470.849428</td>\n",
       "      <td>-4111.940362</td>\n",
       "      <td>24.906926</td>\n",
       "      <td>0.000000</td>\n",
       "    </tr>\n",
       "    <tr>\n",
       "      <th>1</th>\n",
       "      <td>1504026000</td>\n",
       "      <td>4555.55</td>\n",
       "      <td>4555.55</td>\n",
       "      <td>4496.95</td>\n",
       "      <td>4503.92</td>\n",
       "      <td>36.10</td>\n",
       "      <td>163394.15</td>\n",
       "      <td>2021-01-12 09:13:55.699499+00:00</td>\n",
       "      <td>2017-08-29 17:00:00+00:00</td>\n",
       "      <td>BTC-USDT</td>\n",
       "      <td>...</td>\n",
       "      <td>4487.789542</td>\n",
       "      <td>-4466.660714</td>\n",
       "      <td>348.085887</td>\n",
       "      <td>4487.789542</td>\n",
       "      <td>-4139.703656</td>\n",
       "      <td>367.401453</td>\n",
       "      <td>4487.789542</td>\n",
       "      <td>-4120.388090</td>\n",
       "      <td>25.005133</td>\n",
       "      <td>1.000000</td>\n",
       "    </tr>\n",
       "    <tr>\n",
       "      <th>2</th>\n",
       "      <td>1504029600</td>\n",
       "      <td>4536.63</td>\n",
       "      <td>4555.55</td>\n",
       "      <td>4511.45</td>\n",
       "      <td>4555.55</td>\n",
       "      <td>25.24</td>\n",
       "      <td>114433.49</td>\n",
       "      <td>2021-01-12 09:13:55.699499+00:00</td>\n",
       "      <td>2017-08-29 18:00:00+00:00</td>\n",
       "      <td>BTC-USDT</td>\n",
       "      <td>...</td>\n",
       "      <td>4497.557634</td>\n",
       "      <td>-4477.425219</td>\n",
       "      <td>352.853952</td>\n",
       "      <td>4497.557634</td>\n",
       "      <td>-4144.703682</td>\n",
       "      <td>373.046776</td>\n",
       "      <td>4497.557634</td>\n",
       "      <td>-4124.510858</td>\n",
       "      <td>25.040033</td>\n",
       "      <td>0.570975</td>\n",
       "    </tr>\n",
       "    <tr>\n",
       "      <th>3</th>\n",
       "      <td>1504033200</td>\n",
       "      <td>4555.55</td>\n",
       "      <td>4555.55</td>\n",
       "      <td>4521.01</td>\n",
       "      <td>4536.63</td>\n",
       "      <td>33.56</td>\n",
       "      <td>152388.60</td>\n",
       "      <td>2021-01-12 09:13:55.699499+00:00</td>\n",
       "      <td>2017-08-29 19:00:00+00:00</td>\n",
       "      <td>BTC-USDT</td>\n",
       "      <td>...</td>\n",
       "      <td>4509.156107</td>\n",
       "      <td>-4489.444416</td>\n",
       "      <td>358.178048</td>\n",
       "      <td>4509.156107</td>\n",
       "      <td>-4150.978059</td>\n",
       "      <td>379.363758</td>\n",
       "      <td>4509.156107</td>\n",
       "      <td>-4129.792349</td>\n",
       "      <td>25.012151</td>\n",
       "      <td>1.000000</td>\n",
       "    </tr>\n",
       "    <tr>\n",
       "      <th>4</th>\n",
       "      <td>1504036800</td>\n",
       "      <td>4577.54</td>\n",
       "      <td>4597.00</td>\n",
       "      <td>4535.09</td>\n",
       "      <td>4555.55</td>\n",
       "      <td>13.59</td>\n",
       "      <td>62093.41</td>\n",
       "      <td>2021-01-12 09:13:55.699499+00:00</td>\n",
       "      <td>2017-08-29 20:00:00+00:00</td>\n",
       "      <td>BTC-USDT</td>\n",
       "      <td>...</td>\n",
       "      <td>4522.832886</td>\n",
       "      <td>-4502.997583</td>\n",
       "      <td>364.204800</td>\n",
       "      <td>4522.832886</td>\n",
       "      <td>-4158.628085</td>\n",
       "      <td>386.538231</td>\n",
       "      <td>4522.832886</td>\n",
       "      <td>-4136.294654</td>\n",
       "      <td>25.022061</td>\n",
       "      <td>0.685673</td>\n",
       "    </tr>\n",
       "  </tbody>\n",
       "</table>\n",
       "<p>5 rows × 101 columns</p>\n",
       "</div>"
      ],
      "text/plain": [
       "   ticker_time_sec    close     high      low     open  volume_base  \\\n",
       "0       1504022400  4503.92  4584.00  4503.92  4570.00        30.83   \n",
       "1       1504026000  4555.55  4555.55  4496.95  4503.92        36.10   \n",
       "2       1504029600  4536.63  4555.55  4511.45  4555.55        25.24   \n",
       "3       1504033200  4555.55  4555.55  4521.01  4536.63        33.56   \n",
       "4       1504036800  4577.54  4597.00  4535.09  4555.55        13.59   \n",
       "\n",
       "      volume                         etl_time               ticker_time  \\\n",
       "0  139924.80 2021-01-12 09:13:55.699499+00:00 2017-08-29 16:00:00+00:00   \n",
       "1  163394.15 2021-01-12 09:13:55.699499+00:00 2017-08-29 17:00:00+00:00   \n",
       "2  114433.49 2021-01-12 09:13:55.699499+00:00 2017-08-29 18:00:00+00:00   \n",
       "3  152388.60 2021-01-12 09:13:55.699499+00:00 2017-08-29 19:00:00+00:00   \n",
       "4   62093.41 2021-01-12 09:13:55.699499+00:00 2017-08-29 20:00:00+00:00   \n",
       "\n",
       "     ticker  ... MACDsign_9_12 MACDdiff_9_12  MACD_26_200  MACDsign_26_200  \\\n",
       "0  BTC-USDT  ...   4470.849428  -4450.499025   341.281305      4470.849428   \n",
       "1  BTC-USDT  ...   4487.789542  -4466.660714   348.085887      4487.789542   \n",
       "2  BTC-USDT  ...   4497.557634  -4477.425219   352.853952      4497.557634   \n",
       "3  BTC-USDT  ...   4509.156107  -4489.444416   358.178048      4509.156107   \n",
       "4  BTC-USDT  ...   4522.832886  -4502.997583   364.204800      4522.832886   \n",
       "\n",
       "   MACDdiff_26_200  MACD_20_200  MACDsign_20_200  MACDdiff_20_200  \\\n",
       "0     -4129.568123   358.909066      4470.849428     -4111.940362   \n",
       "1     -4139.703656   367.401453      4487.789542     -4120.388090   \n",
       "2     -4144.703682   373.046776      4497.557634     -4124.510858   \n",
       "3     -4150.978059   379.363758      4509.156107     -4129.792349   \n",
       "4     -4158.628085   386.538231      4522.832886     -4136.294654   \n",
       "\n",
       "   Mass_Index_9_25  SO_pct_k  \n",
       "0        24.906926  0.000000  \n",
       "1        25.005133  1.000000  \n",
       "2        25.040033  0.570975  \n",
       "3        25.012151  1.000000  \n",
       "4        25.022061  0.685673  \n",
       "\n",
       "[5 rows x 101 columns]"
      ]
     },
     "execution_count": 3,
     "metadata": {},
     "output_type": "execute_result"
    }
   ],
   "source": [
    "# Drop nan values\n",
    "data.df = data.df.replace([np.inf, -np.inf], np.nan).dropna()\n",
    "print(len(data.df))\n",
    "data.df.head()"
   ]
  },
  {
   "cell_type": "code",
   "execution_count": 4,
   "metadata": {},
   "outputs": [],
   "source": [
    "# list(data.df)"
   ]
  },
  {
   "cell_type": "markdown",
   "metadata": {},
   "source": [
    "<br>\n",
    "\n",
    "### Initialize modelRegression class"
   ]
  },
  {
   "cell_type": "code",
   "execution_count": 5,
   "metadata": {},
   "outputs": [
    {
     "name": "stdout",
     "output_type": "stream",
     "text": [
      "SUCCESS: Loaded dataObject.\n",
      "Initialized model. As a next step, run self.predict() or self.train().\n",
      "Training model on ROR_n24.\n",
      "Model metadata added to `self.metadata.metadata`\n",
      "Model metadata added to `self.metadata.parameters`\n",
      "Set feature_importance to `self.feature_importance.feature_importance`\n",
      "Fit model in 0:00:00.000018.\n",
      "Get model performance.\n",
      "Set evaluation to self.evaluations in 0:00:00.000018.\n",
      "Set R^2 to `self.rsquared`\n",
      "The following performance measures have been added:\n",
      "                - self.mean_abs_error\n",
      "                - self.mean_abs_outcome\n",
      "                - self.mean_abs_pct_error\n",
      "                - self.error_var\n",
      "            \n",
      "Performance metrics added to `self.performance`\n",
      "\n",
      "MODEL PERFORMANCE SUMMARY\n",
      "        - Mean Absolute Error:\t 0.01013\n",
      "        - Mean Absolute Outcome:\t 0.03236\n",
      "        - Mean Absolute Percent Error:\t 0.31295\n",
      "        - Error Variance:\t 0.00027\n",
      "        - R-Squared:\t\t 0.87886\n",
      "        \n",
      "PLOT PREDICTIONS: Use the following commandsto view model performance.\n",
      "              `self.plot_predictions_by_date(start_date, end_date)`\n",
      "              `self.plot_predictions_histogram(start_date, end_date)`\n",
      "              `self.plot_errors_by_date(start_date, end_date)`\n",
      "              `self.plot_errors_histogram(start_date, end_date)`\n",
      "              `self.plot_predictions_scatterplot(start_date, end_date)`\n",
      "              \n"
     ]
    }
   ],
   "source": [
    "# Initialize model class\n",
    "model = modelRegression(\n",
    "    data, \n",
    "    outcome='ROR_n24',\n",
    "    index_features=configs.INDEX_FEATURES, \n",
    "    omit_features=configs.OMIT_FEATURES\n",
    ")\n",
    "\n",
    "# Specify regression parameters\n",
    "from sklearn import ensemble\n",
    "reg = ensemble.GradientBoostingRegressor(\n",
    "    loss='ls', \n",
    "    learning_rate=0.1,\n",
    "    n_estimators=500,\n",
    "    subsample=.9,\n",
    "    criterion='friedman_mse', \n",
    "    min_samples_split=3, \n",
    "    min_samples_leaf=3,\n",
    "    min_weight_fraction_leaf=0.0,\n",
    "    max_depth=10,\n",
    "    min_impurity_decrease=0.0, \n",
    "    min_impurity_split=None, \n",
    "    init=None,\n",
    "    random_state=None, \n",
    "    max_features=None, \n",
    "    alpha=0.9, \n",
    "    verbose=0,\n",
    "    max_leaf_nodes=None, \n",
    "    warm_start=False, \n",
    "    validation_fraction=0.1, \n",
    "    n_iter_no_change=None, \n",
    "    tol=0.0001\n",
    ")\n",
    "\n",
    "\n",
    "# Train model\n",
    "model.train(reg)\n"
   ]
  },
  {
   "cell_type": "code",
   "execution_count": null,
   "metadata": {},
   "outputs": [],
   "source": [
    "# Model IDs\n",
    "print('model_id: ' + model.model_id)\n",
    "print('model_execution_id: ' + model.model_execution_id)\n"
   ]
  },
  {
   "cell_type": "code",
   "execution_count": 6,
   "metadata": {},
   "outputs": [
    {
     "name": "stdout",
     "output_type": "stream",
     "text": [
      "Dumped model to:\n",
      "\t/home/jovyan/algomosaic/data/models/20210112_GradientBoostingRegressor_7959fdd354a37ab43d2786edc7a6b041edb9c5f5.pickle\n",
      "Uploaded pickle to Google Storage:\n",
      "\thttps://storage.googleapis.com/algom-trading-sto/models/20210112_GradientBoostingRegressor_7959fdd354a37ab43d2786edc7a6b041edb9c5f5.pickle\n",
      "SUCCESS: Loaded DataFrame.\n"
     ]
    },
    {
     "name": "stderr",
     "output_type": "stream",
     "text": [
      "1it [00:05,  5.93s/it]"
     ]
    },
    {
     "name": "stdout",
     "output_type": "stream",
     "text": [
      "Uploaded storage metadata to Google BigQuery:\n",
      "\tmetadata.model_storage_YYYYMMDD\n",
      "Saved model to Google Storage:\n",
      "\tmodels/20210112_GradientBoostingRegressor_7959fdd354a37ab43d2786edc7a6b041edb9c5f5.pickle\n"
     ]
    },
    {
     "name": "stderr",
     "output_type": "stream",
     "text": [
      "\n"
     ]
    }
   ],
   "source": [
    "# Save model (optional)\n",
    "model.save()\n"
   ]
  },
  {
   "cell_type": "code",
   "execution_count": null,
   "metadata": {},
   "outputs": [],
   "source": []
  },
  {
   "cell_type": "markdown",
   "metadata": {},
   "source": [
    "<br>\n",
    "\n",
    "## View performance \n",
    "\n",
    "+ Trending predictions vs outcomes\n",
    "+ Histogram of predictions vs outcomes\n"
   ]
  },
  {
   "cell_type": "code",
   "execution_count": null,
   "metadata": {},
   "outputs": [],
   "source": [
    "start_date='2019-06-01'\n",
    "end_date='2019-07-01'\n",
    "%matplotlib inline\n",
    "model_plot = modelPlots(model)"
   ]
  },
  {
   "cell_type": "code",
   "execution_count": null,
   "metadata": {},
   "outputs": [],
   "source": [
    "model_plot.plot_predictions_by_date(start_date, end_date)"
   ]
  },
  {
   "cell_type": "code",
   "execution_count": null,
   "metadata": {},
   "outputs": [],
   "source": [
    "model_plot.plot_errors_by_date(start_date, end_date)"
   ]
  },
  {
   "cell_type": "code",
   "execution_count": null,
   "metadata": {},
   "outputs": [],
   "source": [
    "model_plot.plot_predictions_histogram(start_date, end_date)"
   ]
  },
  {
   "cell_type": "code",
   "execution_count": null,
   "metadata": {},
   "outputs": [],
   "source": [
    "model_plot.plot_errors_histogram(start_date, end_date)"
   ]
  },
  {
   "cell_type": "code",
   "execution_count": null,
   "metadata": {},
   "outputs": [],
   "source": [
    "model_plot.plot_predictions_scatterplot(start_date, end_date)"
   ]
  },
  {
   "cell_type": "markdown",
   "metadata": {},
   "source": [
    "<br>\n",
    "\n",
    "### Most important features\n"
   ]
  },
  {
   "cell_type": "code",
   "execution_count": null,
   "metadata": {},
   "outputs": [],
   "source": [
    "features = model.feature_importance.feature_importance\n",
    "features[0:50]\n"
   ]
  },
  {
   "cell_type": "markdown",
   "metadata": {},
   "source": [
    "<br>\n",
    "\n",
    "### Least import features"
   ]
  },
  {
   "cell_type": "code",
   "execution_count": null,
   "metadata": {},
   "outputs": [],
   "source": [
    "features[len(features)-20:len(features)]"
   ]
  },
  {
   "cell_type": "markdown",
   "metadata": {},
   "source": [
    "<br>\n",
    "\n",
    "### View trending features\n"
   ]
  },
  {
   "cell_type": "code",
   "execution_count": 28,
   "metadata": {
    "collapsed": true,
    "jupyter": {
     "outputs_hidden": true,
     "source_hidden": true
    }
   },
   "outputs": [
    {
     "ename": "AttributeError",
     "evalue": "'modelPlots' object has no attribute 'plot_features'",
     "output_type": "error",
     "traceback": [
      "\u001b[0;31m---------------------------------------------------------------------------\u001b[0m",
      "\u001b[0;31mAttributeError\u001b[0m                            Traceback (most recent call last)",
      "\u001b[0;32m<ipython-input-28-aebe06cff970>\u001b[0m in \u001b[0;36m<module>\u001b[0;34m\u001b[0m\n\u001b[1;32m      5\u001b[0m \u001b[0;31m# from data_mgmt import data_mgmt as dm\u001b[0m\u001b[0;34m\u001b[0m\u001b[0;34m\u001b[0m\u001b[0;34m\u001b[0m\u001b[0m\n\u001b[1;32m      6\u001b[0m \u001b[0;34m\u001b[0m\u001b[0m\n\u001b[0;32m----> 7\u001b[0;31m model_plot.plot_features(\n\u001b[0m\u001b[1;32m      8\u001b[0m     \u001b[0mdf\u001b[0m \u001b[0;34m=\u001b[0m \u001b[0mmodel\u001b[0m\u001b[0;34m.\u001b[0m\u001b[0mdf\u001b[0m\u001b[0;34m,\u001b[0m\u001b[0;34m\u001b[0m\u001b[0;34m\u001b[0m\u001b[0m\n\u001b[1;32m      9\u001b[0m     \u001b[0mx\u001b[0m \u001b[0;34m=\u001b[0m \u001b[0;34m'ticker_time'\u001b[0m\u001b[0;34m,\u001b[0m\u001b[0;34m\u001b[0m\u001b[0;34m\u001b[0m\u001b[0m\n",
      "\u001b[0;31mAttributeError\u001b[0m: 'modelPlots' object has no attribute 'plot_features'"
     ]
    }
   ],
   "source": [
    "start_date = '2016-01-01'\n",
    "end_date = '2017-01-01'\n",
    "%matplotlib inline \n",
    "\n",
    "# from data_mgmt import data_mgmt as dm\n",
    "\n",
    "model_plot.plot_features(\n",
    "    df = model.df, \n",
    "    x = 'ticker_time', \n",
    "    y = 'ROR_n10',\n",
    "    start_date=start_date, \n",
    "    end_date=end_date\n",
    ")"
   ]
  },
  {
   "cell_type": "code",
   "execution_count": null,
   "metadata": {
    "jupyter": {
     "source_hidden": true
    }
   },
   "outputs": [],
   "source": [
    "model_plot.plot_features(df = model.df, x = 'ticker_time', y = 'ATR_7',\n",
    "    start_date=start_date, end_date=end_date, chart_type = 'line')\n",
    "\n",
    "model_plot.plot_features(df = model.df, x = 'ticker_time', y = 'EMA_20',\n",
    "    start_date=start_date, end_date=end_date, chart_type='line')\n"
   ]
  },
  {
   "cell_type": "code",
   "execution_count": null,
   "metadata": {},
   "outputs": [],
   "source": []
  }
 ],
 "metadata": {
  "accelerator": "TPU",
  "colab": {
   "collapsed_sections": [
    "o8UChE6mjUOP",
    "fRG-fEws1PQW",
    "4GJa607W6ljl"
   ],
   "name": "stocks_random_forest.ipynb",
   "provenance": [],
   "version": "0.3.2"
  },
  "kernelspec": {
   "display_name": "Python 3",
   "language": "python",
   "name": "python3"
  },
  "language_info": {
   "codemirror_mode": {
    "name": "ipython",
    "version": 3
   },
   "file_extension": ".py",
   "mimetype": "text/x-python",
   "name": "python",
   "nbconvert_exporter": "python",
   "pygments_lexer": "ipython3",
   "version": "3.7.6"
  }
 },
 "nbformat": 4,
 "nbformat_minor": 4
}
