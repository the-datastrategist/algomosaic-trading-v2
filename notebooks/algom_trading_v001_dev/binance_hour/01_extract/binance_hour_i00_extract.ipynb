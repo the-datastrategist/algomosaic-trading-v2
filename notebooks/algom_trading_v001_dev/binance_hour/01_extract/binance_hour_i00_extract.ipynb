{
 "cells": [
  {
   "cell_type": "markdown",
   "metadata": {
    "colab_type": "text",
    "id": "GqbBUEdcpIri"
   },
   "source": [
    "##### algom/playbooks\n",
    "\n",
    "# etl\n",
    "\n",
    "ETL pipeline for asset prices (OHLCV), standard indicators and engineered features. Loads output data to [BigQuery](https://console.cloud.google.com/bigquery?project=algomosaic-nyc&p=algomosaic-nyc&page=project).\n"
   ]
  },
  {
   "cell_type": "code",
   "execution_count": null,
   "metadata": {},
   "outputs": [],
   "source": [
    "from src.extract import ticker_extract"
   ]
  },
  {
   "cell_type": "code",
   "execution_count": null,
   "metadata": {},
   "outputs": [],
   "source": [
    "#### Add list of tickers\n",
    "tickers = [\n",
    "    'ADA-USDT',\n",
    "    'BCH-USDT',\n",
    "    'BNB-USDT',\n",
    "    'BTC-USDT',\n",
    "    'ETH-USDT',\n",
    "    'EOS-USDT',\n",
    "    'LTC-USDT',\n",
    "    'LINK-USDT',\n",
    "    'NEO-USDT',\n",
    "    'OMG-USDT',\n",
    "    'TRX-USDT',\n",
    "    'XRP-USDT',\n",
    "    'XLM-USDT',\n",
    "    'ZRX-USDT',\n",
    "]\n",
    "\n",
    "# Add list of years to process\n",
    "years = [\n",
    "    2017,\n",
    "    2018,\n",
    "    2019,\n",
    "    2020,\n",
    "    2021,\n",
    "]\n"
   ]
  },
  {
   "cell_type": "code",
   "execution_count": 3,
   "metadata": {},
   "outputs": [
    {
     "name": "stdout",
     "output_type": "stream",
     "text": [
      "RUNNING: ADA-USDT for 2017.\n",
      "RUNNING: algom-trading:train_features.features_{ticker}_{interval}_{iteration}_{year}0101 is being extracted and transformed.\n",
      "RUNNING: Extracting data using src.extract.cryptocompare_ticker_data.\n",
      "Extracting 1 of 5: ADA-USDT up to 2018-01-01 00:00:00\n",
      "Extracting 2 of 5: ADA-USDT up to 2017-10-09 16:00:00\n",
      "Extracting 3 of 5: ADA-USDT up to 2017-07-18 08:00:00\n",
      "Extracting 4 of 5: ADA-USDT up to 2017-04-26 00:00:00\n",
      "Extracting 5 of 5: ADA-USDT up to 2017-02-01 16:00:00\n",
      "RUNNING: Applying feature engineering using src.features.algom_trading_v001.get_features_hour_i00.\n",
      "RUNNING: Cleaning final dataset.\n",
      "SUCCESS: Loaded DataFrame.\n",
      "RUNNING: loading features into BigQuery.\n"
     ]
    },
    {
     "name": "stderr",
     "output_type": "stream",
     "text": [
      "1it [00:08,  8.61s/it]\n"
     ]
    },
    {
     "name": "stdout",
     "output_type": "stream",
     "text": [
      "SUCCESS: algom-trading:train_features.features_ADA_USDT_hour_i00_20170101 has been loaded to BigQuery. Runtime: 0:00:19.922364.\n",
      "RUNNING: ADA-USDT for 2018.\n",
      "RUNNING: algom-trading:train_features.features_{ticker}_{interval}_{iteration}_{year}0101 is being extracted and transformed.\n",
      "RUNNING: Extracting data using src.extract.cryptocompare_ticker_data.\n",
      "Extracting 1 of 5: ADA-USDT up to 2019-01-01 00:00:00\n",
      "Extracting 2 of 5: ADA-USDT up to 2018-10-09 16:00:00\n",
      "Extracting 3 of 5: ADA-USDT up to 2018-07-18 08:00:00\n",
      "Extracting 4 of 5: ADA-USDT up to 2018-04-26 00:00:00\n",
      "Extracting 5 of 5: ADA-USDT up to 2018-02-01 16:00:00\n",
      "RUNNING: Applying feature engineering using src.features.algom_trading_v001.get_features_hour_i00.\n",
      "RUNNING: Cleaning final dataset.\n",
      "SUCCESS: Loaded DataFrame.\n",
      "RUNNING: loading features into BigQuery.\n"
     ]
    },
    {
     "name": "stderr",
     "output_type": "stream",
     "text": [
      "1it [00:24, 24.17s/it]\n"
     ]
    },
    {
     "name": "stdout",
     "output_type": "stream",
     "text": [
      "SUCCESS: algom-trading:train_features.features_ADA_USDT_hour_i00_20180101 has been loaded to BigQuery. Runtime: 0:00:34.631446.\n",
      "RUNNING: ADA-USDT for 2019.\n",
      "RUNNING: algom-trading:train_features.features_{ticker}_{interval}_{iteration}_{year}0101 is being extracted and transformed.\n",
      "RUNNING: Extracting data using src.extract.cryptocompare_ticker_data.\n",
      "Extracting 1 of 5: ADA-USDT up to 2020-01-01 00:00:00\n",
      "Extracting 2 of 5: ADA-USDT up to 2019-10-09 16:00:00\n",
      "Extracting 3 of 5: ADA-USDT up to 2019-07-18 08:00:00\n",
      "Extracting 4 of 5: ADA-USDT up to 2019-04-26 00:00:00\n",
      "Extracting 5 of 5: ADA-USDT up to 2019-02-01 16:00:00\n",
      "RUNNING: Applying feature engineering using src.features.algom_trading_v001.get_features_hour_i00.\n",
      "RUNNING: Cleaning final dataset.\n",
      "SUCCESS: Loaded DataFrame.\n",
      "RUNNING: loading features into BigQuery.\n"
     ]
    },
    {
     "name": "stderr",
     "output_type": "stream",
     "text": [
      "1it [00:34, 34.28s/it]\n"
     ]
    },
    {
     "name": "stdout",
     "output_type": "stream",
     "text": [
      "SUCCESS: algom-trading:train_features.features_ADA_USDT_hour_i00_20190101 has been loaded to BigQuery. Runtime: 0:00:45.506840.\n",
      "RUNNING: ADA-USDT for 2020.\n",
      "RUNNING: algom-trading:train_features.features_{ticker}_{interval}_{iteration}_{year}0101 is being extracted and transformed.\n",
      "RUNNING: Extracting data using src.extract.cryptocompare_ticker_data.\n",
      "Extracting 1 of 5: ADA-USDT up to 2021-01-01 00:00:00\n",
      "Extracting 2 of 5: ADA-USDT up to 2020-10-09 16:00:00\n",
      "Extracting 3 of 5: ADA-USDT up to 2020-07-18 08:00:00\n",
      "Extracting 4 of 5: ADA-USDT up to 2020-04-26 00:00:00\n",
      "Extracting 5 of 5: ADA-USDT up to 2020-02-02 16:00:00\n",
      "RUNNING: Applying feature engineering using src.features.algom_trading_v001.get_features_hour_i00.\n",
      "RUNNING: Cleaning final dataset.\n",
      "SUCCESS: Loaded DataFrame.\n",
      "RUNNING: loading features into BigQuery.\n"
     ]
    },
    {
     "name": "stderr",
     "output_type": "stream",
     "text": [
      "1it [00:30, 30.45s/it]\n"
     ]
    },
    {
     "name": "stdout",
     "output_type": "stream",
     "text": [
      "SUCCESS: algom-trading:train_features.features_ADA_USDT_hour_i00_20200101 has been loaded to BigQuery. Runtime: 0:00:44.685927.\n",
      "RUNNING: ADA-USDT for 2021.\n",
      "RUNNING: algom-trading:train_features.features_{ticker}_{interval}_{iteration}_{year}0101 is being extracted and transformed.\n",
      "RUNNING: Extracting data using src.extract.cryptocompare_ticker_data.\n",
      "Extracting 1 of 5: ADA-USDT up to 2022-01-01 00:00:00\n",
      "Extracting 2 of 5: ADA-USDT up to 2021-10-09 16:00:00\n",
      "Extracting 3 of 5: ADA-USDT up to 2021-07-18 08:00:00\n",
      "Extracting 4 of 5: ADA-USDT up to 2021-04-26 00:00:00\n",
      "Extracting 5 of 5: ADA-USDT up to 2021-02-01 16:00:00\n",
      "RUNNING: Applying feature engineering using src.features.algom_trading_v001.get_features_hour_i00.\n",
      "RUNNING: Cleaning final dataset.\n",
      "SUCCESS: Loaded DataFrame.\n",
      "RUNNING: loading features into BigQuery.\n"
     ]
    },
    {
     "name": "stderr",
     "output_type": "stream",
     "text": [
      "1it [00:11, 11.93s/it]\n"
     ]
    },
    {
     "name": "stdout",
     "output_type": "stream",
     "text": [
      "SUCCESS: algom-trading:train_features.features_ADA_USDT_hour_i00_20210101 has been loaded to BigQuery. Runtime: 0:00:17.617003.\n",
      "RUNNING: BCH-USDT for 2017.\n",
      "RUNNING: algom-trading:train_features.features_{ticker}_{interval}_{iteration}_{year}0101 is being extracted and transformed.\n",
      "RUNNING: Extracting data using src.extract.cryptocompare_ticker_data.\n",
      "Extracting 1 of 5: BCH-USDT up to 2018-01-01 00:00:00\n",
      "Extracting 2 of 5: BCH-USDT up to 2017-10-09 16:00:00\n",
      "Extracting 3 of 5: BCH-USDT up to 2017-07-18 08:00:00\n",
      "Extracting 4 of 5: BCH-USDT up to 2017-04-26 00:00:00\n",
      "Extracting 5 of 5: BCH-USDT up to 2017-02-01 16:00:00\n",
      "RUNNING: Applying feature engineering using src.features.algom_trading_v001.get_features_hour_i00.\n",
      "RUNNING: Cleaning final dataset.\n",
      "SUCCESS: Loaded DataFrame.\n",
      "RUNNING: loading features into BigQuery.\n"
     ]
    },
    {
     "name": "stderr",
     "output_type": "stream",
     "text": [
      "1it [00:08,  8.92s/it]\n"
     ]
    },
    {
     "name": "stdout",
     "output_type": "stream",
     "text": [
      "SUCCESS: algom-trading:train_features.features_BCH_USDT_hour_i00_20170101 has been loaded to BigQuery. Runtime: 0:00:22.192817.\n",
      "RUNNING: BCH-USDT for 2018.\n",
      "RUNNING: algom-trading:train_features.features_{ticker}_{interval}_{iteration}_{year}0101 is being extracted and transformed.\n",
      "RUNNING: Extracting data using src.extract.cryptocompare_ticker_data.\n",
      "Extracting 1 of 5: BCH-USDT up to 2019-01-01 00:00:00\n",
      "Extracting 2 of 5: BCH-USDT up to 2018-10-09 16:00:00\n",
      "Extracting 3 of 5: BCH-USDT up to 2018-07-18 08:00:00\n",
      "Extracting 4 of 5: BCH-USDT up to 2018-04-26 00:00:00\n",
      "Extracting 5 of 5: BCH-USDT up to 2018-02-01 16:00:00\n",
      "RUNNING: Applying feature engineering using src.features.algom_trading_v001.get_features_hour_i00.\n",
      "RUNNING: Cleaning final dataset.\n",
      "SUCCESS: Loaded DataFrame.\n",
      "RUNNING: loading features into BigQuery.\n"
     ]
    },
    {
     "name": "stderr",
     "output_type": "stream",
     "text": [
      "1it [00:31, 31.04s/it]\n"
     ]
    },
    {
     "name": "stdout",
     "output_type": "stream",
     "text": [
      "SUCCESS: algom-trading:train_features.features_BCH_USDT_hour_i00_20180101 has been loaded to BigQuery. Runtime: 0:23:30.631175.\n",
      "RUNNING: BCH-USDT for 2019.\n",
      "RUNNING: algom-trading:train_features.features_{ticker}_{interval}_{iteration}_{year}0101 is being extracted and transformed.\n",
      "RUNNING: Extracting data using src.extract.cryptocompare_ticker_data.\n",
      "Extracting 1 of 5: BCH-USDT up to 2020-01-01 00:00:00\n",
      "Extracting 2 of 5: BCH-USDT up to 2019-10-09 16:00:00\n",
      "Extracting 3 of 5: BCH-USDT up to 2019-07-18 08:00:00\n",
      "Extracting 4 of 5: BCH-USDT up to 2019-04-26 00:00:00\n",
      "Extracting 5 of 5: BCH-USDT up to 2019-02-01 16:00:00\n",
      "RUNNING: Applying feature engineering using src.features.algom_trading_v001.get_features_hour_i00.\n",
      "RUNNING: Cleaning final dataset.\n",
      "SUCCESS: Loaded DataFrame.\n",
      "RUNNING: loading features into BigQuery.\n"
     ]
    },
    {
     "name": "stderr",
     "output_type": "stream",
     "text": [
      "1it [00:28, 28.35s/it]\n"
     ]
    },
    {
     "name": "stdout",
     "output_type": "stream",
     "text": [
      "SUCCESS: algom-trading:train_features.features_BCH_USDT_hour_i00_20190101 has been loaded to BigQuery. Runtime: 0:00:39.866663.\n",
      "RUNNING: BCH-USDT for 2020.\n",
      "RUNNING: algom-trading:train_features.features_{ticker}_{interval}_{iteration}_{year}0101 is being extracted and transformed.\n",
      "RUNNING: Extracting data using src.extract.cryptocompare_ticker_data.\n",
      "Extracting 1 of 5: BCH-USDT up to 2021-01-01 00:00:00\n",
      "Extracting 2 of 5: BCH-USDT up to 2020-10-09 16:00:00\n",
      "Extracting 3 of 5: BCH-USDT up to 2020-07-18 08:00:00\n",
      "Extracting 4 of 5: BCH-USDT up to 2020-04-26 00:00:00\n",
      "Extracting 5 of 5: BCH-USDT up to 2020-02-02 16:00:00\n",
      "RUNNING: Applying feature engineering using src.features.algom_trading_v001.get_features_hour_i00.\n",
      "RUNNING: Cleaning final dataset.\n",
      "SUCCESS: Loaded DataFrame.\n",
      "RUNNING: loading features into BigQuery.\n"
     ]
    },
    {
     "name": "stderr",
     "output_type": "stream",
     "text": [
      "1it [00:33, 33.29s/it]\n"
     ]
    },
    {
     "name": "stdout",
     "output_type": "stream",
     "text": [
      "SUCCESS: algom-trading:train_features.features_BCH_USDT_hour_i00_20200101 has been loaded to BigQuery. Runtime: 0:00:46.770264.\n",
      "RUNNING: BCH-USDT for 2021.\n",
      "RUNNING: algom-trading:train_features.features_{ticker}_{interval}_{iteration}_{year}0101 is being extracted and transformed.\n",
      "RUNNING: Extracting data using src.extract.cryptocompare_ticker_data.\n",
      "Extracting 1 of 5: BCH-USDT up to 2022-01-01 00:00:00\n",
      "Extracting 2 of 5: BCH-USDT up to 2021-10-09 16:00:00\n",
      "Extracting 3 of 5: BCH-USDT up to 2021-07-18 08:00:00\n",
      "Extracting 4 of 5: BCH-USDT up to 2021-04-26 00:00:00\n",
      "Extracting 5 of 5: BCH-USDT up to 2021-02-01 16:00:00\n",
      "RUNNING: Applying feature engineering using src.features.algom_trading_v001.get_features_hour_i00.\n",
      "RUNNING: Cleaning final dataset.\n",
      "SUCCESS: Loaded DataFrame.\n",
      "RUNNING: loading features into BigQuery.\n"
     ]
    },
    {
     "name": "stderr",
     "output_type": "stream",
     "text": [
      "1it [00:10, 10.57s/it]\n"
     ]
    },
    {
     "name": "stdout",
     "output_type": "stream",
     "text": [
      "SUCCESS: algom-trading:train_features.features_BCH_USDT_hour_i00_20210101 has been loaded to BigQuery. Runtime: 0:00:16.090636.\n",
      "RUNNING: BNB-USDT for 2017.\n",
      "RUNNING: algom-trading:train_features.features_{ticker}_{interval}_{iteration}_{year}0101 is being extracted and transformed.\n",
      "RUNNING: Extracting data using src.extract.cryptocompare_ticker_data.\n",
      "Extracting 1 of 5: BNB-USDT up to 2018-01-01 00:00:00\n",
      "Extracting 2 of 5: BNB-USDT up to 2017-10-09 16:00:00\n",
      "Extracting 3 of 5: BNB-USDT up to 2017-07-18 08:00:00\n",
      "Extracting 4 of 5: BNB-USDT up to 2017-04-26 00:00:00\n",
      "Extracting 5 of 5: BNB-USDT up to 2017-02-01 16:00:00\n",
      "RUNNING: Applying feature engineering using src.features.algom_trading_v001.get_features_hour_i00.\n",
      "RUNNING: Cleaning final dataset.\n",
      "SUCCESS: Loaded DataFrame.\n",
      "RUNNING: loading features into BigQuery.\n"
     ]
    },
    {
     "name": "stderr",
     "output_type": "stream",
     "text": [
      "1it [00:18, 18.14s/it]\n"
     ]
    },
    {
     "name": "stdout",
     "output_type": "stream",
     "text": [
      "SUCCESS: algom-trading:train_features.features_BNB_USDT_hour_i00_20170101 has been loaded to BigQuery. Runtime: 0:00:31.083986.\n",
      "RUNNING: BNB-USDT for 2018.\n",
      "RUNNING: algom-trading:train_features.features_{ticker}_{interval}_{iteration}_{year}0101 is being extracted and transformed.\n",
      "RUNNING: Extracting data using src.extract.cryptocompare_ticker_data.\n",
      "Extracting 1 of 5: BNB-USDT up to 2019-01-01 00:00:00\n",
      "Extracting 2 of 5: BNB-USDT up to 2018-10-09 16:00:00\n",
      "Extracting 3 of 5: BNB-USDT up to 2018-07-18 08:00:00\n",
      "Extracting 4 of 5: BNB-USDT up to 2018-04-26 00:00:00\n",
      "Extracting 5 of 5: BNB-USDT up to 2018-02-01 16:00:00\n",
      "RUNNING: Applying feature engineering using src.features.algom_trading_v001.get_features_hour_i00.\n",
      "RUNNING: Cleaning final dataset.\n",
      "SUCCESS: Loaded DataFrame.\n",
      "RUNNING: loading features into BigQuery.\n"
     ]
    },
    {
     "name": "stderr",
     "output_type": "stream",
     "text": [
      "1it [00:36, 36.24s/it]\n"
     ]
    },
    {
     "name": "stdout",
     "output_type": "stream",
     "text": [
      "SUCCESS: algom-trading:train_features.features_BNB_USDT_hour_i00_20180101 has been loaded to BigQuery. Runtime: 0:00:51.111425.\n",
      "RUNNING: BNB-USDT for 2019.\n",
      "RUNNING: algom-trading:train_features.features_{ticker}_{interval}_{iteration}_{year}0101 is being extracted and transformed.\n",
      "RUNNING: Extracting data using src.extract.cryptocompare_ticker_data.\n",
      "Extracting 1 of 5: BNB-USDT up to 2020-01-01 00:00:00\n",
      "Extracting 2 of 5: BNB-USDT up to 2019-10-09 16:00:00\n",
      "Extracting 3 of 5: BNB-USDT up to 2019-07-18 08:00:00\n",
      "Extracting 4 of 5: BNB-USDT up to 2019-04-26 00:00:00\n",
      "Extracting 5 of 5: BNB-USDT up to 2019-02-01 16:00:00\n",
      "RUNNING: Applying feature engineering using src.features.algom_trading_v001.get_features_hour_i00.\n",
      "RUNNING: Cleaning final dataset.\n",
      "SUCCESS: Loaded DataFrame.\n",
      "RUNNING: loading features into BigQuery.\n"
     ]
    },
    {
     "name": "stderr",
     "output_type": "stream",
     "text": [
      "1it [00:34, 34.58s/it]\n"
     ]
    },
    {
     "name": "stdout",
     "output_type": "stream",
     "text": [
      "SUCCESS: algom-trading:train_features.features_BNB_USDT_hour_i00_20190101 has been loaded to BigQuery. Runtime: 0:00:46.611039.\n",
      "RUNNING: BNB-USDT for 2020.\n",
      "RUNNING: algom-trading:train_features.features_{ticker}_{interval}_{iteration}_{year}0101 is being extracted and transformed.\n",
      "RUNNING: Extracting data using src.extract.cryptocompare_ticker_data.\n",
      "Extracting 1 of 5: BNB-USDT up to 2021-01-01 00:00:00\n",
      "Extracting 2 of 5: BNB-USDT up to 2020-10-09 16:00:00\n",
      "Extracting 3 of 5: BNB-USDT up to 2020-07-18 08:00:00\n",
      "Extracting 4 of 5: BNB-USDT up to 2020-04-26 00:00:00\n",
      "Extracting 5 of 5: BNB-USDT up to 2020-02-02 16:00:00\n",
      "RUNNING: Applying feature engineering using src.features.algom_trading_v001.get_features_hour_i00.\n",
      "RUNNING: Cleaning final dataset.\n",
      "SUCCESS: Loaded DataFrame.\n",
      "RUNNING: loading features into BigQuery.\n"
     ]
    },
    {
     "name": "stderr",
     "output_type": "stream",
     "text": [
      "1it [00:42, 42.16s/it]\n"
     ]
    },
    {
     "name": "stdout",
     "output_type": "stream",
     "text": [
      "SUCCESS: algom-trading:train_features.features_BNB_USDT_hour_i00_20200101 has been loaded to BigQuery. Runtime: 0:00:55.761297.\n",
      "RUNNING: BNB-USDT for 2021.\n",
      "RUNNING: algom-trading:train_features.features_{ticker}_{interval}_{iteration}_{year}0101 is being extracted and transformed.\n",
      "RUNNING: Extracting data using src.extract.cryptocompare_ticker_data.\n",
      "Extracting 1 of 5: BNB-USDT up to 2022-01-01 00:00:00\n",
      "Extracting 2 of 5: BNB-USDT up to 2021-10-09 16:00:00\n",
      "Extracting 3 of 5: BNB-USDT up to 2021-07-18 08:00:00\n",
      "Extracting 4 of 5: BNB-USDT up to 2021-04-26 00:00:00\n",
      "Extracting 5 of 5: BNB-USDT up to 2021-02-01 16:00:00\n",
      "RUNNING: Applying feature engineering using src.features.algom_trading_v001.get_features_hour_i00.\n",
      "RUNNING: Cleaning final dataset.\n",
      "SUCCESS: Loaded DataFrame.\n",
      "RUNNING: loading features into BigQuery.\n"
     ]
    },
    {
     "name": "stderr",
     "output_type": "stream",
     "text": [
      "1it [00:18, 18.14s/it]\n"
     ]
    },
    {
     "name": "stdout",
     "output_type": "stream",
     "text": [
      "SUCCESS: algom-trading:train_features.features_BNB_USDT_hour_i00_20210101 has been loaded to BigQuery. Runtime: 0:00:27.701008.\n",
      "RUNNING: BTC-USDT for 2017.\n",
      "RUNNING: algom-trading:train_features.features_{ticker}_{interval}_{iteration}_{year}0101 is being extracted and transformed.\n",
      "RUNNING: Extracting data using src.extract.cryptocompare_ticker_data.\n",
      "Extracting 1 of 5: BTC-USDT up to 2018-01-01 00:00:00\n",
      "Extracting 2 of 5: BTC-USDT up to 2017-10-09 16:00:00\n",
      "Extracting 3 of 5: BTC-USDT up to 2017-07-18 08:00:00\n",
      "Extracting 4 of 5: BTC-USDT up to 2017-04-26 00:00:00\n",
      "Extracting 5 of 5: BTC-USDT up to 2017-02-01 16:00:00\n",
      "RUNNING: Applying feature engineering using src.features.algom_trading_v001.get_features_hour_i00.\n",
      "RUNNING: Cleaning final dataset.\n",
      "SUCCESS: Loaded DataFrame.\n",
      "RUNNING: loading features into BigQuery.\n"
     ]
    },
    {
     "name": "stderr",
     "output_type": "stream",
     "text": [
      "1it [00:18, 18.66s/it]\n"
     ]
    },
    {
     "name": "stdout",
     "output_type": "stream",
     "text": [
      "SUCCESS: algom-trading:train_features.features_BTC_USDT_hour_i00_20170101 has been loaded to BigQuery. Runtime: 0:00:30.917791.\n",
      "RUNNING: BTC-USDT for 2018.\n",
      "RUNNING: algom-trading:train_features.features_{ticker}_{interval}_{iteration}_{year}0101 is being extracted and transformed.\n",
      "RUNNING: Extracting data using src.extract.cryptocompare_ticker_data.\n",
      "Extracting 1 of 5: BTC-USDT up to 2019-01-01 00:00:00\n",
      "Extracting 2 of 5: BTC-USDT up to 2018-10-09 16:00:00\n",
      "Extracting 3 of 5: BTC-USDT up to 2018-07-18 08:00:00\n",
      "Extracting 4 of 5: BTC-USDT up to 2018-04-26 00:00:00\n",
      "Extracting 5 of 5: BTC-USDT up to 2018-02-01 16:00:00\n",
      "RUNNING: Applying feature engineering using src.features.algom_trading_v001.get_features_hour_i00.\n",
      "RUNNING: Cleaning final dataset.\n",
      "SUCCESS: Loaded DataFrame.\n",
      "RUNNING: loading features into BigQuery.\n"
     ]
    },
    {
     "name": "stderr",
     "output_type": "stream",
     "text": [
      "1it [01:24, 84.89s/it]\n"
     ]
    },
    {
     "name": "stdout",
     "output_type": "stream",
     "text": [
      "SUCCESS: algom-trading:train_features.features_BTC_USDT_hour_i00_20180101 has been loaded to BigQuery. Runtime: 0:01:41.867404.\n",
      "RUNNING: BTC-USDT for 2019.\n",
      "RUNNING: algom-trading:train_features.features_{ticker}_{interval}_{iteration}_{year}0101 is being extracted and transformed.\n",
      "RUNNING: Extracting data using src.extract.cryptocompare_ticker_data.\n",
      "Extracting 1 of 5: BTC-USDT up to 2020-01-01 00:00:00\n",
      "Extracting 2 of 5: BTC-USDT up to 2019-10-09 16:00:00\n",
      "Extracting 3 of 5: BTC-USDT up to 2019-07-18 08:00:00\n",
      "Extracting 4 of 5: BTC-USDT up to 2019-04-26 00:00:00\n",
      "Extracting 5 of 5: BTC-USDT up to 2019-02-01 16:00:00\n",
      "RUNNING: Applying feature engineering using src.features.algom_trading_v001.get_features_hour_i00.\n",
      "RUNNING: Cleaning final dataset.\n",
      "SUCCESS: Loaded DataFrame.\n",
      "RUNNING: loading features into BigQuery.\n"
     ]
    },
    {
     "name": "stderr",
     "output_type": "stream",
     "text": [
      "1it [00:32, 32.72s/it]\n"
     ]
    },
    {
     "name": "stdout",
     "output_type": "stream",
     "text": [
      "SUCCESS: algom-trading:train_features.features_BTC_USDT_hour_i00_20190101 has been loaded to BigQuery. Runtime: 0:00:43.542744.\n",
      "RUNNING: BTC-USDT for 2020.\n",
      "RUNNING: algom-trading:train_features.features_{ticker}_{interval}_{iteration}_{year}0101 is being extracted and transformed.\n",
      "RUNNING: Extracting data using src.extract.cryptocompare_ticker_data.\n",
      "Extracting 1 of 5: BTC-USDT up to 2021-01-01 00:00:00\n",
      "Extracting 2 of 5: BTC-USDT up to 2020-10-09 16:00:00\n",
      "Extracting 3 of 5: BTC-USDT up to 2020-07-18 08:00:00\n",
      "Extracting 4 of 5: BTC-USDT up to 2020-04-26 00:00:00\n",
      "Extracting 5 of 5: BTC-USDT up to 2020-02-02 16:00:00\n",
      "RUNNING: Applying feature engineering using src.features.algom_trading_v001.get_features_hour_i00.\n",
      "RUNNING: Cleaning final dataset.\n",
      "SUCCESS: Loaded DataFrame.\n",
      "RUNNING: loading features into BigQuery.\n"
     ]
    },
    {
     "name": "stderr",
     "output_type": "stream",
     "text": [
      "1it [00:34, 34.66s/it]\n"
     ]
    },
    {
     "name": "stdout",
     "output_type": "stream",
     "text": [
      "SUCCESS: algom-trading:train_features.features_BTC_USDT_hour_i00_20200101 has been loaded to BigQuery. Runtime: 0:00:46.287335.\n",
      "RUNNING: BTC-USDT for 2021.\n",
      "RUNNING: algom-trading:train_features.features_{ticker}_{interval}_{iteration}_{year}0101 is being extracted and transformed.\n",
      "RUNNING: Extracting data using src.extract.cryptocompare_ticker_data.\n",
      "Extracting 1 of 5: BTC-USDT up to 2022-01-01 00:00:00\n",
      "Extracting 2 of 5: BTC-USDT up to 2021-10-09 16:00:00\n",
      "Extracting 3 of 5: BTC-USDT up to 2021-07-18 08:00:00\n",
      "Extracting 4 of 5: BTC-USDT up to 2021-04-26 00:00:00\n",
      "Extracting 5 of 5: BTC-USDT up to 2021-02-01 16:00:00\n",
      "RUNNING: Applying feature engineering using src.features.algom_trading_v001.get_features_hour_i00.\n",
      "RUNNING: Cleaning final dataset.\n",
      "SUCCESS: Loaded DataFrame.\n",
      "RUNNING: loading features into BigQuery.\n"
     ]
    },
    {
     "name": "stderr",
     "output_type": "stream",
     "text": [
      "1it [00:26, 26.38s/it]\n"
     ]
    },
    {
     "name": "stdout",
     "output_type": "stream",
     "text": [
      "SUCCESS: algom-trading:train_features.features_BTC_USDT_hour_i00_20210101 has been loaded to BigQuery. Runtime: 0:00:34.133288.\n",
      "RUNNING: ETH-USDT for 2017.\n",
      "RUNNING: algom-trading:train_features.features_{ticker}_{interval}_{iteration}_{year}0101 is being extracted and transformed.\n",
      "RUNNING: Extracting data using src.extract.cryptocompare_ticker_data.\n",
      "Extracting 1 of 5: ETH-USDT up to 2018-01-01 00:00:00\n",
      "Extracting 2 of 5: ETH-USDT up to 2017-10-09 16:00:00\n",
      "Extracting 3 of 5: ETH-USDT up to 2017-07-18 08:00:00\n",
      "Extracting 4 of 5: ETH-USDT up to 2017-04-26 00:00:00\n",
      "Extracting 5 of 5: ETH-USDT up to 2017-02-01 16:00:00\n",
      "RUNNING: Applying feature engineering using src.features.algom_trading_v001.get_features_hour_i00.\n",
      "RUNNING: Cleaning final dataset.\n",
      "SUCCESS: Loaded DataFrame.\n",
      "RUNNING: loading features into BigQuery.\n"
     ]
    },
    {
     "name": "stderr",
     "output_type": "stream",
     "text": [
      "1it [00:22, 22.96s/it]\n"
     ]
    },
    {
     "name": "stdout",
     "output_type": "stream",
     "text": [
      "SUCCESS: algom-trading:train_features.features_ETH_USDT_hour_i00_20170101 has been loaded to BigQuery. Runtime: 0:00:35.288967.\n",
      "RUNNING: ETH-USDT for 2018.\n",
      "RUNNING: algom-trading:train_features.features_{ticker}_{interval}_{iteration}_{year}0101 is being extracted and transformed.\n",
      "RUNNING: Extracting data using src.extract.cryptocompare_ticker_data.\n",
      "Extracting 1 of 5: ETH-USDT up to 2019-01-01 00:00:00\n",
      "Extracting 2 of 5: ETH-USDT up to 2018-10-09 16:00:00\n",
      "Extracting 3 of 5: ETH-USDT up to 2018-07-18 08:00:00\n",
      "Extracting 4 of 5: ETH-USDT up to 2018-04-26 00:00:00\n",
      "Extracting 5 of 5: ETH-USDT up to 2018-02-01 16:00:00\n",
      "RUNNING: Applying feature engineering using src.features.algom_trading_v001.get_features_hour_i00.\n",
      "RUNNING: Cleaning final dataset.\n",
      "SUCCESS: Loaded DataFrame.\n",
      "RUNNING: loading features into BigQuery.\n"
     ]
    },
    {
     "name": "stderr",
     "output_type": "stream",
     "text": [
      "1it [00:35, 35.67s/it]\n"
     ]
    },
    {
     "name": "stdout",
     "output_type": "stream",
     "text": [
      "SUCCESS: algom-trading:train_features.features_ETH_USDT_hour_i00_20180101 has been loaded to BigQuery. Runtime: 0:00:51.775147.\n",
      "RUNNING: ETH-USDT for 2019.\n",
      "RUNNING: algom-trading:train_features.features_{ticker}_{interval}_{iteration}_{year}0101 is being extracted and transformed.\n",
      "RUNNING: Extracting data using src.extract.cryptocompare_ticker_data.\n",
      "Extracting 1 of 5: ETH-USDT up to 2020-01-01 00:00:00\n",
      "Extracting 2 of 5: ETH-USDT up to 2019-10-09 16:00:00\n",
      "Extracting 3 of 5: ETH-USDT up to 2019-07-18 08:00:00\n",
      "Extracting 4 of 5: ETH-USDT up to 2019-04-26 00:00:00\n",
      "Extracting 5 of 5: ETH-USDT up to 2019-02-01 16:00:00\n",
      "RUNNING: Applying feature engineering using src.features.algom_trading_v001.get_features_hour_i00.\n",
      "RUNNING: Cleaning final dataset.\n",
      "SUCCESS: Loaded DataFrame.\n",
      "RUNNING: loading features into BigQuery.\n"
     ]
    },
    {
     "name": "stderr",
     "output_type": "stream",
     "text": [
      "1it [00:31, 31.78s/it]\n"
     ]
    },
    {
     "name": "stdout",
     "output_type": "stream",
     "text": [
      "SUCCESS: algom-trading:train_features.features_ETH_USDT_hour_i00_20190101 has been loaded to BigQuery. Runtime: 0:00:45.513198.\n",
      "RUNNING: ETH-USDT for 2020.\n",
      "RUNNING: algom-trading:train_features.features_{ticker}_{interval}_{iteration}_{year}0101 is being extracted and transformed.\n",
      "RUNNING: Extracting data using src.extract.cryptocompare_ticker_data.\n",
      "Extracting 1 of 5: ETH-USDT up to 2021-01-01 00:00:00\n",
      "Extracting 2 of 5: ETH-USDT up to 2020-10-09 16:00:00\n",
      "Extracting 3 of 5: ETH-USDT up to 2020-07-18 08:00:00\n",
      "Extracting 4 of 5: ETH-USDT up to 2020-04-26 00:00:00\n",
      "Extracting 5 of 5: ETH-USDT up to 2020-02-02 16:00:00\n",
      "RUNNING: Applying feature engineering using src.features.algom_trading_v001.get_features_hour_i00.\n",
      "RUNNING: Cleaning final dataset.\n",
      "SUCCESS: Loaded DataFrame.\n",
      "RUNNING: loading features into BigQuery.\n"
     ]
    },
    {
     "name": "stderr",
     "output_type": "stream",
     "text": [
      "1it [00:37, 37.21s/it]\n"
     ]
    },
    {
     "name": "stdout",
     "output_type": "stream",
     "text": [
      "SUCCESS: algom-trading:train_features.features_ETH_USDT_hour_i00_20200101 has been loaded to BigQuery. Runtime: 0:00:50.449880.\n",
      "RUNNING: ETH-USDT for 2021.\n",
      "RUNNING: algom-trading:train_features.features_{ticker}_{interval}_{iteration}_{year}0101 is being extracted and transformed.\n",
      "RUNNING: Extracting data using src.extract.cryptocompare_ticker_data.\n",
      "Extracting 1 of 5: ETH-USDT up to 2022-01-01 00:00:00\n",
      "Extracting 2 of 5: ETH-USDT up to 2021-10-09 16:00:00\n",
      "Extracting 3 of 5: ETH-USDT up to 2021-07-18 08:00:00\n",
      "Extracting 4 of 5: ETH-USDT up to 2021-04-26 00:00:00\n",
      "Extracting 5 of 5: ETH-USDT up to 2021-02-01 16:00:00\n",
      "RUNNING: Applying feature engineering using src.features.algom_trading_v001.get_features_hour_i00.\n",
      "RUNNING: Cleaning final dataset.\n",
      "SUCCESS: Loaded DataFrame.\n",
      "RUNNING: loading features into BigQuery.\n"
     ]
    },
    {
     "name": "stderr",
     "output_type": "stream",
     "text": [
      "1it [00:11, 11.62s/it]\n"
     ]
    },
    {
     "name": "stdout",
     "output_type": "stream",
     "text": [
      "SUCCESS: algom-trading:train_features.features_ETH_USDT_hour_i00_20210101 has been loaded to BigQuery. Runtime: 0:00:19.118776.\n",
      "RUNNING: EOS-USDT for 2017.\n",
      "RUNNING: algom-trading:train_features.features_{ticker}_{interval}_{iteration}_{year}0101 is being extracted and transformed.\n",
      "RUNNING: Extracting data using src.extract.cryptocompare_ticker_data.\n",
      "Extracting 1 of 5: EOS-USDT up to 2018-01-01 00:00:00\n",
      "Extracting 2 of 5: EOS-USDT up to 2017-10-09 16:00:00\n",
      "Extracting 3 of 5: EOS-USDT up to 2017-07-18 08:00:00\n",
      "Extracting 4 of 5: EOS-USDT up to 2017-04-26 00:00:00\n",
      "Extracting 5 of 5: EOS-USDT up to 2017-02-01 16:00:00\n",
      "RUNNING: Applying feature engineering using src.features.algom_trading_v001.get_features_hour_i00.\n",
      "RUNNING: Cleaning final dataset.\n",
      "SUCCESS: Loaded DataFrame.\n",
      "RUNNING: loading features into BigQuery.\n"
     ]
    },
    {
     "name": "stderr",
     "output_type": "stream",
     "text": [
      "1it [00:07,  7.78s/it]\n"
     ]
    },
    {
     "name": "stdout",
     "output_type": "stream",
     "text": [
      "SUCCESS: algom-trading:train_features.features_EOS_USDT_hour_i00_20170101 has been loaded to BigQuery. Runtime: 0:00:20.634424.\n",
      "RUNNING: EOS-USDT for 2018.\n",
      "RUNNING: algom-trading:train_features.features_{ticker}_{interval}_{iteration}_{year}0101 is being extracted and transformed.\n",
      "RUNNING: Extracting data using src.extract.cryptocompare_ticker_data.\n",
      "Extracting 1 of 5: EOS-USDT up to 2019-01-01 00:00:00\n",
      "Extracting 2 of 5: EOS-USDT up to 2018-10-09 16:00:00\n",
      "Extracting 3 of 5: EOS-USDT up to 2018-07-18 08:00:00\n",
      "Extracting 4 of 5: EOS-USDT up to 2018-04-26 00:00:00\n",
      "Extracting 5 of 5: EOS-USDT up to 2018-02-01 16:00:00\n",
      "RUNNING: Applying feature engineering using src.features.algom_trading_v001.get_features_hour_i00.\n",
      "RUNNING: Cleaning final dataset.\n",
      "SUCCESS: Loaded DataFrame.\n",
      "RUNNING: loading features into BigQuery.\n"
     ]
    },
    {
     "name": "stderr",
     "output_type": "stream",
     "text": [
      "1it [00:27, 27.77s/it]\n"
     ]
    },
    {
     "name": "stdout",
     "output_type": "stream",
     "text": [
      "SUCCESS: algom-trading:train_features.features_EOS_USDT_hour_i00_20180101 has been loaded to BigQuery. Runtime: 0:00:38.161752.\n",
      "RUNNING: EOS-USDT for 2019.\n",
      "RUNNING: algom-trading:train_features.features_{ticker}_{interval}_{iteration}_{year}0101 is being extracted and transformed.\n",
      "RUNNING: Extracting data using src.extract.cryptocompare_ticker_data.\n",
      "Extracting 1 of 5: EOS-USDT up to 2020-01-01 00:00:00\n",
      "Extracting 2 of 5: EOS-USDT up to 2019-10-09 16:00:00\n",
      "Extracting 3 of 5: EOS-USDT up to 2019-07-18 08:00:00\n",
      "Extracting 4 of 5: EOS-USDT up to 2019-04-26 00:00:00\n",
      "Extracting 5 of 5: EOS-USDT up to 2019-02-01 16:00:00\n",
      "RUNNING: Applying feature engineering using src.features.algom_trading_v001.get_features_hour_i00.\n",
      "RUNNING: Cleaning final dataset.\n",
      "SUCCESS: Loaded DataFrame.\n",
      "RUNNING: loading features into BigQuery.\n"
     ]
    },
    {
     "name": "stderr",
     "output_type": "stream",
     "text": [
      "1it [00:32, 32.07s/it]\n"
     ]
    },
    {
     "name": "stdout",
     "output_type": "stream",
     "text": [
      "SUCCESS: algom-trading:train_features.features_EOS_USDT_hour_i00_20190101 has been loaded to BigQuery. Runtime: 0:00:45.659612.\n",
      "RUNNING: EOS-USDT for 2020.\n",
      "RUNNING: algom-trading:train_features.features_{ticker}_{interval}_{iteration}_{year}0101 is being extracted and transformed.\n",
      "RUNNING: Extracting data using src.extract.cryptocompare_ticker_data.\n",
      "Extracting 1 of 5: EOS-USDT up to 2021-01-01 00:00:00\n",
      "Extracting 2 of 5: EOS-USDT up to 2020-10-09 16:00:00\n",
      "Extracting 3 of 5: EOS-USDT up to 2020-07-18 08:00:00\n",
      "Extracting 4 of 5: EOS-USDT up to 2020-04-26 00:00:00\n",
      "Extracting 5 of 5: EOS-USDT up to 2020-02-02 16:00:00\n",
      "RUNNING: Applying feature engineering using src.features.algom_trading_v001.get_features_hour_i00.\n",
      "RUNNING: Cleaning final dataset.\n",
      "SUCCESS: Loaded DataFrame.\n",
      "RUNNING: loading features into BigQuery.\n"
     ]
    },
    {
     "name": "stderr",
     "output_type": "stream",
     "text": [
      "1it [00:42, 42.93s/it]\n"
     ]
    },
    {
     "name": "stdout",
     "output_type": "stream",
     "text": [
      "SUCCESS: algom-trading:train_features.features_EOS_USDT_hour_i00_20200101 has been loaded to BigQuery. Runtime: 0:00:56.583815.\n",
      "RUNNING: EOS-USDT for 2021.\n",
      "RUNNING: algom-trading:train_features.features_{ticker}_{interval}_{iteration}_{year}0101 is being extracted and transformed.\n",
      "RUNNING: Extracting data using src.extract.cryptocompare_ticker_data.\n",
      "Extracting 1 of 5: EOS-USDT up to 2022-01-01 00:00:00\n",
      "Extracting 2 of 5: EOS-USDT up to 2021-10-09 16:00:00\n",
      "Extracting 3 of 5: EOS-USDT up to 2021-07-18 08:00:00\n",
      "Extracting 4 of 5: EOS-USDT up to 2021-04-26 00:00:00\n",
      "Extracting 5 of 5: EOS-USDT up to 2021-02-01 16:00:00\n",
      "RUNNING: Applying feature engineering using src.features.algom_trading_v001.get_features_hour_i00.\n",
      "RUNNING: Cleaning final dataset.\n",
      "SUCCESS: Loaded DataFrame.\n",
      "RUNNING: loading features into BigQuery.\n"
     ]
    },
    {
     "name": "stderr",
     "output_type": "stream",
     "text": [
      "1it [00:22, 22.88s/it]\n"
     ]
    },
    {
     "name": "stdout",
     "output_type": "stream",
     "text": [
      "SUCCESS: algom-trading:train_features.features_EOS_USDT_hour_i00_20210101 has been loaded to BigQuery. Runtime: 0:00:30.671758.\n",
      "RUNNING: LTC-USDT for 2017.\n",
      "RUNNING: algom-trading:train_features.features_{ticker}_{interval}_{iteration}_{year}0101 is being extracted and transformed.\n",
      "RUNNING: Extracting data using src.extract.cryptocompare_ticker_data.\n",
      "Extracting 1 of 5: LTC-USDT up to 2018-01-01 00:00:00\n",
      "Extracting 2 of 5: LTC-USDT up to 2017-10-09 16:00:00\n",
      "Extracting 3 of 5: LTC-USDT up to 2017-07-18 08:00:00\n",
      "Extracting 4 of 5: LTC-USDT up to 2017-04-26 00:00:00\n",
      "Extracting 5 of 5: LTC-USDT up to 2017-02-01 16:00:00\n",
      "RUNNING: Applying feature engineering using src.features.algom_trading_v001.get_features_hour_i00.\n",
      "RUNNING: Cleaning final dataset.\n",
      "SUCCESS: Loaded DataFrame.\n",
      "RUNNING: loading features into BigQuery.\n"
     ]
    },
    {
     "name": "stderr",
     "output_type": "stream",
     "text": [
      "1it [00:11, 11.89s/it]\n"
     ]
    },
    {
     "name": "stdout",
     "output_type": "stream",
     "text": [
      "SUCCESS: algom-trading:train_features.features_LTC_USDT_hour_i00_20170101 has been loaded to BigQuery. Runtime: 0:00:22.492981.\n",
      "RUNNING: LTC-USDT for 2018.\n",
      "RUNNING: algom-trading:train_features.features_{ticker}_{interval}_{iteration}_{year}0101 is being extracted and transformed.\n",
      "RUNNING: Extracting data using src.extract.cryptocompare_ticker_data.\n",
      "Extracting 1 of 5: LTC-USDT up to 2019-01-01 00:00:00\n",
      "Extracting 2 of 5: LTC-USDT up to 2018-10-09 16:00:00\n",
      "Extracting 3 of 5: LTC-USDT up to 2018-07-18 08:00:00\n",
      "Extracting 4 of 5: LTC-USDT up to 2018-04-26 00:00:00\n",
      "Extracting 5 of 5: LTC-USDT up to 2018-02-01 16:00:00\n",
      "RUNNING: Applying feature engineering using src.features.algom_trading_v001.get_features_hour_i00.\n",
      "RUNNING: Cleaning final dataset.\n",
      "SUCCESS: Loaded DataFrame.\n",
      "RUNNING: loading features into BigQuery.\n"
     ]
    },
    {
     "name": "stderr",
     "output_type": "stream",
     "text": [
      "1it [00:36, 36.01s/it]\n"
     ]
    },
    {
     "name": "stdout",
     "output_type": "stream",
     "text": [
      "SUCCESS: algom-trading:train_features.features_LTC_USDT_hour_i00_20180101 has been loaded to BigQuery. Runtime: 0:00:48.320662.\n",
      "RUNNING: LTC-USDT for 2019.\n",
      "RUNNING: algom-trading:train_features.features_{ticker}_{interval}_{iteration}_{year}0101 is being extracted and transformed.\n",
      "RUNNING: Extracting data using src.extract.cryptocompare_ticker_data.\n",
      "Extracting 1 of 5: LTC-USDT up to 2020-01-01 00:00:00\n",
      "Extracting 2 of 5: LTC-USDT up to 2019-10-09 16:00:00\n",
      "Extracting 3 of 5: LTC-USDT up to 2019-07-18 08:00:00\n",
      "Extracting 4 of 5: LTC-USDT up to 2019-04-26 00:00:00\n",
      "Extracting 5 of 5: LTC-USDT up to 2019-02-01 16:00:00\n",
      "RUNNING: Applying feature engineering using src.features.algom_trading_v001.get_features_hour_i00.\n",
      "RUNNING: Cleaning final dataset.\n",
      "SUCCESS: Loaded DataFrame.\n",
      "RUNNING: loading features into BigQuery.\n"
     ]
    },
    {
     "name": "stderr",
     "output_type": "stream",
     "text": [
      "1it [00:42, 42.00s/it]\n"
     ]
    },
    {
     "name": "stdout",
     "output_type": "stream",
     "text": [
      "SUCCESS: algom-trading:train_features.features_LTC_USDT_hour_i00_20190101 has been loaded to BigQuery. Runtime: 0:00:54.187829.\n",
      "RUNNING: LTC-USDT for 2020.\n",
      "RUNNING: algom-trading:train_features.features_{ticker}_{interval}_{iteration}_{year}0101 is being extracted and transformed.\n",
      "RUNNING: Extracting data using src.extract.cryptocompare_ticker_data.\n",
      "Extracting 1 of 5: LTC-USDT up to 2021-01-01 00:00:00\n",
      "Extracting 2 of 5: LTC-USDT up to 2020-10-09 16:00:00\n",
      "Extracting 3 of 5: LTC-USDT up to 2020-07-18 08:00:00\n",
      "Extracting 4 of 5: LTC-USDT up to 2020-04-26 00:00:00\n",
      "Extracting 5 of 5: LTC-USDT up to 2020-02-02 16:00:00\n",
      "RUNNING: Applying feature engineering using src.features.algom_trading_v001.get_features_hour_i00.\n",
      "RUNNING: Cleaning final dataset.\n",
      "SUCCESS: Loaded DataFrame.\n",
      "RUNNING: loading features into BigQuery.\n"
     ]
    },
    {
     "name": "stderr",
     "output_type": "stream",
     "text": [
      "1it [00:34, 34.79s/it]\n"
     ]
    },
    {
     "name": "stdout",
     "output_type": "stream",
     "text": [
      "SUCCESS: algom-trading:train_features.features_LTC_USDT_hour_i00_20200101 has been loaded to BigQuery. Runtime: 0:00:48.068510.\n",
      "RUNNING: LTC-USDT for 2021.\n",
      "RUNNING: algom-trading:train_features.features_{ticker}_{interval}_{iteration}_{year}0101 is being extracted and transformed.\n",
      "RUNNING: Extracting data using src.extract.cryptocompare_ticker_data.\n",
      "Extracting 1 of 5: LTC-USDT up to 2022-01-01 00:00:00\n",
      "Extracting 2 of 5: LTC-USDT up to 2021-10-09 16:00:00\n",
      "Extracting 3 of 5: LTC-USDT up to 2021-07-18 08:00:00\n",
      "Extracting 4 of 5: LTC-USDT up to 2021-04-26 00:00:00\n",
      "Extracting 5 of 5: LTC-USDT up to 2021-02-01 16:00:00\n",
      "RUNNING: Applying feature engineering using src.features.algom_trading_v001.get_features_hour_i00.\n",
      "RUNNING: Cleaning final dataset.\n",
      "SUCCESS: Loaded DataFrame.\n",
      "RUNNING: loading features into BigQuery.\n"
     ]
    },
    {
     "name": "stderr",
     "output_type": "stream",
     "text": [
      "1it [00:15, 15.31s/it]\n"
     ]
    },
    {
     "name": "stdout",
     "output_type": "stream",
     "text": [
      "SUCCESS: algom-trading:train_features.features_LTC_USDT_hour_i00_20210101 has been loaded to BigQuery. Runtime: 0:00:22.733379.\n",
      "RUNNING: LINK-USDT for 2017.\n",
      "RUNNING: algom-trading:train_features.features_{ticker}_{interval}_{iteration}_{year}0101 is being extracted and transformed.\n",
      "RUNNING: Extracting data using src.extract.cryptocompare_ticker_data.\n",
      "Extracting 1 of 5: LINK-USDT up to 2018-01-01 00:00:00\n",
      "Extracting 2 of 5: LINK-USDT up to 2017-10-09 16:00:00\n",
      "Extracting 3 of 5: LINK-USDT up to 2017-07-18 08:00:00\n",
      "Extracting 4 of 5: LINK-USDT up to 2017-04-26 00:00:00\n",
      "Extracting 5 of 5: LINK-USDT up to 2017-02-01 16:00:00\n",
      "RUNNING: Applying feature engineering using src.features.algom_trading_v001.get_features_hour_i00.\n",
      "RUNNING: Cleaning final dataset.\n",
      "SUCCESS: Loaded DataFrame.\n",
      "RUNNING: loading features into BigQuery.\n"
     ]
    },
    {
     "name": "stderr",
     "output_type": "stream",
     "text": [
      "1it [00:14, 14.67s/it]\n"
     ]
    },
    {
     "name": "stdout",
     "output_type": "stream",
     "text": [
      "SUCCESS: algom-trading:train_features.features_LINK_USDT_hour_i00_20170101 has been loaded to BigQuery. Runtime: 0:00:26.096215.\n",
      "RUNNING: LINK-USDT for 2018.\n",
      "RUNNING: algom-trading:train_features.features_{ticker}_{interval}_{iteration}_{year}0101 is being extracted and transformed.\n",
      "RUNNING: Extracting data using src.extract.cryptocompare_ticker_data.\n",
      "Extracting 1 of 5: LINK-USDT up to 2019-01-01 00:00:00\n",
      "Extracting 2 of 5: LINK-USDT up to 2018-10-09 16:00:00\n",
      "Extracting 3 of 5: LINK-USDT up to 2018-07-18 08:00:00\n",
      "Extracting 4 of 5: LINK-USDT up to 2018-04-26 00:00:00\n",
      "Extracting 5 of 5: LINK-USDT up to 2018-02-01 16:00:00\n",
      "RUNNING: Applying feature engineering using src.features.algom_trading_v001.get_features_hour_i00.\n",
      "RUNNING: Cleaning final dataset.\n",
      "SUCCESS: Loaded DataFrame.\n",
      "RUNNING: loading features into BigQuery.\n"
     ]
    },
    {
     "name": "stderr",
     "output_type": "stream",
     "text": [
      "1it [00:13, 13.44s/it]\n"
     ]
    },
    {
     "name": "stdout",
     "output_type": "stream",
     "text": [
      "SUCCESS: algom-trading:train_features.features_LINK_USDT_hour_i00_20180101 has been loaded to BigQuery. Runtime: 0:00:25.454703.\n",
      "RUNNING: LINK-USDT for 2019.\n",
      "RUNNING: algom-trading:train_features.features_{ticker}_{interval}_{iteration}_{year}0101 is being extracted and transformed.\n",
      "RUNNING: Extracting data using src.extract.cryptocompare_ticker_data.\n",
      "Extracting 1 of 5: LINK-USDT up to 2020-01-01 00:00:00\n",
      "Extracting 2 of 5: LINK-USDT up to 2019-10-09 16:00:00\n",
      "Extracting 3 of 5: LINK-USDT up to 2019-07-18 08:00:00\n",
      "Extracting 4 of 5: LINK-USDT up to 2019-04-26 00:00:00\n",
      "Extracting 5 of 5: LINK-USDT up to 2019-02-01 16:00:00\n",
      "RUNNING: Applying feature engineering using src.features.algom_trading_v001.get_features_hour_i00.\n",
      "RUNNING: Cleaning final dataset.\n",
      "SUCCESS: Loaded DataFrame.\n",
      "RUNNING: loading features into BigQuery.\n"
     ]
    },
    {
     "name": "stderr",
     "output_type": "stream",
     "text": [
      "1it [00:36, 36.55s/it]\n"
     ]
    },
    {
     "name": "stdout",
     "output_type": "stream",
     "text": [
      "SUCCESS: algom-trading:train_features.features_LINK_USDT_hour_i00_20190101 has been loaded to BigQuery. Runtime: 0:00:48.075985.\n",
      "RUNNING: LINK-USDT for 2020.\n",
      "RUNNING: algom-trading:train_features.features_{ticker}_{interval}_{iteration}_{year}0101 is being extracted and transformed.\n",
      "RUNNING: Extracting data using src.extract.cryptocompare_ticker_data.\n",
      "Extracting 1 of 5: LINK-USDT up to 2021-01-01 00:00:00\n",
      "Extracting 2 of 5: LINK-USDT up to 2020-10-09 16:00:00\n",
      "Extracting 3 of 5: LINK-USDT up to 2020-07-18 08:00:00\n",
      "Extracting 4 of 5: LINK-USDT up to 2020-04-26 00:00:00\n",
      "Extracting 5 of 5: LINK-USDT up to 2020-02-02 16:00:00\n",
      "RUNNING: Applying feature engineering using src.features.algom_trading_v001.get_features_hour_i00.\n",
      "RUNNING: Cleaning final dataset.\n",
      "SUCCESS: Loaded DataFrame.\n",
      "RUNNING: loading features into BigQuery.\n"
     ]
    },
    {
     "name": "stderr",
     "output_type": "stream",
     "text": [
      "1it [01:15, 75.21s/it]\n"
     ]
    },
    {
     "name": "stdout",
     "output_type": "stream",
     "text": [
      "SUCCESS: algom-trading:train_features.features_LINK_USDT_hour_i00_20200101 has been loaded to BigQuery. Runtime: 0:01:28.977877.\n",
      "RUNNING: LINK-USDT for 2021.\n",
      "RUNNING: algom-trading:train_features.features_{ticker}_{interval}_{iteration}_{year}0101 is being extracted and transformed.\n",
      "RUNNING: Extracting data using src.extract.cryptocompare_ticker_data.\n",
      "Extracting 1 of 5: LINK-USDT up to 2022-01-01 00:00:00\n",
      "Extracting 2 of 5: LINK-USDT up to 2021-10-09 16:00:00\n",
      "Extracting 3 of 5: LINK-USDT up to 2021-07-18 08:00:00\n",
      "Extracting 4 of 5: LINK-USDT up to 2021-04-26 00:00:00\n",
      "Extracting 5 of 5: LINK-USDT up to 2021-02-01 16:00:00\n",
      "RUNNING: Applying feature engineering using src.features.algom_trading_v001.get_features_hour_i00.\n",
      "RUNNING: Cleaning final dataset.\n",
      "SUCCESS: Loaded DataFrame.\n",
      "RUNNING: loading features into BigQuery.\n"
     ]
    },
    {
     "name": "stderr",
     "output_type": "stream",
     "text": [
      "1it [00:09,  9.14s/it]\n"
     ]
    },
    {
     "name": "stdout",
     "output_type": "stream",
     "text": [
      "SUCCESS: algom-trading:train_features.features_LINK_USDT_hour_i00_20210101 has been loaded to BigQuery. Runtime: 0:00:14.285230.\n",
      "RUNNING: NEO-USDT for 2017.\n",
      "RUNNING: algom-trading:train_features.features_{ticker}_{interval}_{iteration}_{year}0101 is being extracted and transformed.\n",
      "RUNNING: Extracting data using src.extract.cryptocompare_ticker_data.\n",
      "Extracting 1 of 5: NEO-USDT up to 2018-01-01 00:00:00\n",
      "Extracting 2 of 5: NEO-USDT up to 2017-10-09 16:00:00\n",
      "Extracting 3 of 5: NEO-USDT up to 2017-07-18 08:00:00\n",
      "Extracting 4 of 5: NEO-USDT up to 2017-04-26 00:00:00\n",
      "Extracting 5 of 5: NEO-USDT up to 2017-02-01 16:00:00\n",
      "RUNNING: Applying feature engineering using src.features.algom_trading_v001.get_features_hour_i00.\n",
      "RUNNING: Cleaning final dataset.\n",
      "SUCCESS: Loaded DataFrame.\n",
      "RUNNING: loading features into BigQuery.\n"
     ]
    },
    {
     "name": "stderr",
     "output_type": "stream",
     "text": [
      "1it [00:14, 14.89s/it]\n"
     ]
    },
    {
     "name": "stdout",
     "output_type": "stream",
     "text": [
      "SUCCESS: algom-trading:train_features.features_NEO_USDT_hour_i00_20170101 has been loaded to BigQuery. Runtime: 0:00:28.766225.\n",
      "RUNNING: NEO-USDT for 2018.\n",
      "RUNNING: algom-trading:train_features.features_{ticker}_{interval}_{iteration}_{year}0101 is being extracted and transformed.\n",
      "RUNNING: Extracting data using src.extract.cryptocompare_ticker_data.\n",
      "Extracting 1 of 5: NEO-USDT up to 2019-01-01 00:00:00\n",
      "Extracting 2 of 5: NEO-USDT up to 2018-10-09 16:00:00\n",
      "Extracting 3 of 5: NEO-USDT up to 2018-07-18 08:00:00\n",
      "Extracting 4 of 5: NEO-USDT up to 2018-04-26 00:00:00\n",
      "Extracting 5 of 5: NEO-USDT up to 2018-02-01 16:00:00\n",
      "RUNNING: Applying feature engineering using src.features.algom_trading_v001.get_features_hour_i00.\n",
      "RUNNING: Cleaning final dataset.\n",
      "SUCCESS: Loaded DataFrame.\n",
      "RUNNING: loading features into BigQuery.\n"
     ]
    },
    {
     "name": "stderr",
     "output_type": "stream",
     "text": [
      "1it [00:31, 31.26s/it]\n"
     ]
    },
    {
     "name": "stdout",
     "output_type": "stream",
     "text": [
      "SUCCESS: algom-trading:train_features.features_NEO_USDT_hour_i00_20180101 has been loaded to BigQuery. Runtime: 0:00:43.442789.\n",
      "RUNNING: NEO-USDT for 2019.\n",
      "RUNNING: algom-trading:train_features.features_{ticker}_{interval}_{iteration}_{year}0101 is being extracted and transformed.\n",
      "RUNNING: Extracting data using src.extract.cryptocompare_ticker_data.\n",
      "Extracting 1 of 5: NEO-USDT up to 2020-01-01 00:00:00\n",
      "Extracting 2 of 5: NEO-USDT up to 2019-10-09 16:00:00\n",
      "Extracting 3 of 5: NEO-USDT up to 2019-07-18 08:00:00\n",
      "Extracting 4 of 5: NEO-USDT up to 2019-04-26 00:00:00\n",
      "Extracting 5 of 5: NEO-USDT up to 2019-02-01 16:00:00\n",
      "RUNNING: Applying feature engineering using src.features.algom_trading_v001.get_features_hour_i00.\n",
      "RUNNING: Cleaning final dataset.\n",
      "SUCCESS: Loaded DataFrame.\n",
      "RUNNING: loading features into BigQuery.\n"
     ]
    },
    {
     "name": "stderr",
     "output_type": "stream",
     "text": [
      "1it [00:40, 40.86s/it]\n"
     ]
    },
    {
     "name": "stdout",
     "output_type": "stream",
     "text": [
      "SUCCESS: algom-trading:train_features.features_NEO_USDT_hour_i00_20190101 has been loaded to BigQuery. Runtime: 0:00:53.341091.\n",
      "RUNNING: NEO-USDT for 2020.\n",
      "RUNNING: algom-trading:train_features.features_{ticker}_{interval}_{iteration}_{year}0101 is being extracted and transformed.\n",
      "RUNNING: Extracting data using src.extract.cryptocompare_ticker_data.\n",
      "Extracting 1 of 5: NEO-USDT up to 2021-01-01 00:00:00\n",
      "Extracting 2 of 5: NEO-USDT up to 2020-10-09 16:00:00\n",
      "Extracting 3 of 5: NEO-USDT up to 2020-07-18 08:00:00\n",
      "Extracting 4 of 5: NEO-USDT up to 2020-04-26 00:00:00\n",
      "Extracting 5 of 5: NEO-USDT up to 2020-02-02 16:00:00\n",
      "RUNNING: Applying feature engineering using src.features.algom_trading_v001.get_features_hour_i00.\n",
      "RUNNING: Cleaning final dataset.\n",
      "SUCCESS: Loaded DataFrame.\n",
      "RUNNING: loading features into BigQuery.\n"
     ]
    },
    {
     "name": "stderr",
     "output_type": "stream",
     "text": [
      "1it [01:15, 75.29s/it]\n"
     ]
    },
    {
     "name": "stdout",
     "output_type": "stream",
     "text": [
      "SUCCESS: algom-trading:train_features.features_NEO_USDT_hour_i00_20200101 has been loaded to BigQuery. Runtime: 0:01:29.927286.\n",
      "RUNNING: NEO-USDT for 2021.\n",
      "RUNNING: algom-trading:train_features.features_{ticker}_{interval}_{iteration}_{year}0101 is being extracted and transformed.\n",
      "RUNNING: Extracting data using src.extract.cryptocompare_ticker_data.\n",
      "Extracting 1 of 5: NEO-USDT up to 2022-01-01 00:00:00\n",
      "Extracting 2 of 5: NEO-USDT up to 2021-10-09 16:00:00\n",
      "Extracting 3 of 5: NEO-USDT up to 2021-07-18 08:00:00\n",
      "Extracting 4 of 5: NEO-USDT up to 2021-04-26 00:00:00\n",
      "Extracting 5 of 5: NEO-USDT up to 2021-02-01 16:00:00\n",
      "RUNNING: Applying feature engineering using src.features.algom_trading_v001.get_features_hour_i00.\n",
      "RUNNING: Cleaning final dataset.\n",
      "SUCCESS: Loaded DataFrame.\n",
      "RUNNING: loading features into BigQuery.\n"
     ]
    },
    {
     "name": "stderr",
     "output_type": "stream",
     "text": [
      "1it [00:11, 11.89s/it]\n"
     ]
    },
    {
     "name": "stdout",
     "output_type": "stream",
     "text": [
      "SUCCESS: algom-trading:train_features.features_NEO_USDT_hour_i00_20210101 has been loaded to BigQuery. Runtime: 0:00:21.484714.\n",
      "RUNNING: OMG-USDT for 2017.\n",
      "RUNNING: algom-trading:train_features.features_{ticker}_{interval}_{iteration}_{year}0101 is being extracted and transformed.\n",
      "RUNNING: Extracting data using src.extract.cryptocompare_ticker_data.\n",
      "Extracting 1 of 5: OMG-USDT up to 2018-01-01 00:00:00\n",
      "Extracting 2 of 5: OMG-USDT up to 2017-10-09 16:00:00\n",
      "Extracting 3 of 5: OMG-USDT up to 2017-07-18 08:00:00\n",
      "Extracting 4 of 5: OMG-USDT up to 2017-04-26 00:00:00\n",
      "Extracting 5 of 5: OMG-USDT up to 2017-02-01 16:00:00\n",
      "RUNNING: Applying feature engineering using src.features.algom_trading_v001.get_features_hour_i00.\n",
      "RUNNING: Cleaning final dataset.\n",
      "SUCCESS: Loaded DataFrame.\n",
      "RUNNING: loading features into BigQuery.\n"
     ]
    },
    {
     "name": "stderr",
     "output_type": "stream",
     "text": [
      "1it [00:06,  6.49s/it]\n"
     ]
    },
    {
     "name": "stdout",
     "output_type": "stream",
     "text": [
      "SUCCESS: algom-trading:train_features.features_OMG_USDT_hour_i00_20170101 has been loaded to BigQuery. Runtime: 0:00:17.912056.\n",
      "RUNNING: OMG-USDT for 2018.\n",
      "RUNNING: algom-trading:train_features.features_{ticker}_{interval}_{iteration}_{year}0101 is being extracted and transformed.\n",
      "RUNNING: Extracting data using src.extract.cryptocompare_ticker_data.\n",
      "Extracting 1 of 5: OMG-USDT up to 2019-01-01 00:00:00\n",
      "Extracting 2 of 5: OMG-USDT up to 2018-10-09 16:00:00\n",
      "Extracting 3 of 5: OMG-USDT up to 2018-07-18 08:00:00\n",
      "Extracting 4 of 5: OMG-USDT up to 2018-04-26 00:00:00\n",
      "Extracting 5 of 5: OMG-USDT up to 2018-02-01 16:00:00\n",
      "RUNNING: Applying feature engineering using src.features.algom_trading_v001.get_features_hour_i00.\n",
      "RUNNING: Cleaning final dataset.\n",
      "SUCCESS: Loaded DataFrame.\n",
      "RUNNING: loading features into BigQuery.\n"
     ]
    },
    {
     "name": "stderr",
     "output_type": "stream",
     "text": [
      "1it [00:12, 12.55s/it]\n"
     ]
    },
    {
     "name": "stdout",
     "output_type": "stream",
     "text": [
      "SUCCESS: algom-trading:train_features.features_OMG_USDT_hour_i00_20180101 has been loaded to BigQuery. Runtime: 0:00:24.557582.\n",
      "RUNNING: OMG-USDT for 2019.\n",
      "RUNNING: algom-trading:train_features.features_{ticker}_{interval}_{iteration}_{year}0101 is being extracted and transformed.\n",
      "RUNNING: Extracting data using src.extract.cryptocompare_ticker_data.\n",
      "Extracting 1 of 5: OMG-USDT up to 2020-01-01 00:00:00\n",
      "Extracting 2 of 5: OMG-USDT up to 2019-10-09 16:00:00\n",
      "Extracting 3 of 5: OMG-USDT up to 2019-07-18 08:00:00\n",
      "Extracting 4 of 5: OMG-USDT up to 2019-04-26 00:00:00\n",
      "Extracting 5 of 5: OMG-USDT up to 2019-02-01 16:00:00\n",
      "RUNNING: Applying feature engineering using src.features.algom_trading_v001.get_features_hour_i00.\n",
      "RUNNING: Cleaning final dataset.\n",
      "SUCCESS: Loaded DataFrame.\n",
      "RUNNING: loading features into BigQuery.\n"
     ]
    },
    {
     "name": "stderr",
     "output_type": "stream",
     "text": [
      "1it [00:27, 27.29s/it]\n"
     ]
    },
    {
     "name": "stdout",
     "output_type": "stream",
     "text": [
      "SUCCESS: algom-trading:train_features.features_OMG_USDT_hour_i00_20190101 has been loaded to BigQuery. Runtime: 0:00:44.535311.\n",
      "RUNNING: OMG-USDT for 2020.\n",
      "RUNNING: algom-trading:train_features.features_{ticker}_{interval}_{iteration}_{year}0101 is being extracted and transformed.\n",
      "RUNNING: Extracting data using src.extract.cryptocompare_ticker_data.\n",
      "Extracting 1 of 5: OMG-USDT up to 2021-01-01 00:00:00\n",
      "Extracting 2 of 5: OMG-USDT up to 2020-10-09 16:00:00\n",
      "Extracting 3 of 5: OMG-USDT up to 2020-07-18 08:00:00\n",
      "Extracting 4 of 5: OMG-USDT up to 2020-04-26 00:00:00\n",
      "Extracting 5 of 5: OMG-USDT up to 2020-02-02 16:00:00\n",
      "RUNNING: Applying feature engineering using src.features.algom_trading_v001.get_features_hour_i00.\n",
      "RUNNING: Cleaning final dataset.\n",
      "SUCCESS: Loaded DataFrame.\n",
      "RUNNING: loading features into BigQuery.\n"
     ]
    },
    {
     "name": "stderr",
     "output_type": "stream",
     "text": [
      "1it [00:29, 29.75s/it]\n"
     ]
    },
    {
     "name": "stdout",
     "output_type": "stream",
     "text": [
      "SUCCESS: algom-trading:train_features.features_OMG_USDT_hour_i00_20200101 has been loaded to BigQuery. Runtime: 0:00:48.209969.\n",
      "RUNNING: OMG-USDT for 2021.\n",
      "RUNNING: algom-trading:train_features.features_{ticker}_{interval}_{iteration}_{year}0101 is being extracted and transformed.\n",
      "RUNNING: Extracting data using src.extract.cryptocompare_ticker_data.\n",
      "Extracting 1 of 5: OMG-USDT up to 2022-01-01 00:00:00\n",
      "Extracting 2 of 5: OMG-USDT up to 2021-10-09 16:00:00\n",
      "Extracting 3 of 5: OMG-USDT up to 2021-07-18 08:00:00\n",
      "Extracting 4 of 5: OMG-USDT up to 2021-04-26 00:00:00\n",
      "Extracting 5 of 5: OMG-USDT up to 2021-02-01 16:00:00\n",
      "RUNNING: Applying feature engineering using src.features.algom_trading_v001.get_features_hour_i00.\n",
      "RUNNING: Cleaning final dataset.\n",
      "SUCCESS: Loaded DataFrame.\n",
      "RUNNING: loading features into BigQuery.\n"
     ]
    },
    {
     "name": "stderr",
     "output_type": "stream",
     "text": [
      "1it [00:12, 12.09s/it]\n"
     ]
    },
    {
     "name": "stdout",
     "output_type": "stream",
     "text": [
      "SUCCESS: algom-trading:train_features.features_OMG_USDT_hour_i00_20210101 has been loaded to BigQuery. Runtime: 0:00:23.576939.\n",
      "RUNNING: TRX-USDT for 2017.\n",
      "RUNNING: algom-trading:train_features.features_{ticker}_{interval}_{iteration}_{year}0101 is being extracted and transformed.\n",
      "RUNNING: Extracting data using src.extract.cryptocompare_ticker_data.\n",
      "Extracting 1 of 5: TRX-USDT up to 2018-01-01 00:00:00\n",
      "Extracting 2 of 5: TRX-USDT up to 2017-10-09 16:00:00\n",
      "Extracting 3 of 5: TRX-USDT up to 2017-07-18 08:00:00\n",
      "Extracting 4 of 5: TRX-USDT up to 2017-04-26 00:00:00\n",
      "Extracting 5 of 5: TRX-USDT up to 2017-02-01 16:00:00\n",
      "RUNNING: Applying feature engineering using src.features.algom_trading_v001.get_features_hour_i00.\n",
      "RUNNING: Cleaning final dataset.\n",
      "SUCCESS: Loaded DataFrame.\n",
      "RUNNING: loading features into BigQuery.\n"
     ]
    },
    {
     "name": "stderr",
     "output_type": "stream",
     "text": [
      "1it [00:12, 12.82s/it]\n"
     ]
    },
    {
     "name": "stdout",
     "output_type": "stream",
     "text": [
      "SUCCESS: algom-trading:train_features.features_TRX_USDT_hour_i00_20170101 has been loaded to BigQuery. Runtime: 0:00:26.006579.\n",
      "RUNNING: TRX-USDT for 2018.\n",
      "RUNNING: algom-trading:train_features.features_{ticker}_{interval}_{iteration}_{year}0101 is being extracted and transformed.\n",
      "RUNNING: Extracting data using src.extract.cryptocompare_ticker_data.\n",
      "Extracting 1 of 5: TRX-USDT up to 2019-01-01 00:00:00\n",
      "Extracting 2 of 5: TRX-USDT up to 2018-10-09 16:00:00\n",
      "Extracting 3 of 5: TRX-USDT up to 2018-07-18 08:00:00\n",
      "Extracting 4 of 5: TRX-USDT up to 2018-04-26 00:00:00\n",
      "Extracting 5 of 5: TRX-USDT up to 2018-02-01 16:00:00\n",
      "RUNNING: Applying feature engineering using src.features.algom_trading_v001.get_features_hour_i00.\n",
      "RUNNING: Cleaning final dataset.\n",
      "SUCCESS: Loaded DataFrame.\n",
      "RUNNING: loading features into BigQuery.\n"
     ]
    },
    {
     "name": "stderr",
     "output_type": "stream",
     "text": [
      "1it [00:27, 27.67s/it]\n"
     ]
    },
    {
     "name": "stdout",
     "output_type": "stream",
     "text": [
      "SUCCESS: algom-trading:train_features.features_TRX_USDT_hour_i00_20180101 has been loaded to BigQuery. Runtime: 0:00:38.316542.\n",
      "RUNNING: TRX-USDT for 2019.\n",
      "RUNNING: algom-trading:train_features.features_{ticker}_{interval}_{iteration}_{year}0101 is being extracted and transformed.\n",
      "RUNNING: Extracting data using src.extract.cryptocompare_ticker_data.\n",
      "Extracting 1 of 5: TRX-USDT up to 2020-01-01 00:00:00\n",
      "Extracting 2 of 5: TRX-USDT up to 2019-10-09 16:00:00\n",
      "Extracting 3 of 5: TRX-USDT up to 2019-07-18 08:00:00\n",
      "Extracting 4 of 5: TRX-USDT up to 2019-04-26 00:00:00\n",
      "Extracting 5 of 5: TRX-USDT up to 2019-02-01 16:00:00\n",
      "RUNNING: Applying feature engineering using src.features.algom_trading_v001.get_features_hour_i00.\n",
      "RUNNING: Cleaning final dataset.\n",
      "SUCCESS: Loaded DataFrame.\n",
      "RUNNING: loading features into BigQuery.\n"
     ]
    },
    {
     "name": "stderr",
     "output_type": "stream",
     "text": [
      "1it [00:38, 38.92s/it]\n"
     ]
    },
    {
     "name": "stdout",
     "output_type": "stream",
     "text": [
      "SUCCESS: algom-trading:train_features.features_TRX_USDT_hour_i00_20190101 has been loaded to BigQuery. Runtime: 0:00:53.279851.\n",
      "RUNNING: TRX-USDT for 2020.\n",
      "RUNNING: algom-trading:train_features.features_{ticker}_{interval}_{iteration}_{year}0101 is being extracted and transformed.\n",
      "RUNNING: Extracting data using src.extract.cryptocompare_ticker_data.\n",
      "Extracting 1 of 5: TRX-USDT up to 2021-01-01 00:00:00\n",
      "Extracting 2 of 5: TRX-USDT up to 2020-10-09 16:00:00\n",
      "Extracting 3 of 5: TRX-USDT up to 2020-07-18 08:00:00\n",
      "Extracting 4 of 5: TRX-USDT up to 2020-04-26 00:00:00\n",
      "Extracting 5 of 5: TRX-USDT up to 2020-02-02 16:00:00\n",
      "RUNNING: Applying feature engineering using src.features.algom_trading_v001.get_features_hour_i00.\n",
      "RUNNING: Cleaning final dataset.\n",
      "SUCCESS: Loaded DataFrame.\n",
      "RUNNING: loading features into BigQuery.\n"
     ]
    },
    {
     "name": "stderr",
     "output_type": "stream",
     "text": [
      "1it [00:28, 28.08s/it]\n"
     ]
    },
    {
     "name": "stdout",
     "output_type": "stream",
     "text": [
      "SUCCESS: algom-trading:train_features.features_TRX_USDT_hour_i00_20200101 has been loaded to BigQuery. Runtime: 0:00:39.323865.\n",
      "RUNNING: TRX-USDT for 2021.\n",
      "RUNNING: algom-trading:train_features.features_{ticker}_{interval}_{iteration}_{year}0101 is being extracted and transformed.\n",
      "RUNNING: Extracting data using src.extract.cryptocompare_ticker_data.\n",
      "Extracting 1 of 5: TRX-USDT up to 2022-01-01 00:00:00\n",
      "Extracting 2 of 5: TRX-USDT up to 2021-10-09 16:00:00\n",
      "Extracting 3 of 5: TRX-USDT up to 2021-07-18 08:00:00\n",
      "Extracting 4 of 5: TRX-USDT up to 2021-04-26 00:00:00\n",
      "Extracting 5 of 5: TRX-USDT up to 2021-02-01 16:00:00\n",
      "RUNNING: Applying feature engineering using src.features.algom_trading_v001.get_features_hour_i00.\n",
      "RUNNING: Cleaning final dataset.\n",
      "SUCCESS: Loaded DataFrame.\n",
      "RUNNING: loading features into BigQuery.\n"
     ]
    },
    {
     "name": "stderr",
     "output_type": "stream",
     "text": [
      "1it [00:12, 12.13s/it]\n"
     ]
    },
    {
     "name": "stdout",
     "output_type": "stream",
     "text": [
      "SUCCESS: algom-trading:train_features.features_TRX_USDT_hour_i00_20210101 has been loaded to BigQuery. Runtime: 0:00:17.468568.\n",
      "RUNNING: XRP-USDT for 2017.\n",
      "RUNNING: algom-trading:train_features.features_{ticker}_{interval}_{iteration}_{year}0101 is being extracted and transformed.\n",
      "RUNNING: Extracting data using src.extract.cryptocompare_ticker_data.\n",
      "Extracting 1 of 5: XRP-USDT up to 2018-01-01 00:00:00\n",
      "Extracting 2 of 5: XRP-USDT up to 2017-10-09 16:00:00\n",
      "Extracting 3 of 5: XRP-USDT up to 2017-07-18 08:00:00\n",
      "Extracting 4 of 5: XRP-USDT up to 2017-04-26 00:00:00\n",
      "Extracting 5 of 5: XRP-USDT up to 2017-02-01 16:00:00\n",
      "RUNNING: Applying feature engineering using src.features.algom_trading_v001.get_features_hour_i00.\n",
      "RUNNING: Cleaning final dataset.\n",
      "SUCCESS: Loaded DataFrame.\n",
      "RUNNING: loading features into BigQuery.\n"
     ]
    },
    {
     "name": "stderr",
     "output_type": "stream",
     "text": [
      "1it [00:10, 10.64s/it]\n"
     ]
    },
    {
     "name": "stdout",
     "output_type": "stream",
     "text": [
      "SUCCESS: algom-trading:train_features.features_XRP_USDT_hour_i00_20170101 has been loaded to BigQuery. Runtime: 0:00:25.098252.\n",
      "RUNNING: XRP-USDT for 2018.\n",
      "RUNNING: algom-trading:train_features.features_{ticker}_{interval}_{iteration}_{year}0101 is being extracted and transformed.\n",
      "RUNNING: Extracting data using src.extract.cryptocompare_ticker_data.\n",
      "Extracting 1 of 5: XRP-USDT up to 2019-01-01 00:00:00\n",
      "Extracting 2 of 5: XRP-USDT up to 2018-10-09 16:00:00\n",
      "Extracting 3 of 5: XRP-USDT up to 2018-07-18 08:00:00\n",
      "Extracting 4 of 5: XRP-USDT up to 2018-04-26 00:00:00\n",
      "Extracting 5 of 5: XRP-USDT up to 2018-02-01 16:00:00\n",
      "RUNNING: Applying feature engineering using src.features.algom_trading_v001.get_features_hour_i00.\n",
      "RUNNING: Cleaning final dataset.\n",
      "SUCCESS: Loaded DataFrame.\n",
      "RUNNING: loading features into BigQuery.\n"
     ]
    },
    {
     "name": "stderr",
     "output_type": "stream",
     "text": [
      "1it [00:21, 21.13s/it]\n"
     ]
    },
    {
     "name": "stdout",
     "output_type": "stream",
     "text": [
      "SUCCESS: algom-trading:train_features.features_XRP_USDT_hour_i00_20180101 has been loaded to BigQuery. Runtime: 0:00:31.389783.\n",
      "RUNNING: XRP-USDT for 2019.\n",
      "RUNNING: algom-trading:train_features.features_{ticker}_{interval}_{iteration}_{year}0101 is being extracted and transformed.\n",
      "RUNNING: Extracting data using src.extract.cryptocompare_ticker_data.\n",
      "Extracting 1 of 5: XRP-USDT up to 2020-01-01 00:00:00\n",
      "Extracting 2 of 5: XRP-USDT up to 2019-10-09 16:00:00\n",
      "Extracting 3 of 5: XRP-USDT up to 2019-07-18 08:00:00\n",
      "Extracting 4 of 5: XRP-USDT up to 2019-04-26 00:00:00\n",
      "Extracting 5 of 5: XRP-USDT up to 2019-02-01 16:00:00\n",
      "RUNNING: Applying feature engineering using src.features.algom_trading_v001.get_features_hour_i00.\n",
      "RUNNING: Cleaning final dataset.\n",
      "SUCCESS: Loaded DataFrame.\n",
      "RUNNING: loading features into BigQuery.\n"
     ]
    },
    {
     "name": "stderr",
     "output_type": "stream",
     "text": [
      "1it [00:35, 35.83s/it]\n"
     ]
    },
    {
     "name": "stdout",
     "output_type": "stream",
     "text": [
      "SUCCESS: algom-trading:train_features.features_XRP_USDT_hour_i00_20190101 has been loaded to BigQuery. Runtime: 0:00:48.508992.\n",
      "RUNNING: XRP-USDT for 2020.\n",
      "RUNNING: algom-trading:train_features.features_{ticker}_{interval}_{iteration}_{year}0101 is being extracted and transformed.\n",
      "RUNNING: Extracting data using src.extract.cryptocompare_ticker_data.\n",
      "Extracting 1 of 5: XRP-USDT up to 2021-01-01 00:00:00\n",
      "Extracting 2 of 5: XRP-USDT up to 2020-10-09 16:00:00\n",
      "Extracting 3 of 5: XRP-USDT up to 2020-07-18 08:00:00\n",
      "Extracting 4 of 5: XRP-USDT up to 2020-04-26 00:00:00\n",
      "Extracting 5 of 5: XRP-USDT up to 2020-02-02 16:00:00\n",
      "RUNNING: Applying feature engineering using src.features.algom_trading_v001.get_features_hour_i00.\n",
      "RUNNING: Cleaning final dataset.\n",
      "SUCCESS: Loaded DataFrame.\n",
      "RUNNING: loading features into BigQuery.\n"
     ]
    },
    {
     "name": "stderr",
     "output_type": "stream",
     "text": [
      "1it [00:42, 42.08s/it]\n"
     ]
    },
    {
     "name": "stdout",
     "output_type": "stream",
     "text": [
      "SUCCESS: algom-trading:train_features.features_XRP_USDT_hour_i00_20200101 has been loaded to BigQuery. Runtime: 0:00:54.675886.\n",
      "RUNNING: XRP-USDT for 2021.\n",
      "RUNNING: algom-trading:train_features.features_{ticker}_{interval}_{iteration}_{year}0101 is being extracted and transformed.\n",
      "RUNNING: Extracting data using src.extract.cryptocompare_ticker_data.\n",
      "Extracting 1 of 5: XRP-USDT up to 2022-01-01 00:00:00\n",
      "Extracting 2 of 5: XRP-USDT up to 2021-10-09 16:00:00\n",
      "Extracting 3 of 5: XRP-USDT up to 2021-07-18 08:00:00\n",
      "Extracting 4 of 5: XRP-USDT up to 2021-04-26 00:00:00\n",
      "Extracting 5 of 5: XRP-USDT up to 2021-02-01 16:00:00\n",
      "RUNNING: Applying feature engineering using src.features.algom_trading_v001.get_features_hour_i00.\n",
      "RUNNING: Cleaning final dataset.\n",
      "SUCCESS: Loaded DataFrame.\n",
      "RUNNING: loading features into BigQuery.\n"
     ]
    },
    {
     "name": "stderr",
     "output_type": "stream",
     "text": [
      "1it [00:08,  8.57s/it]\n"
     ]
    },
    {
     "name": "stdout",
     "output_type": "stream",
     "text": [
      "SUCCESS: algom-trading:train_features.features_XRP_USDT_hour_i00_20210101 has been loaded to BigQuery. Runtime: 0:00:17.499281.\n",
      "RUNNING: XLM-USDT for 2017.\n",
      "RUNNING: algom-trading:train_features.features_{ticker}_{interval}_{iteration}_{year}0101 is being extracted and transformed.\n",
      "RUNNING: Extracting data using src.extract.cryptocompare_ticker_data.\n",
      "Extracting 1 of 5: XLM-USDT up to 2018-01-01 00:00:00\n",
      "Extracting 2 of 5: XLM-USDT up to 2017-10-09 16:00:00\n",
      "Extracting 3 of 5: XLM-USDT up to 2017-07-18 08:00:00\n",
      "Extracting 4 of 5: XLM-USDT up to 2017-04-26 00:00:00\n",
      "Extracting 5 of 5: XLM-USDT up to 2017-02-01 16:00:00\n",
      "RUNNING: Applying feature engineering using src.features.algom_trading_v001.get_features_hour_i00.\n",
      "RUNNING: Cleaning final dataset.\n",
      "SUCCESS: Loaded DataFrame.\n",
      "RUNNING: loading features into BigQuery.\n"
     ]
    },
    {
     "name": "stderr",
     "output_type": "stream",
     "text": [
      "1it [00:07,  7.33s/it]\n"
     ]
    },
    {
     "name": "stdout",
     "output_type": "stream",
     "text": [
      "SUCCESS: algom-trading:train_features.features_XLM_USDT_hour_i00_20170101 has been loaded to BigQuery. Runtime: 0:00:19.496810.\n",
      "RUNNING: XLM-USDT for 2018.\n",
      "RUNNING: algom-trading:train_features.features_{ticker}_{interval}_{iteration}_{year}0101 is being extracted and transformed.\n",
      "RUNNING: Extracting data using src.extract.cryptocompare_ticker_data.\n",
      "Extracting 1 of 5: XLM-USDT up to 2019-01-01 00:00:00\n",
      "Extracting 2 of 5: XLM-USDT up to 2018-10-09 16:00:00\n",
      "Extracting 3 of 5: XLM-USDT up to 2018-07-18 08:00:00\n",
      "Extracting 4 of 5: XLM-USDT up to 2018-04-26 00:00:00\n",
      "Extracting 5 of 5: XLM-USDT up to 2018-02-01 16:00:00\n",
      "RUNNING: Applying feature engineering using src.features.algom_trading_v001.get_features_hour_i00.\n",
      "RUNNING: Cleaning final dataset.\n",
      "SUCCESS: Loaded DataFrame.\n",
      "RUNNING: loading features into BigQuery.\n"
     ]
    },
    {
     "name": "stderr",
     "output_type": "stream",
     "text": [
      "1it [00:36, 36.14s/it]\n"
     ]
    },
    {
     "name": "stdout",
     "output_type": "stream",
     "text": [
      "SUCCESS: algom-trading:train_features.features_XLM_USDT_hour_i00_20180101 has been loaded to BigQuery. Runtime: 0:00:47.536929.\n",
      "RUNNING: XLM-USDT for 2019.\n",
      "RUNNING: algom-trading:train_features.features_{ticker}_{interval}_{iteration}_{year}0101 is being extracted and transformed.\n",
      "RUNNING: Extracting data using src.extract.cryptocompare_ticker_data.\n",
      "Extracting 1 of 5: XLM-USDT up to 2020-01-01 00:00:00\n",
      "Extracting 2 of 5: XLM-USDT up to 2019-10-09 16:00:00\n",
      "Extracting 3 of 5: XLM-USDT up to 2019-07-18 08:00:00\n",
      "Extracting 4 of 5: XLM-USDT up to 2019-04-26 00:00:00\n",
      "Extracting 5 of 5: XLM-USDT up to 2019-02-01 16:00:00\n",
      "RUNNING: Applying feature engineering using src.features.algom_trading_v001.get_features_hour_i00.\n",
      "RUNNING: Cleaning final dataset.\n",
      "SUCCESS: Loaded DataFrame.\n",
      "RUNNING: loading features into BigQuery.\n"
     ]
    },
    {
     "name": "stderr",
     "output_type": "stream",
     "text": [
      "1it [00:36, 36.48s/it]\n"
     ]
    },
    {
     "name": "stdout",
     "output_type": "stream",
     "text": [
      "SUCCESS: algom-trading:train_features.features_XLM_USDT_hour_i00_20190101 has been loaded to BigQuery. Runtime: 0:00:49.560912.\n",
      "RUNNING: XLM-USDT for 2020.\n",
      "RUNNING: algom-trading:train_features.features_{ticker}_{interval}_{iteration}_{year}0101 is being extracted and transformed.\n",
      "RUNNING: Extracting data using src.extract.cryptocompare_ticker_data.\n",
      "Extracting 1 of 5: XLM-USDT up to 2021-01-01 00:00:00\n",
      "Extracting 2 of 5: XLM-USDT up to 2020-10-09 16:00:00\n",
      "Extracting 3 of 5: XLM-USDT up to 2020-07-18 08:00:00\n",
      "Extracting 4 of 5: XLM-USDT up to 2020-04-26 00:00:00\n",
      "Extracting 5 of 5: XLM-USDT up to 2020-02-02 16:00:00\n",
      "RUNNING: Applying feature engineering using src.features.algom_trading_v001.get_features_hour_i00.\n",
      "RUNNING: Cleaning final dataset.\n",
      "SUCCESS: Loaded DataFrame.\n",
      "RUNNING: loading features into BigQuery.\n"
     ]
    },
    {
     "name": "stderr",
     "output_type": "stream",
     "text": [
      "1it [00:43, 43.04s/it]\n"
     ]
    },
    {
     "name": "stdout",
     "output_type": "stream",
     "text": [
      "SUCCESS: algom-trading:train_features.features_XLM_USDT_hour_i00_20200101 has been loaded to BigQuery. Runtime: 0:00:55.168508.\n",
      "RUNNING: XLM-USDT for 2021.\n",
      "RUNNING: algom-trading:train_features.features_{ticker}_{interval}_{iteration}_{year}0101 is being extracted and transformed.\n",
      "RUNNING: Extracting data using src.extract.cryptocompare_ticker_data.\n",
      "Extracting 1 of 5: XLM-USDT up to 2022-01-01 00:00:00\n",
      "Extracting 2 of 5: XLM-USDT up to 2021-10-09 16:00:00\n",
      "Extracting 3 of 5: XLM-USDT up to 2021-07-18 08:00:00\n",
      "Extracting 4 of 5: XLM-USDT up to 2021-04-26 00:00:00\n",
      "Extracting 5 of 5: XLM-USDT up to 2021-02-01 16:00:00\n",
      "RUNNING: Applying feature engineering using src.features.algom_trading_v001.get_features_hour_i00.\n",
      "RUNNING: Cleaning final dataset.\n",
      "SUCCESS: Loaded DataFrame.\n",
      "RUNNING: loading features into BigQuery.\n"
     ]
    },
    {
     "name": "stderr",
     "output_type": "stream",
     "text": [
      "1it [00:09,  9.49s/it]\n"
     ]
    },
    {
     "name": "stdout",
     "output_type": "stream",
     "text": [
      "SUCCESS: algom-trading:train_features.features_XLM_USDT_hour_i00_20210101 has been loaded to BigQuery. Runtime: 0:00:17.130361.\n",
      "RUNNING: ZRX-USDT for 2017.\n",
      "RUNNING: algom-trading:train_features.features_{ticker}_{interval}_{iteration}_{year}0101 is being extracted and transformed.\n",
      "RUNNING: Extracting data using src.extract.cryptocompare_ticker_data.\n",
      "Extracting 1 of 5: ZRX-USDT up to 2018-01-01 00:00:00\n",
      "Extracting 2 of 5: ZRX-USDT up to 2017-10-09 16:00:00\n",
      "Extracting 3 of 5: ZRX-USDT up to 2017-07-18 08:00:00\n",
      "Extracting 4 of 5: ZRX-USDT up to 2017-04-26 00:00:00\n",
      "Extracting 5 of 5: ZRX-USDT up to 2017-02-01 16:00:00\n",
      "RUNNING: Applying feature engineering using src.features.algom_trading_v001.get_features_hour_i00.\n",
      "RUNNING: Cleaning final dataset.\n",
      "SUCCESS: Loaded DataFrame.\n",
      "RUNNING: loading features into BigQuery.\n"
     ]
    },
    {
     "name": "stderr",
     "output_type": "stream",
     "text": [
      "1it [00:05,  5.20s/it]\n"
     ]
    },
    {
     "name": "stdout",
     "output_type": "stream",
     "text": [
      "SUCCESS: algom-trading:train_features.features_ZRX_USDT_hour_i00_20170101 has been loaded to BigQuery. Runtime: 0:00:15.488283.\n",
      "RUNNING: ZRX-USDT for 2018.\n",
      "RUNNING: algom-trading:train_features.features_{ticker}_{interval}_{iteration}_{year}0101 is being extracted and transformed.\n",
      "RUNNING: Extracting data using src.extract.cryptocompare_ticker_data.\n",
      "Extracting 1 of 5: ZRX-USDT up to 2019-01-01 00:00:00\n",
      "Extracting 2 of 5: ZRX-USDT up to 2018-10-09 16:00:00\n",
      "Extracting 3 of 5: ZRX-USDT up to 2018-07-18 08:00:00\n",
      "Extracting 4 of 5: ZRX-USDT up to 2018-04-26 00:00:00\n",
      "Extracting 5 of 5: ZRX-USDT up to 2018-02-01 16:00:00\n",
      "RUNNING: Applying feature engineering using src.features.algom_trading_v001.get_features_hour_i00.\n",
      "RUNNING: Cleaning final dataset.\n",
      "SUCCESS: Loaded DataFrame.\n",
      "RUNNING: loading features into BigQuery.\n"
     ]
    },
    {
     "name": "stderr",
     "output_type": "stream",
     "text": [
      "1it [00:10, 10.89s/it]\n"
     ]
    },
    {
     "name": "stdout",
     "output_type": "stream",
     "text": [
      "SUCCESS: algom-trading:train_features.features_ZRX_USDT_hour_i00_20180101 has been loaded to BigQuery. Runtime: 0:00:28.972740.\n",
      "RUNNING: ZRX-USDT for 2019.\n",
      "RUNNING: algom-trading:train_features.features_{ticker}_{interval}_{iteration}_{year}0101 is being extracted and transformed.\n",
      "RUNNING: Extracting data using src.extract.cryptocompare_ticker_data.\n",
      "Extracting 1 of 5: ZRX-USDT up to 2020-01-01 00:00:00\n",
      "Extracting 2 of 5: ZRX-USDT up to 2019-10-09 16:00:00\n",
      "Extracting 3 of 5: ZRX-USDT up to 2019-07-18 08:00:00\n",
      "Extracting 4 of 5: ZRX-USDT up to 2019-04-26 00:00:00\n",
      "Extracting 5 of 5: ZRX-USDT up to 2019-02-01 16:00:00\n",
      "RUNNING: Applying feature engineering using src.features.algom_trading_v001.get_features_hour_i00.\n",
      "RUNNING: Cleaning final dataset.\n",
      "SUCCESS: Loaded DataFrame.\n",
      "RUNNING: loading features into BigQuery.\n"
     ]
    },
    {
     "name": "stderr",
     "output_type": "stream",
     "text": [
      "1it [00:34, 34.71s/it]\n"
     ]
    },
    {
     "name": "stdout",
     "output_type": "stream",
     "text": [
      "SUCCESS: algom-trading:train_features.features_ZRX_USDT_hour_i00_20190101 has been loaded to BigQuery. Runtime: 0:00:49.058553.\n",
      "RUNNING: ZRX-USDT for 2020.\n",
      "RUNNING: algom-trading:train_features.features_{ticker}_{interval}_{iteration}_{year}0101 is being extracted and transformed.\n",
      "RUNNING: Extracting data using src.extract.cryptocompare_ticker_data.\n",
      "Extracting 1 of 5: ZRX-USDT up to 2021-01-01 00:00:00\n",
      "Extracting 2 of 5: ZRX-USDT up to 2020-10-09 16:00:00\n",
      "Extracting 3 of 5: ZRX-USDT up to 2020-07-18 08:00:00\n",
      "Extracting 4 of 5: ZRX-USDT up to 2020-04-26 00:00:00\n",
      "Extracting 5 of 5: ZRX-USDT up to 2020-02-02 16:00:00\n",
      "RUNNING: Applying feature engineering using src.features.algom_trading_v001.get_features_hour_i00.\n",
      "RUNNING: Cleaning final dataset.\n",
      "SUCCESS: Loaded DataFrame.\n",
      "RUNNING: loading features into BigQuery.\n"
     ]
    },
    {
     "name": "stderr",
     "output_type": "stream",
     "text": [
      "1it [00:28, 28.29s/it]\n"
     ]
    },
    {
     "name": "stdout",
     "output_type": "stream",
     "text": [
      "SUCCESS: algom-trading:train_features.features_ZRX_USDT_hour_i00_20200101 has been loaded to BigQuery. Runtime: 0:00:41.434533.\n",
      "RUNNING: ZRX-USDT for 2021.\n",
      "RUNNING: algom-trading:train_features.features_{ticker}_{interval}_{iteration}_{year}0101 is being extracted and transformed.\n",
      "RUNNING: Extracting data using src.extract.cryptocompare_ticker_data.\n",
      "Extracting 1 of 5: ZRX-USDT up to 2022-01-01 00:00:00\n",
      "Extracting 2 of 5: ZRX-USDT up to 2021-10-09 16:00:00\n",
      "Extracting 3 of 5: ZRX-USDT up to 2021-07-18 08:00:00\n",
      "Extracting 4 of 5: ZRX-USDT up to 2021-04-26 00:00:00\n",
      "Extracting 5 of 5: ZRX-USDT up to 2021-02-01 16:00:00\n",
      "RUNNING: Applying feature engineering using src.features.algom_trading_v001.get_features_hour_i00.\n",
      "RUNNING: Cleaning final dataset.\n",
      "SUCCESS: Loaded DataFrame.\n",
      "RUNNING: loading features into BigQuery.\n"
     ]
    },
    {
     "name": "stderr",
     "output_type": "stream",
     "text": [
      "1it [00:08,  8.99s/it]"
     ]
    },
    {
     "name": "stdout",
     "output_type": "stream",
     "text": [
      "SUCCESS: algom-trading:train_features.features_ZRX_USDT_hour_i00_20210101 has been loaded to BigQuery. Runtime: 0:00:15.635287.\n"
     ]
    },
    {
     "name": "stderr",
     "output_type": "stream",
     "text": [
      "\n"
     ]
    }
   ],
   "source": [
    "iteration='i00'\n",
    "interval='hour'\n",
    "\n",
    "for ticker in tickers:\n",
    "    for year in years:\n",
    "        print(\"RUNNING: {} for {}.\".format(ticker, year))\n",
    "        model = ticker_extract.run_extract_process(\n",
    "            ticker=ticker,\n",
    "            start_date='{}-01-01'.format(year),\n",
    "            end_date='{}-01-01'.format(year+1),\n",
    "            project_id='algom-trading',\n",
    "            destination_table='train_features.features_{ticker}_{interval}_{iteration}_{year}0101',\n",
    "            table_params={\n",
    "                'ticker': ticker,\n",
    "                'interval': interval,\n",
    "                'iteration': iteration,\n",
    "                'year': str(year)\n",
    "            },\n",
    "            interval='hour',\n",
    "            exchange='binance',\n",
    "            data_library='src.extract.cryptocompare_ticker_data',\n",
    "            features_library='src.features.algom_trading_v001.get_features_{}_{}'.format(interval, iteration),\n",
    "            to_bq=True,\n",
    "        )\n"
   ]
  },
  {
   "cell_type": "code",
   "execution_count": 4,
   "metadata": {},
   "outputs": [
    {
     "data": {
      "text/html": [
       "<div>\n",
       "<style scoped>\n",
       "    .dataframe tbody tr th:only-of-type {\n",
       "        vertical-align: middle;\n",
       "    }\n",
       "\n",
       "    .dataframe tbody tr th {\n",
       "        vertical-align: top;\n",
       "    }\n",
       "\n",
       "    .dataframe thead th {\n",
       "        text-align: right;\n",
       "    }\n",
       "</style>\n",
       "<table border=\"1\" class=\"dataframe\">\n",
       "  <thead>\n",
       "    <tr style=\"text-align: right;\">\n",
       "      <th></th>\n",
       "      <th>ticker_time_sec</th>\n",
       "      <th>close</th>\n",
       "      <th>high</th>\n",
       "      <th>low</th>\n",
       "      <th>open</th>\n",
       "      <th>volume_base</th>\n",
       "      <th>volume</th>\n",
       "      <th>conversionType</th>\n",
       "      <th>conversionSymbol</th>\n",
       "      <th>partition_date</th>\n",
       "      <th>...</th>\n",
       "      <th>Acc_Dist_ROC_168</th>\n",
       "      <th>Vortex_12</th>\n",
       "      <th>Vortex_24</th>\n",
       "      <th>Vortex_168</th>\n",
       "      <th>MIN_24</th>\n",
       "      <th>MIN_168</th>\n",
       "      <th>MIN_240</th>\n",
       "      <th>MAX_24</th>\n",
       "      <th>MAX_168</th>\n",
       "      <th>MAX_240</th>\n",
       "    </tr>\n",
       "  </thead>\n",
       "  <tbody>\n",
       "    <tr>\n",
       "      <th>1745</th>\n",
       "      <td>1604430000</td>\n",
       "      <td>0.3236</td>\n",
       "      <td>0.3263</td>\n",
       "      <td>0.3213</td>\n",
       "      <td>0.3213</td>\n",
       "      <td>222643.43</td>\n",
       "      <td>72199.42</td>\n",
       "      <td>force_direct</td>\n",
       "      <td></td>\n",
       "      <td>2021-01-15</td>\n",
       "      <td>...</td>\n",
       "      <td>-0.282742</td>\n",
       "      <td>0.364389</td>\n",
       "      <td>0.083126</td>\n",
       "      <td>-0.093288</td>\n",
       "      <td>0.3203</td>\n",
       "      <td>0.3199</td>\n",
       "      <td>0.3199</td>\n",
       "      <td>0.3372</td>\n",
       "      <td>0.3632</td>\n",
       "      <td>0.3809</td>\n",
       "    </tr>\n",
       "    <tr>\n",
       "      <th>1175</th>\n",
       "      <td>1606482000</td>\n",
       "      <td>0.3947</td>\n",
       "      <td>0.3991</td>\n",
       "      <td>0.3939</td>\n",
       "      <td>0.3986</td>\n",
       "      <td>157807.52</td>\n",
       "      <td>62710.00</td>\n",
       "      <td>force_direct</td>\n",
       "      <td></td>\n",
       "      <td>2021-01-15</td>\n",
       "      <td>...</td>\n",
       "      <td>-0.633831</td>\n",
       "      <td>-0.201375</td>\n",
       "      <td>-0.150655</td>\n",
       "      <td>-0.023091</td>\n",
       "      <td>0.3864</td>\n",
       "      <td>0.3736</td>\n",
       "      <td>0.3572</td>\n",
       "      <td>0.4216</td>\n",
       "      <td>0.5231</td>\n",
       "      <td>0.5231</td>\n",
       "    </tr>\n",
       "    <tr>\n",
       "      <th>1670</th>\n",
       "      <td>1604700000</td>\n",
       "      <td>0.3742</td>\n",
       "      <td>0.3784</td>\n",
       "      <td>0.3711</td>\n",
       "      <td>0.3724</td>\n",
       "      <td>407440.18</td>\n",
       "      <td>153140.38</td>\n",
       "      <td>force_direct</td>\n",
       "      <td></td>\n",
       "      <td>2021-01-15</td>\n",
       "      <td>...</td>\n",
       "      <td>-2.798827</td>\n",
       "      <td>-0.295433</td>\n",
       "      <td>0.187179</td>\n",
       "      <td>-0.014512</td>\n",
       "      <td>0.3474</td>\n",
       "      <td>0.3069</td>\n",
       "      <td>0.3069</td>\n",
       "      <td>0.3780</td>\n",
       "      <td>0.3780</td>\n",
       "      <td>0.3780</td>\n",
       "    </tr>\n",
       "    <tr>\n",
       "      <th>324</th>\n",
       "      <td>1609545600</td>\n",
       "      <td>0.3663</td>\n",
       "      <td>0.3750</td>\n",
       "      <td>0.3635</td>\n",
       "      <td>0.3744</td>\n",
       "      <td>421182.41</td>\n",
       "      <td>155230.12</td>\n",
       "      <td>force_direct</td>\n",
       "      <td></td>\n",
       "      <td>2021-01-15</td>\n",
       "      <td>...</td>\n",
       "      <td>1.451678</td>\n",
       "      <td>-0.162614</td>\n",
       "      <td>0.084973</td>\n",
       "      <td>-0.053808</td>\n",
       "      <td>0.3540</td>\n",
       "      <td>0.3506</td>\n",
       "      <td>0.3246</td>\n",
       "      <td>0.3744</td>\n",
       "      <td>0.4175</td>\n",
       "      <td>0.4175</td>\n",
       "    </tr>\n",
       "    <tr>\n",
       "      <th>1815</th>\n",
       "      <td>1604178000</td>\n",
       "      <td>0.3239</td>\n",
       "      <td>0.3282</td>\n",
       "      <td>0.3238</td>\n",
       "      <td>0.3282</td>\n",
       "      <td>173331.97</td>\n",
       "      <td>56524.76</td>\n",
       "      <td>force_direct</td>\n",
       "      <td></td>\n",
       "      <td>2021-01-15</td>\n",
       "      <td>...</td>\n",
       "      <td>-38.125877</td>\n",
       "      <td>-0.021097</td>\n",
       "      <td>-0.305868</td>\n",
       "      <td>-0.042925</td>\n",
       "      <td>0.3239</td>\n",
       "      <td>0.3199</td>\n",
       "      <td>NaN</td>\n",
       "      <td>0.3329</td>\n",
       "      <td>0.3809</td>\n",
       "      <td>NaN</td>\n",
       "    </tr>\n",
       "  </tbody>\n",
       "</table>\n",
       "<p>5 rows × 126 columns</p>\n",
       "</div>"
      ],
      "text/plain": [
       "      ticker_time_sec   close    high     low    open  volume_base     volume  \\\n",
       "1745       1604430000  0.3236  0.3263  0.3213  0.3213    222643.43   72199.42   \n",
       "1175       1606482000  0.3947  0.3991  0.3939  0.3986    157807.52   62710.00   \n",
       "1670       1604700000  0.3742  0.3784  0.3711  0.3724    407440.18  153140.38   \n",
       "324        1609545600  0.3663  0.3750  0.3635  0.3744    421182.41  155230.12   \n",
       "1815       1604178000  0.3239  0.3282  0.3238  0.3282    173331.97   56524.76   \n",
       "\n",
       "     conversionType conversionSymbol partition_date  ... Acc_Dist_ROC_168  \\\n",
       "1745   force_direct                      2021-01-15  ...        -0.282742   \n",
       "1175   force_direct                      2021-01-15  ...        -0.633831   \n",
       "1670   force_direct                      2021-01-15  ...        -2.798827   \n",
       "324    force_direct                      2021-01-15  ...         1.451678   \n",
       "1815   force_direct                      2021-01-15  ...       -38.125877   \n",
       "\n",
       "     Vortex_12 Vortex_24 Vortex_168  MIN_24  MIN_168  MIN_240  MAX_24  \\\n",
       "1745  0.364389  0.083126  -0.093288  0.3203   0.3199   0.3199  0.3372   \n",
       "1175 -0.201375 -0.150655  -0.023091  0.3864   0.3736   0.3572  0.4216   \n",
       "1670 -0.295433  0.187179  -0.014512  0.3474   0.3069   0.3069  0.3780   \n",
       "324  -0.162614  0.084973  -0.053808  0.3540   0.3506   0.3246  0.3744   \n",
       "1815 -0.021097 -0.305868  -0.042925  0.3239   0.3199      NaN  0.3329   \n",
       "\n",
       "      MAX_168  MAX_240  \n",
       "1745   0.3632   0.3809  \n",
       "1175   0.5231   0.5231  \n",
       "1670   0.3780   0.3780  \n",
       "324    0.4175   0.4175  \n",
       "1815   0.3809      NaN  \n",
       "\n",
       "[5 rows x 126 columns]"
      ]
     },
     "execution_count": 4,
     "metadata": {},
     "output_type": "execute_result"
    }
   ],
   "source": [
    "# model.data.df[[h for h in list(model.data.df) if 'Vortex' in h]]\n",
    "model.data.df.sample(5)\n"
   ]
  },
  {
   "cell_type": "code",
   "execution_count": null,
   "metadata": {},
   "outputs": [],
   "source": []
  },
  {
   "cell_type": "code",
   "execution_count": null,
   "metadata": {},
   "outputs": [],
   "source": []
  },
  {
   "cell_type": "code",
   "execution_count": null,
   "metadata": {},
   "outputs": [],
   "source": []
  }
 ],
 "metadata": {
  "colab": {
   "collapsed_sections": [],
   "name": "Indicator Pipeline",
   "provenance": [],
   "version": "0.3.2"
  },
  "kernelspec": {
   "display_name": "Python 3",
   "language": "python",
   "name": "python3"
  },
  "language_info": {
   "codemirror_mode": {
    "name": "ipython",
    "version": 3
   },
   "file_extension": ".py",
   "mimetype": "text/x-python",
   "name": "python",
   "nbconvert_exporter": "python",
   "pygments_lexer": "ipython3",
   "version": "3.7.6"
  }
 },
 "nbformat": 4,
 "nbformat_minor": 4
}
