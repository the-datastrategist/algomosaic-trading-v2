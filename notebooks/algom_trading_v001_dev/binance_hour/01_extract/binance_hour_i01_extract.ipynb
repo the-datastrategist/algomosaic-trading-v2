{
 "cells": [
  {
   "cell_type": "markdown",
   "metadata": {
    "colab_type": "text",
    "id": "GqbBUEdcpIri"
   },
   "source": [
    "##### algom/playbooks\n",
    "\n",
    "# etl\n",
    "\n",
    "ETL pipeline for asset prices (OHLCV), standard indicators and engineered features. Loads output data to [BigQuery](https://console.cloud.google.com/bigquery?project=algomosaic-nyc&p=algomosaic-nyc&page=project).\n"
   ]
  },
  {
   "cell_type": "markdown",
   "metadata": {
    "colab_type": "text",
    "id": "V_UTl3r1mCqM"
   },
   "source": [
    "#### Steps\n",
    "\n",
    "1. Initialize ETL process\n",
    "2. Specify data and feature libraries (optional)\n",
    "3. Run ETL process and without loading to BigQuery\n",
    "4. Run ETL process and load to BigQuery\n",
    "\n",
    "<br>"
   ]
  },
  {
   "cell_type": "code",
   "execution_count": 1,
   "metadata": {},
   "outputs": [],
   "source": [
    "from src.extract import ticker_extract"
   ]
  },
  {
   "cell_type": "markdown",
   "metadata": {},
   "source": [
    "<br><br>\n",
    "\n",
    "### BTC-USD -- hour -- i01 -- 2016"
   ]
  },
  {
   "cell_type": "code",
   "execution_count": 2,
   "metadata": {},
   "outputs": [],
   "source": [
    "tickers = [\n",
    "    'ADA-USDT',\n",
    "    'BCH-USDT',\n",
    "    'BNB-USDT',\n",
    "    'BTC-USDT',\n",
    "    'ETH-USDT',\n",
    "    'EOS-USDT',\n",
    "    'LTC-USDT',\n",
    "    'LINK-USDT',\n",
    "    'NEO-USDT',\n",
    "    'OMG-USDT',\n",
    "    'TRX-USDT',\n",
    "    'XRP-USDT',\n",
    "    'XLM-USDT',\n",
    "    'ZRX-USDT',\n",
    "]\n",
    "\n",
    "\n",
    "years = [\n",
    "    2017,\n",
    "    2018,\n",
    "    2019,\n",
    "    2020,\n",
    "    2021,\n",
    "]\n"
   ]
  },
  {
   "cell_type": "code",
   "execution_count": 3,
   "metadata": {},
   "outputs": [
    {
     "name": "stdout",
     "output_type": "stream",
     "text": [
      "RUNNING: ADA-USDT for 2017.\n"
     ]
    },
    {
     "ename": "TypeError",
     "evalue": "run_extract_process() got an unexpected keyword argument 'project'",
     "output_type": "error",
     "traceback": [
      "\u001b[0;31m---------------------------------------------------------------------------\u001b[0m",
      "\u001b[0;31mTypeError\u001b[0m                                 Traceback (most recent call last)",
      "\u001b[0;32m<ipython-input-3-23764178b381>\u001b[0m in \u001b[0;36m<module>\u001b[0;34m\u001b[0m\n\u001b[1;32m     21\u001b[0m             \u001b[0mdata_library\u001b[0m\u001b[0;34m=\u001b[0m\u001b[0;34m'src.extract.cryptocompare_ticker_data'\u001b[0m\u001b[0;34m,\u001b[0m\u001b[0;34m\u001b[0m\u001b[0;34m\u001b[0m\u001b[0m\n\u001b[1;32m     22\u001b[0m             \u001b[0mfeatures_library\u001b[0m\u001b[0;34m=\u001b[0m\u001b[0;34m'src.features.algom_trading_v001.get_features_hour_i01'\u001b[0m\u001b[0;34m,\u001b[0m\u001b[0;34m\u001b[0m\u001b[0;34m\u001b[0m\u001b[0m\n\u001b[0;32m---> 23\u001b[0;31m             \u001b[0mto_bq\u001b[0m\u001b[0;34m=\u001b[0m\u001b[0;32mFalse\u001b[0m\u001b[0;34m,\u001b[0m\u001b[0;34m\u001b[0m\u001b[0;34m\u001b[0m\u001b[0m\n\u001b[0m\u001b[1;32m     24\u001b[0m         )\n\u001b[1;32m     25\u001b[0m \u001b[0;34m\u001b[0m\u001b[0m\n",
      "\u001b[0;31mTypeError\u001b[0m: run_extract_process() got an unexpected keyword argument 'project'"
     ]
    }
   ],
   "source": [
    "iteration='i01'\n",
    "\n",
    "for ticker in tickers:\n",
    "    for year in years:\n",
    "        print(\"RUNNING: {} for {}.\".format(ticker, year))\n",
    "        model = ticker_extract.run_extract_process(\n",
    "            ticker=ticker,\n",
    "            start_date='{}-01-01'.format(year),\n",
    "            end_date='{}-01-01'.format(year+1),\n",
    "            project='algom-trading',\n",
    "            destination_table='train_features.features_{ticker}_{interval}_{iteration}_{year}0101',\n",
    "            table_params={\n",
    "                'ticker': ticker,\n",
    "                'interval': 'hour',\n",
    "                'iteration': iteration,\n",
    "                'year': str(year)\n",
    "            },\n",
    "            interval='hour',\n",
    "            exchange='binance',\n",
    "            data_library='src.extract.cryptocompare_ticker_data',\n",
    "            features_library='src.features.algom_trading_v001.get_features_hour_i01',\n",
    "            to_bq=False,\n",
    "        )\n",
    "\n",
    "model.data.df.tail()\n"
   ]
  },
  {
   "cell_type": "code",
   "execution_count": 9,
   "metadata": {},
   "outputs": [],
   "source": [
    "# list(model.data.df)\n"
   ]
  },
  {
   "cell_type": "code",
   "execution_count": 10,
   "metadata": {},
   "outputs": [
    {
     "data": {
      "text/plain": [
       "Timestamp('2021-01-09 19:00:00')"
      ]
     },
     "execution_count": 10,
     "metadata": {},
     "output_type": "execute_result"
    }
   ],
   "source": [
    "model.data.df.ticker_time.max()"
   ]
  },
  {
   "cell_type": "code",
   "execution_count": null,
   "metadata": {},
   "outputs": [],
   "source": []
  },
  {
   "cell_type": "code",
   "execution_count": null,
   "metadata": {},
   "outputs": [],
   "source": []
  }
 ],
 "metadata": {
  "colab": {
   "collapsed_sections": [],
   "name": "Indicator Pipeline",
   "provenance": [],
   "version": "0.3.2"
  },
  "kernelspec": {
   "display_name": "Python 3",
   "language": "python",
   "name": "python3"
  },
  "language_info": {
   "codemirror_mode": {
    "name": "ipython",
    "version": 3
   },
   "file_extension": ".py",
   "mimetype": "text/x-python",
   "name": "python",
   "nbconvert_exporter": "python",
   "pygments_lexer": "ipython3",
   "version": "3.7.6"
  }
 },
 "nbformat": 4,
 "nbformat_minor": 4
}
