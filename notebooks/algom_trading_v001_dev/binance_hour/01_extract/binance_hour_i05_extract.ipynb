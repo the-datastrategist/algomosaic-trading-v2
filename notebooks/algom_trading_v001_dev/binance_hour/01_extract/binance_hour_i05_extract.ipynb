{
 "cells": [
  {
   "cell_type": "markdown",
   "metadata": {
    "colab_type": "text",
    "id": "GqbBUEdcpIri"
   },
   "source": [
    "##### algom/playbooks\n",
    "\n",
    "# etl\n",
    "\n",
    "ETL pipeline for asset prices (OHLCV), standard indicators and engineered features. Loads output data to [BigQuery](https://console.cloud.google.com/bigquery?project=algomosaic-nyc&p=algomosaic-nyc&page=project).\n"
   ]
  },
  {
   "cell_type": "code",
   "execution_count": 1,
   "metadata": {},
   "outputs": [],
   "source": [
    "from src.extract import ticker_extract"
   ]
  },
  {
   "cell_type": "code",
   "execution_count": 2,
   "metadata": {},
   "outputs": [],
   "source": [
    "#### Add list of tickers\n",
    "tickers = [\n",
    "#     'ADA-USDT',\n",
    "#     'BCH-USDT',\n",
    "#     'BNB-USDT',\n",
    "    'BTC-USDT',\n",
    "#     'ETH-USDT',\n",
    "#     'EOS-USDT',\n",
    "#     'LTC-USDT',\n",
    "#     'LINK-USDT',\n",
    "#     'NEO-USDT',\n",
    "#     'OMG-USDT',\n",
    "#     'TRX-USDT',\n",
    "#     'XRP-USDT',\n",
    "#     'XLM-USDT',\n",
    "#     'ZRX-USDT',\n",
    "]\n",
    "\n",
    "# Add list of years to process\n",
    "years = [\n",
    "    2017,\n",
    "    2018,\n",
    "    2019,\n",
    "    2020,\n",
    "    2021,\n",
    "]\n"
   ]
  },
  {
   "cell_type": "code",
   "execution_count": 3,
   "metadata": {},
   "outputs": [
    {
     "name": "stdout",
     "output_type": "stream",
     "text": [
      "RUNNING: BTC-USDT for 2017.\n",
      "RUNNING: algom-trading:train_features.features_{ticker}_{interval}_{iteration}_{year}0101 is being extracted and transformed.\n",
      "RUNNING: Extracting data using src.extract.cryptocompare_ticker_data.\n",
      "Extracting 1 of 5: BTC-USDT up to 2018-01-01 00:00:00\n",
      "Extracting 2 of 5: BTC-USDT up to 2017-10-09 16:00:00\n",
      "Extracting 3 of 5: BTC-USDT up to 2017-07-18 08:00:00\n",
      "Extracting 4 of 5: BTC-USDT up to 2017-04-26 00:00:00\n",
      "Extracting 5 of 5: BTC-USDT up to 2017-02-01 16:00:00\n",
      "RUNNING: Applying feature engineering using src.features.algom_trading_v001.get_features_hour_i05.\n",
      "RUNNING: Cleaning final dataset.\n",
      "SUCCESS: Loaded DataFrame.\n",
      "RUNNING: loading features into BigQuery.\n"
     ]
    },
    {
     "name": "stderr",
     "output_type": "stream",
     "text": [
      "1it [00:20, 20.62s/it]\n"
     ]
    },
    {
     "name": "stdout",
     "output_type": "stream",
     "text": [
      "SUCCESS: algom-trading:train_features.features_BTC_USDT_hour_i05_20170101 has been loaded to BigQuery. Runtime: 0:00:27.955031.\n",
      "RUNNING: BTC-USDT for 2018.\n",
      "RUNNING: algom-trading:train_features.features_{ticker}_{interval}_{iteration}_{year}0101 is being extracted and transformed.\n",
      "RUNNING: Extracting data using src.extract.cryptocompare_ticker_data.\n",
      "Extracting 1 of 5: BTC-USDT up to 2019-01-01 00:00:00\n",
      "Extracting 2 of 5: BTC-USDT up to 2018-10-09 16:00:00\n",
      "Extracting 3 of 5: BTC-USDT up to 2018-07-18 08:00:00\n",
      "Extracting 4 of 5: BTC-USDT up to 2018-04-26 00:00:00\n",
      "Extracting 5 of 5: BTC-USDT up to 2018-02-01 16:00:00\n",
      "RUNNING: Applying feature engineering using src.features.algom_trading_v001.get_features_hour_i05.\n",
      "RUNNING: Cleaning final dataset.\n",
      "SUCCESS: Loaded DataFrame.\n",
      "RUNNING: loading features into BigQuery.\n"
     ]
    },
    {
     "name": "stderr",
     "output_type": "stream",
     "text": [
      "1it [00:21, 21.01s/it]\n"
     ]
    },
    {
     "name": "stdout",
     "output_type": "stream",
     "text": [
      "SUCCESS: algom-trading:train_features.features_BTC_USDT_hour_i05_20180101 has been loaded to BigQuery. Runtime: 0:00:26.777075.\n",
      "RUNNING: BTC-USDT for 2019.\n",
      "RUNNING: algom-trading:train_features.features_{ticker}_{interval}_{iteration}_{year}0101 is being extracted and transformed.\n",
      "RUNNING: Extracting data using src.extract.cryptocompare_ticker_data.\n",
      "Extracting 1 of 5: BTC-USDT up to 2020-01-01 00:00:00\n",
      "Extracting 2 of 5: BTC-USDT up to 2019-10-09 16:00:00\n",
      "Extracting 3 of 5: BTC-USDT up to 2019-07-18 08:00:00\n",
      "Extracting 4 of 5: BTC-USDT up to 2019-04-26 00:00:00\n",
      "Extracting 5 of 5: BTC-USDT up to 2019-02-01 16:00:00\n",
      "RUNNING: Applying feature engineering using src.features.algom_trading_v001.get_features_hour_i05.\n",
      "RUNNING: Cleaning final dataset.\n",
      "SUCCESS: Loaded DataFrame.\n",
      "RUNNING: loading features into BigQuery.\n"
     ]
    },
    {
     "name": "stderr",
     "output_type": "stream",
     "text": [
      "1it [00:27, 27.15s/it]\n"
     ]
    },
    {
     "name": "stdout",
     "output_type": "stream",
     "text": [
      "SUCCESS: algom-trading:train_features.features_BTC_USDT_hour_i05_20190101 has been loaded to BigQuery. Runtime: 0:00:35.611292.\n",
      "RUNNING: BTC-USDT for 2020.\n",
      "RUNNING: algom-trading:train_features.features_{ticker}_{interval}_{iteration}_{year}0101 is being extracted and transformed.\n",
      "RUNNING: Extracting data using src.extract.cryptocompare_ticker_data.\n",
      "Extracting 1 of 5: BTC-USDT up to 2021-01-01 00:00:00\n",
      "Extracting 2 of 5: BTC-USDT up to 2020-10-09 16:00:00\n",
      "Extracting 3 of 5: BTC-USDT up to 2020-07-18 08:00:00\n",
      "Extracting 4 of 5: BTC-USDT up to 2020-04-26 00:00:00\n",
      "Extracting 5 of 5: BTC-USDT up to 2020-02-02 16:00:00\n",
      "RUNNING: Applying feature engineering using src.features.algom_trading_v001.get_features_hour_i05.\n",
      "RUNNING: Cleaning final dataset.\n",
      "SUCCESS: Loaded DataFrame.\n",
      "RUNNING: loading features into BigQuery.\n"
     ]
    },
    {
     "name": "stderr",
     "output_type": "stream",
     "text": [
      "1it [00:20, 20.56s/it]\n"
     ]
    },
    {
     "name": "stdout",
     "output_type": "stream",
     "text": [
      "SUCCESS: algom-trading:train_features.features_BTC_USDT_hour_i05_20200101 has been loaded to BigQuery. Runtime: 0:00:25.389915.\n",
      "RUNNING: BTC-USDT for 2021.\n",
      "RUNNING: algom-trading:train_features.features_{ticker}_{interval}_{iteration}_{year}0101 is being extracted and transformed.\n",
      "RUNNING: Extracting data using src.extract.cryptocompare_ticker_data.\n",
      "Extracting 1 of 5: BTC-USDT up to 2022-01-01 00:00:00\n",
      "Extracting 2 of 5: BTC-USDT up to 2021-10-09 16:00:00\n",
      "Extracting 3 of 5: BTC-USDT up to 2021-07-18 08:00:00\n",
      "Extracting 4 of 5: BTC-USDT up to 2021-04-26 00:00:00\n",
      "Extracting 5 of 5: BTC-USDT up to 2021-02-01 16:00:00\n",
      "RUNNING: Applying feature engineering using src.features.algom_trading_v001.get_features_hour_i05.\n",
      "RUNNING: Cleaning final dataset.\n",
      "SUCCESS: Loaded DataFrame.\n",
      "RUNNING: loading features into BigQuery.\n"
     ]
    },
    {
     "name": "stderr",
     "output_type": "stream",
     "text": [
      "1it [00:20, 20.40s/it]"
     ]
    },
    {
     "name": "stdout",
     "output_type": "stream",
     "text": [
      "SUCCESS: algom-trading:train_features.features_BTC_USDT_hour_i05_20210101 has been loaded to BigQuery. Runtime: 0:00:30.920356.\n"
     ]
    },
    {
     "name": "stderr",
     "output_type": "stream",
     "text": [
      "\n"
     ]
    }
   ],
   "source": [
    "iteration='i05'\n",
    "interval='hour'\n",
    "\n",
    "for ticker in tickers:\n",
    "    for year in years:\n",
    "        print(\"RUNNING: {} for {}.\".format(ticker, year))\n",
    "        model = ticker_extract.run_extract_process(\n",
    "            ticker=ticker,\n",
    "            start_date='{}-01-01'.format(year),\n",
    "            end_date='{}-01-01'.format(year+1),\n",
    "            project_id='algom-trading',\n",
    "            destination_table='train_features.features_{ticker}_{interval}_{iteration}_{year}0101',\n",
    "            table_params={\n",
    "                'ticker': ticker,\n",
    "                'interval': interval,\n",
    "                'iteration': iteration,\n",
    "                'year': str(year)\n",
    "            },\n",
    "            interval='hour',\n",
    "            exchange='binance',\n",
    "            data_library='src.extract.cryptocompare_ticker_data',\n",
    "            features_library='src.features.algom_trading_v001.get_features_{}_{}'.format(interval, iteration),\n",
    "            to_bq=True,\n",
    "            if_exists='replace'\n",
    "        )\n"
   ]
  },
  {
   "cell_type": "code",
   "execution_count": 4,
   "metadata": {},
   "outputs": [
    {
     "data": {
      "text/html": [
       "<div>\n",
       "<style scoped>\n",
       "    .dataframe tbody tr th:only-of-type {\n",
       "        vertical-align: middle;\n",
       "    }\n",
       "\n",
       "    .dataframe tbody tr th {\n",
       "        vertical-align: top;\n",
       "    }\n",
       "\n",
       "    .dataframe thead th {\n",
       "        text-align: right;\n",
       "    }\n",
       "</style>\n",
       "<table border=\"1\" class=\"dataframe\">\n",
       "  <thead>\n",
       "    <tr style=\"text-align: right;\">\n",
       "      <th></th>\n",
       "      <th>ticker_time_sec</th>\n",
       "      <th>close</th>\n",
       "      <th>high</th>\n",
       "      <th>low</th>\n",
       "      <th>open</th>\n",
       "      <th>volume_base</th>\n",
       "      <th>volume</th>\n",
       "      <th>conversionType</th>\n",
       "      <th>conversionSymbol</th>\n",
       "      <th>partition_date</th>\n",
       "      <th>...</th>\n",
       "      <th>MIN_48</th>\n",
       "      <th>MIN_72</th>\n",
       "      <th>MIN_168</th>\n",
       "      <th>MIN_240</th>\n",
       "      <th>MAX_12</th>\n",
       "      <th>MAX_24</th>\n",
       "      <th>MAX_48</th>\n",
       "      <th>MAX_72</th>\n",
       "      <th>MAX_168</th>\n",
       "      <th>MAX_240</th>\n",
       "    </tr>\n",
       "  </thead>\n",
       "  <tbody>\n",
       "    <tr>\n",
       "      <th>1577</th>\n",
       "      <td>1605657600</td>\n",
       "      <td>17693.64</td>\n",
       "      <td>17820.00</td>\n",
       "      <td>17601.00</td>\n",
       "      <td>17659.38</td>\n",
       "      <td>5133.74</td>\n",
       "      <td>90948263.30</td>\n",
       "      <td>force_direct</td>\n",
       "      <td></td>\n",
       "      <td>2021-01-22</td>\n",
       "      <td>...</td>\n",
       "      <td>15935.15</td>\n",
       "      <td>15845.10</td>\n",
       "      <td>15359.49</td>\n",
       "      <td>14931.53</td>\n",
       "      <td>17808.66</td>\n",
       "      <td>17808.66</td>\n",
       "      <td>17808.66</td>\n",
       "      <td>17808.66</td>\n",
       "      <td>17808.66</td>\n",
       "      <td>17808.66</td>\n",
       "    </tr>\n",
       "    <tr>\n",
       "      <th>1922</th>\n",
       "      <td>1604415600</td>\n",
       "      <td>13710.38</td>\n",
       "      <td>13798.00</td>\n",
       "      <td>13676.65</td>\n",
       "      <td>13784.59</td>\n",
       "      <td>4314.15</td>\n",
       "      <td>59310310.71</td>\n",
       "      <td>force_direct</td>\n",
       "      <td></td>\n",
       "      <td>2021-01-22</td>\n",
       "      <td>...</td>\n",
       "      <td>13297.56</td>\n",
       "      <td>13297.56</td>\n",
       "      <td>NaN</td>\n",
       "      <td>NaN</td>\n",
       "      <td>13784.59</td>\n",
       "      <td>13784.59</td>\n",
       "      <td>13817.46</td>\n",
       "      <td>13866.99</td>\n",
       "      <td>NaN</td>\n",
       "      <td>NaN</td>\n",
       "    </tr>\n",
       "    <tr>\n",
       "      <th>1361</th>\n",
       "      <td>1606435200</td>\n",
       "      <td>17393.73</td>\n",
       "      <td>17400.00</td>\n",
       "      <td>17012.56</td>\n",
       "      <td>17149.47</td>\n",
       "      <td>4072.21</td>\n",
       "      <td>70145776.53</td>\n",
       "      <td>force_direct</td>\n",
       "      <td></td>\n",
       "      <td>2021-01-22</td>\n",
       "      <td>...</td>\n",
       "      <td>16516.87</td>\n",
       "      <td>16516.87</td>\n",
       "      <td>16516.87</td>\n",
       "      <td>16516.87</td>\n",
       "      <td>17393.73</td>\n",
       "      <td>18799.32</td>\n",
       "      <td>19291.59</td>\n",
       "      <td>19384.43</td>\n",
       "      <td>19384.43</td>\n",
       "      <td>19384.43</td>\n",
       "    </tr>\n",
       "    <tr>\n",
       "      <th>525</th>\n",
       "      <td>1609444800</td>\n",
       "      <td>29126.70</td>\n",
       "      <td>29139.65</td>\n",
       "      <td>28862.00</td>\n",
       "      <td>28897.83</td>\n",
       "      <td>1936.48</td>\n",
       "      <td>56103301.54</td>\n",
       "      <td>force_direct</td>\n",
       "      <td></td>\n",
       "      <td>2021-01-22</td>\n",
       "      <td>...</td>\n",
       "      <td>26913.12</td>\n",
       "      <td>26356.22</td>\n",
       "      <td>23413.51</td>\n",
       "      <td>22558.42</td>\n",
       "      <td>29136.49</td>\n",
       "      <td>29155.25</td>\n",
       "      <td>29155.25</td>\n",
       "      <td>29155.25</td>\n",
       "      <td>29155.25</td>\n",
       "      <td>29155.25</td>\n",
       "    </tr>\n",
       "    <tr>\n",
       "      <th>596</th>\n",
       "      <td>1609189200</td>\n",
       "      <td>26627.30</td>\n",
       "      <td>26958.64</td>\n",
       "      <td>26620.40</td>\n",
       "      <td>26866.97</td>\n",
       "      <td>2273.35</td>\n",
       "      <td>60999372.31</td>\n",
       "      <td>force_direct</td>\n",
       "      <td></td>\n",
       "      <td>2021-01-22</td>\n",
       "      <td>...</td>\n",
       "      <td>26223.51</td>\n",
       "      <td>24584.00</td>\n",
       "      <td>22558.42</td>\n",
       "      <td>22307.50</td>\n",
       "      <td>27276.11</td>\n",
       "      <td>27276.11</td>\n",
       "      <td>27822.16</td>\n",
       "      <td>27822.16</td>\n",
       "      <td>27822.16</td>\n",
       "      <td>27822.16</td>\n",
       "    </tr>\n",
       "  </tbody>\n",
       "</table>\n",
       "<p>5 rows × 90 columns</p>\n",
       "</div>"
      ],
      "text/plain": [
       "      ticker_time_sec     close      high       low      open  volume_base  \\\n",
       "1577       1605657600  17693.64  17820.00  17601.00  17659.38      5133.74   \n",
       "1922       1604415600  13710.38  13798.00  13676.65  13784.59      4314.15   \n",
       "1361       1606435200  17393.73  17400.00  17012.56  17149.47      4072.21   \n",
       "525        1609444800  29126.70  29139.65  28862.00  28897.83      1936.48   \n",
       "596        1609189200  26627.30  26958.64  26620.40  26866.97      2273.35   \n",
       "\n",
       "           volume conversionType conversionSymbol partition_date  ...  \\\n",
       "1577  90948263.30   force_direct                      2021-01-22  ...   \n",
       "1922  59310310.71   force_direct                      2021-01-22  ...   \n",
       "1361  70145776.53   force_direct                      2021-01-22  ...   \n",
       "525   56103301.54   force_direct                      2021-01-22  ...   \n",
       "596   60999372.31   force_direct                      2021-01-22  ...   \n",
       "\n",
       "        MIN_48    MIN_72   MIN_168   MIN_240    MAX_12    MAX_24    MAX_48  \\\n",
       "1577  15935.15  15845.10  15359.49  14931.53  17808.66  17808.66  17808.66   \n",
       "1922  13297.56  13297.56       NaN       NaN  13784.59  13784.59  13817.46   \n",
       "1361  16516.87  16516.87  16516.87  16516.87  17393.73  18799.32  19291.59   \n",
       "525   26913.12  26356.22  23413.51  22558.42  29136.49  29155.25  29155.25   \n",
       "596   26223.51  24584.00  22558.42  22307.50  27276.11  27276.11  27822.16   \n",
       "\n",
       "        MAX_72   MAX_168   MAX_240  \n",
       "1577  17808.66  17808.66  17808.66  \n",
       "1922  13866.99       NaN       NaN  \n",
       "1361  19384.43  19384.43  19384.43  \n",
       "525   29155.25  29155.25  29155.25  \n",
       "596   27822.16  27822.16  27822.16  \n",
       "\n",
       "[5 rows x 90 columns]"
      ]
     },
     "execution_count": 4,
     "metadata": {},
     "output_type": "execute_result"
    }
   ],
   "source": [
    "# model.data.df[[h for h in list(model.data.df) if 'Vortex' in h]]\n",
    "model.data.df.sample(5)\n"
   ]
  },
  {
   "cell_type": "code",
   "execution_count": null,
   "metadata": {},
   "outputs": [],
   "source": []
  },
  {
   "cell_type": "code",
   "execution_count": null,
   "metadata": {},
   "outputs": [],
   "source": []
  },
  {
   "cell_type": "code",
   "execution_count": null,
   "metadata": {},
   "outputs": [],
   "source": []
  }
 ],
 "metadata": {
  "colab": {
   "collapsed_sections": [],
   "name": "Indicator Pipeline",
   "provenance": [],
   "version": "0.3.2"
  },
  "kernelspec": {
   "display_name": "Python 3",
   "language": "python",
   "name": "python3"
  },
  "language_info": {
   "codemirror_mode": {
    "name": "ipython",
    "version": 3
   },
   "file_extension": ".py",
   "mimetype": "text/x-python",
   "name": "python",
   "nbconvert_exporter": "python",
   "pygments_lexer": "ipython3",
   "version": "3.7.6"
  }
 },
 "nbformat": 4,
 "nbformat_minor": 4
}
